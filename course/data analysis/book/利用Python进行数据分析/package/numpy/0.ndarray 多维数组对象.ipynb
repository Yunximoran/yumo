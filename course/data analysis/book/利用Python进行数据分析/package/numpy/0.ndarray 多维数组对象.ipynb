{
 "cells": [
  {
   "metadata": {},
   "cell_type": "markdown",
   "source": [
    "# 生成ndarray\n",
    "\n",
    "### array方法\n",
    "\n",
    "1. array接受任意 [序列型对象],生成一个新的包含传递数据NumPy数组\n"
   ],
   "id": "10b9569ea345bd47"
  },
  {
   "metadata": {
    "ExecuteTime": {
     "end_time": "2024-05-17T16:22:40.718850Z",
     "start_time": "2024-05-17T16:22:40.640522Z"
    }
   },
   "cell_type": "code",
   "source": "import numpy as np",
   "id": "d9bd551088aefb5a",
   "outputs": [],
   "execution_count": 6
  },
  {
   "metadata": {
    "ExecuteTime": {
     "end_time": "2024-05-17T16:22:40.761172Z",
     "start_time": "2024-05-17T16:22:40.755681Z"
    }
   },
   "cell_type": "code",
   "source": "data_1 = [6, 3.4, 9, 5, 7]",
   "id": "f913ae952f2ac8b5",
   "outputs": [],
   "execution_count": 7
  },
  {
   "metadata": {
    "ExecuteTime": {
     "end_time": "2024-05-17T16:22:40.786086Z",
     "start_time": "2024-05-17T16:22:40.781274Z"
    }
   },
   "cell_type": "code",
   "source": "arr = np.array(data_1)",
   "id": "b0942570fca3cca4",
   "outputs": [],
   "execution_count": 8
  },
  {
   "metadata": {
    "ExecuteTime": {
     "end_time": "2024-05-17T16:22:40.804694Z",
     "start_time": "2024-05-17T16:22:40.797093Z"
    }
   },
   "cell_type": "code",
   "source": "arr",
   "id": "70fc8105ed447469",
   "outputs": [
    {
     "data": {
      "text/plain": [
       "array([6. , 3.4, 9. , 5. , 7. ])"
      ]
     },
     "execution_count": 9,
     "metadata": {},
     "output_type": "execute_result"
    }
   ],
   "execution_count": 9
  },
  {
   "metadata": {},
   "cell_type": "markdown",
   "source": "2. 嵌套序列，等长度的列表，将会转换 <b>多维数组</b>",
   "id": "8c67edc9564c5165"
  },
  {
   "metadata": {
    "ExecuteTime": {
     "end_time": "2024-05-17T16:22:40.818461Z",
     "start_time": "2024-05-17T16:22:40.813285Z"
    }
   },
   "cell_type": "code",
   "source": "data_2 = [[1, 2, 3, 4], [5, 6, 7, 8]]",
   "id": "3971b6f2ea8795d8",
   "outputs": [],
   "execution_count": 10
  },
  {
   "metadata": {
    "ExecuteTime": {
     "end_time": "2024-05-17T16:22:40.830014Z",
     "start_time": "2024-05-17T16:22:40.818461Z"
    }
   },
   "cell_type": "code",
   "source": "arr = np.array(data_2)",
   "id": "a10ceb6f12f7c7e7",
   "outputs": [],
   "execution_count": 11
  },
  {
   "metadata": {
    "ExecuteTime": {
     "end_time": "2024-05-17T16:22:40.842643Z",
     "start_time": "2024-05-17T16:22:40.830014Z"
    }
   },
   "cell_type": "code",
   "source": "arr",
   "id": "97b60c161211aca2",
   "outputs": [
    {
     "data": {
      "text/plain": [
       "array([[1, 2, 3, 4],\n",
       "       [5, 6, 7, 8]])"
      ]
     },
     "execution_count": 12,
     "metadata": {},
     "output_type": "execute_result"
    }
   ],
   "execution_count": 12
  },
  {
   "metadata": {},
   "cell_type": "markdown",
   "source": [
    "* ndim： 数组行数\n",
    "* shape：数组形状"
   ],
   "id": "94389e52ea20bdb6"
  },
  {
   "metadata": {
    "ExecuteTime": {
     "end_time": "2024-05-17T16:22:40.864843Z",
     "start_time": "2024-05-17T16:22:40.860285Z"
    }
   },
   "cell_type": "code",
   "source": "arr.ndim",
   "id": "ca6d2d23498e4b0e",
   "outputs": [
    {
     "data": {
      "text/plain": [
       "2"
      ]
     },
     "execution_count": 13,
     "metadata": {},
     "output_type": "execute_result"
    }
   ],
   "execution_count": 13
  },
  {
   "metadata": {
    "ExecuteTime": {
     "end_time": "2024-05-17T16:22:40.899376Z",
     "start_time": "2024-05-17T16:22:40.892716Z"
    }
   },
   "cell_type": "code",
   "source": "arr.shape",
   "id": "59cb5b93dda6ed1a",
   "outputs": [
    {
     "data": {
      "text/plain": [
       "(2, 4)"
      ]
     },
     "execution_count": 14,
     "metadata": {},
     "output_type": "execute_result"
    }
   ],
   "execution_count": 14
  },
  {
   "metadata": {},
   "cell_type": "markdown",
   "source": [
    "# ndarray的数据类型\n",
    "\n",
    "* ndarray的数据类型存储在dtype属性[元数据]当中\n",
    "* 除非显式的指定，否则numpy会自动推断生成数组的数据类型"
   ],
   "id": "e617d1fced4f76c2"
  },
  {
   "metadata": {
    "ExecuteTime": {
     "end_time": "2024-05-17T16:22:40.937570Z",
     "start_time": "2024-05-17T16:22:40.924014Z"
    }
   },
   "cell_type": "code",
   "source": "arr.dtype",
   "id": "106ae54158fd0506",
   "outputs": [
    {
     "data": {
      "text/plain": [
       "dtype('int32')"
      ]
     },
     "execution_count": 15,
     "metadata": {},
     "output_type": "execute_result"
    }
   ],
   "execution_count": 15
  },
  {
   "metadata": {
    "ExecuteTime": {
     "end_time": "2024-05-17T16:22:40.952567Z",
     "start_time": "2024-05-17T16:22:40.937570Z"
    }
   },
   "cell_type": "code",
   "source": "arr1 = np.array([1, 2, 3], dtype='float')",
   "id": "32700db5a0b9d7ff",
   "outputs": [],
   "execution_count": 16
  },
  {
   "metadata": {
    "ExecuteTime": {
     "end_time": "2024-05-17T16:22:40.963919Z",
     "start_time": "2024-05-17T16:22:40.952567Z"
    }
   },
   "cell_type": "code",
   "source": "arr2 = np.array([1, 2, 3], dtype='int')",
   "id": "de716ad71c8cba99",
   "outputs": [],
   "execution_count": 17
  },
  {
   "metadata": {
    "ExecuteTime": {
     "end_time": "2024-05-17T16:22:40.988158Z",
     "start_time": "2024-05-17T16:22:40.983586Z"
    }
   },
   "cell_type": "code",
   "source": "arr1.dtype",
   "id": "8ef4f666c83642d0",
   "outputs": [
    {
     "data": {
      "text/plain": [
       "dtype('float64')"
      ]
     },
     "execution_count": 18,
     "metadata": {},
     "output_type": "execute_result"
    }
   ],
   "execution_count": 18
  },
  {
   "metadata": {
    "ExecuteTime": {
     "end_time": "2024-05-17T16:22:41.005698Z",
     "start_time": "2024-05-17T16:22:40.999671Z"
    }
   },
   "cell_type": "code",
   "source": "arr2.dtype",
   "id": "bd517fed8d80fea4",
   "outputs": [
    {
     "data": {
      "text/plain": [
       "dtype('int32')"
      ]
     },
     "execution_count": 19,
     "metadata": {},
     "output_type": "execute_result"
    }
   ],
   "execution_count": 19
  },
  {
   "metadata": {},
   "cell_type": "markdown",
   "source": [
    "* 使用astype方法替换数组的数据类型\n",
    "* astype方法是将数组复制并替换成目标数据类型，在返回修改后的数组\n",
    "    * astype方法不会修改数组"
   ],
   "id": "7203df80b2494a78"
  },
  {
   "metadata": {
    "ExecuteTime": {
     "end_time": "2024-05-17T16:22:41.015577Z",
     "start_time": "2024-05-17T16:22:41.005698Z"
    }
   },
   "cell_type": "code",
   "source": "arr = np.array([1, 2, 3, 4, 5])",
   "id": "fc5a7183c2a3f9d1",
   "outputs": [],
   "execution_count": 20
  },
  {
   "metadata": {
    "ExecuteTime": {
     "end_time": "2024-05-17T16:22:41.036921Z",
     "start_time": "2024-05-17T16:22:41.031161Z"
    }
   },
   "cell_type": "code",
   "source": "arr.dtype",
   "id": "e6d7193ae76b9ba3",
   "outputs": [
    {
     "data": {
      "text/plain": [
       "dtype('int32')"
      ]
     },
     "execution_count": 21,
     "metadata": {},
     "output_type": "execute_result"
    }
   ],
   "execution_count": 21
  },
  {
   "metadata": {
    "ExecuteTime": {
     "end_time": "2024-05-17T16:22:41.076494Z",
     "start_time": "2024-05-17T16:22:41.062687Z"
    }
   },
   "cell_type": "code",
   "source": "float_arr = arr.astype(np.float64)",
   "id": "5192780436ec0530",
   "outputs": [],
   "execution_count": 22
  },
  {
   "metadata": {
    "ExecuteTime": {
     "end_time": "2024-05-17T16:22:41.089091Z",
     "start_time": "2024-05-17T16:22:41.078501Z"
    }
   },
   "cell_type": "code",
   "source": "float_arr.dtype",
   "id": "2f69297231f03e2c",
   "outputs": [
    {
     "data": {
      "text/plain": [
       "dtype('float64')"
      ]
     },
     "execution_count": 23,
     "metadata": {},
     "output_type": "execute_result"
    }
   ],
   "execution_count": 23
  },
  {
   "metadata": {},
   "cell_type": "markdown",
   "source": [
    "* 浮点数转换整数类型是将小数点后的数据忽略\n",
    "* float -> int -> float 将会丢失数据"
   ],
   "id": "70bbb0b2b91600b8"
  },
  {
   "metadata": {
    "ExecuteTime": {
     "end_time": "2024-05-17T16:22:41.102186Z",
     "start_time": "2024-05-17T16:22:41.094613Z"
    }
   },
   "cell_type": "code",
   "source": "arr = np.array([3.1, 4.32, 5.33])",
   "id": "e355cebf811fa6f4",
   "outputs": [],
   "execution_count": 24
  },
  {
   "metadata": {
    "ExecuteTime": {
     "end_time": "2024-05-17T16:22:41.131935Z",
     "start_time": "2024-05-17T16:22:41.126332Z"
    }
   },
   "cell_type": "code",
   "source": "float_arr = arr.astype(np.int32)",
   "id": "ba9606bd92ea61a8",
   "outputs": [],
   "execution_count": 25
  },
  {
   "metadata": {
    "ExecuteTime": {
     "end_time": "2024-05-17T16:22:41.148025Z",
     "start_time": "2024-05-17T16:22:41.142461Z"
    }
   },
   "cell_type": "code",
   "source": "float_arr",
   "id": "1991071ca0c25340",
   "outputs": [
    {
     "data": {
      "text/plain": [
       "array([3, 4, 5])"
      ]
     },
     "execution_count": 26,
     "metadata": {},
     "output_type": "execute_result"
    }
   ],
   "execution_count": 26
  },
  {
   "metadata": {
    "ExecuteTime": {
     "end_time": "2024-05-17T16:22:41.158046Z",
     "start_time": "2024-05-17T16:22:41.148025Z"
    }
   },
   "cell_type": "code",
   "source": "int_arr = float_arr.astype(np.float64)",
   "id": "a410dd1773caa747",
   "outputs": [],
   "execution_count": 27
  },
  {
   "metadata": {
    "ExecuteTime": {
     "end_time": "2024-05-17T16:22:41.180058Z",
     "start_time": "2024-05-17T16:22:41.173690Z"
    }
   },
   "cell_type": "code",
   "source": "int_arr",
   "id": "2d43a5821618c132",
   "outputs": [
    {
     "data": {
      "text/plain": [
       "array([3., 4., 5.])"
      ]
     },
     "execution_count": 28,
     "metadata": {},
     "output_type": "execute_result"
    }
   ],
   "execution_count": 28
  },
  {
   "metadata": {},
   "cell_type": "markdown",
   "source": "* 可以从其他ndarray数组中获取dtype属性，做类型转换",
   "id": "7dc74d8faec7fdad"
  },
  {
   "metadata": {
    "ExecuteTime": {
     "end_time": "2024-05-17T16:22:41.202089Z",
     "start_time": "2024-05-17T16:22:41.187800Z"
    }
   },
   "cell_type": "code",
   "source": "int_arr = np.arange(10)",
   "id": "269cdfcf5889cc92",
   "outputs": [],
   "execution_count": 29
  },
  {
   "metadata": {
    "ExecuteTime": {
     "end_time": "2024-05-17T16:22:41.232533Z",
     "start_time": "2024-05-17T16:22:41.228575Z"
    }
   },
   "cell_type": "code",
   "source": "calibers = np.array([.22, .39, .13, .567], dtype=np.float64)",
   "id": "89596c09907f1e69",
   "outputs": [],
   "execution_count": 30
  },
  {
   "metadata": {
    "ExecuteTime": {
     "end_time": "2024-05-17T16:22:41.262624Z",
     "start_time": "2024-05-17T16:22:41.256113Z"
    }
   },
   "cell_type": "code",
   "source": "int_arr.astype(calibers.dtype)",
   "id": "46c0becf038e5abd",
   "outputs": [
    {
     "data": {
      "text/plain": [
       "array([0., 1., 2., 3., 4., 5., 6., 7., 8., 9.])"
      ]
     },
     "execution_count": 31,
     "metadata": {},
     "output_type": "execute_result"
    }
   ],
   "execution_count": 31
  },
  {
   "metadata": {},
   "cell_type": "markdown",
   "source": "# NumPy数组算术",
   "id": "dc1545d95f057e3"
  },
  {
   "metadata": {
    "ExecuteTime": {
     "end_time": "2024-05-17T16:22:41.276959Z",
     "start_time": "2024-05-17T16:22:41.272150Z"
    }
   },
   "cell_type": "code",
   "source": "arr = np.array([[1., 2., 3.], [4., 5., 6.]])",
   "id": "3e220cdde59c27e9",
   "outputs": [],
   "execution_count": 32
  },
  {
   "metadata": {
    "ExecuteTime": {
     "end_time": "2024-05-17T16:22:41.309988Z",
     "start_time": "2024-05-17T16:22:41.303689Z"
    }
   },
   "cell_type": "code",
   "source": "arr * arr",
   "id": "764da2875cf51633",
   "outputs": [
    {
     "data": {
      "text/plain": [
       "array([[ 1.,  4.,  9.],\n",
       "       [16., 25., 36.]])"
      ]
     },
     "execution_count": 33,
     "metadata": {},
     "output_type": "execute_result"
    }
   ],
   "execution_count": 33
  },
  {
   "metadata": {
    "ExecuteTime": {
     "end_time": "2024-05-17T16:22:41.347360Z",
     "start_time": "2024-05-17T16:22:41.335562Z"
    }
   },
   "cell_type": "code",
   "source": "arr - arr",
   "id": "d7b9ae1904192317",
   "outputs": [
    {
     "data": {
      "text/plain": [
       "array([[0., 0., 0.],\n",
       "       [0., 0., 0.]])"
      ]
     },
     "execution_count": 34,
     "metadata": {},
     "output_type": "execute_result"
    }
   ],
   "execution_count": 34
  },
  {
   "metadata": {
    "ExecuteTime": {
     "end_time": "2024-05-17T16:22:41.359488Z",
     "start_time": "2024-05-17T16:22:41.351378Z"
    }
   },
   "cell_type": "code",
   "source": "arr ** 0.5",
   "id": "436c4b140b272b94",
   "outputs": [
    {
     "data": {
      "text/plain": [
       "array([[1.        , 1.41421356, 1.73205081],\n",
       "       [2.        , 2.23606798, 2.44948974]])"
      ]
     },
     "execution_count": 35,
     "metadata": {},
     "output_type": "execute_result"
    }
   ],
   "execution_count": 35
  },
  {
   "metadata": {
    "ExecuteTime": {
     "end_time": "2024-05-17T16:22:41.381839Z",
     "start_time": "2024-05-17T16:22:41.367498Z"
    }
   },
   "cell_type": "code",
   "source": "1 / arr",
   "id": "3583623d49885f7a",
   "outputs": [
    {
     "data": {
      "text/plain": [
       "array([[1.        , 0.5       , 0.33333333],\n",
       "       [0.25      , 0.2       , 0.16666667]])"
      ]
     },
     "execution_count": 36,
     "metadata": {},
     "output_type": "execute_result"
    }
   ],
   "execution_count": 36
  },
  {
   "metadata": {},
   "cell_type": "markdown",
   "source": "* 数组之间的比较会产生布尔值",
   "id": "8aa4d0609315e2f5"
  },
  {
   "metadata": {
    "ExecuteTime": {
     "end_time": "2024-05-17T16:22:41.417024Z",
     "start_time": "2024-05-17T16:22:41.404718Z"
    }
   },
   "cell_type": "code",
   "source": "arr2 = np.array([[1., 0.22, 2.3], [7.2, 5.4, 1.4]])",
   "id": "630cab8d7595ddd1",
   "outputs": [],
   "execution_count": 37
  },
  {
   "metadata": {
    "ExecuteTime": {
     "end_time": "2024-05-17T16:22:41.429260Z",
     "start_time": "2024-05-17T16:22:41.420549Z"
    }
   },
   "cell_type": "code",
   "source": "arr2 > arr",
   "id": "3e2861d3dc4fe85c",
   "outputs": [
    {
     "data": {
      "text/plain": [
       "array([[False, False, False],\n",
       "       [ True,  True, False]])"
      ]
     },
     "execution_count": 38,
     "metadata": {},
     "output_type": "execute_result"
    }
   ],
   "execution_count": 38
  },
  {
   "metadata": {},
   "cell_type": "markdown",
   "source": "# 基础索引与切片",
   "id": "b76c61a09c461097"
  },
  {
   "metadata": {
    "ExecuteTime": {
     "end_time": "2024-05-17T16:22:41.435689Z",
     "start_time": "2024-05-17T16:22:41.431974Z"
    }
   },
   "cell_type": "code",
   "source": "arr = np.arange(10)",
   "id": "80b1f501560b92ed",
   "outputs": [],
   "execution_count": 39
  },
  {
   "metadata": {
    "ExecuteTime": {
     "end_time": "2024-05-17T16:22:41.462938Z",
     "start_time": "2024-05-17T16:22:41.447700Z"
    }
   },
   "cell_type": "code",
   "source": "arr",
   "id": "f1409b162d8b776b",
   "outputs": [
    {
     "data": {
      "text/plain": [
       "array([0, 1, 2, 3, 4, 5, 6, 7, 8, 9])"
      ]
     },
     "execution_count": 40,
     "metadata": {},
     "output_type": "execute_result"
    }
   ],
   "execution_count": 40
  },
  {
   "metadata": {
    "ExecuteTime": {
     "end_time": "2024-05-17T16:22:41.498386Z",
     "start_time": "2024-05-17T16:22:41.492452Z"
    }
   },
   "cell_type": "code",
   "source": "arr[5]",
   "id": "959f74baa4e8a8eb",
   "outputs": [
    {
     "data": {
      "text/plain": [
       "5"
      ]
     },
     "execution_count": 41,
     "metadata": {},
     "output_type": "execute_result"
    }
   ],
   "execution_count": 41
  },
  {
   "metadata": {
    "ExecuteTime": {
     "end_time": "2024-05-17T16:22:53.723048Z",
     "start_time": "2024-05-17T16:22:53.715143Z"
    }
   },
   "cell_type": "code",
   "source": "arr[5:8]",
   "id": "74056300c18663ad",
   "outputs": [
    {
     "data": {
      "text/plain": [
       "array([5, 6, 7])"
      ]
     },
     "execution_count": 42,
     "metadata": {},
     "output_type": "execute_result"
    }
   ],
   "execution_count": 42
  },
  {
   "metadata": {
    "ExecuteTime": {
     "end_time": "2024-05-17T16:23:04.150195Z",
     "start_time": "2024-05-17T16:23:04.138498Z"
    }
   },
   "cell_type": "code",
   "source": "arr[5: 8] = 12",
   "id": "312d1be7843abd76",
   "outputs": [],
   "execution_count": 43
  },
  {
   "metadata": {
    "ExecuteTime": {
     "end_time": "2024-05-17T16:23:05.579685Z",
     "start_time": "2024-05-17T16:23:05.570365Z"
    }
   },
   "cell_type": "code",
   "source": "arr",
   "id": "f9a9410c3e5015bb",
   "outputs": [
    {
     "data": {
      "text/plain": [
       "array([ 0,  1,  2,  3,  4, 12, 12, 12,  8,  9])"
      ]
     },
     "execution_count": 44,
     "metadata": {},
     "output_type": "execute_result"
    }
   ],
   "execution_count": 44
  },
  {
   "metadata": {},
   "cell_type": "markdown",
   "source": [
    "* numpy切片返回的是数组的视图\n",
    "* 任何对视图的修改，都会反应到原数组上"
   ],
   "id": "994d49ac7ae54a3a"
  },
  {
   "metadata": {
    "ExecuteTime": {
     "end_time": "2024-05-17T16:24:23.902493Z",
     "start_time": "2024-05-17T16:24:23.889500Z"
    }
   },
   "cell_type": "code",
   "source": "arr_slice = arr[5: 8]",
   "id": "44d0dcca7aa617af",
   "outputs": [],
   "execution_count": 45
  },
  {
   "metadata": {
    "ExecuteTime": {
     "end_time": "2024-05-17T16:24:27.483908Z",
     "start_time": "2024-05-17T16:24:27.475966Z"
    }
   },
   "cell_type": "code",
   "source": "arr_slice",
   "id": "fbba8a1427be88cb",
   "outputs": [
    {
     "data": {
      "text/plain": [
       "array([12, 12, 12])"
      ]
     },
     "execution_count": 46,
     "metadata": {},
     "output_type": "execute_result"
    }
   ],
   "execution_count": 46
  },
  {
   "metadata": {
    "ExecuteTime": {
     "end_time": "2024-05-17T16:24:36.240861Z",
     "start_time": "2024-05-17T16:24:36.236456Z"
    }
   },
   "cell_type": "code",
   "source": "arr_slice[1] = 12345",
   "id": "381bbd92b4c8cfd",
   "outputs": [],
   "execution_count": 47
  },
  {
   "metadata": {
    "ExecuteTime": {
     "end_time": "2024-05-17T16:24:38.909437Z",
     "start_time": "2024-05-17T16:24:38.899469Z"
    }
   },
   "cell_type": "code",
   "source": "arr",
   "id": "fc4ebd300fd10bf5",
   "outputs": [
    {
     "data": {
      "text/plain": [
       "array([    0,     1,     2,     3,     4,    12, 12345,    12,     8,\n",
       "           9])"
      ]
     },
     "execution_count": 48,
     "metadata": {},
     "output_type": "execute_result"
    }
   ],
   "execution_count": 48
  },
  {
   "metadata": {},
   "cell_type": "markdown",
   "source": "* 使用cope方法获取视图的拷贝",
   "id": "15a74b92753c0925"
  },
  {
   "metadata": {
    "ExecuteTime": {
     "end_time": "2024-05-17T16:25:54.821035Z",
     "start_time": "2024-05-17T16:25:54.814647Z"
    }
   },
   "cell_type": "code",
   "source": "arr2d = np.array([[1, 2, 3], [4, 5, 6], [7, 8, 9]])",
   "id": "98aede3e308cc242",
   "outputs": [],
   "execution_count": 49
  },
  {
   "metadata": {
    "ExecuteTime": {
     "end_time": "2024-05-17T16:26:43.498706Z",
     "start_time": "2024-05-17T16:26:43.491556Z"
    }
   },
   "cell_type": "code",
   "source": "arr2d",
   "id": "8a2f97a08fe42fc5",
   "outputs": [
    {
     "data": {
      "text/plain": [
       "array([[1, 2, 3],\n",
       "       [4, 5, 6],\n",
       "       [7, 8, 9]])"
      ]
     },
     "execution_count": 53,
     "metadata": {},
     "output_type": "execute_result"
    }
   ],
   "execution_count": 53
  },
  {
   "metadata": {
    "ExecuteTime": {
     "end_time": "2024-05-17T16:26:01.808053Z",
     "start_time": "2024-05-17T16:26:01.791018Z"
    }
   },
   "cell_type": "code",
   "source": "arr2d[2]",
   "id": "9e6ec7a1eba02670",
   "outputs": [
    {
     "data": {
      "text/plain": [
       "array([7, 8, 9])"
      ]
     },
     "execution_count": 50,
     "metadata": {},
     "output_type": "execute_result"
    }
   ],
   "execution_count": 50
  },
  {
   "metadata": {
    "ExecuteTime": {
     "end_time": "2024-05-17T16:26:09.915514Z",
     "start_time": "2024-05-17T16:26:09.909587Z"
    }
   },
   "cell_type": "code",
   "source": "arr2d[0][2]",
   "id": "edafef42c3ddbaf3",
   "outputs": [
    {
     "data": {
      "text/plain": [
       "3"
      ]
     },
     "execution_count": 51,
     "metadata": {},
     "output_type": "execute_result"
    }
   ],
   "execution_count": 51
  },
  {
   "metadata": {
    "ExecuteTime": {
     "end_time": "2024-05-17T16:26:16.491365Z",
     "start_time": "2024-05-17T16:26:16.484813Z"
    }
   },
   "cell_type": "code",
   "source": "arr2d[0, 2]",
   "id": "f015b4f0ba91d63",
   "outputs": [
    {
     "data": {
      "text/plain": [
       "3"
      ]
     },
     "execution_count": 52,
     "metadata": {},
     "output_type": "execute_result"
    }
   ],
   "execution_count": 52
  },
  {
   "metadata": {
    "ExecuteTime": {
     "end_time": "2024-05-17T16:27:28.188807Z",
     "start_time": "2024-05-17T16:27:28.182454Z"
    }
   },
   "cell_type": "code",
   "source": "arr3d = np.array([[[1, 2, 3], [4, 5, 6]], [[7, 8, 9], [10, 11, 12]]])",
   "id": "82bc41fc67f2e52c",
   "outputs": [],
   "execution_count": 54
  },
  {
   "metadata": {
    "ExecuteTime": {
     "end_time": "2024-05-17T16:27:30.441878Z",
     "start_time": "2024-05-17T16:27:30.424203Z"
    }
   },
   "cell_type": "code",
   "source": "arr3d",
   "id": "c30f2c8bb9a4f4a2",
   "outputs": [
    {
     "data": {
      "text/plain": [
       "array([[[ 1,  2,  3],\n",
       "        [ 4,  5,  6]],\n",
       "\n",
       "       [[ 7,  8,  9],\n",
       "        [10, 11, 12]]])"
      ]
     },
     "execution_count": 55,
     "metadata": {},
     "output_type": "execute_result"
    }
   ],
   "execution_count": 55
  },
  {
   "metadata": {
    "ExecuteTime": {
     "end_time": "2024-05-17T16:27:44.132728Z",
     "start_time": "2024-05-17T16:27:44.122155Z"
    }
   },
   "cell_type": "code",
   "source": "arr3d[0]",
   "id": "a2a2296f7b932f2a",
   "outputs": [
    {
     "data": {
      "text/plain": [
       "array([[1, 2, 3],\n",
       "       [4, 5, 6]])"
      ]
     },
     "execution_count": 57,
     "metadata": {},
     "output_type": "execute_result"
    }
   ],
   "execution_count": 57
  },
  {
   "metadata": {
    "ExecuteTime": {
     "end_time": "2024-05-17T16:28:16.202374Z",
     "start_time": "2024-05-17T16:28:16.189882Z"
    }
   },
   "cell_type": "code",
   "source": "old_values = arr3d[0].copy()",
   "id": "c50b0fdd83777251",
   "outputs": [],
   "execution_count": 59
  },
  {
   "metadata": {
    "ExecuteTime": {
     "end_time": "2024-05-17T16:28:24.449063Z",
     "start_time": "2024-05-17T16:28:24.433553Z"
    }
   },
   "cell_type": "code",
   "source": "arr3d[0] = 42",
   "id": "4c3c84084a00405",
   "outputs": [],
   "execution_count": 60
  },
  {
   "metadata": {
    "ExecuteTime": {
     "end_time": "2024-05-17T16:28:26.269175Z",
     "start_time": "2024-05-17T16:28:26.255699Z"
    }
   },
   "cell_type": "code",
   "source": "arr3d",
   "id": "3e50885d1e5e4b7b",
   "outputs": [
    {
     "data": {
      "text/plain": [
       "array([[[42, 42, 42],\n",
       "        [42, 42, 42]],\n",
       "\n",
       "       [[ 7,  8,  9],\n",
       "        [10, 11, 12]]])"
      ]
     },
     "execution_count": 61,
     "metadata": {},
     "output_type": "execute_result"
    }
   ],
   "execution_count": 61
  },
  {
   "metadata": {
    "ExecuteTime": {
     "end_time": "2024-05-17T16:28:36.829818Z",
     "start_time": "2024-05-17T16:28:36.816002Z"
    }
   },
   "cell_type": "code",
   "source": "arr3d[0] = old_values",
   "id": "365a47d31feb5481",
   "outputs": [],
   "execution_count": 62
  },
  {
   "metadata": {
    "ExecuteTime": {
     "end_time": "2024-05-17T16:28:39.711358Z",
     "start_time": "2024-05-17T16:28:39.703151Z"
    }
   },
   "cell_type": "code",
   "source": "arr3d",
   "id": "2546cc1fe2ac3534",
   "outputs": [
    {
     "data": {
      "text/plain": [
       "array([[[ 1,  2,  3],\n",
       "        [ 4,  5,  6]],\n",
       "\n",
       "       [[ 7,  8,  9],\n",
       "        [10, 11, 12]]])"
      ]
     },
     "execution_count": 63,
     "metadata": {},
     "output_type": "execute_result"
    }
   ],
   "execution_count": 63
  },
  {
   "metadata": {
    "ExecuteTime": {
     "end_time": "2024-05-17T16:28:49.602773Z",
     "start_time": "2024-05-17T16:28:49.586037Z"
    }
   },
   "cell_type": "code",
   "source": "arr3d[1, 0]",
   "id": "7e2c2ace36cdba65",
   "outputs": [
    {
     "data": {
      "text/plain": [
       "array([7, 8, 9])"
      ]
     },
     "execution_count": 64,
     "metadata": {},
     "output_type": "execute_result"
    }
   ],
   "execution_count": 64
  },
  {
   "metadata": {
    "ExecuteTime": {
     "end_time": "2024-05-17T16:28:54.337202Z",
     "start_time": "2024-05-17T16:28:54.329964Z"
    }
   },
   "cell_type": "code",
   "source": "arr3d[0, 1]",
   "id": "8533dc349ca111b9",
   "outputs": [
    {
     "data": {
      "text/plain": [
       "array([4, 5, 6])"
      ]
     },
     "execution_count": 65,
     "metadata": {},
     "output_type": "execute_result"
    }
   ],
   "execution_count": 65
  },
  {
   "metadata": {},
   "cell_type": "markdown",
   "source": "* 数组的切片索引",
   "id": "104932b2c16bb92"
  },
  {
   "metadata": {
    "ExecuteTime": {
     "end_time": "2024-05-17T16:29:46.968057Z",
     "start_time": "2024-05-17T16:29:46.951947Z"
    }
   },
   "cell_type": "code",
   "source": "arr",
   "id": "92f38f16ae9417fa",
   "outputs": [
    {
     "data": {
      "text/plain": [
       "array([    0,     1,     2,     3,     4,    12, 12345,    12,     8,\n",
       "           9])"
      ]
     },
     "execution_count": 66,
     "metadata": {},
     "output_type": "execute_result"
    }
   ],
   "execution_count": 66
  },
  {
   "metadata": {
    "ExecuteTime": {
     "end_time": "2024-05-17T16:29:53.976438Z",
     "start_time": "2024-05-17T16:29:53.963983Z"
    }
   },
   "cell_type": "code",
   "source": "arr[1: 6]",
   "id": "5fff586c2e8daf62",
   "outputs": [
    {
     "data": {
      "text/plain": [
       "array([ 1,  2,  3,  4, 12])"
      ]
     },
     "execution_count": 67,
     "metadata": {},
     "output_type": "execute_result"
    }
   ],
   "execution_count": 67
  },
  {
   "metadata": {
    "ExecuteTime": {
     "end_time": "2024-05-17T16:30:03.627806Z",
     "start_time": "2024-05-17T16:30:03.611667Z"
    }
   },
   "cell_type": "code",
   "source": "arr2d",
   "id": "677fe49f7622bbe2",
   "outputs": [
    {
     "data": {
      "text/plain": [
       "array([[1, 2, 3],\n",
       "       [4, 5, 6],\n",
       "       [7, 8, 9]])"
      ]
     },
     "execution_count": 68,
     "metadata": {},
     "output_type": "execute_result"
    }
   ],
   "execution_count": 68
  },
  {
   "metadata": {
    "ExecuteTime": {
     "end_time": "2024-05-17T16:30:10.357593Z",
     "start_time": "2024-05-17T16:30:10.344103Z"
    }
   },
   "cell_type": "code",
   "source": "arr2d[:2]",
   "id": "5c397b2348c9d71b",
   "outputs": [
    {
     "data": {
      "text/plain": [
       "array([[1, 2, 3],\n",
       "       [4, 5, 6]])"
      ]
     },
     "execution_count": 69,
     "metadata": {},
     "output_type": "execute_result"
    }
   ],
   "execution_count": 69
  },
  {
   "metadata": {
    "ExecuteTime": {
     "end_time": "2024-05-17T16:30:20.145360Z",
     "start_time": "2024-05-17T16:30:20.133428Z"
    }
   },
   "cell_type": "code",
   "source": "arr2d[:2, 1:]",
   "id": "643651e5fefb33fe",
   "outputs": [
    {
     "data": {
      "text/plain": [
       "array([[2, 3],\n",
       "       [5, 6]])"
      ]
     },
     "execution_count": 70,
     "metadata": {},
     "output_type": "execute_result"
    }
   ],
   "execution_count": 70
  },
  {
   "metadata": {
    "ExecuteTime": {
     "end_time": "2024-05-17T16:30:32.751924Z",
     "start_time": "2024-05-17T16:30:32.739591Z"
    }
   },
   "cell_type": "code",
   "source": "arr2d[1, :2]",
   "id": "3a7183c36ca05e16",
   "outputs": [
    {
     "data": {
      "text/plain": [
       "array([4, 5])"
      ]
     },
     "execution_count": 71,
     "metadata": {},
     "output_type": "execute_result"
    }
   ],
   "execution_count": 71
  },
  {
   "metadata": {
    "ExecuteTime": {
     "end_time": "2024-05-17T16:30:44.398523Z",
     "start_time": "2024-05-17T16:30:44.383196Z"
    }
   },
   "cell_type": "code",
   "source": "arr2d[:2, 2]",
   "id": "f4b393b5a55f63ae",
   "outputs": [
    {
     "data": {
      "text/plain": [
       "array([3, 6])"
      ]
     },
     "execution_count": 72,
     "metadata": {},
     "output_type": "execute_result"
    }
   ],
   "execution_count": 72
  },
  {
   "metadata": {
    "ExecuteTime": {
     "end_time": "2024-05-17T16:30:54.613158Z",
     "start_time": "2024-05-17T16:30:54.598423Z"
    }
   },
   "cell_type": "code",
   "source": "arr2d[:2, 1:] = 0",
   "id": "13f610147fc8f86a",
   "outputs": [],
   "execution_count": 73
  },
  {
   "metadata": {
    "ExecuteTime": {
     "end_time": "2024-05-17T16:30:56.255277Z",
     "start_time": "2024-05-17T16:30:56.243305Z"
    }
   },
   "cell_type": "code",
   "source": "arr2d",
   "id": "88ad90d541466758",
   "outputs": [
    {
     "data": {
      "text/plain": [
       "array([[1, 0, 0],\n",
       "       [4, 0, 0],\n",
       "       [7, 8, 9]])"
      ]
     },
     "execution_count": 74,
     "metadata": {},
     "output_type": "execute_result"
    }
   ],
   "execution_count": 74
  },
  {
   "metadata": {},
   "cell_type": "markdown",
   "source": "* 布尔索引",
   "id": "adbc256b74bd6a44"
  },
  {
   "metadata": {
    "ExecuteTime": {
     "end_time": "2024-05-17T16:32:12.189318Z",
     "start_time": "2024-05-17T16:32:12.177273Z"
    }
   },
   "cell_type": "code",
   "source": "names = np.array(['Bob', 'Joe', 'Will', 'Bob', 'Will', 'Joe', 'Joe'])",
   "id": "cb9b6a9f56c176d4",
   "outputs": [],
   "execution_count": 75
  },
  {
   "metadata": {
    "ExecuteTime": {
     "end_time": "2024-05-17T16:32:26.666034Z",
     "start_time": "2024-05-17T16:32:26.662089Z"
    }
   },
   "cell_type": "code",
   "source": "data = np.random.randn(7, 4)",
   "id": "560f259aadf570e0",
   "outputs": [],
   "execution_count": 76
  },
  {
   "metadata": {
    "ExecuteTime": {
     "end_time": "2024-05-17T16:32:28.012472Z",
     "start_time": "2024-05-17T16:32:28.007771Z"
    }
   },
   "cell_type": "code",
   "source": "data",
   "id": "e2198dc2622d63ec",
   "outputs": [
    {
     "data": {
      "text/plain": [
       "array([[-0.0937235 ,  1.31799233,  1.34732102, -0.11028228],\n",
       "       [-0.10158959, -0.49464566, -1.34454876, -1.08573752],\n",
       "       [ 0.30141971,  0.95021548,  1.0065367 ,  1.55530229],\n",
       "       [-1.04598614, -2.02119487,  1.27361311,  0.91942274],\n",
       "       [ 0.49897635, -0.01285819,  1.01087831, -0.95450928],\n",
       "       [-0.77709759,  0.32461758, -1.24237629, -0.19049386],\n",
       "       [-0.3408991 ,  1.77429795,  0.66135014, -0.25484669]])"
      ]
     },
     "execution_count": 77,
     "metadata": {},
     "output_type": "execute_result"
    }
   ],
   "execution_count": 77
  },
  {
   "metadata": {
    "ExecuteTime": {
     "end_time": "2024-05-17T16:32:36.090174Z",
     "start_time": "2024-05-17T16:32:36.074649Z"
    }
   },
   "cell_type": "code",
   "source": "names",
   "id": "ec9e904fa1e08d9",
   "outputs": [
    {
     "data": {
      "text/plain": [
       "array(['Bob', 'Joe', 'Will', 'Bob', 'Will', 'Joe', 'Joe'], dtype='<U4')"
      ]
     },
     "execution_count": 78,
     "metadata": {},
     "output_type": "execute_result"
    }
   ],
   "execution_count": 78
  },
  {
   "metadata": {
    "ExecuteTime": {
     "end_time": "2024-05-17T16:32:44.057507Z",
     "start_time": "2024-05-17T16:32:44.044512Z"
    }
   },
   "cell_type": "code",
   "source": "names == 'Bob'",
   "id": "ae9abac496adcdcf",
   "outputs": [
    {
     "data": {
      "text/plain": [
       "array([ True, False, False,  True, False, False, False])"
      ]
     },
     "execution_count": 79,
     "metadata": {},
     "output_type": "execute_result"
    }
   ],
   "execution_count": 79
  },
  {
   "metadata": {
    "ExecuteTime": {
     "end_time": "2024-05-17T16:33:01.077800Z",
     "start_time": "2024-05-17T16:33:01.063672Z"
    }
   },
   "cell_type": "code",
   "source": "data[names == 'Bob']",
   "id": "e126ab4ceecd8564",
   "outputs": [
    {
     "data": {
      "text/plain": [
       "array([[-0.0937235 ,  1.31799233,  1.34732102, -0.11028228],\n",
       "       [-1.04598614, -2.02119487,  1.27361311,  0.91942274]])"
      ]
     },
     "execution_count": 80,
     "metadata": {},
     "output_type": "execute_result"
    }
   ],
   "execution_count": 80
  },
  {
   "metadata": {},
   "cell_type": "markdown",
   "source": [
    "布尔值数组的长度必须和数组轴索引的长度一致\n",
    "\n",
    "\n",
    "布尔值数组的长度不正确时， 布尔值数组选择数据的方法不会报错"
   ],
   "id": "91c5109515ef1873"
  },
  {
   "metadata": {
    "ExecuteTime": {
     "end_time": "2024-05-17T16:37:05.716297Z",
     "start_time": "2024-05-17T16:37:05.698856Z"
    }
   },
   "cell_type": "code",
   "source": "data[names == 'Bob', : 2]",
   "id": "f28976d71346495f",
   "outputs": [
    {
     "data": {
      "text/plain": [
       "array([[-0.0937235 ,  1.31799233],\n",
       "       [-1.04598614, -2.02119487]])"
      ]
     },
     "execution_count": 84,
     "metadata": {},
     "output_type": "execute_result"
    }
   ],
   "execution_count": 84
  },
  {
   "metadata": {
    "ExecuteTime": {
     "end_time": "2024-05-17T16:37:07.834887Z",
     "start_time": "2024-05-17T16:37:07.828523Z"
    }
   },
   "cell_type": "code",
   "source": "data[~(names != 'Bob')]",
   "id": "ee061f4a87a3ffcf",
   "outputs": [
    {
     "data": {
      "text/plain": [
       "array([[-0.0937235 ,  1.31799233,  1.34732102, -0.11028228],\n",
       "       [-1.04598614, -2.02119487,  1.27361311,  0.91942274]])"
      ]
     },
     "execution_count": 85,
     "metadata": {},
     "output_type": "execute_result"
    }
   ],
   "execution_count": 85
  },
  {
   "metadata": {
    "ExecuteTime": {
     "end_time": "2024-05-17T16:37:25.786345Z",
     "start_time": "2024-05-17T16:37:25.768107Z"
    }
   },
   "cell_type": "code",
   "source": "cond = names == 'Bob'",
   "id": "92cb47c01b99f63b",
   "outputs": [],
   "execution_count": 86
  },
  {
   "metadata": {
    "ExecuteTime": {
     "end_time": "2024-05-17T16:37:32.855661Z",
     "start_time": "2024-05-17T16:37:32.843806Z"
    }
   },
   "cell_type": "code",
   "source": "data[~cond]",
   "id": "ea4a97a458440584",
   "outputs": [
    {
     "data": {
      "text/plain": [
       "array([[-0.10158959, -0.49464566, -1.34454876, -1.08573752],\n",
       "       [ 0.30141971,  0.95021548,  1.0065367 ,  1.55530229],\n",
       "       [ 0.49897635, -0.01285819,  1.01087831, -0.95450928],\n",
       "       [-0.77709759,  0.32461758, -1.24237629, -0.19049386],\n",
       "       [-0.3408991 ,  1.77429795,  0.66135014, -0.25484669]])"
      ]
     },
     "execution_count": 87,
     "metadata": {},
     "output_type": "execute_result"
    }
   ],
   "execution_count": 87
  },
  {
   "metadata": {
    "ExecuteTime": {
     "end_time": "2024-05-17T16:38:21.183794Z",
     "start_time": "2024-05-17T16:38:21.169756Z"
    }
   },
   "cell_type": "code",
   "source": "mask = (names == 'Bob') | (names == 'Will')",
   "id": "26cab4bc99c4eee4",
   "outputs": [],
   "execution_count": 88
  },
  {
   "metadata": {
    "ExecuteTime": {
     "end_time": "2024-05-17T16:38:25.144407Z",
     "start_time": "2024-05-17T16:38:25.128265Z"
    }
   },
   "cell_type": "code",
   "source": "mask",
   "id": "2717ac200ba9689b",
   "outputs": [
    {
     "data": {
      "text/plain": [
       "array([ True, False,  True,  True,  True, False, False])"
      ]
     },
     "execution_count": 89,
     "metadata": {},
     "output_type": "execute_result"
    }
   ],
   "execution_count": 89
  },
  {
   "metadata": {
    "ExecuteTime": {
     "end_time": "2024-05-17T16:38:51.451465Z",
     "start_time": "2024-05-17T16:38:51.437429Z"
    }
   },
   "cell_type": "code",
   "source": "data[mask]",
   "id": "3d3841e97733afa7",
   "outputs": [
    {
     "data": {
      "text/plain": [
       "array([[-0.0937235 ,  1.31799233,  1.34732102, -0.11028228],\n",
       "       [ 0.30141971,  0.95021548,  1.0065367 ,  1.55530229],\n",
       "       [-1.04598614, -2.02119487,  1.27361311,  0.91942274],\n",
       "       [ 0.49897635, -0.01285819,  1.01087831, -0.95450928]])"
      ]
     },
     "execution_count": 90,
     "metadata": {},
     "output_type": "execute_result"
    }
   ],
   "execution_count": 90
  },
  {
   "metadata": {
    "ExecuteTime": {
     "end_time": "2024-05-17T16:39:00.621995Z",
     "start_time": "2024-05-17T16:39:00.605189Z"
    }
   },
   "cell_type": "code",
   "source": "data",
   "id": "6ba8d39d18392a97",
   "outputs": [
    {
     "data": {
      "text/plain": [
       "array([[-0.0937235 ,  1.31799233,  1.34732102, -0.11028228],\n",
       "       [-0.10158959, -0.49464566, -1.34454876, -1.08573752],\n",
       "       [ 0.30141971,  0.95021548,  1.0065367 ,  1.55530229],\n",
       "       [-1.04598614, -2.02119487,  1.27361311,  0.91942274],\n",
       "       [ 0.49897635, -0.01285819,  1.01087831, -0.95450928],\n",
       "       [-0.77709759,  0.32461758, -1.24237629, -0.19049386],\n",
       "       [-0.3408991 ,  1.77429795,  0.66135014, -0.25484669]])"
      ]
     },
     "execution_count": 91,
     "metadata": {},
     "output_type": "execute_result"
    }
   ],
   "execution_count": 91
  },
  {
   "metadata": {},
   "cell_type": "markdown",
   "source": "需要注意 python 中 bool运算的关键字对布尔值数组没有效果吗需要用 & | 代替",
   "id": "55a7b8ce9b786482"
  },
  {
   "metadata": {
    "ExecuteTime": {
     "end_time": "2024-05-17T16:40:47.426334Z",
     "start_time": "2024-05-17T16:40:47.413631Z"
    }
   },
   "cell_type": "code",
   "source": "data[data > 0] = 0",
   "id": "eb4a279ad55681e4",
   "outputs": [],
   "execution_count": 92
  },
  {
   "metadata": {
    "ExecuteTime": {
     "end_time": "2024-05-17T16:40:48.759464Z",
     "start_time": "2024-05-17T16:40:48.743027Z"
    }
   },
   "cell_type": "code",
   "source": "data",
   "id": "2a830d9fe565222",
   "outputs": [
    {
     "data": {
      "text/plain": [
       "array([[-0.0937235 ,  0.        ,  0.        , -0.11028228],\n",
       "       [-0.10158959, -0.49464566, -1.34454876, -1.08573752],\n",
       "       [ 0.        ,  0.        ,  0.        ,  0.        ],\n",
       "       [-1.04598614, -2.02119487,  0.        ,  0.        ],\n",
       "       [ 0.        , -0.01285819,  0.        , -0.95450928],\n",
       "       [-0.77709759,  0.        , -1.24237629, -0.19049386],\n",
       "       [-0.3408991 ,  0.        ,  0.        , -0.25484669]])"
      ]
     },
     "execution_count": 93,
     "metadata": {},
     "output_type": "execute_result"
    }
   ],
   "execution_count": 93
  },
  {
   "metadata": {
    "ExecuteTime": {
     "end_time": "2024-05-17T16:41:09.006805Z",
     "start_time": "2024-05-17T16:41:08.990616Z"
    }
   },
   "cell_type": "code",
   "source": "data[names != 'Joe'] = 7",
   "id": "76f896685a330eb9",
   "outputs": [],
   "execution_count": 94
  },
  {
   "metadata": {
    "ExecuteTime": {
     "end_time": "2024-05-17T16:41:17.543188Z",
     "start_time": "2024-05-17T16:41:17.530193Z"
    }
   },
   "cell_type": "code",
   "source": "data",
   "id": "b9a587228fe7a865",
   "outputs": [
    {
     "data": {
      "text/plain": [
       "array([[ 7.        ,  7.        ,  7.        ,  7.        ],\n",
       "       [-0.10158959, -0.49464566, -1.34454876, -1.08573752],\n",
       "       [ 7.        ,  7.        ,  7.        ,  7.        ],\n",
       "       [ 7.        ,  7.        ,  7.        ,  7.        ],\n",
       "       [ 7.        ,  7.        ,  7.        ,  7.        ],\n",
       "       [-0.77709759,  0.        , -1.24237629, -0.19049386],\n",
       "       [-0.3408991 ,  0.        ,  0.        , -0.25484669]])"
      ]
     },
     "execution_count": 95,
     "metadata": {},
     "output_type": "execute_result"
    }
   ],
   "execution_count": 95
  },
  {
   "metadata": {},
   "cell_type": "markdown",
   "source": "# 神奇索引",
   "id": "9a61e539d071027c"
  },
  {
   "metadata": {},
   "cell_type": "markdown",
   "source": "神奇索引是numpy中的术语， 用于描述使用整数数组进行数据索引",
   "id": "e9a36116a454648b"
  },
  {
   "metadata": {
    "ExecuteTime": {
     "end_time": "2024-05-17T16:42:38.264364Z",
     "start_time": "2024-05-17T16:42:38.258801Z"
    }
   },
   "cell_type": "code",
   "source": "arr = np.empty((8, 4))",
   "id": "3e44f28be35ce1be",
   "outputs": [],
   "execution_count": 96
  },
  {
   "metadata": {
    "ExecuteTime": {
     "end_time": "2024-05-17T16:42:56.419674Z",
     "start_time": "2024-05-17T16:42:56.405026Z"
    }
   },
   "cell_type": "code",
   "source": [
    "for i in range(8):\n",
    "    arr[i] = i"
   ],
   "id": "c1e20c3c1da412f8",
   "outputs": [],
   "execution_count": 97
  },
  {
   "metadata": {
    "ExecuteTime": {
     "end_time": "2024-05-17T16:42:59.458680Z",
     "start_time": "2024-05-17T16:42:59.447854Z"
    }
   },
   "cell_type": "code",
   "source": "arr",
   "id": "b2da338af4f7ff99",
   "outputs": [
    {
     "data": {
      "text/plain": [
       "array([[0., 0., 0., 0.],\n",
       "       [1., 1., 1., 1.],\n",
       "       [2., 2., 2., 2.],\n",
       "       [3., 3., 3., 3.],\n",
       "       [4., 4., 4., 4.],\n",
       "       [5., 5., 5., 5.],\n",
       "       [6., 6., 6., 6.],\n",
       "       [7., 7., 7., 7.]])"
      ]
     },
     "execution_count": 98,
     "metadata": {},
     "output_type": "execute_result"
    }
   ],
   "execution_count": 98
  },
  {
   "metadata": {
    "ExecuteTime": {
     "end_time": "2024-05-17T16:43:15.389475Z",
     "start_time": "2024-05-17T16:43:15.369993Z"
    }
   },
   "cell_type": "code",
   "source": "arr[[4, 3, 0, 6]]",
   "id": "61f721b284fc4753",
   "outputs": [
    {
     "data": {
      "text/plain": [
       "array([[4., 4., 4., 4.],\n",
       "       [3., 3., 3., 3.],\n",
       "       [0., 0., 0., 0.],\n",
       "       [6., 6., 6., 6.]])"
      ]
     },
     "execution_count": 99,
     "metadata": {},
     "output_type": "execute_result"
    }
   ],
   "execution_count": 99
  },
  {
   "metadata": {
    "ExecuteTime": {
     "end_time": "2024-05-17T16:43:28.465670Z",
     "start_time": "2024-05-17T16:43:28.448714Z"
    }
   },
   "cell_type": "code",
   "source": "arr[[-3, -5, -7]]",
   "id": "a806bccaba872647",
   "outputs": [
    {
     "data": {
      "text/plain": [
       "array([[5., 5., 5., 5.],\n",
       "       [3., 3., 3., 3.],\n",
       "       [1., 1., 1., 1.]])"
      ]
     },
     "execution_count": 100,
     "metadata": {},
     "output_type": "execute_result"
    }
   ],
   "execution_count": 100
  },
  {
   "metadata": {
    "ExecuteTime": {
     "end_time": "2024-05-17T16:44:32.044131Z",
     "start_time": "2024-05-17T16:44:32.026604Z"
    }
   },
   "cell_type": "code",
   "source": "arr = np.arange(32).reshape((8, 4))",
   "id": "8816aa95cc6ade04",
   "outputs": [],
   "execution_count": 101
  },
  {
   "metadata": {
    "ExecuteTime": {
     "end_time": "2024-05-17T16:44:33.390601Z",
     "start_time": "2024-05-17T16:44:33.383715Z"
    }
   },
   "cell_type": "code",
   "source": "arr",
   "id": "44f0248cdeb1fa12",
   "outputs": [
    {
     "data": {
      "text/plain": [
       "array([[ 0,  1,  2,  3],\n",
       "       [ 4,  5,  6,  7],\n",
       "       [ 8,  9, 10, 11],\n",
       "       [12, 13, 14, 15],\n",
       "       [16, 17, 18, 19],\n",
       "       [20, 21, 22, 23],\n",
       "       [24, 25, 26, 27],\n",
       "       [28, 29, 30, 31]])"
      ]
     },
     "execution_count": 102,
     "metadata": {},
     "output_type": "execute_result"
    }
   ],
   "execution_count": 102
  },
  {
   "metadata": {
    "ExecuteTime": {
     "end_time": "2024-05-17T16:44:50.600977Z",
     "start_time": "2024-05-17T16:44:50.583426Z"
    }
   },
   "cell_type": "code",
   "source": "arr[[1, 5, 7, 2], [0, 3, 1, 2]]",
   "id": "f8141f001b2eda3a",
   "outputs": [
    {
     "data": {
      "text/plain": [
       "array([ 4, 23, 29, 10])"
      ]
     },
     "execution_count": 103,
     "metadata": {},
     "output_type": "execute_result"
    }
   ],
   "execution_count": 103
  },
  {
   "metadata": {},
   "cell_type": "markdown",
   "source": "# 数组转置和换轴",
   "id": "666c1c8ad47f521d"
  },
  {
   "metadata": {},
   "cell_type": "markdown",
   "source": [
    "转置是数组的一种特殊的重组形式\n",
    "\n",
    "可以返回底层数据的视图而不需要赋值任何内容\n",
    "\n",
    "数组拥有的transpose方法， 也有T属性"
   ],
   "id": "9e8f948a8f82eafc"
  },
  {
   "metadata": {
    "ExecuteTime": {
     "end_time": "2024-05-17T16:48:46.910360Z",
     "start_time": "2024-05-17T16:48:46.895419Z"
    }
   },
   "cell_type": "code",
   "source": "arr = np.arange(32).reshape((8, 4))",
   "id": "5cdac8de6f7d53bf",
   "outputs": [],
   "execution_count": 107
  },
  {
   "metadata": {
    "ExecuteTime": {
     "end_time": "2024-05-17T16:48:47.176746Z",
     "start_time": "2024-05-17T16:48:47.161501Z"
    }
   },
   "cell_type": "code",
   "source": "arr @ arr.T",
   "id": "50968850db72a73b",
   "outputs": [
    {
     "data": {
      "text/plain": [
       "array([[  14,   38,   62,   86,  110,  134,  158,  182],\n",
       "       [  38,  126,  214,  302,  390,  478,  566,  654],\n",
       "       [  62,  214,  366,  518,  670,  822,  974, 1126],\n",
       "       [  86,  302,  518,  734,  950, 1166, 1382, 1598],\n",
       "       [ 110,  390,  670,  950, 1230, 1510, 1790, 2070],\n",
       "       [ 134,  478,  822, 1166, 1510, 1854, 2198, 2542],\n",
       "       [ 158,  566,  974, 1382, 1790, 2198, 2606, 3014],\n",
       "       [ 182,  654, 1126, 1598, 2070, 2542, 3014, 3486]])"
      ]
     },
     "execution_count": 108,
     "metadata": {},
     "output_type": "execute_result"
    }
   ],
   "execution_count": 108
  },
  {
   "metadata": {
    "ExecuteTime": {
     "end_time": "2024-05-17T16:48:53.530132Z",
     "start_time": "2024-05-17T16:48:53.513964Z"
    }
   },
   "cell_type": "code",
   "source": "arr.transpose(1)",
   "id": "3606f33a95c6c33d",
   "outputs": [
    {
     "ename": "ValueError",
     "evalue": "axes don't match array",
     "output_type": "error",
     "traceback": [
      "\u001B[1;31m---------------------------------------------------------------------------\u001B[0m",
      "\u001B[1;31mValueError\u001B[0m                                Traceback (most recent call last)",
      "Cell \u001B[1;32mIn[109], line 1\u001B[0m\n\u001B[1;32m----> 1\u001B[0m \u001B[43marr\u001B[49m\u001B[38;5;241;43m.\u001B[39;49m\u001B[43mtranspose\u001B[49m\u001B[43m(\u001B[49m\u001B[38;5;241;43m1\u001B[39;49m\u001B[43m)\u001B[49m\n",
      "\u001B[1;31mValueError\u001B[0m: axes don't match array"
     ]
    }
   ],
   "execution_count": 109
  },
  {
   "metadata": {
    "ExecuteTime": {
     "end_time": "2024-05-17T16:49:09.333535Z",
     "start_time": "2024-05-17T16:49:09.315847Z"
    }
   },
   "cell_type": "code",
   "source": "arr.T",
   "id": "69d192ce40287101",
   "outputs": [
    {
     "data": {
      "text/plain": [
       "array([[ 0,  4,  8, 12, 16, 20, 24, 28],\n",
       "       [ 1,  5,  9, 13, 17, 21, 25, 29],\n",
       "       [ 2,  6, 10, 14, 18, 22, 26, 30],\n",
       "       [ 3,  7, 11, 15, 19, 23, 27, 31]])"
      ]
     },
     "execution_count": 111,
     "metadata": {},
     "output_type": "execute_result"
    }
   ],
   "execution_count": 111
  },
  {
   "metadata": {
    "ExecuteTime": {
     "end_time": "2024-05-17T16:49:13.283477Z",
     "start_time": "2024-05-17T16:49:13.263972Z"
    }
   },
   "cell_type": "code",
   "source": "arr",
   "id": "8fe078969a7576e2",
   "outputs": [
    {
     "data": {
      "text/plain": [
       "array([[ 0,  1,  2,  3],\n",
       "       [ 4,  5,  6,  7],\n",
       "       [ 8,  9, 10, 11],\n",
       "       [12, 13, 14, 15],\n",
       "       [16, 17, 18, 19],\n",
       "       [20, 21, 22, 23],\n",
       "       [24, 25, 26, 27],\n",
       "       [28, 29, 30, 31]])"
      ]
     },
     "execution_count": 112,
     "metadata": {},
     "output_type": "execute_result"
    }
   ],
   "execution_count": 112
  },
  {
   "metadata": {
    "ExecuteTime": {
     "end_time": "2024-05-17T16:49:28.856235Z",
     "start_time": "2024-05-17T16:49:28.840092Z"
    }
   },
   "cell_type": "code",
   "source": "arr = np.random.randn(6, 3)",
   "id": "fe9ebbe6094b933b",
   "outputs": [],
   "execution_count": 113
  },
  {
   "metadata": {
    "ExecuteTime": {
     "end_time": "2024-05-17T16:49:32.977217Z",
     "start_time": "2024-05-17T16:49:32.963804Z"
    }
   },
   "cell_type": "code",
   "source": "arr",
   "id": "88ec3f06ca96db06",
   "outputs": [
    {
     "data": {
      "text/plain": [
       "array([[-3.41767584e-02, -2.99219626e-01,  5.45555861e-01],\n",
       "       [ 3.73957039e-01,  3.21428036e-02,  1.05984884e+00],\n",
       "       [-2.04302536e+00, -1.36496800e+00,  1.73195270e+00],\n",
       "       [-1.15145543e+00, -1.79252881e+00, -6.78871141e-01],\n",
       "       [ 6.86309871e-04, -1.61327776e+00, -7.18108537e-02],\n",
       "       [-5.28428281e-01,  3.15476200e-01,  2.50694536e+00]])"
      ]
     },
     "execution_count": 114,
     "metadata": {},
     "output_type": "execute_result"
    }
   ],
   "execution_count": 114
  },
  {
   "metadata": {},
   "cell_type": "markdown",
   "source": "np.dot() 等价与 @ 运算",
   "id": "37c4a49435fd7a51"
  },
  {
   "metadata": {
    "ExecuteTime": {
     "end_time": "2024-05-17T16:50:18.018636Z",
     "start_time": "2024-05-17T16:50:18.002073Z"
    }
   },
   "cell_type": "code",
   "source": "np.dot(arr.T, arr)",
   "id": "5084d64599931d14",
   "outputs": [
    {
     "data": {
      "text/plain": [
       "array([[ 5.92005108,  4.7071139 , -3.70383094],\n",
       "       [ 4.7071139 ,  7.86905309, -0.36960598],\n",
       "       [-3.70383094, -0.36960598, 11.17136878]])"
      ]
     },
     "execution_count": 117,
     "metadata": {},
     "output_type": "execute_result"
    }
   ],
   "execution_count": 117
  },
  {
   "metadata": {
    "ExecuteTime": {
     "end_time": "2024-05-17T16:50:18.415014Z",
     "start_time": "2024-05-17T16:50:18.395667Z"
    }
   },
   "cell_type": "code",
   "source": "arr.T @ arr",
   "id": "71b95d1618623953",
   "outputs": [
    {
     "data": {
      "text/plain": [
       "array([[ 5.92005108,  4.7071139 , -3.70383094],\n",
       "       [ 4.7071139 ,  7.86905309, -0.36960598],\n",
       "       [-3.70383094, -0.36960598, 11.17136878]])"
      ]
     },
     "execution_count": 118,
     "metadata": {},
     "output_type": "execute_result"
    }
   ],
   "execution_count": 118
  },
  {
   "metadata": {},
   "cell_type": "markdown",
   "source": "transpose 换轴",
   "id": "21dc21aea923640"
  },
  {
   "metadata": {
    "ExecuteTime": {
     "end_time": "2024-05-17T16:51:05.895282Z",
     "start_time": "2024-05-17T16:51:05.886634Z"
    }
   },
   "cell_type": "code",
   "source": "arr = np.arange(16).reshape((2, 2, 4))",
   "id": "f029c799932406aa",
   "outputs": [],
   "execution_count": 119
  },
  {
   "metadata": {
    "ExecuteTime": {
     "end_time": "2024-05-17T16:52:18.118773Z",
     "start_time": "2024-05-17T16:52:18.101995Z"
    }
   },
   "cell_type": "code",
   "source": "arr",
   "id": "dcc875f918e3bed4",
   "outputs": [
    {
     "data": {
      "text/plain": [
       "array([[[ 0,  1,  2,  3],\n",
       "        [ 4,  5,  6,  7]],\n",
       "\n",
       "       [[ 8,  9, 10, 11],\n",
       "        [12, 13, 14, 15]]])"
      ]
     },
     "execution_count": 123,
     "metadata": {},
     "output_type": "execute_result"
    }
   ],
   "execution_count": 123
  },
  {
   "metadata": {
    "ExecuteTime": {
     "end_time": "2024-05-17T16:51:25.325215Z",
     "start_time": "2024-05-17T16:51:25.308420Z"
    }
   },
   "cell_type": "code",
   "source": "arr.transpose((1, 0, 2))",
   "id": "82346f21eac340b4",
   "outputs": [
    {
     "data": {
      "text/plain": [
       "array([[[ 0,  1,  2,  3],\n",
       "        [ 8,  9, 10, 11]],\n",
       "\n",
       "       [[ 4,  5,  6,  7],\n",
       "        [12, 13, 14, 15]]])"
      ]
     },
     "execution_count": 121,
     "metadata": {},
     "output_type": "execute_result"
    }
   ],
   "execution_count": 121
  },
  {
   "metadata": {},
   "cell_type": "markdown",
   "source": "对于更高维度的数组、transpose方法可以接受包含轴编号的元组、用于置换轴",
   "id": "4967842dcd3cd5a2"
  },
  {
   "metadata": {},
   "cell_type": "markdown",
   "source": [
    "swapaxes方法、接收一对轴编号作为参数，并对轴进行调整用于重组数据\n",
    "\n",
    "* swapaxes方法返回的也是数据的视图、而没有对数据进行复制"
   ],
   "id": "6c5c589bcf834e89"
  },
  {
   "metadata": {},
   "cell_type": "code",
   "outputs": [],
   "execution_count": null,
   "source": "",
   "id": "80016241ed862992"
  }
 ],
 "metadata": {
  "kernelspec": {
   "display_name": "Python 3",
   "language": "python",
   "name": "python3"
  },
  "language_info": {
   "codemirror_mode": {
    "name": "ipython",
    "version": 2
   },
   "file_extension": ".py",
   "mimetype": "text/x-python",
   "name": "python",
   "nbconvert_exporter": "python",
   "pygments_lexer": "ipython2",
   "version": "2.7.6"
  }
 },
 "nbformat": 4,
 "nbformat_minor": 5
}
