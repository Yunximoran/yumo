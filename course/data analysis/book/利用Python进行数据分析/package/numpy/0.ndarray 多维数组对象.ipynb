{
 "cells": [
  {
   "metadata": {},
   "cell_type": "markdown",
   "source": [
    "# 生成ndarray\n",
    "\n",
    "### array方法\n",
    "\n",
    "1. array接受任意 [序列型对象],生成一个新的包含传递数据NumPy数组\n"
   ],
   "id": "10b9569ea345bd47"
  },
  {
   "metadata": {
    "ExecuteTime": {
     "end_time": "2024-05-11T08:38:38.225356Z",
     "start_time": "2024-05-11T08:38:38.219174Z"
    }
   },
   "cell_type": "code",
   "source": "import numpy as np",
   "id": "d9bd551088aefb5a",
   "outputs": [],
   "execution_count": 6
  },
  {
   "metadata": {
    "ExecuteTime": {
     "end_time": "2024-05-11T08:38:38.490750Z",
     "start_time": "2024-05-11T08:38:38.470456Z"
    }
   },
   "cell_type": "code",
   "source": "data_1 = [6, 3.4, 9, 5, 7]",
   "id": "f913ae952f2ac8b5",
   "outputs": [],
   "execution_count": 7
  },
  {
   "metadata": {
    "ExecuteTime": {
     "end_time": "2024-05-11T08:38:38.861790Z",
     "start_time": "2024-05-11T08:38:38.850322Z"
    }
   },
   "cell_type": "code",
   "source": "arr = np.array(data_1)",
   "id": "b0942570fca3cca4",
   "outputs": [],
   "execution_count": 8
  },
  {
   "metadata": {
    "ExecuteTime": {
     "end_time": "2024-05-11T08:35:07.840369Z",
     "start_time": "2024-05-11T08:35:07.818796Z"
    }
   },
   "cell_type": "code",
   "source": "arr",
   "id": "70fc8105ed447469",
   "outputs": [
    {
     "data": {
      "text/plain": [
       "array([6. , 3.4, 9. , 5. , 7. ])"
      ]
     },
     "execution_count": 4,
     "metadata": {},
     "output_type": "execute_result"
    }
   ],
   "execution_count": 4
  },
  {
   "metadata": {},
   "cell_type": "markdown",
   "source": "2. 嵌套序列，等长度的列表，将会转换 <b>多维数组</b>",
   "id": "8c67edc9564c5165"
  },
  {
   "metadata": {
    "ExecuteTime": {
     "end_time": "2024-05-11T08:41:31.650858Z",
     "start_time": "2024-05-11T08:41:31.643727Z"
    }
   },
   "cell_type": "code",
   "source": "data_2 = [[1, 2, 3, 4], [5, 6, 7, 8]]",
   "id": "3971b6f2ea8795d8",
   "outputs": [],
   "execution_count": 13
  },
  {
   "metadata": {
    "ExecuteTime": {
     "end_time": "2024-05-11T08:41:32.619349Z",
     "start_time": "2024-05-11T08:41:32.608782Z"
    }
   },
   "cell_type": "code",
   "source": "arr = np.array(data_2)",
   "id": "a10ceb6f12f7c7e7",
   "outputs": [],
   "execution_count": 14
  },
  {
   "metadata": {
    "ExecuteTime": {
     "end_time": "2024-05-11T08:41:33.720697Z",
     "start_time": "2024-05-11T08:41:33.704292Z"
    }
   },
   "cell_type": "code",
   "source": "arr",
   "id": "97b60c161211aca2",
   "outputs": [
    {
     "data": {
      "text/plain": [
       "array([[1, 2, 3, 4],\n",
       "       [5, 6, 7, 8]])"
      ]
     },
     "execution_count": 15,
     "metadata": {},
     "output_type": "execute_result"
    }
   ],
   "execution_count": 15
  },
  {
   "metadata": {},
   "cell_type": "markdown",
   "source": [
    "* ndim： 数组行数\n",
    "* shape：数组形状"
   ],
   "id": "94389e52ea20bdb6"
  },
  {
   "metadata": {
    "ExecuteTime": {
     "end_time": "2024-05-11T08:41:55.502561Z",
     "start_time": "2024-05-11T08:41:55.484579Z"
    }
   },
   "cell_type": "code",
   "source": "arr.ndim",
   "id": "ca6d2d23498e4b0e",
   "outputs": [
    {
     "data": {
      "text/plain": [
       "2"
      ]
     },
     "execution_count": 18,
     "metadata": {},
     "output_type": "execute_result"
    }
   ],
   "execution_count": 18
  },
  {
   "metadata": {
    "ExecuteTime": {
     "end_time": "2024-05-11T08:41:56.538335Z",
     "start_time": "2024-05-11T08:41:56.532778Z"
    }
   },
   "cell_type": "code",
   "source": "arr.shape",
   "id": "59cb5b93dda6ed1a",
   "outputs": [
    {
     "data": {
      "text/plain": [
       "(2, 4)"
      ]
     },
     "execution_count": 19,
     "metadata": {},
     "output_type": "execute_result"
    }
   ],
   "execution_count": 19
  },
  {
   "metadata": {},
   "cell_type": "markdown",
   "source": [
    "# ndarray的数据类型\n",
    "\n",
    "* ndarray的数据类型存储在dtype属性[元数据]当中\n",
    "* 除非显式的指定，否则numpy会自动推断生成数组的数据类型"
   ],
   "id": "e617d1fced4f76c2"
  },
  {
   "metadata": {
    "ExecuteTime": {
     "end_time": "2024-05-11T08:35:54.498865Z",
     "start_time": "2024-05-11T08:35:54.483801Z"
    }
   },
   "cell_type": "code",
   "source": "arr.dtype",
   "id": "106ae54158fd0506",
   "outputs": [
    {
     "data": {
      "text/plain": [
       "dtype('float64')"
      ]
     },
     "execution_count": 5,
     "metadata": {},
     "output_type": "execute_result"
    }
   ],
   "execution_count": 5
  },
  {
   "metadata": {
    "ExecuteTime": {
     "end_time": "2024-05-11T08:46:05.597568Z",
     "start_time": "2024-05-11T08:46:05.586639Z"
    }
   },
   "cell_type": "code",
   "source": "arr1 = np.array([1, 2, 3], dtype='float')",
   "id": "32700db5a0b9d7ff",
   "outputs": [],
   "execution_count": 20
  },
  {
   "metadata": {
    "ExecuteTime": {
     "end_time": "2024-05-11T08:46:24.002773Z",
     "start_time": "2024-05-11T08:46:23.985033Z"
    }
   },
   "cell_type": "code",
   "source": "arr2 = np.array([1, 2, 3], dtype='int')",
   "id": "de716ad71c8cba99",
   "outputs": [],
   "execution_count": 21
  },
  {
   "metadata": {
    "ExecuteTime": {
     "end_time": "2024-05-11T08:46:35.011845Z",
     "start_time": "2024-05-11T08:46:34.995705Z"
    }
   },
   "cell_type": "code",
   "source": "arr1.dtype",
   "id": "8ef4f666c83642d0",
   "outputs": [
    {
     "data": {
      "text/plain": [
       "dtype('float64')"
      ]
     },
     "execution_count": 24,
     "metadata": {},
     "output_type": "execute_result"
    }
   ],
   "execution_count": 24
  },
  {
   "metadata": {
    "ExecuteTime": {
     "end_time": "2024-05-11T08:46:35.448343Z",
     "start_time": "2024-05-11T08:46:35.442697Z"
    }
   },
   "cell_type": "code",
   "source": "arr2.dtype",
   "id": "bd517fed8d80fea4",
   "outputs": [
    {
     "data": {
      "text/plain": [
       "dtype('int32')"
      ]
     },
     "execution_count": 25,
     "metadata": {},
     "output_type": "execute_result"
    }
   ],
   "execution_count": 25
  },
  {
   "metadata": {},
   "cell_type": "markdown",
   "source": [
    "* 使用astype方法替换数组的数据类型\n",
    "* astype方法是将数组复制并替换成目标数据类型，在返回修改后的数组\n",
    "    * astype方法不会修改数组"
   ],
   "id": "7203df80b2494a78"
  },
  {
   "metadata": {
    "ExecuteTime": {
     "end_time": "2024-05-11T08:51:22.188341Z",
     "start_time": "2024-05-11T08:51:22.170704Z"
    }
   },
   "cell_type": "code",
   "source": "arr = np.array([1, 2, 3, 4, 5])",
   "id": "fc5a7183c2a3f9d1",
   "outputs": [],
   "execution_count": 32
  },
  {
   "metadata": {
    "ExecuteTime": {
     "end_time": "2024-05-11T08:51:22.554618Z",
     "start_time": "2024-05-11T08:51:22.539255Z"
    }
   },
   "cell_type": "code",
   "source": "arr.dtype",
   "id": "e6d7193ae76b9ba3",
   "outputs": [
    {
     "data": {
      "text/plain": [
       "dtype('int32')"
      ]
     },
     "execution_count": 33,
     "metadata": {},
     "output_type": "execute_result"
    }
   ],
   "execution_count": 33
  },
  {
   "metadata": {
    "ExecuteTime": {
     "end_time": "2024-05-11T08:51:22.931971Z",
     "start_time": "2024-05-11T08:51:22.919041Z"
    }
   },
   "cell_type": "code",
   "source": "float_arr = arr.astype(np.float64)",
   "id": "5192780436ec0530",
   "outputs": [],
   "execution_count": 34
  },
  {
   "metadata": {
    "ExecuteTime": {
     "end_time": "2024-05-11T08:54:33.550176Z",
     "start_time": "2024-05-11T08:54:33.545868Z"
    }
   },
   "cell_type": "code",
   "source": "float_arr.dtype",
   "id": "2f69297231f03e2c",
   "outputs": [
    {
     "data": {
      "text/plain": [
       "dtype('float64')"
      ]
     },
     "execution_count": 37,
     "metadata": {},
     "output_type": "execute_result"
    }
   ],
   "execution_count": 37
  },
  {
   "metadata": {},
   "cell_type": "markdown",
   "source": [
    "* 浮点数转换整数类型是将小数点后的数据忽略\n",
    "* float -> int -> float 将会丢失数据"
   ],
   "id": "70bbb0b2b91600b8"
  },
  {
   "metadata": {
    "ExecuteTime": {
     "end_time": "2024-05-11T08:54:34.121817Z",
     "start_time": "2024-05-11T08:54:34.111044Z"
    }
   },
   "cell_type": "code",
   "source": "arr = np.array([3.1, 4.32, 5.33])",
   "id": "e355cebf811fa6f4",
   "outputs": [],
   "execution_count": 38
  },
  {
   "metadata": {
    "ExecuteTime": {
     "end_time": "2024-05-11T08:54:34.446612Z",
     "start_time": "2024-05-11T08:54:34.439735Z"
    }
   },
   "cell_type": "code",
   "source": "float_arr = arr.astype(np.int32)",
   "id": "ba9606bd92ea61a8",
   "outputs": [],
   "execution_count": 39
  },
  {
   "metadata": {
    "ExecuteTime": {
     "end_time": "2024-05-11T08:54:34.751804Z",
     "start_time": "2024-05-11T08:54:34.740045Z"
    }
   },
   "cell_type": "code",
   "source": "float_arr",
   "id": "1991071ca0c25340",
   "outputs": [
    {
     "data": {
      "text/plain": [
       "array([3, 4, 5])"
      ]
     },
     "execution_count": 40,
     "metadata": {},
     "output_type": "execute_result"
    }
   ],
   "execution_count": 40
  },
  {
   "metadata": {
    "ExecuteTime": {
     "end_time": "2024-05-11T08:54:35.097056Z",
     "start_time": "2024-05-11T08:54:35.092955Z"
    }
   },
   "cell_type": "code",
   "source": "int_arr = float_arr.astype(np.float64)",
   "id": "a410dd1773caa747",
   "outputs": [],
   "execution_count": 41
  },
  {
   "metadata": {
    "ExecuteTime": {
     "end_time": "2024-05-11T08:54:35.355569Z",
     "start_time": "2024-05-11T08:54:35.344882Z"
    }
   },
   "cell_type": "code",
   "source": "int_arr",
   "id": "2d43a5821618c132",
   "outputs": [
    {
     "data": {
      "text/plain": [
       "array([3., 4., 5.])"
      ]
     },
     "execution_count": 42,
     "metadata": {},
     "output_type": "execute_result"
    }
   ],
   "execution_count": 42
  },
  {
   "metadata": {},
   "cell_type": "markdown",
   "source": "* 可以从其他ndarray数组中获取dtype属性，做类型转换",
   "id": "7dc74d8faec7fdad"
  },
  {
   "metadata": {
    "ExecuteTime": {
     "end_time": "2024-05-11T08:56:53.993520Z",
     "start_time": "2024-05-11T08:56:53.986398Z"
    }
   },
   "cell_type": "code",
   "source": "int_arr = np.arange(10)",
   "id": "269cdfcf5889cc92",
   "outputs": [],
   "execution_count": 44
  },
  {
   "metadata": {
    "ExecuteTime": {
     "end_time": "2024-05-11T08:57:48.138999Z",
     "start_time": "2024-05-11T08:57:48.124397Z"
    }
   },
   "cell_type": "code",
   "source": "calibers = np.array([.22, .39, .13, .567], dtype=np.float64)",
   "id": "89596c09907f1e69",
   "outputs": [],
   "execution_count": 45
  },
  {
   "metadata": {
    "ExecuteTime": {
     "end_time": "2024-05-11T08:58:15.812725Z",
     "start_time": "2024-05-11T08:58:15.793946Z"
    }
   },
   "cell_type": "code",
   "source": "int_arr.astype(calibers.dtype)",
   "id": "46c0becf038e5abd",
   "outputs": [
    {
     "data": {
      "text/plain": [
       "array([0., 1., 2., 3., 4., 5., 6., 7., 8., 9.])"
      ]
     },
     "execution_count": 46,
     "metadata": {},
     "output_type": "execute_result"
    }
   ],
   "execution_count": 46
  },
  {
   "metadata": {},
   "cell_type": "markdown",
   "source": "# NumPy数组算术",
   "id": "dc1545d95f057e3"
  },
  {
   "metadata": {
    "ExecuteTime": {
     "end_time": "2024-05-11T09:00:08.313900Z",
     "start_time": "2024-05-11T09:00:08.297383Z"
    }
   },
   "cell_type": "code",
   "source": "arr = np.array([[1., 2., 3.], [4., 5., 6.]])",
   "id": "3e220cdde59c27e9",
   "outputs": [],
   "execution_count": 48
  },
  {
   "metadata": {
    "ExecuteTime": {
     "end_time": "2024-05-11T09:00:11.734362Z",
     "start_time": "2024-05-11T09:00:11.726172Z"
    }
   },
   "cell_type": "code",
   "source": "arr * arr",
   "id": "764da2875cf51633",
   "outputs": [
    {
     "data": {
      "text/plain": [
       "array([[ 1.,  4.,  9.],\n",
       "       [16., 25., 36.]])"
      ]
     },
     "execution_count": 49,
     "metadata": {},
     "output_type": "execute_result"
    }
   ],
   "execution_count": 49
  },
  {
   "metadata": {
    "ExecuteTime": {
     "end_time": "2024-05-11T09:00:15.030082Z",
     "start_time": "2024-05-11T09:00:15.025170Z"
    }
   },
   "cell_type": "code",
   "source": "arr - arr",
   "id": "d7b9ae1904192317",
   "outputs": [
    {
     "data": {
      "text/plain": [
       "array([[0., 0., 0.],\n",
       "       [0., 0., 0.]])"
      ]
     },
     "execution_count": 50,
     "metadata": {},
     "output_type": "execute_result"
    }
   ],
   "execution_count": 50
  },
  {
   "metadata": {
    "ExecuteTime": {
     "end_time": "2024-05-11T09:00:21.031026Z",
     "start_time": "2024-05-11T09:00:21.013720Z"
    }
   },
   "cell_type": "code",
   "source": "arr ** 0.5",
   "id": "436c4b140b272b94",
   "outputs": [
    {
     "data": {
      "text/plain": [
       "array([[1.        , 1.41421356, 1.73205081],\n",
       "       [2.        , 2.23606798, 2.44948974]])"
      ]
     },
     "execution_count": 51,
     "metadata": {},
     "output_type": "execute_result"
    }
   ],
   "execution_count": 51
  },
  {
   "metadata": {
    "ExecuteTime": {
     "end_time": "2024-05-11T09:00:27.878408Z",
     "start_time": "2024-05-11T09:00:27.874013Z"
    }
   },
   "cell_type": "code",
   "source": "1 / arr",
   "id": "3583623d49885f7a",
   "outputs": [
    {
     "data": {
      "text/plain": [
       "array([[1.        , 0.5       , 0.33333333],\n",
       "       [0.25      , 0.2       , 0.16666667]])"
      ]
     },
     "execution_count": 52,
     "metadata": {},
     "output_type": "execute_result"
    }
   ],
   "execution_count": 52
  },
  {
   "metadata": {},
   "cell_type": "markdown",
   "source": "* 数组之间的比较会产生布尔值",
   "id": "8aa4d0609315e2f5"
  },
  {
   "metadata": {
    "ExecuteTime": {
     "end_time": "2024-05-11T09:01:36.402110Z",
     "start_time": "2024-05-11T09:01:36.383174Z"
    }
   },
   "cell_type": "code",
   "source": "arr2 = np.array([[1., 0.22, 2.3], [7.2, 5.4, 1.4]])",
   "id": "630cab8d7595ddd1",
   "outputs": [],
   "execution_count": 53
  },
  {
   "metadata": {
    "ExecuteTime": {
     "end_time": "2024-05-11T09:01:41.151518Z",
     "start_time": "2024-05-11T09:01:41.141939Z"
    }
   },
   "cell_type": "code",
   "source": "arr2 > arr",
   "id": "3e2861d3dc4fe85c",
   "outputs": [
    {
     "data": {
      "text/plain": [
       "array([[False, False, False],\n",
       "       [ True,  True, False]])"
      ]
     },
     "execution_count": 54,
     "metadata": {},
     "output_type": "execute_result"
    }
   ],
   "execution_count": 54
  },
  {
   "metadata": {},
   "cell_type": "markdown",
   "source": "# 基础索引与切片",
   "id": "b76c61a09c461097"
  },
  {
   "metadata": {},
   "cell_type": "code",
   "outputs": [],
   "execution_count": null,
   "source": "",
   "id": "80b1f501560b92ed"
  }
 ],
 "metadata": {
  "kernelspec": {
   "display_name": "Python 3",
   "language": "python",
   "name": "python3"
  },
  "language_info": {
   "codemirror_mode": {
    "name": "ipython",
    "version": 2
   },
   "file_extension": ".py",
   "mimetype": "text/x-python",
   "name": "python",
   "nbconvert_exporter": "python",
   "pygments_lexer": "ipython2",
   "version": "2.7.6"
  }
 },
 "nbformat": 4,
 "nbformat_minor": 5
}
