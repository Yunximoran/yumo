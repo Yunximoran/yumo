{
 "cells": [
  {
   "metadata": {},
   "cell_type": "markdown",
   "source": [
    "# Series\n",
    "    \n",
    "* 一维数组型对象，包含一个值序列和数据标签(索引)"
   ],
   "id": "fa965850aa8c28a7"
  },
  {
   "metadata": {
    "ExecuteTime": {
     "end_time": "2024-05-11T17:24:47.809029Z",
     "start_time": "2024-05-11T17:24:47.512605Z"
    }
   },
   "cell_type": "code",
   "source": [
    "import pandas as pd\n",
    "import numpy as np"
   ],
   "id": "ab3c037753bbe327",
   "outputs": [],
   "execution_count": 1
  },
  {
   "metadata": {
    "ExecuteTime": {
     "end_time": "2024-05-11T17:24:47.816039Z",
     "start_time": "2024-05-11T17:24:47.809029Z"
    }
   },
   "cell_type": "code",
   "source": "obj = pd.Series([4, 7, -7, 5])",
   "id": "c8929a73c434a62a",
   "outputs": [],
   "execution_count": 2
  },
  {
   "metadata": {
    "ExecuteTime": {
     "end_time": "2024-05-11T17:24:48.871043Z",
     "start_time": "2024-05-11T17:24:48.860387Z"
    }
   },
   "cell_type": "code",
   "source": "obj",
   "id": "3493fa65022c644d",
   "outputs": [
    {
     "data": {
      "text/plain": [
       "0    4\n",
       "1    7\n",
       "2   -7\n",
       "3    5\n",
       "dtype: int64"
      ]
     },
     "execution_count": 3,
     "metadata": {},
     "output_type": "execute_result"
    }
   ],
   "execution_count": 3
  },
  {
   "metadata": {},
   "cell_type": "markdown",
   "source": [
    "* index: 索引, 默认创建 0 ~ len(Series), step 1\n",
    "* values:值"
   ],
   "id": "9a995a4766d1ec1b"
  },
  {
   "metadata": {
    "ExecuteTime": {
     "end_time": "2024-05-11T17:24:52.751560Z",
     "start_time": "2024-05-11T17:24:52.731395Z"
    }
   },
   "cell_type": "code",
   "source": "obj.values",
   "id": "6b10d284864aefa0",
   "outputs": [
    {
     "data": {
      "text/plain": [
       "array([ 4,  7, -7,  5], dtype=int64)"
      ]
     },
     "execution_count": 4,
     "metadata": {},
     "output_type": "execute_result"
    }
   ],
   "execution_count": 4
  },
  {
   "metadata": {
    "ExecuteTime": {
     "end_time": "2024-05-11T17:24:55.140124Z",
     "start_time": "2024-05-11T17:24:55.122400Z"
    }
   },
   "cell_type": "code",
   "source": "obj.index",
   "id": "127115868c68e858",
   "outputs": [
    {
     "data": {
      "text/plain": [
       "RangeIndex(start=0, stop=4, step=1)"
      ]
     },
     "execution_count": 5,
     "metadata": {},
     "output_type": "execute_result"
    }
   ],
   "execution_count": 5
  },
  {
   "metadata": {},
   "cell_type": "markdown",
   "source": "* 可将与值等长度的序列作为参数传入 Series的index属性中\n",
   "id": "7ed46aaae9be7fe4"
  },
  {
   "metadata": {
    "ExecuteTime": {
     "end_time": "2024-05-11T17:25:20.166581Z",
     "start_time": "2024-05-11T17:25:20.156358Z"
    }
   },
   "cell_type": "code",
   "source": "obj2 = pd.Series([4, 7, -5, 3], index=['d', 'b', 'a', 'c'])",
   "id": "5f1b65454131280",
   "outputs": [],
   "execution_count": 6
  },
  {
   "metadata": {
    "ExecuteTime": {
     "end_time": "2024-05-11T17:25:21.303198Z",
     "start_time": "2024-05-11T17:25:21.294969Z"
    }
   },
   "cell_type": "code",
   "source": "obj2",
   "id": "41eff6331ce310c3",
   "outputs": [
    {
     "data": {
      "text/plain": [
       "d    4\n",
       "b    7\n",
       "a   -5\n",
       "c    3\n",
       "dtype: int64"
      ]
     },
     "execution_count": 7,
     "metadata": {},
     "output_type": "execute_result"
    }
   ],
   "execution_count": 7
  },
  {
   "metadata": {
    "ExecuteTime": {
     "end_time": "2024-05-11T17:25:22.667280Z",
     "start_time": "2024-05-11T17:25:22.658003Z"
    }
   },
   "cell_type": "code",
   "source": "obj2.index",
   "id": "cc417dfb2d56d3d0",
   "outputs": [
    {
     "data": {
      "text/plain": [
       "Index(['d', 'b', 'a', 'c'], dtype='object')"
      ]
     },
     "execution_count": 8,
     "metadata": {},
     "output_type": "execute_result"
    }
   ],
   "execution_count": 8
  },
  {
   "metadata": {},
   "cell_type": "markdown",
   "source": "* 与NumPy相比，pandas可以使用标签作为参数的索引",
   "id": "961b4224e3d6d1ce"
  },
  {
   "metadata": {
    "ExecuteTime": {
     "end_time": "2024-05-11T17:25:27.076019Z",
     "start_time": "2024-05-11T17:25:27.062917Z"
    }
   },
   "cell_type": "code",
   "source": "obj2['a']",
   "id": "8dc6e06e46f381d8",
   "outputs": [
    {
     "data": {
      "text/plain": [
       "-5"
      ]
     },
     "execution_count": 9,
     "metadata": {},
     "output_type": "execute_result"
    }
   ],
   "execution_count": 9
  },
  {
   "metadata": {},
   "cell_type": "markdown",
   "source": "* 与numpy一样，pandas的切片获取到的也是数据的视图， 任何对数据的修改都会反应到原视图上",
   "id": "62f8f2fda24b5cdf"
  },
  {
   "metadata": {
    "ExecuteTime": {
     "end_time": "2024-05-11T17:25:29.541179Z",
     "start_time": "2024-05-11T17:25:29.538126Z"
    }
   },
   "cell_type": "code",
   "source": "obj2['d'] = 6",
   "id": "18dbf767c2ce880f",
   "outputs": [],
   "execution_count": 10
  },
  {
   "metadata": {
    "ExecuteTime": {
     "end_time": "2024-05-11T17:25:30.194703Z",
     "start_time": "2024-05-11T17:25:30.181556Z"
    }
   },
   "cell_type": "code",
   "source": "obj2",
   "id": "27272829062bc3ed",
   "outputs": [
    {
     "data": {
      "text/plain": [
       "d    6\n",
       "b    7\n",
       "a   -5\n",
       "c    3\n",
       "dtype: int64"
      ]
     },
     "execution_count": 11,
     "metadata": {},
     "output_type": "execute_result"
    }
   ],
   "execution_count": 11
  },
  {
   "metadata": {},
   "cell_type": "markdown",
   "source": "",
   "id": "50cce231229981a7"
  },
  {
   "metadata": {
    "ExecuteTime": {
     "end_time": "2024-05-11T17:25:31.594778Z",
     "start_time": "2024-05-11T17:25:31.577896Z"
    }
   },
   "cell_type": "code",
   "source": [
    "# obj2['c', 'a', 'd'] \n",
    "obj2[['c', 'a', 'd']]"
   ],
   "id": "c8dd9203ec8eabf0",
   "outputs": [
    {
     "data": {
      "text/plain": [
       "c    3\n",
       "a   -5\n",
       "d    6\n",
       "dtype: int64"
      ]
     },
     "execution_count": 12,
     "metadata": {},
     "output_type": "execute_result"
    }
   ],
   "execution_count": 12
  },
  {
   "metadata": {},
   "cell_type": "markdown",
   "source": [
    "* pandas可是使用numpy的函数或numpy风格的操作\n",
    "* 需要注意： 这些操作应该保持索引值的连接"
   ],
   "id": "1992495438db557f"
  },
  {
   "metadata": {
    "ExecuteTime": {
     "end_time": "2024-05-11T17:25:33.119132Z",
     "start_time": "2024-05-11T17:25:33.103119Z"
    }
   },
   "cell_type": "code",
   "source": "obj2[obj2 > 0]",
   "id": "f40bcf64e750659e",
   "outputs": [
    {
     "data": {
      "text/plain": [
       "d    6\n",
       "b    7\n",
       "c    3\n",
       "dtype: int64"
      ]
     },
     "execution_count": 13,
     "metadata": {},
     "output_type": "execute_result"
    }
   ],
   "execution_count": 13
  },
  {
   "metadata": {
    "ExecuteTime": {
     "end_time": "2024-05-11T17:25:33.875729Z",
     "start_time": "2024-05-11T17:25:33.859578Z"
    }
   },
   "cell_type": "code",
   "source": "obj2 * 2",
   "id": "5aa910062d7ad314",
   "outputs": [
    {
     "data": {
      "text/plain": [
       "d    12\n",
       "b    14\n",
       "a   -10\n",
       "c     6\n",
       "dtype: int64"
      ]
     },
     "execution_count": 14,
     "metadata": {},
     "output_type": "execute_result"
    }
   ],
   "execution_count": 14
  },
  {
   "metadata": {
    "ExecuteTime": {
     "end_time": "2024-05-11T17:25:34.580992Z",
     "start_time": "2024-05-11T17:25:34.565698Z"
    }
   },
   "cell_type": "code",
   "source": "np.exp(obj2)",
   "id": "9159354890ae9b62",
   "outputs": [
    {
     "data": {
      "text/plain": [
       "d     403.428793\n",
       "b    1096.633158\n",
       "a       0.006738\n",
       "c      20.085537\n",
       "dtype: float64"
      ]
     },
     "execution_count": 15,
     "metadata": {},
     "output_type": "execute_result"
    }
   ],
   "execution_count": 15
  },
  {
   "metadata": {},
   "cell_type": "markdown",
   "source": [
    "* Series可以认为是一个长度固定且有序的字典\n",
    "* 即： Series可以将索引值和数据值按位置进行配对。"
   ],
   "id": "c6fe364d42070f2d"
  },
  {
   "metadata": {
    "ExecuteTime": {
     "end_time": "2024-05-11T17:25:36.944603Z",
     "start_time": "2024-05-11T17:25:36.933665Z"
    }
   },
   "cell_type": "code",
   "source": "'b' in obj2",
   "id": "263853f5dd510825",
   "outputs": [
    {
     "data": {
      "text/plain": [
       "True"
      ]
     },
     "execution_count": 16,
     "metadata": {},
     "output_type": "execute_result"
    }
   ],
   "execution_count": 16
  },
  {
   "metadata": {
    "ExecuteTime": {
     "end_time": "2024-05-11T17:25:37.679489Z",
     "start_time": "2024-05-11T17:25:37.662271Z"
    }
   },
   "cell_type": "code",
   "source": "'e' in obj2",
   "id": "6a6e33ad674e8b9e",
   "outputs": [
    {
     "data": {
      "text/plain": [
       "False"
      ]
     },
     "execution_count": 17,
     "metadata": {},
     "output_type": "execute_result"
    }
   ],
   "execution_count": 17
  },
  {
   "metadata": {},
   "cell_type": "markdown",
   "source": "* 通过字典创建Series",
   "id": "2892b36c0a065db1"
  },
  {
   "metadata": {
    "ExecuteTime": {
     "end_time": "2024-05-11T17:25:38.816803Z",
     "start_time": "2024-05-11T17:25:38.805250Z"
    }
   },
   "cell_type": "code",
   "source": [
    "sdata = {\n",
    "    'Ohio': 35000,\n",
    "    'Texas': 71000,\n",
    "    'Oregon': 15600,\n",
    "    'Utah': 5000,\n",
    "}"
   ],
   "id": "71ed91b5a2a132ee",
   "outputs": [],
   "execution_count": 18
  },
  {
   "metadata": {
    "ExecuteTime": {
     "end_time": "2024-05-11T17:25:39.279654Z",
     "start_time": "2024-05-11T17:25:39.274473Z"
    }
   },
   "cell_type": "code",
   "source": "obj3 = pd.Series(sdata)",
   "id": "e8c305d3e68640e8",
   "outputs": [],
   "execution_count": 19
  },
  {
   "metadata": {},
   "cell_type": "markdown",
   "source": "* Series 会自动将字典拆分成 keyList， valList， 然后根据keyList创建索引",
   "id": "6d48211a8d6fd560"
  },
  {
   "metadata": {
    "ExecuteTime": {
     "end_time": "2024-05-11T17:25:43.439231Z",
     "start_time": "2024-05-11T17:25:43.425378Z"
    }
   },
   "cell_type": "code",
   "source": "obj3",
   "id": "2d1f2d2e777423bc",
   "outputs": [
    {
     "data": {
      "text/plain": [
       "Ohio      35000\n",
       "Texas     71000\n",
       "Oregon    15600\n",
       "Utah       5000\n",
       "dtype: int64"
      ]
     },
     "execution_count": 20,
     "metadata": {},
     "output_type": "execute_result"
    }
   ],
   "execution_count": 20
  },
  {
   "metadata": {},
   "cell_type": "markdown",
   "source": [
    "* 可以将字典的键，提取出来，按照自己的预期进行排序， 然后在将字典键列表传递给Series\n",
    "    \n",
    "    这样就可以Series的顺序进行调整"
   ],
   "id": "54a3f4679f9721ec"
  },
  {
   "metadata": {
    "ExecuteTime": {
     "end_time": "2024-05-11T17:27:24.945590Z",
     "start_time": "2024-05-11T17:27:24.930041Z"
    }
   },
   "cell_type": "code",
   "source": "states = ['California', 'Ohio', 'Oregon', 'Texas']",
   "id": "39f4917980033aea",
   "outputs": [],
   "execution_count": 21
  },
  {
   "metadata": {
    "ExecuteTime": {
     "end_time": "2024-05-11T17:27:25.475773Z",
     "start_time": "2024-05-11T17:27:25.469937Z"
    }
   },
   "cell_type": "code",
   "source": "obj4 = pd.Series(sdata, index=states)",
   "id": "b81ec5190fd4e0c1",
   "outputs": [],
   "execution_count": 22
  },
  {
   "metadata": {},
   "cell_type": "markdown",
   "source": [
    "* 传入的字典键列表中的元素，可以不是字典的键， 字典的键也可以不用出现列表中\n",
    "    * 如果不是字典的键，Series也会创建出对应的值，填充NaN， 表示缺失数据\n",
    "    * 如果字典的键不在列表中，则会被Series排除\n",
    "    * 这一特性只能在传递的数据为字典时可用，其他比如列表等，index长度必须一致"
   ],
   "id": "a8ab8e2056ca6a7a"
  },
  {
   "metadata": {
    "ExecuteTime": {
     "end_time": "2024-05-11T17:27:29.443221Z",
     "start_time": "2024-05-11T17:27:29.425302Z"
    }
   },
   "cell_type": "code",
   "source": "obj4",
   "id": "b62e757f2cec1293",
   "outputs": [
    {
     "data": {
      "text/plain": [
       "California        NaN\n",
       "Oregon        15600.0\n",
       "Texas         71000.0\n",
       "dtype: float64"
      ]
     },
     "execution_count": 23,
     "metadata": {},
     "output_type": "execute_result"
    }
   ],
   "execution_count": 23
  },
  {
   "metadata": {},
   "cell_type": "markdown",
   "source": [
    "* isnull & notnull 检查缺失数据\n",
    "\n",
    "    * pandas 提供了检查数据是否缺失的方法 isnull & notnull\n",
    "        * 将series或者DataFrame对象传递给isnull & notnull\n",
    "        * pandas会返回一个bool对象"
   ],
   "id": "625e61ee34d720b7"
  },
  {
   "metadata": {
    "ExecuteTime": {
     "end_time": "2024-05-11T13:11:04.534067Z",
     "start_time": "2024-05-11T13:11:04.514872Z"
    }
   },
   "cell_type": "code",
   "source": "pd.isnull(obj4)",
   "id": "c0691941f05ea63d",
   "outputs": [
    {
     "data": {
      "text/plain": [
       "California     True\n",
       "Ohio          False\n",
       "Oregon        False\n",
       "Texas         False\n",
       "dtype: bool"
      ]
     },
     "execution_count": 322,
     "metadata": {},
     "output_type": "execute_result"
    }
   ],
   "execution_count": 322
  },
  {
   "metadata": {
    "ExecuteTime": {
     "end_time": "2024-05-11T13:11:04.549157Z",
     "start_time": "2024-05-11T13:11:04.534067Z"
    }
   },
   "cell_type": "code",
   "source": "pd.notnull(obj4)",
   "id": "3cb1fddf6bded75a",
   "outputs": [
    {
     "data": {
      "text/plain": [
       "California    False\n",
       "Ohio           True\n",
       "Oregon         True\n",
       "Texas          True\n",
       "dtype: bool"
      ]
     },
     "execution_count": 323,
     "metadata": {},
     "output_type": "execute_result"
    }
   ],
   "execution_count": 323
  },
  {
   "metadata": {},
   "cell_type": "markdown",
   "source": [
    "* 自动对齐索引\n",
    "\n",
    "    * 在对两个Series对象进行操作时，pandas会自动根据Series中的键进行对齐操作\n",
    "        * 对相同键进行修改\n",
    "        * 然后将两个Series的索引合并成一个新的集合\n",
    "        * 创建新的Series对象"
   ],
   "id": "15db94ca66a0804b"
  },
  {
   "metadata": {
    "ExecuteTime": {
     "end_time": "2024-05-11T13:11:04.569741Z",
     "start_time": "2024-05-11T13:11:04.562674Z"
    }
   },
   "cell_type": "code",
   "source": "obj3",
   "id": "e330e76c5232740a",
   "outputs": [
    {
     "data": {
      "text/plain": [
       "Ohio      35000\n",
       "Texas     71000\n",
       "Oregon    15600\n",
       "Utah       5000\n",
       "dtype: int64"
      ]
     },
     "execution_count": 324,
     "metadata": {},
     "output_type": "execute_result"
    }
   ],
   "execution_count": 324
  },
  {
   "metadata": {
    "ExecuteTime": {
     "end_time": "2024-05-11T13:11:04.631393Z",
     "start_time": "2024-05-11T13:11:04.611847Z"
    }
   },
   "cell_type": "code",
   "source": "obj4",
   "id": "d75d42f7358a0ea5",
   "outputs": [
    {
     "data": {
      "text/plain": [
       "California        NaN\n",
       "Ohio          35000.0\n",
       "Oregon        15600.0\n",
       "Texas         71000.0\n",
       "dtype: float64"
      ]
     },
     "execution_count": 325,
     "metadata": {},
     "output_type": "execute_result"
    }
   ],
   "execution_count": 325
  },
  {
   "metadata": {
    "ExecuteTime": {
     "end_time": "2024-05-11T13:11:04.670410Z",
     "start_time": "2024-05-11T13:11:04.662089Z"
    }
   },
   "cell_type": "code",
   "source": "obj3 + obj4",
   "id": "7be4d0b99f36198b",
   "outputs": [
    {
     "data": {
      "text/plain": [
       "California         NaN\n",
       "Ohio           70000.0\n",
       "Oregon         31200.0\n",
       "Texas         142000.0\n",
       "Utah               NaN\n",
       "dtype: float64"
      ]
     },
     "execution_count": 326,
     "metadata": {},
     "output_type": "execute_result"
    }
   ],
   "execution_count": 326
  },
  {
   "metadata": {},
   "cell_type": "markdown",
   "source": "* Series自身及其索引各自都拥有name属性",
   "id": "e41a7f06dc9f5dd0"
  },
  {
   "metadata": {
    "ExecuteTime": {
     "end_time": "2024-05-11T13:11:04.701795Z",
     "start_time": "2024-05-11T13:11:04.697424Z"
    }
   },
   "cell_type": "code",
   "source": "obj4.name = 'population'",
   "id": "95bbe7b8a532f214",
   "outputs": [],
   "execution_count": 327
  },
  {
   "metadata": {
    "ExecuteTime": {
     "end_time": "2024-05-11T13:11:04.740143Z",
     "start_time": "2024-05-11T13:11:04.735174Z"
    }
   },
   "cell_type": "code",
   "source": "obj4.index.name = 'state'",
   "id": "80fb4cc155c367d8",
   "outputs": [],
   "execution_count": 328
  },
  {
   "metadata": {
    "ExecuteTime": {
     "end_time": "2024-05-11T13:11:04.780393Z",
     "start_time": "2024-05-11T13:11:04.774337Z"
    }
   },
   "cell_type": "code",
   "source": "obj4",
   "id": "5704d20cf3ae6750",
   "outputs": [
    {
     "data": {
      "text/plain": [
       "state\n",
       "California        NaN\n",
       "Ohio          35000.0\n",
       "Oregon        15600.0\n",
       "Texas         71000.0\n",
       "Name: population, dtype: float64"
      ]
     },
     "execution_count": 329,
     "metadata": {},
     "output_type": "execute_result"
    }
   ],
   "execution_count": 329
  },
  {
   "metadata": {},
   "cell_type": "markdown",
   "source": "* Series支持对index重新赋值， 给定一个indexList， 根据顺序对Series的重写",
   "id": "7472174e9438a70f"
  },
  {
   "metadata": {
    "ExecuteTime": {
     "end_time": "2024-05-11T13:11:04.803896Z",
     "start_time": "2024-05-11T13:11:04.790416Z"
    }
   },
   "cell_type": "code",
   "source": "obj",
   "id": "8c63188913fe56ca",
   "outputs": [
    {
     "data": {
      "text/plain": [
       "0    4\n",
       "1    7\n",
       "2   -7\n",
       "3    5\n",
       "dtype: int64"
      ]
     },
     "execution_count": 330,
     "metadata": {},
     "output_type": "execute_result"
    }
   ],
   "execution_count": 330
  },
  {
   "metadata": {
    "ExecuteTime": {
     "end_time": "2024-05-11T13:11:04.815546Z",
     "start_time": "2024-05-11T13:11:04.806407Z"
    }
   },
   "cell_type": "code",
   "source": "obj.index = ['Bob', 'Steve', 'Jeff', 'Ryan']",
   "id": "7d351ab3b7a37ec7",
   "outputs": [],
   "execution_count": 331
  },
  {
   "metadata": {
    "ExecuteTime": {
     "end_time": "2024-05-11T13:11:04.857625Z",
     "start_time": "2024-05-11T13:11:04.841133Z"
    }
   },
   "cell_type": "code",
   "source": "obj",
   "id": "a9de677fa673a855",
   "outputs": [
    {
     "data": {
      "text/plain": [
       "Bob      4\n",
       "Steve    7\n",
       "Jeff    -7\n",
       "Ryan     5\n",
       "dtype: int64"
      ]
     },
     "execution_count": 332,
     "metadata": {},
     "output_type": "execute_result"
    }
   ],
   "execution_count": 332
  },
  {
   "metadata": {},
   "cell_type": "markdown",
   "source": [
    "\n",
    "# DataFrame\n",
    "\n",
    "* DataFrame表示矩阵的数据表，包含已排序的列集合\n",
    "    * 每一列的值可以是不同的类型。\n",
    "    * DataFrame既有行索引，也有列索引 == 共享相同索引的Series的字典(存在一个字典， 字典中的每个键对应了一个Series对象， *所有Series对象的index都相同*)\n",
    "    * DataFrame数据存储在一个二维块， 而不是列表，字典或其他一维数据的集合\n",
    "\n",
    "* DataFrame属于二维数据，但是利用分层索引在DataFrame中展现更高维度的数据 —— 类似关系表的外键"
   ],
   "id": "20b669bf0d0233c2"
  },
  {
   "metadata": {},
   "cell_type": "markdown",
   "source": "* 可以将嵌套一维数据的字典作为参数传递",
   "id": "e44e6d2aee7057fc"
  },
  {
   "metadata": {
    "ExecuteTime": {
     "end_time": "2024-05-11T13:11:04.874833Z",
     "start_time": "2024-05-11T13:11:04.857625Z"
    }
   },
   "cell_type": "code",
   "source": [
    "data = {\n",
    "    'state': [\"Ohio\", \"Ohio\", \"Ohio\", \"Nevada\", \"Nevada\", \"Nevada\"],\n",
    "    'year': [2000, 2001, 2002, 2003, 2001, 2002],\n",
    "    'pop': [1.4, 2.3, 6.5, 7.4, 1., 4.3]\n",
    "}"
   ],
   "id": "717b935ff7c00705",
   "outputs": [],
   "execution_count": 333
  },
  {
   "metadata": {
    "ExecuteTime": {
     "end_time": "2024-05-11T13:11:04.890752Z",
     "start_time": "2024-05-11T13:11:04.874833Z"
    }
   },
   "cell_type": "code",
   "source": "frame = pd.DataFrame(data)",
   "id": "f92f7cef5698bcbd",
   "outputs": [],
   "execution_count": 334
  },
  {
   "metadata": {
    "ExecuteTime": {
     "end_time": "2024-05-11T13:11:04.925867Z",
     "start_time": "2024-05-11T13:11:04.908271Z"
    }
   },
   "cell_type": "code",
   "source": "frame",
   "id": "5baecec7445336af",
   "outputs": [
    {
     "data": {
      "text/plain": [
       "    state  year  pop\n",
       "0    Ohio  2000  1.4\n",
       "1    Ohio  2001  2.3\n",
       "2    Ohio  2002  6.5\n",
       "3  Nevada  2003  7.4\n",
       "4  Nevada  2001  1.0\n",
       "5  Nevada  2002  4.3"
      ],
      "text/html": [
       "<div>\n",
       "<style scoped>\n",
       "    .dataframe tbody tr th:only-of-type {\n",
       "        vertical-align: middle;\n",
       "    }\n",
       "\n",
       "    .dataframe tbody tr th {\n",
       "        vertical-align: top;\n",
       "    }\n",
       "\n",
       "    .dataframe thead th {\n",
       "        text-align: right;\n",
       "    }\n",
       "</style>\n",
       "<table border=\"1\" class=\"dataframe\">\n",
       "  <thead>\n",
       "    <tr style=\"text-align: right;\">\n",
       "      <th></th>\n",
       "      <th>state</th>\n",
       "      <th>year</th>\n",
       "      <th>pop</th>\n",
       "    </tr>\n",
       "  </thead>\n",
       "  <tbody>\n",
       "    <tr>\n",
       "      <th>0</th>\n",
       "      <td>Ohio</td>\n",
       "      <td>2000</td>\n",
       "      <td>1.4</td>\n",
       "    </tr>\n",
       "    <tr>\n",
       "      <th>1</th>\n",
       "      <td>Ohio</td>\n",
       "      <td>2001</td>\n",
       "      <td>2.3</td>\n",
       "    </tr>\n",
       "    <tr>\n",
       "      <th>2</th>\n",
       "      <td>Ohio</td>\n",
       "      <td>2002</td>\n",
       "      <td>6.5</td>\n",
       "    </tr>\n",
       "    <tr>\n",
       "      <th>3</th>\n",
       "      <td>Nevada</td>\n",
       "      <td>2003</td>\n",
       "      <td>7.4</td>\n",
       "    </tr>\n",
       "    <tr>\n",
       "      <th>4</th>\n",
       "      <td>Nevada</td>\n",
       "      <td>2001</td>\n",
       "      <td>1.0</td>\n",
       "    </tr>\n",
       "    <tr>\n",
       "      <th>5</th>\n",
       "      <td>Nevada</td>\n",
       "      <td>2002</td>\n",
       "      <td>4.3</td>\n",
       "    </tr>\n",
       "  </tbody>\n",
       "</table>\n",
       "</div>"
      ]
     },
     "execution_count": 335,
     "metadata": {},
     "output_type": "execute_result"
    }
   ],
   "execution_count": 335
  },
  {
   "metadata": {},
   "cell_type": "markdown",
   "source": [
    "* head属性， 可以获取DataFrame的前5行数据\n",
    "* tail属性， 可以获取DataFrame的后5行数据"
   ],
   "id": "b358e509ad2a1f0c"
  },
  {
   "metadata": {
    "ExecuteTime": {
     "end_time": "2024-05-11T13:11:04.946498Z",
     "start_time": "2024-05-11T13:11:04.939887Z"
    }
   },
   "cell_type": "code",
   "source": "frame.head()",
   "id": "38e12e26737730c8",
   "outputs": [
    {
     "data": {
      "text/plain": [
       "    state  year  pop\n",
       "0    Ohio  2000  1.4\n",
       "1    Ohio  2001  2.3\n",
       "2    Ohio  2002  6.5\n",
       "3  Nevada  2003  7.4\n",
       "4  Nevada  2001  1.0"
      ],
      "text/html": [
       "<div>\n",
       "<style scoped>\n",
       "    .dataframe tbody tr th:only-of-type {\n",
       "        vertical-align: middle;\n",
       "    }\n",
       "\n",
       "    .dataframe tbody tr th {\n",
       "        vertical-align: top;\n",
       "    }\n",
       "\n",
       "    .dataframe thead th {\n",
       "        text-align: right;\n",
       "    }\n",
       "</style>\n",
       "<table border=\"1\" class=\"dataframe\">\n",
       "  <thead>\n",
       "    <tr style=\"text-align: right;\">\n",
       "      <th></th>\n",
       "      <th>state</th>\n",
       "      <th>year</th>\n",
       "      <th>pop</th>\n",
       "    </tr>\n",
       "  </thead>\n",
       "  <tbody>\n",
       "    <tr>\n",
       "      <th>0</th>\n",
       "      <td>Ohio</td>\n",
       "      <td>2000</td>\n",
       "      <td>1.4</td>\n",
       "    </tr>\n",
       "    <tr>\n",
       "      <th>1</th>\n",
       "      <td>Ohio</td>\n",
       "      <td>2001</td>\n",
       "      <td>2.3</td>\n",
       "    </tr>\n",
       "    <tr>\n",
       "      <th>2</th>\n",
       "      <td>Ohio</td>\n",
       "      <td>2002</td>\n",
       "      <td>6.5</td>\n",
       "    </tr>\n",
       "    <tr>\n",
       "      <th>3</th>\n",
       "      <td>Nevada</td>\n",
       "      <td>2003</td>\n",
       "      <td>7.4</td>\n",
       "    </tr>\n",
       "    <tr>\n",
       "      <th>4</th>\n",
       "      <td>Nevada</td>\n",
       "      <td>2001</td>\n",
       "      <td>1.0</td>\n",
       "    </tr>\n",
       "  </tbody>\n",
       "</table>\n",
       "</div>"
      ]
     },
     "execution_count": 336,
     "metadata": {},
     "output_type": "execute_result"
    }
   ],
   "execution_count": 336
  },
  {
   "metadata": {
    "ExecuteTime": {
     "end_time": "2024-05-11T13:11:04.985323Z",
     "start_time": "2024-05-11T13:11:04.971667Z"
    }
   },
   "cell_type": "code",
   "source": "frame.tail()",
   "id": "927af077ad1e46a6",
   "outputs": [
    {
     "data": {
      "text/plain": [
       "    state  year  pop\n",
       "1    Ohio  2001  2.3\n",
       "2    Ohio  2002  6.5\n",
       "3  Nevada  2003  7.4\n",
       "4  Nevada  2001  1.0\n",
       "5  Nevada  2002  4.3"
      ],
      "text/html": [
       "<div>\n",
       "<style scoped>\n",
       "    .dataframe tbody tr th:only-of-type {\n",
       "        vertical-align: middle;\n",
       "    }\n",
       "\n",
       "    .dataframe tbody tr th {\n",
       "        vertical-align: top;\n",
       "    }\n",
       "\n",
       "    .dataframe thead th {\n",
       "        text-align: right;\n",
       "    }\n",
       "</style>\n",
       "<table border=\"1\" class=\"dataframe\">\n",
       "  <thead>\n",
       "    <tr style=\"text-align: right;\">\n",
       "      <th></th>\n",
       "      <th>state</th>\n",
       "      <th>year</th>\n",
       "      <th>pop</th>\n",
       "    </tr>\n",
       "  </thead>\n",
       "  <tbody>\n",
       "    <tr>\n",
       "      <th>1</th>\n",
       "      <td>Ohio</td>\n",
       "      <td>2001</td>\n",
       "      <td>2.3</td>\n",
       "    </tr>\n",
       "    <tr>\n",
       "      <th>2</th>\n",
       "      <td>Ohio</td>\n",
       "      <td>2002</td>\n",
       "      <td>6.5</td>\n",
       "    </tr>\n",
       "    <tr>\n",
       "      <th>3</th>\n",
       "      <td>Nevada</td>\n",
       "      <td>2003</td>\n",
       "      <td>7.4</td>\n",
       "    </tr>\n",
       "    <tr>\n",
       "      <th>4</th>\n",
       "      <td>Nevada</td>\n",
       "      <td>2001</td>\n",
       "      <td>1.0</td>\n",
       "    </tr>\n",
       "    <tr>\n",
       "      <th>5</th>\n",
       "      <td>Nevada</td>\n",
       "      <td>2002</td>\n",
       "      <td>4.3</td>\n",
       "    </tr>\n",
       "  </tbody>\n",
       "</table>\n",
       "</div>"
      ]
     },
     "execution_count": 337,
     "metadata": {},
     "output_type": "execute_result"
    }
   ],
   "execution_count": 337
  },
  {
   "metadata": {},
   "cell_type": "markdown",
   "source": [
    "* 类似Series，可以传递一个索引列表， 对DataFrame的索引进行排序\n",
    "    * columns， DataFrame的索引被定义为列(columns)\n",
    "\n",
    "* DataFrame 也可以传递Series的索引，效果与Series相同"
   ],
   "id": "a8c61d5ef92d0ab4"
  },
  {
   "metadata": {
    "ExecuteTime": {
     "end_time": "2024-05-11T13:11:05.024260Z",
     "start_time": "2024-05-11T13:11:05.018590Z"
    }
   },
   "cell_type": "code",
   "source": "frame2 = pd.DataFrame(data, columns=['year', 'state', 'pop', 'dept'], index=['one', 'two', 'three', 'four', 'five', 'six'])",
   "id": "f5ddf73c41ca3b95",
   "outputs": [],
   "execution_count": 338
  },
  {
   "metadata": {
    "ExecuteTime": {
     "end_time": "2024-05-11T13:11:05.098922Z",
     "start_time": "2024-05-11T13:11:05.081181Z"
    }
   },
   "cell_type": "code",
   "source": "frame2",
   "id": "76eea9a65e9af244",
   "outputs": [
    {
     "data": {
      "text/plain": [
       "       year   state  pop dept\n",
       "one    2000    Ohio  1.4  NaN\n",
       "two    2001    Ohio  2.3  NaN\n",
       "three  2002    Ohio  6.5  NaN\n",
       "four   2003  Nevada  7.4  NaN\n",
       "five   2001  Nevada  1.0  NaN\n",
       "six    2002  Nevada  4.3  NaN"
      ],
      "text/html": [
       "<div>\n",
       "<style scoped>\n",
       "    .dataframe tbody tr th:only-of-type {\n",
       "        vertical-align: middle;\n",
       "    }\n",
       "\n",
       "    .dataframe tbody tr th {\n",
       "        vertical-align: top;\n",
       "    }\n",
       "\n",
       "    .dataframe thead th {\n",
       "        text-align: right;\n",
       "    }\n",
       "</style>\n",
       "<table border=\"1\" class=\"dataframe\">\n",
       "  <thead>\n",
       "    <tr style=\"text-align: right;\">\n",
       "      <th></th>\n",
       "      <th>year</th>\n",
       "      <th>state</th>\n",
       "      <th>pop</th>\n",
       "      <th>dept</th>\n",
       "    </tr>\n",
       "  </thead>\n",
       "  <tbody>\n",
       "    <tr>\n",
       "      <th>one</th>\n",
       "      <td>2000</td>\n",
       "      <td>Ohio</td>\n",
       "      <td>1.4</td>\n",
       "      <td>NaN</td>\n",
       "    </tr>\n",
       "    <tr>\n",
       "      <th>two</th>\n",
       "      <td>2001</td>\n",
       "      <td>Ohio</td>\n",
       "      <td>2.3</td>\n",
       "      <td>NaN</td>\n",
       "    </tr>\n",
       "    <tr>\n",
       "      <th>three</th>\n",
       "      <td>2002</td>\n",
       "      <td>Ohio</td>\n",
       "      <td>6.5</td>\n",
       "      <td>NaN</td>\n",
       "    </tr>\n",
       "    <tr>\n",
       "      <th>four</th>\n",
       "      <td>2003</td>\n",
       "      <td>Nevada</td>\n",
       "      <td>7.4</td>\n",
       "      <td>NaN</td>\n",
       "    </tr>\n",
       "    <tr>\n",
       "      <th>five</th>\n",
       "      <td>2001</td>\n",
       "      <td>Nevada</td>\n",
       "      <td>1.0</td>\n",
       "      <td>NaN</td>\n",
       "    </tr>\n",
       "    <tr>\n",
       "      <th>six</th>\n",
       "      <td>2002</td>\n",
       "      <td>Nevada</td>\n",
       "      <td>4.3</td>\n",
       "      <td>NaN</td>\n",
       "    </tr>\n",
       "  </tbody>\n",
       "</table>\n",
       "</div>"
      ]
     },
     "execution_count": 339,
     "metadata": {},
     "output_type": "execute_result"
    }
   ],
   "execution_count": 339
  },
  {
   "metadata": {},
   "cell_type": "markdown",
   "source": "* 使用类似字典的索引方式，获取对应的Series对象\n",
   "id": "7886db5524b61984"
  },
  {
   "metadata": {
    "ExecuteTime": {
     "end_time": "2024-05-11T13:11:05.164922Z",
     "start_time": "2024-05-11T13:11:05.159344Z"
    }
   },
   "cell_type": "code",
   "source": "frame2['state']",
   "id": "c7c9c2bd740be494",
   "outputs": [
    {
     "data": {
      "text/plain": [
       "one        Ohio\n",
       "two        Ohio\n",
       "three      Ohio\n",
       "four     Nevada\n",
       "five     Nevada\n",
       "six      Nevada\n",
       "Name: state, dtype: object"
      ]
     },
     "execution_count": 340,
     "metadata": {},
     "output_type": "execute_result"
    }
   ],
   "execution_count": 340
  },
  {
   "metadata": {},
   "cell_type": "markdown",
   "source": "* 使用属性获取对应的Series",
   "id": "cb5541012df9a78"
  },
  {
   "metadata": {
    "ExecuteTime": {
     "end_time": "2024-05-11T13:11:05.273548Z",
     "start_time": "2024-05-11T13:11:05.258809Z"
    }
   },
   "cell_type": "code",
   "source": "frame.year",
   "id": "4bad2071f6a3ac2e",
   "outputs": [
    {
     "data": {
      "text/plain": [
       "0    2000\n",
       "1    2001\n",
       "2    2002\n",
       "3    2003\n",
       "4    2001\n",
       "5    2002\n",
       "Name: year, dtype: int64"
      ]
     },
     "execution_count": 341,
     "metadata": {},
     "output_type": "execute_result"
    }
   ],
   "execution_count": 341
  },
  {
   "metadata": {},
   "cell_type": "markdown",
   "source": [
    "***\n",
    "DataFrame[columns] 对任意的列名有效\n",
    "DataFrame.columns 只在列名有效\n",
    "<br>\n",
    "***"
   ],
   "id": "e2729a4ef4475228"
  },
  {
   "metadata": {},
   "cell_type": "markdown",
   "source": "* loc 获取行",
   "id": "945d41a6df38c065"
  },
  {
   "metadata": {
    "ExecuteTime": {
     "end_time": "2024-05-11T13:11:05.305950Z",
     "start_time": "2024-05-11T13:11:05.300857Z"
    }
   },
   "cell_type": "code",
   "source": "frame2.loc['three']",
   "id": "d7f4ee01728a4053",
   "outputs": [
    {
     "data": {
      "text/plain": [
       "year     2002\n",
       "state    Ohio\n",
       "pop       6.5\n",
       "dept      NaN\n",
       "Name: three, dtype: object"
      ]
     },
     "execution_count": 342,
     "metadata": {},
     "output_type": "execute_result"
    }
   ],
   "execution_count": 342
  },
  {
   "metadata": {},
   "cell_type": "markdown",
   "source": "* 利用pandas切片对视图进行修改，处理NaN",
   "id": "6ed9919bce795e66"
  },
  {
   "metadata": {
    "ExecuteTime": {
     "end_time": "2024-05-11T13:11:05.395180Z",
     "start_time": "2024-05-11T13:11:05.390694Z"
    }
   },
   "cell_type": "code",
   "source": "frame2.dept = 16.5",
   "id": "6a96287bdc4d554e",
   "outputs": [],
   "execution_count": 343
  },
  {
   "metadata": {
    "ExecuteTime": {
     "end_time": "2024-05-11T13:11:05.429883Z",
     "start_time": "2024-05-11T13:11:05.422348Z"
    }
   },
   "cell_type": "code",
   "source": "frame2",
   "id": "e3f25c5046ebed67",
   "outputs": [
    {
     "data": {
      "text/plain": [
       "       year   state  pop  dept\n",
       "one    2000    Ohio  1.4  16.5\n",
       "two    2001    Ohio  2.3  16.5\n",
       "three  2002    Ohio  6.5  16.5\n",
       "four   2003  Nevada  7.4  16.5\n",
       "five   2001  Nevada  1.0  16.5\n",
       "six    2002  Nevada  4.3  16.5"
      ],
      "text/html": [
       "<div>\n",
       "<style scoped>\n",
       "    .dataframe tbody tr th:only-of-type {\n",
       "        vertical-align: middle;\n",
       "    }\n",
       "\n",
       "    .dataframe tbody tr th {\n",
       "        vertical-align: top;\n",
       "    }\n",
       "\n",
       "    .dataframe thead th {\n",
       "        text-align: right;\n",
       "    }\n",
       "</style>\n",
       "<table border=\"1\" class=\"dataframe\">\n",
       "  <thead>\n",
       "    <tr style=\"text-align: right;\">\n",
       "      <th></th>\n",
       "      <th>year</th>\n",
       "      <th>state</th>\n",
       "      <th>pop</th>\n",
       "      <th>dept</th>\n",
       "    </tr>\n",
       "  </thead>\n",
       "  <tbody>\n",
       "    <tr>\n",
       "      <th>one</th>\n",
       "      <td>2000</td>\n",
       "      <td>Ohio</td>\n",
       "      <td>1.4</td>\n",
       "      <td>16.5</td>\n",
       "    </tr>\n",
       "    <tr>\n",
       "      <th>two</th>\n",
       "      <td>2001</td>\n",
       "      <td>Ohio</td>\n",
       "      <td>2.3</td>\n",
       "      <td>16.5</td>\n",
       "    </tr>\n",
       "    <tr>\n",
       "      <th>three</th>\n",
       "      <td>2002</td>\n",
       "      <td>Ohio</td>\n",
       "      <td>6.5</td>\n",
       "      <td>16.5</td>\n",
       "    </tr>\n",
       "    <tr>\n",
       "      <th>four</th>\n",
       "      <td>2003</td>\n",
       "      <td>Nevada</td>\n",
       "      <td>7.4</td>\n",
       "      <td>16.5</td>\n",
       "    </tr>\n",
       "    <tr>\n",
       "      <th>five</th>\n",
       "      <td>2001</td>\n",
       "      <td>Nevada</td>\n",
       "      <td>1.0</td>\n",
       "      <td>16.5</td>\n",
       "    </tr>\n",
       "    <tr>\n",
       "      <th>six</th>\n",
       "      <td>2002</td>\n",
       "      <td>Nevada</td>\n",
       "      <td>4.3</td>\n",
       "      <td>16.5</td>\n",
       "    </tr>\n",
       "  </tbody>\n",
       "</table>\n",
       "</div>"
      ]
     },
     "execution_count": 344,
     "metadata": {},
     "output_type": "execute_result"
    }
   ],
   "execution_count": 344
  },
  {
   "metadata": {},
   "cell_type": "markdown",
   "source": "* 可以用一个一维数据进行赋值，但是长度必须与DataFrame相同",
   "id": "aedd7539fbec1b72"
  },
  {
   "metadata": {
    "ExecuteTime": {
     "end_time": "2024-05-11T13:11:05.475217Z",
     "start_time": "2024-05-11T13:11:05.457956Z"
    }
   },
   "cell_type": "code",
   "source": "frame2.dept = range(6)",
   "id": "5ef2ecfd4e1eda09",
   "outputs": [],
   "execution_count": 345
  },
  {
   "metadata": {
    "ExecuteTime": {
     "end_time": "2024-05-11T13:11:05.497780Z",
     "start_time": "2024-05-11T13:11:05.489226Z"
    }
   },
   "cell_type": "code",
   "source": "frame2",
   "id": "f2856be91e86b0de",
   "outputs": [
    {
     "data": {
      "text/plain": [
       "       year   state  pop  dept\n",
       "one    2000    Ohio  1.4     0\n",
       "two    2001    Ohio  2.3     1\n",
       "three  2002    Ohio  6.5     2\n",
       "four   2003  Nevada  7.4     3\n",
       "five   2001  Nevada  1.0     4\n",
       "six    2002  Nevada  4.3     5"
      ],
      "text/html": [
       "<div>\n",
       "<style scoped>\n",
       "    .dataframe tbody tr th:only-of-type {\n",
       "        vertical-align: middle;\n",
       "    }\n",
       "\n",
       "    .dataframe tbody tr th {\n",
       "        vertical-align: top;\n",
       "    }\n",
       "\n",
       "    .dataframe thead th {\n",
       "        text-align: right;\n",
       "    }\n",
       "</style>\n",
       "<table border=\"1\" class=\"dataframe\">\n",
       "  <thead>\n",
       "    <tr style=\"text-align: right;\">\n",
       "      <th></th>\n",
       "      <th>year</th>\n",
       "      <th>state</th>\n",
       "      <th>pop</th>\n",
       "      <th>dept</th>\n",
       "    </tr>\n",
       "  </thead>\n",
       "  <tbody>\n",
       "    <tr>\n",
       "      <th>one</th>\n",
       "      <td>2000</td>\n",
       "      <td>Ohio</td>\n",
       "      <td>1.4</td>\n",
       "      <td>0</td>\n",
       "    </tr>\n",
       "    <tr>\n",
       "      <th>two</th>\n",
       "      <td>2001</td>\n",
       "      <td>Ohio</td>\n",
       "      <td>2.3</td>\n",
       "      <td>1</td>\n",
       "    </tr>\n",
       "    <tr>\n",
       "      <th>three</th>\n",
       "      <td>2002</td>\n",
       "      <td>Ohio</td>\n",
       "      <td>6.5</td>\n",
       "      <td>2</td>\n",
       "    </tr>\n",
       "    <tr>\n",
       "      <th>four</th>\n",
       "      <td>2003</td>\n",
       "      <td>Nevada</td>\n",
       "      <td>7.4</td>\n",
       "      <td>3</td>\n",
       "    </tr>\n",
       "    <tr>\n",
       "      <th>five</th>\n",
       "      <td>2001</td>\n",
       "      <td>Nevada</td>\n",
       "      <td>1.0</td>\n",
       "      <td>4</td>\n",
       "    </tr>\n",
       "    <tr>\n",
       "      <th>six</th>\n",
       "      <td>2002</td>\n",
       "      <td>Nevada</td>\n",
       "      <td>4.3</td>\n",
       "      <td>5</td>\n",
       "    </tr>\n",
       "  </tbody>\n",
       "</table>\n",
       "</div>"
      ]
     },
     "execution_count": 346,
     "metadata": {},
     "output_type": "execute_result"
    }
   ],
   "execution_count": 346
  },
  {
   "metadata": {},
   "cell_type": "markdown",
   "source": [
    "* 特别的， 将Series作为一列传递时，Series将会按照DataFrame的索引重新排列\n",
    "* 需要注意，这个操作会对整列进行修改，如果DataFrame的索引不在Series中，则对应的值会被修改为NaN\n",
    "* 如果Series的索引不在DataFrame中，则这一条目会被DataFame排除"
   ],
   "id": "847c1b7426842116"
  },
  {
   "metadata": {
    "ExecuteTime": {
     "end_time": "2024-05-11T13:11:05.509307Z",
     "start_time": "2024-05-11T13:11:05.505305Z"
    }
   },
   "cell_type": "code",
   "source": "val = pd.Series([-1.2, -1.4, -1.9, 3.3], index=['two', 'four', 'five', 'seven'])",
   "id": "bf93ae37a4374831",
   "outputs": [],
   "execution_count": 347
  },
  {
   "metadata": {
    "ExecuteTime": {
     "end_time": "2024-05-11T13:11:05.526381Z",
     "start_time": "2024-05-11T13:11:05.521330Z"
    }
   },
   "cell_type": "code",
   "source": "frame2['dept'] = val",
   "id": "a90a34c4c168d19a",
   "outputs": [],
   "execution_count": 348
  },
  {
   "metadata": {
    "ExecuteTime": {
     "end_time": "2024-05-11T13:11:05.577605Z",
     "start_time": "2024-05-11T13:11:05.568677Z"
    }
   },
   "cell_type": "code",
   "source": "frame2",
   "id": "ea75524f931898d6",
   "outputs": [
    {
     "data": {
      "text/plain": [
       "       year   state  pop  dept\n",
       "one    2000    Ohio  1.4   NaN\n",
       "two    2001    Ohio  2.3  -1.2\n",
       "three  2002    Ohio  6.5   NaN\n",
       "four   2003  Nevada  7.4  -1.4\n",
       "five   2001  Nevada  1.0  -1.9\n",
       "six    2002  Nevada  4.3   NaN"
      ],
      "text/html": [
       "<div>\n",
       "<style scoped>\n",
       "    .dataframe tbody tr th:only-of-type {\n",
       "        vertical-align: middle;\n",
       "    }\n",
       "\n",
       "    .dataframe tbody tr th {\n",
       "        vertical-align: top;\n",
       "    }\n",
       "\n",
       "    .dataframe thead th {\n",
       "        text-align: right;\n",
       "    }\n",
       "</style>\n",
       "<table border=\"1\" class=\"dataframe\">\n",
       "  <thead>\n",
       "    <tr style=\"text-align: right;\">\n",
       "      <th></th>\n",
       "      <th>year</th>\n",
       "      <th>state</th>\n",
       "      <th>pop</th>\n",
       "      <th>dept</th>\n",
       "    </tr>\n",
       "  </thead>\n",
       "  <tbody>\n",
       "    <tr>\n",
       "      <th>one</th>\n",
       "      <td>2000</td>\n",
       "      <td>Ohio</td>\n",
       "      <td>1.4</td>\n",
       "      <td>NaN</td>\n",
       "    </tr>\n",
       "    <tr>\n",
       "      <th>two</th>\n",
       "      <td>2001</td>\n",
       "      <td>Ohio</td>\n",
       "      <td>2.3</td>\n",
       "      <td>-1.2</td>\n",
       "    </tr>\n",
       "    <tr>\n",
       "      <th>three</th>\n",
       "      <td>2002</td>\n",
       "      <td>Ohio</td>\n",
       "      <td>6.5</td>\n",
       "      <td>NaN</td>\n",
       "    </tr>\n",
       "    <tr>\n",
       "      <th>four</th>\n",
       "      <td>2003</td>\n",
       "      <td>Nevada</td>\n",
       "      <td>7.4</td>\n",
       "      <td>-1.4</td>\n",
       "    </tr>\n",
       "    <tr>\n",
       "      <th>five</th>\n",
       "      <td>2001</td>\n",
       "      <td>Nevada</td>\n",
       "      <td>1.0</td>\n",
       "      <td>-1.9</td>\n",
       "    </tr>\n",
       "    <tr>\n",
       "      <th>six</th>\n",
       "      <td>2002</td>\n",
       "      <td>Nevada</td>\n",
       "      <td>4.3</td>\n",
       "      <td>NaN</td>\n",
       "    </tr>\n",
       "  </tbody>\n",
       "</table>\n",
       "</div>"
      ]
     },
     "execution_count": 349,
     "metadata": {},
     "output_type": "execute_result"
    }
   ],
   "execution_count": 349
  },
  {
   "metadata": {},
   "cell_type": "markdown",
   "source": [
    "* 如果DataFrame索引的列不存在，这个方法会为DataFrame创建新的列\n",
    "* 使用属性索引(DataFrame.columns)的方法无法创建\n",
    "    * 程序可以正常运行，但是不会有结果"
   ],
   "id": "405ce4f8291baa6f"
  },
  {
   "metadata": {
    "ExecuteTime": {
     "end_time": "2024-05-11T13:17:52.627233Z",
     "start_time": "2024-05-11T13:17:52.623297Z"
    }
   },
   "cell_type": "code",
   "source": "frame2['eastern'] = frame2.state == \"Ohio\"",
   "id": "d18904b6c3b05613",
   "outputs": [],
   "execution_count": 368
  },
  {
   "metadata": {
    "ExecuteTime": {
     "end_time": "2024-05-11T13:17:52.836432Z",
     "start_time": "2024-05-11T13:17:52.827260Z"
    }
   },
   "cell_type": "code",
   "source": "frame2",
   "id": "603497f9e470edc1",
   "outputs": [
    {
     "data": {
      "text/plain": [
       "       year   state  pop  dept  eastern\n",
       "one    2000    Ohio  1.4   NaN     True\n",
       "two    2001    Ohio  2.3  -1.2     True\n",
       "three  2002    Ohio  6.5   NaN     True\n",
       "four   2003  Nevada  7.4  -1.4    False\n",
       "five   2001  Nevada  1.0  -1.9    False\n",
       "six    2002  Nevada  4.3   NaN    False"
      ],
      "text/html": [
       "<div>\n",
       "<style scoped>\n",
       "    .dataframe tbody tr th:only-of-type {\n",
       "        vertical-align: middle;\n",
       "    }\n",
       "\n",
       "    .dataframe tbody tr th {\n",
       "        vertical-align: top;\n",
       "    }\n",
       "\n",
       "    .dataframe thead th {\n",
       "        text-align: right;\n",
       "    }\n",
       "</style>\n",
       "<table border=\"1\" class=\"dataframe\">\n",
       "  <thead>\n",
       "    <tr style=\"text-align: right;\">\n",
       "      <th></th>\n",
       "      <th>year</th>\n",
       "      <th>state</th>\n",
       "      <th>pop</th>\n",
       "      <th>dept</th>\n",
       "      <th>eastern</th>\n",
       "    </tr>\n",
       "  </thead>\n",
       "  <tbody>\n",
       "    <tr>\n",
       "      <th>one</th>\n",
       "      <td>2000</td>\n",
       "      <td>Ohio</td>\n",
       "      <td>1.4</td>\n",
       "      <td>NaN</td>\n",
       "      <td>True</td>\n",
       "    </tr>\n",
       "    <tr>\n",
       "      <th>two</th>\n",
       "      <td>2001</td>\n",
       "      <td>Ohio</td>\n",
       "      <td>2.3</td>\n",
       "      <td>-1.2</td>\n",
       "      <td>True</td>\n",
       "    </tr>\n",
       "    <tr>\n",
       "      <th>three</th>\n",
       "      <td>2002</td>\n",
       "      <td>Ohio</td>\n",
       "      <td>6.5</td>\n",
       "      <td>NaN</td>\n",
       "      <td>True</td>\n",
       "    </tr>\n",
       "    <tr>\n",
       "      <th>four</th>\n",
       "      <td>2003</td>\n",
       "      <td>Nevada</td>\n",
       "      <td>7.4</td>\n",
       "      <td>-1.4</td>\n",
       "      <td>False</td>\n",
       "    </tr>\n",
       "    <tr>\n",
       "      <th>five</th>\n",
       "      <td>2001</td>\n",
       "      <td>Nevada</td>\n",
       "      <td>1.0</td>\n",
       "      <td>-1.9</td>\n",
       "      <td>False</td>\n",
       "    </tr>\n",
       "    <tr>\n",
       "      <th>six</th>\n",
       "      <td>2002</td>\n",
       "      <td>Nevada</td>\n",
       "      <td>4.3</td>\n",
       "      <td>NaN</td>\n",
       "      <td>False</td>\n",
       "    </tr>\n",
       "  </tbody>\n",
       "</table>\n",
       "</div>"
      ]
     },
     "execution_count": 369,
     "metadata": {},
     "output_type": "execute_result"
    }
   ],
   "execution_count": 369
  },
  {
   "metadata": {},
   "cell_type": "markdown",
   "source": "* del 删除列 | 行",
   "id": "1473e9a47b4a370d"
  },
  {
   "metadata": {
    "ExecuteTime": {
     "end_time": "2024-05-11T13:17:55.879182Z",
     "start_time": "2024-05-11T13:17:55.866486Z"
    }
   },
   "cell_type": "code",
   "source": [
    "# 同样的删除列，也不能使用属性的方式索引要删除的列，且这样做会报错\n",
    "del frame2['eastern']"
   ],
   "id": "9e1b0c39e1708fab",
   "outputs": [],
   "execution_count": 370
  },
  {
   "metadata": {
    "ExecuteTime": {
     "end_time": "2024-05-11T13:17:56.783586Z",
     "start_time": "2024-05-11T13:17:56.763900Z"
    }
   },
   "cell_type": "code",
   "source": "frame2",
   "id": "c65ca1df1960375a",
   "outputs": [
    {
     "data": {
      "text/plain": [
       "       year   state  pop  dept\n",
       "one    2000    Ohio  1.4   NaN\n",
       "two    2001    Ohio  2.3  -1.2\n",
       "three  2002    Ohio  6.5   NaN\n",
       "four   2003  Nevada  7.4  -1.4\n",
       "five   2001  Nevada  1.0  -1.9\n",
       "six    2002  Nevada  4.3   NaN"
      ],
      "text/html": [
       "<div>\n",
       "<style scoped>\n",
       "    .dataframe tbody tr th:only-of-type {\n",
       "        vertical-align: middle;\n",
       "    }\n",
       "\n",
       "    .dataframe tbody tr th {\n",
       "        vertical-align: top;\n",
       "    }\n",
       "\n",
       "    .dataframe thead th {\n",
       "        text-align: right;\n",
       "    }\n",
       "</style>\n",
       "<table border=\"1\" class=\"dataframe\">\n",
       "  <thead>\n",
       "    <tr style=\"text-align: right;\">\n",
       "      <th></th>\n",
       "      <th>year</th>\n",
       "      <th>state</th>\n",
       "      <th>pop</th>\n",
       "      <th>dept</th>\n",
       "    </tr>\n",
       "  </thead>\n",
       "  <tbody>\n",
       "    <tr>\n",
       "      <th>one</th>\n",
       "      <td>2000</td>\n",
       "      <td>Ohio</td>\n",
       "      <td>1.4</td>\n",
       "      <td>NaN</td>\n",
       "    </tr>\n",
       "    <tr>\n",
       "      <th>two</th>\n",
       "      <td>2001</td>\n",
       "      <td>Ohio</td>\n",
       "      <td>2.3</td>\n",
       "      <td>-1.2</td>\n",
       "    </tr>\n",
       "    <tr>\n",
       "      <th>three</th>\n",
       "      <td>2002</td>\n",
       "      <td>Ohio</td>\n",
       "      <td>6.5</td>\n",
       "      <td>NaN</td>\n",
       "    </tr>\n",
       "    <tr>\n",
       "      <th>four</th>\n",
       "      <td>2003</td>\n",
       "      <td>Nevada</td>\n",
       "      <td>7.4</td>\n",
       "      <td>-1.4</td>\n",
       "    </tr>\n",
       "    <tr>\n",
       "      <th>five</th>\n",
       "      <td>2001</td>\n",
       "      <td>Nevada</td>\n",
       "      <td>1.0</td>\n",
       "      <td>-1.9</td>\n",
       "    </tr>\n",
       "    <tr>\n",
       "      <th>six</th>\n",
       "      <td>2002</td>\n",
       "      <td>Nevada</td>\n",
       "      <td>4.3</td>\n",
       "      <td>NaN</td>\n",
       "    </tr>\n",
       "  </tbody>\n",
       "</table>\n",
       "</div>"
      ]
     },
     "execution_count": 371,
     "metadata": {},
     "output_type": "execute_result"
    }
   ],
   "execution_count": 371
  },
  {
   "metadata": {},
   "cell_type": "markdown",
   "source": [
    "* 使用嵌套字典创建DataFrame\n",
    "* DataFrame会根据根据所有子字典的键的集合创建Series，并在各自对应的列下找到对应的索引进行填充\n",
    "* 其余的值填充NaN"
   ],
   "id": "a4ccefa908e115a9"
  },
  {
   "metadata": {
    "ExecuteTime": {
     "end_time": "2024-05-11T13:31:05.680414Z",
     "start_time": "2024-05-11T13:31:05.662823Z"
    }
   },
   "cell_type": "code",
   "source": [
    "pop = {\n",
    "    \"Nevada\": {\n",
    "        '2001': 2.4,\n",
    "        '2002': 2.0\n",
    "    },\n",
    "    \"Ohio\": {\n",
    "        \"2000\": 1.5,\n",
    "        \"2001\": 1.7,\n",
    "        \"2002\": 3.5\n",
    "    }\n",
    "}"
   ],
   "id": "cc824e6030a34126",
   "outputs": [],
   "execution_count": 398
  },
  {
   "metadata": {
    "ExecuteTime": {
     "end_time": "2024-05-11T13:31:07.497512Z",
     "start_time": "2024-05-11T13:31:07.480644Z"
    }
   },
   "cell_type": "code",
   "source": "frame3 = pd.DataFrame(pop)",
   "id": "13abaae753a56f1a",
   "outputs": [],
   "execution_count": 399
  },
  {
   "metadata": {
    "ExecuteTime": {
     "end_time": "2024-05-11T13:31:08.705983Z",
     "start_time": "2024-05-11T13:31:08.686760Z"
    }
   },
   "cell_type": "code",
   "source": "frame3",
   "id": "a284bbee5ad6dce7",
   "outputs": [
    {
     "data": {
      "text/plain": [
       "      Nevada  Ohio\n",
       "2001     2.4   1.7\n",
       "2002     2.0   3.5\n",
       "2000     NaN   1.5"
      ],
      "text/html": [
       "<div>\n",
       "<style scoped>\n",
       "    .dataframe tbody tr th:only-of-type {\n",
       "        vertical-align: middle;\n",
       "    }\n",
       "\n",
       "    .dataframe tbody tr th {\n",
       "        vertical-align: top;\n",
       "    }\n",
       "\n",
       "    .dataframe thead th {\n",
       "        text-align: right;\n",
       "    }\n",
       "</style>\n",
       "<table border=\"1\" class=\"dataframe\">\n",
       "  <thead>\n",
       "    <tr style=\"text-align: right;\">\n",
       "      <th></th>\n",
       "      <th>Nevada</th>\n",
       "      <th>Ohio</th>\n",
       "    </tr>\n",
       "  </thead>\n",
       "  <tbody>\n",
       "    <tr>\n",
       "      <th>2001</th>\n",
       "      <td>2.4</td>\n",
       "      <td>1.7</td>\n",
       "    </tr>\n",
       "    <tr>\n",
       "      <th>2002</th>\n",
       "      <td>2.0</td>\n",
       "      <td>3.5</td>\n",
       "    </tr>\n",
       "    <tr>\n",
       "      <th>2000</th>\n",
       "      <td>NaN</td>\n",
       "      <td>1.5</td>\n",
       "    </tr>\n",
       "  </tbody>\n",
       "</table>\n",
       "</div>"
      ]
     },
     "execution_count": 400,
     "metadata": {},
     "output_type": "execute_result"
    }
   ],
   "execution_count": 400
  },
  {
   "metadata": {},
   "cell_type": "markdown",
   "source": [
    "* 使用类似numpy的方法 对DataFrame进行转置\n",
    "* 转置操作不会修改视图"
   ],
   "id": "f6ea1e3a3c931998"
  },
  {
   "metadata": {
    "ExecuteTime": {
     "end_time": "2024-05-11T13:31:16.642997Z",
     "start_time": "2024-05-11T13:31:16.621649Z"
    }
   },
   "cell_type": "code",
   "source": "frame3.T",
   "id": "ea1e605196770897",
   "outputs": [
    {
     "data": {
      "text/plain": [
       "        2001  2002  2000\n",
       "Nevada   2.4   2.0   NaN\n",
       "Ohio     1.7   3.5   1.5"
      ],
      "text/html": [
       "<div>\n",
       "<style scoped>\n",
       "    .dataframe tbody tr th:only-of-type {\n",
       "        vertical-align: middle;\n",
       "    }\n",
       "\n",
       "    .dataframe tbody tr th {\n",
       "        vertical-align: top;\n",
       "    }\n",
       "\n",
       "    .dataframe thead th {\n",
       "        text-align: right;\n",
       "    }\n",
       "</style>\n",
       "<table border=\"1\" class=\"dataframe\">\n",
       "  <thead>\n",
       "    <tr style=\"text-align: right;\">\n",
       "      <th></th>\n",
       "      <th>2001</th>\n",
       "      <th>2002</th>\n",
       "      <th>2000</th>\n",
       "    </tr>\n",
       "  </thead>\n",
       "  <tbody>\n",
       "    <tr>\n",
       "      <th>Nevada</th>\n",
       "      <td>2.4</td>\n",
       "      <td>2.0</td>\n",
       "      <td>NaN</td>\n",
       "    </tr>\n",
       "    <tr>\n",
       "      <th>Ohio</th>\n",
       "      <td>1.7</td>\n",
       "      <td>3.5</td>\n",
       "      <td>1.5</td>\n",
       "    </tr>\n",
       "  </tbody>\n",
       "</table>\n",
       "</div>"
      ]
     },
     "execution_count": 401,
     "metadata": {},
     "output_type": "execute_result"
    }
   ],
   "execution_count": 401
  },
  {
   "metadata": {
    "ExecuteTime": {
     "end_time": "2024-05-11T13:31:17.139698Z",
     "start_time": "2024-05-11T13:31:17.128142Z"
    }
   },
   "cell_type": "code",
   "source": "frame3",
   "id": "991026b5b44b85eb",
   "outputs": [
    {
     "data": {
      "text/plain": [
       "      Nevada  Ohio\n",
       "2001     2.4   1.7\n",
       "2002     2.0   3.5\n",
       "2000     NaN   1.5"
      ],
      "text/html": [
       "<div>\n",
       "<style scoped>\n",
       "    .dataframe tbody tr th:only-of-type {\n",
       "        vertical-align: middle;\n",
       "    }\n",
       "\n",
       "    .dataframe tbody tr th {\n",
       "        vertical-align: top;\n",
       "    }\n",
       "\n",
       "    .dataframe thead th {\n",
       "        text-align: right;\n",
       "    }\n",
       "</style>\n",
       "<table border=\"1\" class=\"dataframe\">\n",
       "  <thead>\n",
       "    <tr style=\"text-align: right;\">\n",
       "      <th></th>\n",
       "      <th>Nevada</th>\n",
       "      <th>Ohio</th>\n",
       "    </tr>\n",
       "  </thead>\n",
       "  <tbody>\n",
       "    <tr>\n",
       "      <th>2001</th>\n",
       "      <td>2.4</td>\n",
       "      <td>1.7</td>\n",
       "    </tr>\n",
       "    <tr>\n",
       "      <th>2002</th>\n",
       "      <td>2.0</td>\n",
       "      <td>3.5</td>\n",
       "    </tr>\n",
       "    <tr>\n",
       "      <th>2000</th>\n",
       "      <td>NaN</td>\n",
       "      <td>1.5</td>\n",
       "    </tr>\n",
       "  </tbody>\n",
       "</table>\n",
       "</div>"
      ]
     },
     "execution_count": 402,
     "metadata": {},
     "output_type": "execute_result"
    }
   ],
   "execution_count": 402
  },
  {
   "metadata": {},
   "cell_type": "markdown",
   "source": [
    "* 显式指明索引，定义索引的顺序， 索引不会自动排序\n",
    "* 特别的如果index的类型是数据的话，DataFrame会自动进行递增排序"
   ],
   "id": "363764e9bb88642a"
  },
  {
   "metadata": {
    "ExecuteTime": {
     "end_time": "2024-05-11T13:34:25.179530Z",
     "start_time": "2024-05-11T13:34:25.162896Z"
    }
   },
   "cell_type": "code",
   "source": "pd.DataFrame(pop, index=['2001', '2002', '2003'])",
   "id": "3d7d8e849fe2de0e",
   "outputs": [
    {
     "data": {
      "text/plain": [
       "      Nevada  Ohio\n",
       "2001     2.4   1.7\n",
       "2002     2.0   3.5\n",
       "2003     NaN   NaN"
      ],
      "text/html": [
       "<div>\n",
       "<style scoped>\n",
       "    .dataframe tbody tr th:only-of-type {\n",
       "        vertical-align: middle;\n",
       "    }\n",
       "\n",
       "    .dataframe tbody tr th {\n",
       "        vertical-align: top;\n",
       "    }\n",
       "\n",
       "    .dataframe thead th {\n",
       "        text-align: right;\n",
       "    }\n",
       "</style>\n",
       "<table border=\"1\" class=\"dataframe\">\n",
       "  <thead>\n",
       "    <tr style=\"text-align: right;\">\n",
       "      <th></th>\n",
       "      <th>Nevada</th>\n",
       "      <th>Ohio</th>\n",
       "    </tr>\n",
       "  </thead>\n",
       "  <tbody>\n",
       "    <tr>\n",
       "      <th>2001</th>\n",
       "      <td>2.4</td>\n",
       "      <td>1.7</td>\n",
       "    </tr>\n",
       "    <tr>\n",
       "      <th>2002</th>\n",
       "      <td>2.0</td>\n",
       "      <td>3.5</td>\n",
       "    </tr>\n",
       "    <tr>\n",
       "      <th>2003</th>\n",
       "      <td>NaN</td>\n",
       "      <td>NaN</td>\n",
       "    </tr>\n",
       "  </tbody>\n",
       "</table>\n",
       "</div>"
      ]
     },
     "execution_count": 405,
     "metadata": {},
     "output_type": "execute_result"
    }
   ],
   "execution_count": 405
  },
  {
   "metadata": {},
   "cell_type": "markdown",
   "source": [
    "* 使用name属性对DataFrame的行和列进行命名\n",
    "* DataFrame.index.name\n",
    "* DataFrame.columns.name"
   ],
   "id": "59ec528079451371"
  },
  {
   "metadata": {
    "ExecuteTime": {
     "end_time": "2024-05-11T13:35:09.111492Z",
     "start_time": "2024-05-11T13:35:09.099993Z"
    }
   },
   "cell_type": "code",
   "source": "frame3.index.name = 'year'",
   "id": "16dd946ce01d9431",
   "outputs": [],
   "execution_count": 407
  },
  {
   "metadata": {
    "ExecuteTime": {
     "end_time": "2024-05-11T13:35:25.396463Z",
     "start_time": "2024-05-11T13:35:25.391055Z"
    }
   },
   "cell_type": "code",
   "source": "frame3.columns.name = 'state'",
   "id": "cdc05e05e53e4f49",
   "outputs": [],
   "execution_count": 408
  },
  {
   "metadata": {
    "ExecuteTime": {
     "end_time": "2024-05-11T13:35:27.686207Z",
     "start_time": "2024-05-11T13:35:27.669580Z"
    }
   },
   "cell_type": "code",
   "source": "frame3",
   "id": "9edc9536c142d618",
   "outputs": [
    {
     "data": {
      "text/plain": [
       "state  Nevada  Ohio\n",
       "year               \n",
       "2001      2.4   1.7\n",
       "2002      2.0   3.5\n",
       "2000      NaN   1.5"
      ],
      "text/html": [
       "<div>\n",
       "<style scoped>\n",
       "    .dataframe tbody tr th:only-of-type {\n",
       "        vertical-align: middle;\n",
       "    }\n",
       "\n",
       "    .dataframe tbody tr th {\n",
       "        vertical-align: top;\n",
       "    }\n",
       "\n",
       "    .dataframe thead th {\n",
       "        text-align: right;\n",
       "    }\n",
       "</style>\n",
       "<table border=\"1\" class=\"dataframe\">\n",
       "  <thead>\n",
       "    <tr style=\"text-align: right;\">\n",
       "      <th>state</th>\n",
       "      <th>Nevada</th>\n",
       "      <th>Ohio</th>\n",
       "    </tr>\n",
       "    <tr>\n",
       "      <th>year</th>\n",
       "      <th></th>\n",
       "      <th></th>\n",
       "    </tr>\n",
       "  </thead>\n",
       "  <tbody>\n",
       "    <tr>\n",
       "      <th>2001</th>\n",
       "      <td>2.4</td>\n",
       "      <td>1.7</td>\n",
       "    </tr>\n",
       "    <tr>\n",
       "      <th>2002</th>\n",
       "      <td>2.0</td>\n",
       "      <td>3.5</td>\n",
       "    </tr>\n",
       "    <tr>\n",
       "      <th>2000</th>\n",
       "      <td>NaN</td>\n",
       "      <td>1.5</td>\n",
       "    </tr>\n",
       "  </tbody>\n",
       "</table>\n",
       "</div>"
      ]
     },
     "execution_count": 409,
     "metadata": {},
     "output_type": "execute_result"
    }
   ],
   "execution_count": 409
  },
  {
   "metadata": {},
   "cell_type": "markdown",
   "source": "* DataFrame的values会将包含在DataFrame中的数据以二维ndarray的形式返回",
   "id": "53d667a6f073a65"
  },
  {
   "metadata": {
    "ExecuteTime": {
     "end_time": "2024-05-11T13:38:33.626813Z",
     "start_time": "2024-05-11T13:38:33.613333Z"
    }
   },
   "cell_type": "code",
   "source": "vals = frame3.values",
   "id": "ed39ccedfe3075f3",
   "outputs": [],
   "execution_count": 411
  },
  {
   "metadata": {
    "ExecuteTime": {
     "end_time": "2024-05-11T13:38:34.964666Z",
     "start_time": "2024-05-11T13:38:34.958281Z"
    }
   },
   "cell_type": "code",
   "source": "vals",
   "id": "d1f77497fcb54a2c",
   "outputs": [
    {
     "data": {
      "text/plain": [
       "array([[2.4, 1.7],\n",
       "       [2. , 3.5],\n",
       "       [nan, 1.5]])"
      ]
     },
     "execution_count": 412,
     "metadata": {},
     "output_type": "execute_result"
    }
   ],
   "execution_count": 412
  },
  {
   "metadata": {
    "ExecuteTime": {
     "end_time": "2024-05-11T13:38:40.921735Z",
     "start_time": "2024-05-11T13:38:40.914886Z"
    }
   },
   "cell_type": "code",
   "source": "type(vals)",
   "id": "89372d6a878fe420",
   "outputs": [
    {
     "data": {
      "text/plain": [
       "numpy.ndarray"
      ]
     },
     "execution_count": 413,
     "metadata": {},
     "output_type": "execute_result"
    }
   ],
   "execution_count": 413
  },
  {
   "metadata": {},
   "cell_type": "markdown",
   "source": "# 索引对象",
   "id": "a2ec6d356e7b0643"
  },
  {
   "metadata": {},
   "cell_type": "code",
   "outputs": [],
   "execution_count": null,
   "source": "",
   "id": "f651748fd0ac091b"
  }
 ],
 "metadata": {
  "kernelspec": {
   "display_name": "Python 3",
   "language": "python",
   "name": "python3"
  },
  "language_info": {
   "codemirror_mode": {
    "name": "ipython",
    "version": 2
   },
   "file_extension": ".py",
   "mimetype": "text/x-python",
   "name": "python",
   "nbconvert_exporter": "python",
   "pygments_lexer": "ipython2",
   "version": "2.7.6"
  }
 },
 "nbformat": 4,
 "nbformat_minor": 5
}
