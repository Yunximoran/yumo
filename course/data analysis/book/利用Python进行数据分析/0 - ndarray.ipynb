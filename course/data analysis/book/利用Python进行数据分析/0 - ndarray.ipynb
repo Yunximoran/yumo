{
 "cells": [
  {
   "metadata": {},
   "cell_type": "code",
   "execution_count": 3,
   "source": "import numpy as np",
   "id": "c0dbe7ab3c0b7b2b",
   "outputs": []
  },
  {
   "metadata": {},
   "cell_type": "markdown",
   "source": "### 生成ndarray",
   "id": "9ccd36fb64f90866"
  },
  {
   "metadata": {},
   "cell_type": "markdown",
   "source": "1. array接受任意 [序列型对象], <br>生成一个新的包含传递数据NumP",
   "id": "e58bd4fffdcfaca3"
  },
  {
   "metadata": {
    "ExecuteTime": {
     "end_time": "2024-05-10T11:07:38.498042Z",
     "start_time": "2024-05-10T11:07:38.490064Z"
    }
   },
   "cell_type": "code",
   "source": "data_1 = [6, 7.9, 8, 0, 1]",
   "id": "635cbc4c56ec84a7",
   "outputs": [],
   "execution_count": 4
  },
  {
   "metadata": {
    "ExecuteTime": {
     "end_time": "2024-05-10T11:07:38.804244Z",
     "start_time": "2024-05-10T11:07:38.787418Z"
    }
   },
   "cell_type": "code",
   "source": "arr1 = np.array(data_1)",
   "id": "cdeba333bbf83bca",
   "outputs": [],
   "execution_count": 5
  },
  {
   "metadata": {
    "ExecuteTime": {
     "end_time": "2024-05-10T11:07:44.998448Z",
     "start_time": "2024-05-10T11:07:44.982304Z"
    }
   },
   "cell_type": "code",
   "source": "arr1",
   "id": "b97e01e13e319878",
   "outputs": [
    {
     "data": {
      "text/plain": [
       "array([6. , 7.9, 8. , 0. , 1. ])"
      ]
     },
     "execution_count": 6,
     "metadata": {},
     "output_type": "execute_result"
    }
   ],
   "execution_count": 6
  },
  {
   "metadata": {},
   "cell_type": "markdown",
   "source": [
    "2. 嵌套序列，等长度的列表，将会转换 <b>多维数组</b>\n",
    "    \n",
    "<br>ndim 返回 数组行数 <br>\n",
    "    shape 返回 数组尺寸"
   ],
   "id": "1a052b6cef67cf95"
  },
  {
   "metadata": {
    "ExecuteTime": {
     "end_time": "2024-05-10T11:19:11.314137Z",
     "start_time": "2024-05-10T11:19:11.296616Z"
    }
   },
   "cell_type": "code",
   "source": "data_2 = [[1, 2, 3, 4], [5, 6, 7, 8]]",
   "id": "fe1a8f93d6e50009",
   "outputs": [],
   "execution_count": 12
  },
  {
   "metadata": {
    "ExecuteTime": {
     "end_time": "2024-05-10T11:19:11.855665Z",
     "start_time": "2024-05-10T11:19:11.838943Z"
    }
   },
   "cell_type": "code",
   "source": "arr2 = np.array(data_2)",
   "id": "513e40f33d1f5df6",
   "outputs": [],
   "execution_count": 13
  },
  {
   "metadata": {
    "ExecuteTime": {
     "end_time": "2024-05-10T11:19:13.920663Z",
     "start_time": "2024-05-10T11:19:13.908333Z"
    }
   },
   "cell_type": "code",
   "source": "arr2.ndim",
   "id": "8bcf30aa900fca6f",
   "outputs": [
    {
     "data": {
      "text/plain": [
       "2"
      ]
     },
     "execution_count": 14,
     "metadata": {},
     "output_type": "execute_result"
    }
   ],
   "execution_count": 14
  },
  {
   "metadata": {
    "ExecuteTime": {
     "end_time": "2024-05-10T11:19:16.302938Z",
     "start_time": "2024-05-10T11:19:16.289272Z"
    }
   },
   "cell_type": "code",
   "source": "arr2.shape",
   "id": "7d606ad7a4386b67",
   "outputs": [
    {
     "data": {
      "text/plain": [
       "(2, 4)"
      ]
     },
     "execution_count": 15,
     "metadata": {},
     "output_type": "execute_result"
    }
   ],
   "execution_count": 15
  },
  {
   "metadata": {},
   "cell_type": "markdown",
   "source": "3. 除非显示指定否则np.array会自动推断生成数组的数据类型, 数据类型被存储在一个特殊的元数据[dtype]中",
   "id": "29943b5422269b3c"
  },
  {
   "metadata": {
    "ExecuteTime": {
     "end_time": "2024-05-10T11:23:56.734270Z",
     "start_time": "2024-05-10T11:23:56.715524Z"
    }
   },
   "cell_type": "code",
   "source": "arr1.dtype",
   "id": "61148a7ad6ffce3b",
   "outputs": [
    {
     "data": {
      "text/plain": [
       "dtype('float64')"
      ]
     },
     "execution_count": 18,
     "metadata": {},
     "output_type": "execute_result"
    }
   ],
   "execution_count": 18
  },
  {
   "metadata": {
    "ExecuteTime": {
     "end_time": "2024-05-10T11:23:56.970913Z",
     "start_time": "2024-05-10T11:23:56.956774Z"
    }
   },
   "cell_type": "code",
   "source": "arr2.dtype",
   "id": "67914380fb97e362",
   "outputs": [
    {
     "data": {
      "text/plain": [
       "dtype('int32')"
      ]
     },
     "execution_count": 19,
     "metadata": {},
     "output_type": "execute_result"
    }
   ],
   "execution_count": 19
  },
  {
   "metadata": {},
   "cell_type": "markdown",
   "source": [
    "\n",
    "* zeros: 创建全0数组\n",
    "* ones: 创建全1数组\n",
    "* empty: 创建一个没有初始化数值的数组\n",
    "* full: 创建全指定参数的的数组\n",
    "***\n",
    "\n",
    "以上方法都有对应的like扩展方法\n",
    "*_like: 根据所给数组的形状，生成一个相同形状的全[0、1、null、*]数组"
   ],
   "id": "c71eb2000a9f053b"
  },
  {
   "metadata": {
    "ExecuteTime": {
     "end_time": "2024-05-10T11:33:26.828237Z",
     "start_time": "2024-05-10T11:33:26.814563Z"
    }
   },
   "cell_type": "code",
   "source": "np.zeros(10)",
   "id": "188957f17c0cc8f9",
   "outputs": [
    {
     "data": {
      "text/plain": [
       "array([0., 0., 0., 0., 0., 0., 0., 0., 0., 0.])"
      ]
     },
     "execution_count": 29,
     "metadata": {},
     "output_type": "execute_result"
    }
   ],
   "execution_count": 29
  },
  {
   "metadata": {
    "ExecuteTime": {
     "end_time": "2024-05-10T11:33:27.195339Z",
     "start_time": "2024-05-10T11:33:27.178586Z"
    }
   },
   "cell_type": "code",
   "source": "np.zeros((3, 6))",
   "id": "42c591bfb2905434",
   "outputs": [
    {
     "data": {
      "text/plain": [
       "array([[0., 0., 0., 0., 0., 0.],\n",
       "       [0., 0., 0., 0., 0., 0.],\n",
       "       [0., 0., 0., 0., 0., 0.]])"
      ]
     },
     "execution_count": 30,
     "metadata": {},
     "output_type": "execute_result"
    }
   ],
   "execution_count": 30
  },
  {
   "metadata": {
    "ExecuteTime": {
     "end_time": "2024-05-10T11:33:27.631714Z",
     "start_time": "2024-05-10T11:33:27.614273Z"
    }
   },
   "cell_type": "code",
   "source": "np.empty((2, 3, 2))",
   "id": "228e3adcdf6b6e99",
   "outputs": [
    {
     "data": {
      "text/plain": [
       "array([[[9.39429932e-312, 2.47032823e-322],\n",
       "        [0.00000000e+000, 0.00000000e+000],\n",
       "        [2.12199579e-314, 1.58817677e-052]],\n",
       "\n",
       "       [[4.71751627e-090, 3.26696538e-032],\n",
       "        [6.55039081e-043, 1.01335033e-070],\n",
       "        [3.99910963e+252, 3.18299515e-313]]])"
      ]
     },
     "execution_count": 31,
     "metadata": {},
     "output_type": "execute_result"
    }
   ],
   "execution_count": 31
  },
  {
   "metadata": {},
   "cell_type": "markdown",
   "source": "4. arange 是 Python内建函数range的数组版",
   "id": "5ac45934a421e15a"
  },
  {
   "metadata": {
    "ExecuteTime": {
     "end_time": "2024-05-10T11:33:29.743565Z",
     "start_time": "2024-05-10T11:33:29.721744Z"
    }
   },
   "cell_type": "code",
   "source": "np.arange(15)",
   "id": "30fce7d760dfc801",
   "outputs": [
    {
     "data": {
      "text/plain": [
       "array([ 0,  1,  2,  3,  4,  5,  6,  7,  8,  9, 10, 11, 12, 13, 14])"
      ]
     },
     "execution_count": 32,
     "metadata": {},
     "output_type": "execute_result"
    }
   ],
   "execution_count": 32
  },
  {
   "metadata": {},
   "cell_type": "markdown",
   "source": "### ndarray的数据类型",
   "id": "1321230741784584"
  },
  {
   "metadata": {
    "ExecuteTime": {
     "end_time": "2024-05-10T11:34:33.425049Z",
     "start_time": "2024-05-10T11:34:33.406106Z"
    }
   },
   "cell_type": "code",
   "source": "arr1 = np.array([1, 2, 3], dtype=np.float64)",
   "id": "c8a4979f124721bb",
   "outputs": [],
   "execution_count": 33
  },
  {
   "metadata": {
    "ExecuteTime": {
     "end_time": "2024-05-10T11:34:52.153478Z",
     "start_time": "2024-05-10T11:34:52.147309Z"
    }
   },
   "cell_type": "code",
   "source": "arr2 = np.array([1, 2, 3], dtype=np.int32)",
   "id": "38793dabb7f5369e",
   "outputs": [],
   "execution_count": 34
  },
  {
   "metadata": {
    "ExecuteTime": {
     "end_time": "2024-05-10T11:35:08.356931Z",
     "start_time": "2024-05-10T11:35:08.337947Z"
    }
   },
   "cell_type": "code",
   "source": "arr1.dtype",
   "id": "fbca633f18a6e234",
   "outputs": [
    {
     "data": {
      "text/plain": [
       "dtype('float64')"
      ]
     },
     "execution_count": 37,
     "metadata": {},
     "output_type": "execute_result"
    }
   ],
   "execution_count": 37
  },
  {
   "metadata": {
    "ExecuteTime": {
     "end_time": "2024-05-10T11:35:12.665520Z",
     "start_time": "2024-05-10T11:35:12.658547Z"
    }
   },
   "cell_type": "code",
   "source": "arr2.dtype",
   "id": "b97088a3dbf36237",
   "outputs": [
    {
     "data": {
      "text/plain": [
       "dtype('int32')"
      ]
     },
     "execution_count": 38,
     "metadata": {},
     "output_type": "execute_result"
    }
   ],
   "execution_count": 38
  },
  {
   "metadata": {},
   "cell_type": "markdown",
   "source": [
    "dtype是NumPy能够与其他系统数据灵活交互的原因。通常，其他系统提供一个硬盘或<br>\n",
    "内存与数据的对应关系，是的利用C或Fortran等底层语言读写数据变得十分方便。数<br>\n",
    "数据的dtype通常是按照一个方式命名的"
   ],
   "id": "c42d11ac559e7970"
  },
  {
   "metadata": {},
   "cell_type": "markdown",
   "source": [
    "使用astype转换数组数据类型\n",
    "\n",
    "* astype方法不是直接修改原数组的数据类型，而是返回一个新的 array对象"
   ],
   "id": "7bbddb49b7bdc325"
  },
  {
   "metadata": {
    "ExecuteTime": {
     "end_time": "2024-05-10T11:43:18.269206Z",
     "start_time": "2024-05-10T11:43:18.258810Z"
    }
   },
   "cell_type": "code",
   "source": "arr = np.array([1, 2, 3, 4, 5])",
   "id": "8a77d61c4aa4ea4b",
   "outputs": [],
   "execution_count": 45
  },
  {
   "metadata": {
    "ExecuteTime": {
     "end_time": "2024-05-10T11:43:18.494970Z",
     "start_time": "2024-05-10T11:43:18.480003Z"
    }
   },
   "cell_type": "code",
   "source": "arr.dtype",
   "id": "9edb0e8a7831e466",
   "outputs": [
    {
     "data": {
      "text/plain": [
       "dtype('int32')"
      ]
     },
     "execution_count": 46,
     "metadata": {},
     "output_type": "execute_result"
    }
   ],
   "execution_count": 46
  },
  {
   "metadata": {
    "ExecuteTime": {
     "end_time": "2024-05-10T11:43:18.783529Z",
     "start_time": "2024-05-10T11:43:18.768857Z"
    }
   },
   "cell_type": "code",
   "source": "float_arr = arr.astype(np.float64)",
   "id": "4dcee30648c8c64c",
   "outputs": [],
   "execution_count": 47
  },
  {
   "metadata": {
    "ExecuteTime": {
     "end_time": "2024-05-10T11:43:19.423462Z",
     "start_time": "2024-05-10T11:43:19.401510Z"
    }
   },
   "cell_type": "code",
   "source": "float_arr.dtype",
   "id": "b73bb281d76eed7b",
   "outputs": [
    {
     "data": {
      "text/plain": [
       "dtype('float64')"
      ]
     },
     "execution_count": 48,
     "metadata": {},
     "output_type": "execute_result"
    }
   ],
   "execution_count": 48
  },
  {
   "metadata": {
    "ExecuteTime": {
     "end_time": "2024-05-10T11:44:48.289029Z",
     "start_time": "2024-05-10T11:44:48.283391Z"
    }
   },
   "cell_type": "code",
   "source": "arr = np.array([3.1, 4.32, 5.33])",
   "id": "43b80a0d832f9d6d",
   "outputs": [],
   "execution_count": 51
  },
  {
   "metadata": {
    "ExecuteTime": {
     "end_time": "2024-05-10T11:45:20.724996Z",
     "start_time": "2024-05-10T11:45:20.706804Z"
    }
   },
   "cell_type": "code",
   "source": "float_arr = arr.astype(np.int32)",
   "id": "49e9730a6abfd736",
   "outputs": [],
   "execution_count": 53
  },
  {
   "metadata": {
    "ExecuteTime": {
     "end_time": "2024-05-10T11:45:24.078491Z",
     "start_time": "2024-05-10T11:45:24.066263Z"
    }
   },
   "cell_type": "code",
   "source": "float_arr",
   "id": "ec3b06bc5f53b2a1",
   "outputs": [
    {
     "data": {
      "text/plain": [
       "array([3, 4, 5])"
      ]
     },
     "execution_count": 54,
     "metadata": {},
     "output_type": "execute_result"
    }
   ],
   "execution_count": 54
  },
  {
   "metadata": {
    "ExecuteTime": {
     "end_time": "2024-05-10T11:45:44.185603Z",
     "start_time": "2024-05-10T11:45:44.179444Z"
    }
   },
   "cell_type": "code",
   "source": "int_arr = float_arr.astype(np.float64)",
   "id": "9509b8e9ef8d8aea",
   "outputs": [],
   "execution_count": 55
  },
  {
   "metadata": {
    "ExecuteTime": {
     "end_time": "2024-05-10T11:45:47.580788Z",
     "start_time": "2024-05-10T11:45:47.563529Z"
    }
   },
   "cell_type": "code",
   "source": "int_arr",
   "id": "86ebf7393530c9da",
   "outputs": [
    {
     "data": {
      "text/plain": [
       "array([3., 4., 5.])"
      ]
     },
     "execution_count": 56,
     "metadata": {},
     "output_type": "execute_result"
    }
   ],
   "execution_count": 56
  },
  {
   "metadata": {},
   "cell_type": "markdown",
   "source": " 浮点类型转成整数类型， 在转成浮点类型后会造成浮点后的数据丢书",
   "id": "8c9db19971924a4b"
  },
  {
   "metadata": {
    "ExecuteTime": {
     "end_time": "2024-05-10T11:56:44.924001Z",
     "start_time": "2024-05-10T11:56:44.907780Z"
    }
   },
   "cell_type": "code",
   "source": "numeric_string = np.array(['1.24', '2.4', '2.33'], dtype=np.string_)",
   "id": "b6b489562d5d1e15",
   "outputs": [],
   "execution_count": 58
  },
  {
   "metadata": {
    "ExecuteTime": {
     "end_time": "2024-05-10T11:58:41.742311Z",
     "start_time": "2024-05-10T11:58:41.723904Z"
    }
   },
   "cell_type": "code",
   "source": "numeric_string.astype(float)",
   "id": "4dde53e2b6e08156",
   "outputs": [
    {
     "data": {
      "text/plain": [
       "array([1.24, 2.4 , 2.33])"
      ]
     },
     "execution_count": 62,
     "metadata": {},
     "output_type": "execute_result"
    }
   ],
   "execution_count": 62
  },
  {
   "metadata": {},
   "cell_type": "markdown",
   "source": [
    "* numpy使用字符串数据是，会修正其大小或删除输入且不发出警告\n",
    "* 因为某些原因可能导致转换失败(比如 string_ 无法转换成 np.float64), <br>\n",
    "  这里使用float代替np.float64。 因为NumPy可以使用相同别名来表征与Python精度相同的Python数据类型"
   ],
   "id": "d2b62fa9e839a225"
  },
  {
   "metadata": {},
   "cell_type": "markdown",
   "source": "可以使用其他array数组的dtype属性 进行类型转换",
   "id": "2d86b25112514e1c"
  },
  {
   "metadata": {
    "ExecuteTime": {
     "end_time": "2024-05-10T12:04:15.254787Z",
     "start_time": "2024-05-10T12:04:15.242752Z"
    }
   },
   "cell_type": "code",
   "source": "int_array = np.arange(10)",
   "id": "fa40b8e311c7df55",
   "outputs": [],
   "execution_count": 66
  },
  {
   "metadata": {
    "ExecuteTime": {
     "end_time": "2024-05-10T12:04:16.139029Z",
     "start_time": "2024-05-10T12:04:16.123703Z"
    }
   },
   "cell_type": "code",
   "source": "calibers = np.array([.22, .12, 1.44, 1.233, 6.4, .59], dtype=np.float64)",
   "id": "77d861205d7b7119",
   "outputs": [],
   "execution_count": 67
  },
  {
   "metadata": {
    "ExecuteTime": {
     "end_time": "2024-05-10T12:04:17.150476Z",
     "start_time": "2024-05-10T12:04:17.130727Z"
    }
   },
   "cell_type": "code",
   "source": "int_array.astype(calibers.dtype)",
   "id": "c056ed438ce9d756",
   "outputs": [
    {
     "data": {
      "text/plain": [
       "array([0., 1., 2., 3., 4., 5., 6., 7., 8., 9.])"
      ]
     },
     "execution_count": 68,
     "metadata": {},
     "output_type": "execute_result"
    }
   ],
   "execution_count": 68
  },
  {
   "metadata": {},
   "cell_type": "markdown",
   "source": "使用类型代码 'u4'",
   "id": "604e72c0a9cf403b"
  },
  {
   "metadata": {
    "ExecuteTime": {
     "end_time": "2024-05-10T12:05:20.775175Z",
     "start_time": "2024-05-10T12:05:20.755317Z"
    }
   },
   "cell_type": "code",
   "source": "empty_uint32 = np.empty(8, dtype='u4')",
   "id": "a3881198ae7ac4fa",
   "outputs": [],
   "execution_count": 69
  },
  {
   "metadata": {
    "ExecuteTime": {
     "end_time": "2024-05-10T12:05:23.588632Z",
     "start_time": "2024-05-10T12:05:23.572450Z"
    }
   },
   "cell_type": "code",
   "source": "empty_uint32",
   "id": "e0a609f611ac1669",
   "outputs": [
    {
     "data": {
      "text/plain": [
       "array([1, 2, 3, 4, 5, 6, 7, 8], dtype=uint32)"
      ]
     },
     "execution_count": 70,
     "metadata": {},
     "output_type": "execute_result"
    }
   ],
   "execution_count": 70
  },
  {
   "metadata": {},
   "cell_type": "markdown",
   "source": "### NumPy 算术",
   "id": "1ee8fd0260d02b5a"
  },
  {
   "metadata": {
    "ExecuteTime": {
     "end_time": "2024-05-10T12:06:15.258197Z",
     "start_time": "2024-05-10T12:06:15.239144Z"
    }
   },
   "cell_type": "code",
   "source": "arr = np.array([[1, 2, 3, 4], [5, 6, 7, 8]])",
   "id": "68a4698aabcc6aaa",
   "outputs": [],
   "execution_count": 71
  },
  {
   "metadata": {
    "ExecuteTime": {
     "end_time": "2024-05-10T12:06:45.378692Z",
     "start_time": "2024-05-10T12:06:45.360532Z"
    }
   },
   "cell_type": "code",
   "source": "arr * arr",
   "id": "9a10f26832e62da",
   "outputs": [
    {
     "data": {
      "text/plain": [
       "array([[ 1,  4,  9, 16],\n",
       "       [25, 36, 49, 64]])"
      ]
     },
     "execution_count": 73,
     "metadata": {},
     "output_type": "execute_result"
    }
   ],
   "execution_count": 73
  },
  {
   "metadata": {
    "ExecuteTime": {
     "end_time": "2024-05-10T12:07:00.520774Z",
     "start_time": "2024-05-10T12:07:00.510221Z"
    }
   },
   "cell_type": "code",
   "source": "arr - arr",
   "id": "ee3d69422af4561",
   "outputs": [
    {
     "data": {
      "text/plain": [
       "array([[0, 0, 0, 0],\n",
       "       [0, 0, 0, 0]])"
      ]
     },
     "execution_count": 74,
     "metadata": {},
     "output_type": "execute_result"
    }
   ],
   "execution_count": 74
  },
  {
   "metadata": {
    "ExecuteTime": {
     "end_time": "2024-05-10T12:07:07.342208Z",
     "start_time": "2024-05-10T12:07:07.319641Z"
    }
   },
   "cell_type": "code",
   "source": "1 / arr",
   "id": "6cd8d084f3c2aa7a",
   "outputs": [
    {
     "data": {
      "text/plain": [
       "array([[1.        , 0.5       , 0.33333333, 0.25      ],\n",
       "       [0.2       , 0.16666667, 0.14285714, 0.125     ]])"
      ]
     },
     "execution_count": 75,
     "metadata": {},
     "output_type": "execute_result"
    }
   ],
   "execution_count": 75
  },
  {
   "metadata": {
    "ExecuteTime": {
     "end_time": "2024-05-10T12:07:16.067699Z",
     "start_time": "2024-05-10T12:07:16.054435Z"
    }
   },
   "cell_type": "code",
   "source": "arr ** 0.5",
   "id": "91f7672110ea7e73",
   "outputs": [
    {
     "data": {
      "text/plain": [
       "array([[1.        , 1.41421356, 1.73205081, 2.        ],\n",
       "       [2.23606798, 2.44948974, 2.64575131, 2.82842712]])"
      ]
     },
     "execution_count": 76,
     "metadata": {},
     "output_type": "execute_result"
    }
   ],
   "execution_count": 76
  },
  {
   "metadata": {},
   "cell_type": "markdown",
   "source": "* 同数组之间的比较会产生bool数组",
   "id": "e7a11394ad237744"
  },
  {
   "metadata": {
    "ExecuteTime": {
     "end_time": "2024-05-10T12:09:32.294838Z",
     "start_time": "2024-05-10T12:09:32.286120Z"
    }
   },
   "cell_type": "code",
   "source": "arr2 = np.array([[0., 4., 1.], [7., 2., 12.]])",
   "id": "f51765fece10f8e7",
   "outputs": [],
   "execution_count": 82
  },
  {
   "metadata": {
    "ExecuteTime": {
     "end_time": "2024-05-10T12:09:32.680681Z",
     "start_time": "2024-05-10T12:09:32.670630Z"
    }
   },
   "cell_type": "code",
   "source": "arr2",
   "id": "52c83ea69a013dba",
   "outputs": [
    {
     "data": {
      "text/plain": [
       "array([[ 0.,  4.,  1.],\n",
       "       [ 7.,  2., 12.]])"
      ]
     },
     "execution_count": 83,
     "metadata": {},
     "output_type": "execute_result"
    }
   ],
   "execution_count": 83
  },
  {
   "metadata": {
    "ExecuteTime": {
     "end_time": "2024-05-10T12:09:33.034071Z",
     "start_time": "2024-05-10T12:09:33.017356Z"
    }
   },
   "cell_type": "code",
   "source": "arr2 > arr1",
   "id": "480423be9dd1b383",
   "outputs": [
    {
     "data": {
      "text/plain": [
       "array([[False,  True, False],\n",
       "       [ True, False,  True]])"
      ]
     },
     "execution_count": 84,
     "metadata": {},
     "output_type": "execute_result"
    }
   ],
   "execution_count": 84
  },
  {
   "metadata": {},
   "cell_type": "markdown",
   "source": "不同尺寸的数据之间的操作将会用到广播特性",
   "id": "d7e5afef6683d946"
  },
  {
   "metadata": {},
   "cell_type": "markdown",
   "source": "### 基础索引与切片",
   "id": "e4f77316792ccff5"
  },
  {
   "metadata": {
    "ExecuteTime": {
     "end_time": "2024-05-10T12:11:02.450790Z",
     "start_time": "2024-05-10T12:11:02.443645Z"
    }
   },
   "cell_type": "code",
   "source": "arr = np.arange(10)",
   "id": "6152cab2d5633b0c",
   "outputs": [],
   "execution_count": 85
  },
  {
   "metadata": {
    "ExecuteTime": {
     "end_time": "2024-05-10T12:11:04.659210Z",
     "start_time": "2024-05-10T12:11:04.639695Z"
    }
   },
   "cell_type": "code",
   "source": "arr",
   "id": "8d8439b32795f42",
   "outputs": [
    {
     "data": {
      "text/plain": [
       "array([0, 1, 2, 3, 4, 5, 6, 7, 8, 9])"
      ]
     },
     "execution_count": 86,
     "metadata": {},
     "output_type": "execute_result"
    }
   ],
   "execution_count": 86
  },
  {
   "metadata": {
    "ExecuteTime": {
     "end_time": "2024-05-10T12:11:14.436026Z",
     "start_time": "2024-05-10T12:11:14.427096Z"
    }
   },
   "cell_type": "code",
   "source": "arr[5]",
   "id": "b92fb5e573b45538",
   "outputs": [
    {
     "data": {
      "text/plain": [
       "5"
      ]
     },
     "execution_count": 87,
     "metadata": {},
     "output_type": "execute_result"
    }
   ],
   "execution_count": 87
  },
  {
   "metadata": {
    "ExecuteTime": {
     "end_time": "2024-05-10T12:11:31.504538Z",
     "start_time": "2024-05-10T12:11:31.495729Z"
    }
   },
   "cell_type": "code",
   "source": "arr[5:8]",
   "id": "49cdaff86c2bf437",
   "outputs": [
    {
     "data": {
      "text/plain": [
       "array([5, 6, 7])"
      ]
     },
     "execution_count": 88,
     "metadata": {},
     "output_type": "execute_result"
    }
   ],
   "execution_count": 88
  },
  {
   "metadata": {
    "ExecuteTime": {
     "end_time": "2024-05-10T12:11:43.541077Z",
     "start_time": "2024-05-10T12:11:43.534820Z"
    }
   },
   "cell_type": "code",
   "source": "arr[5:8] = 12",
   "id": "6ced18c08a1640d8",
   "outputs": [],
   "execution_count": 89
  },
  {
   "metadata": {
    "ExecuteTime": {
     "end_time": "2024-05-10T12:11:46.621776Z",
     "start_time": "2024-05-10T12:11:46.603712Z"
    }
   },
   "cell_type": "code",
   "source": "arr",
   "id": "c0baddaf80f86cd6",
   "outputs": [
    {
     "data": {
      "text/plain": [
       "array([ 0,  1,  2,  3,  4, 12, 12, 12,  8,  9])"
      ]
     },
     "execution_count": 90,
     "metadata": {},
     "output_type": "execute_result"
    }
   ],
   "execution_count": 90
  },
  {
   "metadata": {},
   "cell_type": "markdown",
   "source": [
    " 如果将一个值传递给数组的切片，会将这个值赋值给整个切片。\n",
    " * 区别与python的内建列表: 数组的切片是原数组的视图。这意味着数据并不是被复制了\n",
    "  * 任何对于视图的修改都会反映到原数组上"
   ],
   "id": "c65cfd478f9a84b3"
  },
  {
   "metadata": {
    "ExecuteTime": {
     "end_time": "2024-05-10T12:15:47.183701Z",
     "start_time": "2024-05-10T12:15:47.178019Z"
    }
   },
   "cell_type": "code",
   "source": "l = range(10)",
   "id": "8d3789ac0be9c40d",
   "outputs": [],
   "execution_count": 91
  },
  {
   "metadata": {
    "ExecuteTime": {
     "end_time": "2024-05-10T12:15:48.912229Z",
     "start_time": "2024-05-10T12:15:48.890802Z"
    }
   },
   "cell_type": "code",
   "source": "l",
   "id": "133ee2bea2199bb",
   "outputs": [
    {
     "data": {
      "text/plain": [
       "range(0, 10)"
      ]
     },
     "execution_count": 92,
     "metadata": {},
     "output_type": "execute_result"
    }
   ],
   "execution_count": 92
  },
  {
   "metadata": {
    "ExecuteTime": {
     "end_time": "2024-05-10T12:15:53.112392Z",
     "start_time": "2024-05-10T12:15:53.098290Z"
    }
   },
   "cell_type": "code",
   "source": "l[5:8]",
   "id": "1a8244796f3ec6b7",
   "outputs": [
    {
     "data": {
      "text/plain": [
       "range(5, 8)"
      ]
     },
     "execution_count": 93,
     "metadata": {},
     "output_type": "execute_result"
    }
   ],
   "execution_count": 93
  },
  {
   "metadata": {},
   "cell_type": "markdown",
   "source": "python的内建列表并不支持对切片进行赋值这样的操作",
   "id": "5763fa934755d50e"
  },
  {
   "metadata": {
    "ExecuteTime": {
     "end_time": "2024-05-10T12:16:34.720827Z",
     "start_time": "2024-05-10T12:16:34.688915Z"
    }
   },
   "cell_type": "code",
   "source": "l[5:8] = 12",
   "id": "92cb30968c997993",
   "outputs": [
    {
     "ename": "TypeError",
     "evalue": "'range' object does not support item assignment",
     "output_type": "error",
     "traceback": [
      "\u001B[1;31m---------------------------------------------------------------------------\u001B[0m",
      "\u001B[1;31mTypeError\u001B[0m                                 Traceback (most recent call last)",
      "Cell \u001B[1;32mIn[95], line 1\u001B[0m\n\u001B[1;32m----> 1\u001B[0m \u001B[43ml\u001B[49m\u001B[43m[\u001B[49m\u001B[38;5;241;43m5\u001B[39;49m\u001B[43m:\u001B[49m\u001B[38;5;241;43m8\u001B[39;49m\u001B[43m]\u001B[49m \u001B[38;5;241m=\u001B[39m \u001B[38;5;241m12\u001B[39m\n",
      "\u001B[1;31mTypeError\u001B[0m: 'range' object does not support item assignment"
     ]
    }
   ],
   "execution_count": 95
  },
  {
   "metadata": {},
   "cell_type": "markdown",
   "source": "* 可以使用copy()",
   "id": "a1fb9df0ce65a0bb"
  },
  {
   "metadata": {
    "ExecuteTime": {
     "end_time": "2024-05-10T12:18:39.560638Z",
     "start_time": "2024-05-10T12:18:39.542168Z"
    }
   },
   "cell_type": "code",
   "source": "sa = arr[5:8].copy()",
   "id": "8d4614b063387645",
   "outputs": [],
   "execution_count": 97
  },
  {
   "metadata": {},
   "cell_type": "markdown",
   "source": [
    "多维度的数组可以更多的选择<br>\n",
    "\n",
    "二维数组中， 每个索引值的是一个一维数组"
   ],
   "id": "2a5d223818a175d0"
  },
  {
   "metadata": {
    "ExecuteTime": {
     "end_time": "2024-05-10T12:20:52.984954Z",
     "start_time": "2024-05-10T12:20:52.976288Z"
    }
   },
   "cell_type": "code",
   "source": "arr2d = np.array([[1, 2, 3, 4], [5, 6, 7, 8]])",
   "id": "e07e0887a7586c9d",
   "outputs": [],
   "execution_count": 98
  },
  {
   "metadata": {
    "ExecuteTime": {
     "end_time": "2024-05-10T12:21:00.937388Z",
     "start_time": "2024-05-10T12:21:00.914921Z"
    }
   },
   "cell_type": "code",
   "source": "arr2d[1]",
   "id": "91d0f7074b25b060",
   "outputs": [
    {
     "data": {
      "text/plain": [
       "array([5, 6, 7, 8])"
      ]
     },
     "execution_count": 99,
     "metadata": {},
     "output_type": "execute_result"
    }
   ],
   "execution_count": 99
  },
  {
   "metadata": {},
   "cell_type": "markdown",
   "source": "* 如果要定位到单个元素，可以使用类似嵌套列表的索引方式 array[n][m], 特别的 array[n, m] 与之等价",
   "id": "86db1d073ccc08cd"
  },
  {
   "metadata": {
    "ExecuteTime": {
     "end_time": "2024-05-10T12:23:15.592842Z",
     "start_time": "2024-05-10T12:23:15.579431Z"
    }
   },
   "cell_type": "code",
   "source": "arr2d[0][2]",
   "id": "a4ec3cb29e739cf5",
   "outputs": [
    {
     "data": {
      "text/plain": [
       "3"
      ]
     },
     "execution_count": 102,
     "metadata": {},
     "output_type": "execute_result"
    }
   ],
   "execution_count": 102
  },
  {
   "metadata": {
    "ExecuteTime": {
     "end_time": "2024-05-10T12:23:16.202534Z",
     "start_time": "2024-05-10T12:23:16.190649Z"
    }
   },
   "cell_type": "code",
   "source": "arr2d[0, 2]",
   "id": "525ad3eb90e01ff7",
   "outputs": [
    {
     "data": {
      "text/plain": [
       "3"
      ]
     },
     "execution_count": 103,
     "metadata": {},
     "output_type": "execute_result"
    }
   ],
   "execution_count": 103
  },
  {
   "metadata": {},
   "cell_type": "markdown",
   "source": "* 可以展示二维数组上的索引， 0轴看做行， 1轴看做列",
   "id": "f7d64a728bc1d311"
  },
  {
   "metadata": {
    "ExecuteTime": {
     "end_time": "2024-05-10T12:24:58.066433Z",
     "start_time": "2024-05-10T12:24:58.048999Z"
    }
   },
   "cell_type": "code",
   "source": "arr3d = np.array([[[1, 2, 3], [4, 5, 6]], [[7, 8, 9], [10, 11, 12]]])",
   "id": "18fd375d76e812c9",
   "outputs": [],
   "execution_count": 104
  },
  {
   "metadata": {
    "ExecuteTime": {
     "end_time": "2024-05-10T12:25:02.817361Z",
     "start_time": "2024-05-10T12:25:02.794714Z"
    }
   },
   "cell_type": "code",
   "source": "arr3d",
   "id": "5e9b358e0b438d96",
   "outputs": [
    {
     "data": {
      "text/plain": [
       "array([[[ 1,  2,  3],\n",
       "        [ 4,  5,  6]],\n",
       "\n",
       "       [[ 7,  8,  9],\n",
       "        [10, 11, 12]]])"
      ]
     },
     "execution_count": 105,
     "metadata": {},
     "output_type": "execute_result"
    }
   ],
   "execution_count": 105
  },
  {
   "metadata": {
    "ExecuteTime": {
     "end_time": "2024-05-10T12:25:12.734843Z",
     "start_time": "2024-05-10T12:25:12.712914Z"
    }
   },
   "cell_type": "code",
   "source": "arr3d.shape",
   "id": "40bfc72b22d0c9e0",
   "outputs": [
    {
     "data": {
      "text/plain": [
       "(2, 2, 3)"
      ]
     },
     "execution_count": 106,
     "metadata": {},
     "output_type": "execute_result"
    }
   ],
   "execution_count": 106
  },
  {
   "metadata": {
    "ExecuteTime": {
     "end_time": "2024-05-10T12:25:27.847510Z",
     "start_time": "2024-05-10T12:25:27.833420Z"
    }
   },
   "cell_type": "code",
   "source": "arr3d[0]",
   "id": "8708fe0b1b13683f",
   "outputs": [
    {
     "data": {
      "text/plain": [
       "array([[1, 2, 3],\n",
       "       [4, 5, 6]])"
      ]
     },
     "execution_count": 107,
     "metadata": {},
     "output_type": "execute_result"
    }
   ],
   "execution_count": 107
  },
  {
   "metadata": {
    "ExecuteTime": {
     "end_time": "2024-05-10T12:25:35.854255Z",
     "start_time": "2024-05-10T12:25:35.845070Z"
    }
   },
   "cell_type": "code",
   "source": "arr3d[0].shape",
   "id": "f49aea702de1550d",
   "outputs": [
    {
     "data": {
      "text/plain": [
       "(2, 3)"
      ]
     },
     "execution_count": 108,
     "metadata": {},
     "output_type": "execute_result"
    }
   ],
   "execution_count": 108
  },
  {
   "metadata": {},
   "cell_type": "markdown",
   "source": "* 标量和数组都可以传递给arr3d[0]",
   "id": "9c783eeb40d9d45e"
  },
  {
   "metadata": {
    "ExecuteTime": {
     "end_time": "2024-05-10T12:27:39.549381Z",
     "start_time": "2024-05-10T12:27:39.540963Z"
    }
   },
   "cell_type": "code",
   "source": "old_values = arr3d[0].copy()",
   "id": "6aaeb604e7df4a28",
   "outputs": [],
   "execution_count": 114
  },
  {
   "metadata": {
    "ExecuteTime": {
     "end_time": "2024-05-10T12:27:39.721852Z",
     "start_time": "2024-05-10T12:27:39.715925Z"
    }
   },
   "cell_type": "code",
   "source": "arr3d[0] = 42",
   "id": "4bee8c9053003523",
   "outputs": [],
   "execution_count": 115
  },
  {
   "metadata": {
    "ExecuteTime": {
     "end_time": "2024-05-10T12:27:39.969053Z",
     "start_time": "2024-05-10T12:27:39.945147Z"
    }
   },
   "cell_type": "code",
   "source": "arr3d",
   "id": "61e7ff20416e049c",
   "outputs": [
    {
     "data": {
      "text/plain": [
       "array([[[42, 42, 42],\n",
       "        [42, 42, 42]],\n",
       "\n",
       "       [[ 7,  8,  9],\n",
       "        [10, 11, 12]]])"
      ]
     },
     "execution_count": 116,
     "metadata": {},
     "output_type": "execute_result"
    }
   ],
   "execution_count": 116
  },
  {
   "metadata": {
    "ExecuteTime": {
     "end_time": "2024-05-10T12:27:40.485195Z",
     "start_time": "2024-05-10T12:27:40.469036Z"
    }
   },
   "cell_type": "code",
   "source": "arr3d[0] = old_values",
   "id": "4b10eacb2c31342e",
   "outputs": [],
   "execution_count": 117
  },
  {
   "metadata": {
    "ExecuteTime": {
     "end_time": "2024-05-10T12:27:40.890017Z",
     "start_time": "2024-05-10T12:27:40.884238Z"
    }
   },
   "cell_type": "code",
   "source": "arr3d",
   "id": "135cd3d1fb79e39c",
   "outputs": [
    {
     "data": {
      "text/plain": [
       "array([[[ 1,  2,  3],\n",
       "        [ 4,  5,  6]],\n",
       "\n",
       "       [[ 7,  8,  9],\n",
       "        [10, 11, 12]]])"
      ]
     },
     "execution_count": 118,
     "metadata": {},
     "output_type": "execute_result"
    }
   ],
   "execution_count": 118
  },
  {
   "metadata": {
    "ExecuteTime": {
     "end_time": "2024-05-10T12:28:00.127326Z",
     "start_time": "2024-05-10T12:28:00.106424Z"
    }
   },
   "cell_type": "code",
   "source": "arr3d[1, 0]",
   "id": "e6b91b6ddb21ce23",
   "outputs": [
    {
     "data": {
      "text/plain": [
       "array([7, 8, 9])"
      ]
     },
     "execution_count": 119,
     "metadata": {},
     "output_type": "execute_result"
    }
   ],
   "execution_count": 119
  },
  {
   "metadata": {
    "ExecuteTime": {
     "end_time": "2024-05-10T12:28:14.537027Z",
     "start_time": "2024-05-10T12:28:14.524264Z"
    }
   },
   "cell_type": "code",
   "source": "x = arr3d[1]",
   "id": "13282a7fff1f34bf",
   "outputs": [],
   "execution_count": 120
  },
  {
   "metadata": {
    "ExecuteTime": {
     "end_time": "2024-05-10T12:28:17.356615Z",
     "start_time": "2024-05-10T12:28:17.337462Z"
    }
   },
   "cell_type": "code",
   "source": "x",
   "id": "2dd6ac1328f62ce4",
   "outputs": [
    {
     "data": {
      "text/plain": [
       "array([[ 7,  8,  9],\n",
       "       [10, 11, 12]])"
      ]
     },
     "execution_count": 121,
     "metadata": {},
     "output_type": "execute_result"
    }
   ],
   "execution_count": 121
  },
  {
   "metadata": {
    "ExecuteTime": {
     "end_time": "2024-05-10T12:28:20.602024Z",
     "start_time": "2024-05-10T12:28:20.592451Z"
    }
   },
   "cell_type": "code",
   "source": "x[0]",
   "id": "e6fc76d0d9ce3a1d",
   "outputs": [
    {
     "data": {
      "text/plain": [
       "array([7, 8, 9])"
      ]
     },
     "execution_count": 122,
     "metadata": {},
     "output_type": "execute_result"
    }
   ],
   "execution_count": 122
  },
  {
   "metadata": {
    "ExecuteTime": {
     "end_time": "2024-05-10T12:28:34.008806Z",
     "start_time": "2024-05-10T12:28:33.989234Z"
    }
   },
   "cell_type": "code",
   "source": "arr",
   "id": "fc97c1374f34e14a",
   "outputs": [
    {
     "data": {
      "text/plain": [
       "array([ 0,  1,  2,  3,  4, 12, 12, 12,  8,  9])"
      ]
     },
     "execution_count": 123,
     "metadata": {},
     "output_type": "execute_result"
    }
   ],
   "execution_count": 123
  },
  {
   "metadata": {
    "ExecuteTime": {
     "end_time": "2024-05-10T12:28:42.924751Z",
     "start_time": "2024-05-10T12:28:42.910638Z"
    }
   },
   "cell_type": "code",
   "source": "arr[1:6]",
   "id": "41640aa080f35167",
   "outputs": [
    {
     "data": {
      "text/plain": [
       "array([ 1,  2,  3,  4, 12])"
      ]
     },
     "execution_count": 124,
     "metadata": {},
     "output_type": "execute_result"
    }
   ],
   "execution_count": 124
  },
  {
   "metadata": {
    "ExecuteTime": {
     "end_time": "2024-05-10T12:28:49.070559Z",
     "start_time": "2024-05-10T12:28:49.060623Z"
    }
   },
   "cell_type": "code",
   "source": "arr2d",
   "id": "995e1e88faa62b86",
   "outputs": [
    {
     "data": {
      "text/plain": [
       "array([[1, 2, 3, 4],\n",
       "       [5, 6, 7, 8]])"
      ]
     },
     "execution_count": 125,
     "metadata": {},
     "output_type": "execute_result"
    }
   ],
   "execution_count": 125
  },
  {
   "metadata": {
    "ExecuteTime": {
     "end_time": "2024-05-10T12:28:56.571268Z",
     "start_time": "2024-05-10T12:28:56.560845Z"
    }
   },
   "cell_type": "code",
   "source": "arr2d[:2]",
   "id": "30c9c0a1e4ec7ae3",
   "outputs": [
    {
     "data": {
      "text/plain": [
       "array([[1, 2, 3, 4],\n",
       "       [5, 6, 7, 8]])"
      ]
     },
     "execution_count": 126,
     "metadata": {},
     "output_type": "execute_result"
    }
   ],
   "execution_count": 126
  },
  {
   "metadata": {
    "ExecuteTime": {
     "end_time": "2024-05-10T12:29:41.871149Z",
     "start_time": "2024-05-10T12:29:41.849464Z"
    }
   },
   "cell_type": "code",
   "source": "arr2d[:2, 1:]",
   "id": "1d9b3872fa8c09ac",
   "outputs": [
    {
     "data": {
      "text/plain": [
       "array([[2, 3, 4],\n",
       "       [6, 7, 8]])"
      ]
     },
     "execution_count": 127,
     "metadata": {},
     "output_type": "execute_result"
    }
   ],
   "execution_count": 127
  },
  {
   "metadata": {},
   "cell_type": "code",
   "outputs": [],
   "execution_count": null,
   "source": "",
   "id": "7e706d5530c43659"
  }
 ],
 "metadata": {
  "kernelspec": {
   "display_name": "Python 3",
   "language": "python",
   "name": "python3"
  },
  "language_info": {
   "codemirror_mode": {
    "name": "ipython",
    "version": 2
   },
   "file_extension": ".py",
   "mimetype": "text/x-python",
   "name": "python",
   "nbconvert_exporter": "python",
   "pygments_lexer": "ipython2",
   "version": "2.7.6"
  }
 },
 "nbformat": 4,
 "nbformat_minor": 5
}
