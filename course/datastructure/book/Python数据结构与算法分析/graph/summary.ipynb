{
 "cells": [
  {
   "metadata": {},
   "cell_type": "markdown",
   "source": [
    "# 术语及定义\n",
    "\n",
    "* 顶点：又称节点，是图的基础部分。它可以有自己的名字，我们称作“键”，顶点也可以带有附加信息，我们称作“有效载荷”\n",
    "* 边：图的另一基础部分，两个顶点通过一条边连接，表示他们之间存在关系。边既可以是单向[有向图]也可以是双向的。\n",
    "* 权重：边可以带权重，用来表示从一个顶点到另一个顶点的成本"
   ],
   "id": "b16556c6b88a3676"
  },
  {
   "metadata": {},
   "cell_type": "markdown",
   "source": [
    "# 图的抽象数据类型\n",
    "\n",
    "* Graph():新建一个空图\n",
    "* addVertex(vert):向图中添加一个顶点实例\n",
    "* addEdge(fromVert, toVert):向图中添加一条有向边，用于连接顶点fromVert和toVert\n",
    "* addEdge(fromVert, toVert, weight):向图中添加一条带有权重weight的有向边，用于连接fromVert和toVert\n",
    "* getVertex(vertKey):在图中找到名为vertKey的顶点\n",
    "* geVertices():以列表的形式返回图中所有顶点\n",
    "* in:通过 vertex in graph 这样的语句，在顶点存在时返回True 否则返回False"
   ],
   "id": "39921d7b7b44cb1"
  },
  {
   "metadata": {
    "ExecuteTime": {
     "end_time": "2024-04-25T14:24:49.704910Z",
     "start_time": "2024-04-25T14:24:49.693679Z"
    }
   },
   "cell_type": "code",
   "source": "# 简单的带权有向图",
   "id": "ddf53be4a7150a0b",
   "outputs": [],
   "execution_count": 3
  },
  {
   "metadata": {
    "ExecuteTime": {
     "end_time": "2024-04-25T14:24:49.753377Z",
     "start_time": "2024-04-25T14:24:49.740705Z"
    }
   },
   "cell_type": "code",
   "source": [
    "# Vertex\n",
    "class Vertex:\n",
    "    distance = None\n",
    "    pred = None\n",
    "    color = None\n",
    "    def __init__(self, key):\n",
    "        self.id = key\n",
    "        self.connectedTo = {}\n",
    "        \n",
    "        \n",
    "    def addNeighbor(self, nbr, weight=0):   # neighbor 邻接？\n",
    "        \"\"\"\n",
    "            添加相邻的顶点\n",
    "        :param nbr: \n",
    "        :param weight: \n",
    "        :return: \n",
    "        \"\"\"\n",
    "        self.connectedTo[nbr] = weight\n",
    "    \n",
    "    def __str__(self):\n",
    "        return str(self.id) + ' connectedTo: ' + str([x.id for x in self.connectedTo])\n",
    "    \n",
    "    def setDistance(self, distance):\n",
    "        self.distance = distance\n",
    "    \n",
    "    def setPred(self, pred):\n",
    "        self.pred = pred\n",
    "    \n",
    "    def setColor(self, color):\n",
    "        self.color = color\n",
    "    \n",
    "    def getDistance(self):\n",
    "        return self.distance\n",
    "    \n",
    "    def getPred(self):\n",
    "        return  self.pred\n",
    "    \n",
    "    def getColor(self):\n",
    "        return self.color\n",
    "    \n",
    "    def getConnections(self):\n",
    "        \"\"\"\n",
    "            返回邻接表中所有顶点\n",
    "        :return: \n",
    "        \"\"\"\n",
    "        return self.connectedTo.keys()\n",
    "    \n",
    "    def getId(self):\n",
    "        return self.id\n",
    "    \n",
    "    def getWeight(self, nbr):\n",
    "        \"\"\"\n",
    "            返回从当前顶点到参数传入顶点之间的边的权重\n",
    "        :param nbr: \n",
    "        :return: \n",
    "        \"\"\"\n",
    "        return self.connectedTo[nbr]"
   ],
   "id": "dae67074fd4de4eb",
   "outputs": [],
   "execution_count": 4
  },
  {
   "metadata": {
    "ExecuteTime": {
     "end_time": "2024-04-25T14:24:49.763243Z",
     "start_time": "2024-04-25T14:24:49.756402Z"
    }
   },
   "cell_type": "code",
   "source": [
    "# Graph\n",
    "class Graph:\n",
    "    def __init__(self):\n",
    "        self.vertList = {}\n",
    "        self.numVertices = 0\n",
    "\n",
    "    def addVertex(self, key):\n",
    "        self.numVertices += 1\n",
    "        newVertex = Vertex(key)\n",
    "        self.vertList[key] = newVertex\n",
    "        return newVertex\n",
    "\n",
    "    def getVertex(self, n):\n",
    "        if n in self.vertList:\n",
    "            return self.vertList[n]\n",
    "        else:\n",
    "            return None\n",
    "\n",
    "    def __contains__(self, item):\n",
    "        return item in self.vertList\n",
    "\n",
    "    def addEdge(self, f, t, cost=0):\n",
    "        if f not in self.vertList:\n",
    "            nv = self.addVertex(f)\n",
    "        if t not in self.vertList:\n",
    "            nv = self.addVertex(f)\n",
    "            \n",
    "        self.vertList[f].addNeighbor(self.vertList[t], cost)\n",
    "\n",
    "    def getVertices(self):  # 返回的是节点名称而不是节点对象\n",
    "        return self.vertList.keys()\n",
    "\n",
    "    def __iter__(self): # 节点对象通过遍历Graph类对象获取\n",
    "        return iter(self.vertList.values())\n",
    "    \n",
    "    "
   ],
   "id": "fed75afca420b42",
   "outputs": [],
   "execution_count": 5
  },
  {
   "metadata": {},
   "cell_type": "markdown",
   "source": [
    "##### 示例\n",
    "\n",
    "使用Graph类和Vertex类创建一个邻接矩阵图\n",
    "\n",
    "* 首先创建6个顶点，依次编号0~5.\n",
    "* 然后打印字典。 注意：对于每个键，我们创建了一个Vertex实例\n",
    "* 接着，添加顶点连接起来的边\n",
    "* 最后用一个嵌套循环验证图中每一条边有已经被正确存储"
   ],
   "id": "fe67aec407ff7177"
  },
  {
   "metadata": {
    "ExecuteTime": {
     "end_time": "2024-04-25T14:24:49.771301Z",
     "start_time": "2024-04-25T14:24:49.763243Z"
    }
   },
   "cell_type": "code",
   "source": "g = Graph()",
   "id": "367b1a3a461e5d05",
   "outputs": [],
   "execution_count": 6
  },
  {
   "metadata": {
    "ExecuteTime": {
     "end_time": "2024-04-25T14:24:49.780972Z",
     "start_time": "2024-04-25T14:24:49.772309Z"
    }
   },
   "cell_type": "code",
   "source": [
    "for i in range(6):  # 向图中添加六个顶点\n",
    "    g.addVertex(i)"
   ],
   "id": "fb0349379e11f956",
   "outputs": [],
   "execution_count": 7
  },
  {
   "metadata": {
    "ExecuteTime": {
     "end_time": "2024-04-25T14:24:49.800066Z",
     "start_time": "2024-04-25T14:24:49.788001Z"
    }
   },
   "cell_type": "code",
   "source": "g.vertList",
   "id": "55ad33e6647bd659",
   "outputs": [
    {
     "data": {
      "text/plain": [
       "{0: <__main__.Vertex at 0x2538d13f2d0>,\n",
       " 1: <__main__.Vertex at 0x2538d9c8950>,\n",
       " 2: <__main__.Vertex at 0x2538d9c8250>,\n",
       " 3: <__main__.Vertex at 0x2538d9c8990>,\n",
       " 4: <__main__.Vertex at 0x2538da96850>,\n",
       " 5: <__main__.Vertex at 0x2538d9e4110>}"
      ]
     },
     "execution_count": 8,
     "metadata": {},
     "output_type": "execute_result"
    }
   ],
   "execution_count": 8
  },
  {
   "metadata": {
    "ExecuteTime": {
     "end_time": "2024-04-25T14:24:49.808997Z",
     "start_time": "2024-04-25T14:24:49.804084Z"
    }
   },
   "cell_type": "code",
   "source": [
    "# 添加边\n",
    "# 这里自定义连个顶点之间是相邻的，边的权重是多少\n",
    "# 获取有什么标准规则，但是现在我并不清楚\n",
    "g.addEdge(0, 1, 5)\n",
    "g.addEdge(0, 5, 2)\n",
    "g.addEdge(1, 2, 4)\n",
    "g.addEdge(2, 3, 9)\n",
    "g.addEdge(3, 4, 7)\n",
    "g.addEdge(3, 5, 3)\n",
    "g.addEdge(4, 0, 1)\n",
    "g.addEdge(5, 4, 8)\n",
    "g.addEdge(5, 2, 1)"
   ],
   "id": "d8056e75a345ee45",
   "outputs": [],
   "execution_count": 9
  },
  {
   "metadata": {
    "ExecuteTime": {
     "end_time": "2024-04-25T14:24:49.821665Z",
     "start_time": "2024-04-25T14:24:49.808997Z"
    }
   },
   "cell_type": "code",
   "source": [
    "for v in g: # 遍历图中的所有顶点\n",
    "    for w in v.getConnections():\n",
    "        # 遍历当前顶点的连接信息，即：查找当前顶点的所有相邻顶点\n",
    "        # 输出当前顶点及其相邻顶点的信息\n",
    "        # 这里的图是单向的，所以对照课本图7-2时，v0连接的只有v1和v5，\n",
    "        # 对于图，两个顶点之间是否有边连接\n",
    "        # 边具有方向，v0连接v1和v5，所以v0与v1和v5相邻，但是v1和v5不相邻\n",
    "        print(\"(%s, %s)\" % (v.getId(), w.getId()))"
   ],
   "id": "b4715828790fb236",
   "outputs": [
    {
     "name": "stdout",
     "output_type": "stream",
     "text": [
      "(0, 1)\n",
      "(0, 5)\n",
      "(1, 2)\n",
      "(2, 3)\n",
      "(3, 4)\n",
      "(3, 5)\n",
      "(4, 0)\n",
      "(5, 4)\n",
      "(5, 2)\n"
     ]
    }
   ],
   "execution_count": 10
  },
  {
   "metadata": {},
   "cell_type": "markdown",
   "source": "# 广度优先搜索\n",
   "id": "d288332266813a0"
  },
  {
   "metadata": {},
   "cell_type": "markdown",
   "source": [
    "### 词题图\n",
    "    将单次fool转换成sage\n",
    "    在解决词梯问题时，必须每次只替换一个字母，并且每一步的结果都必须是一个单词，而不能是不存在的词\n",
    "    \n",
    "词梯问题的变体\n",
    "* 给定步数内完成转换\n",
    "* 必须用到某个单词\n",
    "\n",
    "学习怎样从起始单词转换到结束单词的最小步数\n",
    "* 用图表示单词之间的关系\n",
    "* 广度优先搜索的图算法找到从起始单词到结束单词的最短路径\n",
    "\n",
    "### 构建词题图\n",
    "\n",
    "* 如何用图来表示大的单次集合：两个单词之间的区别仅在于有一个不同的字母，则用一条边连接\n",
    "    * 如果创建这样一个图，那么其中任意一条连接两个单词的路径就是词梯问题的一个解"
   ],
   "id": "95c4700544690d55"
  },
  {
   "metadata": {
    "ExecuteTime": {
     "end_time": "2024-04-25T14:24:49.832659Z",
     "start_time": "2024-04-25T14:24:49.821665Z"
    }
   },
   "cell_type": "code",
   "source": [
    "# 词梯图\n",
    "wordList = ['fool', 'pool', 'poll', 'pole', 'pale', 'sale', 'sage']\n",
    "wordGraph = Graph()"
   ],
   "id": "ba845d744abfd7ac",
   "outputs": [],
   "execution_count": 11
  },
  {
   "metadata": {
    "ExecuteTime": {
     "end_time": "2024-04-25T14:24:49.863341Z",
     "start_time": "2024-04-25T14:24:49.851442Z"
    }
   },
   "cell_type": "code",
   "source": [
    "for vertex in wordList:\n",
    "    wordGraph.addVertex(vertex)"
   ],
   "id": "b3760b5d6d907f9f",
   "outputs": [],
   "execution_count": 12
  },
  {
   "metadata": {
    "ExecuteTime": {
     "end_time": "2024-04-25T14:24:49.876468Z",
     "start_time": "2024-04-25T14:24:49.872196Z"
    }
   },
   "cell_type": "code",
   "source": [
    "d = {}\n",
    "for word in wordList:\n",
    "    for i in range(len(word)):\n",
    "        becket = word[:i] + \"_\" + word[i+1:]\n",
    "        if becket in d:\n",
    "            d[becket].append(word)\n",
    "        else:\n",
    "            d[becket] = [word]\n",
    "\n",
    "for bucket in d.keys():\n",
    "    for word1 in d[bucket]:\n",
    "        for word2 in d[bucket]:\n",
    "            if word1 != word2:\n",
    "                wordGraph.addEdge(word1, word2)"
   ],
   "id": "8892669b2fd9e28b",
   "outputs": [],
   "execution_count": 13
  },
  {
   "metadata": {
    "ExecuteTime": {
     "end_time": "2024-04-25T14:24:49.889190Z",
     "start_time": "2024-04-25T14:24:49.881575Z"
    }
   },
   "cell_type": "code",
   "source": [
    "for v in wordGraph:\n",
    "    for w in v.getConnections():\n",
    "        print(\"(%s, %s)\" % (v.getId(), w.getId()))"
   ],
   "id": "96a9c0996a9699e0",
   "outputs": [
    {
     "name": "stdout",
     "output_type": "stream",
     "text": [
      "(fool, pool)\n",
      "(pool, fool)\n",
      "(pool, poll)\n",
      "(poll, pool)\n",
      "(poll, pole)\n",
      "(pole, poll)\n",
      "(pole, pale)\n",
      "(pale, pole)\n",
      "(pale, sale)\n",
      "(sale, pale)\n",
      "(sale, sage)\n",
      "(sage, sale)\n"
     ]
    }
   ],
   "execution_count": 14
  },
  {
   "metadata": {
    "ExecuteTime": {
     "end_time": "2024-04-25T14:24:49.908266Z",
     "start_time": "2024-04-25T14:24:49.897212Z"
    }
   },
   "cell_type": "code",
   "source": "wordGraph.vertList",
   "id": "9862b71d910f876f",
   "outputs": [
    {
     "data": {
      "text/plain": [
       "{'fool': <__main__.Vertex at 0x2538d113f10>,\n",
       " 'pool': <__main__.Vertex at 0x2538d12ddd0>,\n",
       " 'poll': <__main__.Vertex at 0x2538db29510>,\n",
       " 'pole': <__main__.Vertex at 0x2538db2ac50>,\n",
       " 'pale': <__main__.Vertex at 0x2538db2b110>,\n",
       " 'sale': <__main__.Vertex at 0x2538db2b2d0>,\n",
       " 'sage': <__main__.Vertex at 0x2538db2b290>}"
      ]
     },
     "execution_count": 15,
     "metadata": {},
     "output_type": "execute_result"
    }
   ],
   "execution_count": 15
  },
  {
   "metadata": {
    "ExecuteTime": {
     "end_time": "2024-04-25T14:45:31.268672Z",
     "start_time": "2024-04-25T14:45:31.255136Z"
    }
   },
   "cell_type": "code",
   "source": [
    "def buildGraph(wordFile):\n",
    "    \"\"\"\n",
    "    \n",
    "    :param wordFile: 文件路径\n",
    "    :return: \n",
    "    \"\"\"\n",
    "    ds = {}\n",
    "    gs = Graph()\n",
    "    \n",
    "    \n",
    "    # 创建词桶\n",
    "    wFile = open('word.txt', 'r')\n",
    "    for line in wFile:\n",
    "        word = line[:-1]    # 一行一个单词line[:-1]\n",
    "        for i in range(len(word)):\n",
    "            bucket = word[:i] + '_' + word[i+1:]\n",
    "            \"\"\"\n",
    "            FOOL\n",
    "            _OOL\n",
    "            F_OL\n",
    "            FO_L\n",
    "            FOO_\n",
    "            FOOL\n",
    "            \"\"\"\n",
    "            # 通过单词FOOL创建五个标签，作为字典的键，字典的值是一个列表，初始化将FOOL加入列表\n",
    "            # 然后遍历其他单词，创建创建标签，如果标签在字典中存在，则将该单词加入相应的列表，否则创建新的键\n",
    "            if bucket in ds:\n",
    "                ds[bucket].append(word)\n",
    "            else:\n",
    "                ds[bucket] = [word]\n",
    "    # 为同一个桶中的单词添加顶点和边\n",
    "    # 遍历词桶，桶中每一个键对应的列表中的单词都是相邻的\n",
    "    for bucket in ds:\n",
    "        for word1 in ds[bucket]:\n",
    "            for word2 in ds[bucket]:\n",
    "                if word1 != word2:\n",
    "                    gs.addEdge(word1, word2)\n",
    "    return gs\n",
    "# 将每一个对象按照特定规则拆分出多个属性\n",
    "# 感觉有点像网络，这种要怎么描述？？？"
   ],
   "id": "3af1748f72b667f1",
   "outputs": [],
   "execution_count": 52
  },
  {
   "metadata": {
    "ExecuteTime": {
     "end_time": "2024-04-25T14:45:33.261800Z",
     "start_time": "2024-04-25T14:45:33.252669Z"
    }
   },
   "cell_type": "code",
   "source": [
    "# with open('.word.txt', 'w') as f:\n",
    "#     for word in wordList:\n",
    "#         f.write(f\"{word}\\n\")"
   ],
   "id": "d7538ad0ea6df926",
   "outputs": [],
   "execution_count": 53
  },
  {
   "metadata": {
    "ExecuteTime": {
     "end_time": "2024-04-25T14:45:33.645494Z",
     "start_time": "2024-04-25T14:45:33.614717Z"
    }
   },
   "cell_type": "code",
   "source": "gs = buildGraph(1111)",
   "id": "4f10f261e4ae1e22",
   "outputs": [
    {
     "ename": "KeyError",
     "evalue": "'pool'",
     "output_type": "error",
     "traceback": [
      "\u001B[1;31m---------------------------------------------------------------------------\u001B[0m",
      "\u001B[1;31mKeyError\u001B[0m                                  Traceback (most recent call last)",
      "Cell \u001B[1;32mIn[54], line 1\u001B[0m\n\u001B[1;32m----> 1\u001B[0m gs \u001B[38;5;241m=\u001B[39m \u001B[43mbuildGraph\u001B[49m\u001B[43m(\u001B[49m\u001B[38;5;241;43m1111\u001B[39;49m\u001B[43m)\u001B[49m\n",
      "Cell \u001B[1;32mIn[52], line 37\u001B[0m, in \u001B[0;36mbuildGraph\u001B[1;34m(wordFile)\u001B[0m\n\u001B[0;32m     35\u001B[0m         \u001B[38;5;28;01mfor\u001B[39;00m word2 \u001B[38;5;129;01min\u001B[39;00m ds[bucket]:\n\u001B[0;32m     36\u001B[0m             \u001B[38;5;28;01mif\u001B[39;00m word1 \u001B[38;5;241m!=\u001B[39m word2:\n\u001B[1;32m---> 37\u001B[0m                 \u001B[43mgs\u001B[49m\u001B[38;5;241;43m.\u001B[39;49m\u001B[43maddEdge\u001B[49m\u001B[43m(\u001B[49m\u001B[43mword1\u001B[49m\u001B[43m,\u001B[49m\u001B[43m \u001B[49m\u001B[43mword2\u001B[49m\u001B[43m)\u001B[49m\n\u001B[0;32m     38\u001B[0m \u001B[38;5;28;01mreturn\u001B[39;00m gs\n",
      "Cell \u001B[1;32mIn[5], line 28\u001B[0m, in \u001B[0;36mGraph.addEdge\u001B[1;34m(self, f, t, cost)\u001B[0m\n\u001B[0;32m     25\u001B[0m \u001B[38;5;28;01mif\u001B[39;00m t \u001B[38;5;129;01mnot\u001B[39;00m \u001B[38;5;129;01min\u001B[39;00m \u001B[38;5;28mself\u001B[39m\u001B[38;5;241m.\u001B[39mvertList:\n\u001B[0;32m     26\u001B[0m     nv \u001B[38;5;241m=\u001B[39m \u001B[38;5;28mself\u001B[39m\u001B[38;5;241m.\u001B[39maddVertex(f)\n\u001B[1;32m---> 28\u001B[0m \u001B[38;5;28mself\u001B[39m\u001B[38;5;241m.\u001B[39mvertList[f]\u001B[38;5;241m.\u001B[39maddNeighbor(\u001B[38;5;28;43mself\u001B[39;49m\u001B[38;5;241;43m.\u001B[39;49m\u001B[43mvertList\u001B[49m\u001B[43m[\u001B[49m\u001B[43mt\u001B[49m\u001B[43m]\u001B[49m, cost)\n",
      "\u001B[1;31mKeyError\u001B[0m: 'pool'"
     ]
    }
   ],
   "execution_count": 54
  },
  {
   "metadata": {},
   "cell_type": "markdown",
   "source": "### 广度优先搜索实现",
   "id": "25ebed48844739b8"
  },
  {
   "metadata": {
    "ExecuteTime": {
     "end_time": "2024-04-25T14:24:49.980398Z",
     "start_time": "2024-04-25T14:24:49.980398Z"
    }
   },
   "cell_type": "code",
   "source": [
    "from functools import wraps\n",
    "\n",
    "\n",
    "class Queue:\n",
    "    def __init__(self):\n",
    "        self.__vals = []\n",
    "        self.__size = 0\n",
    "\n",
    "    @staticmethod\n",
    "    def __addSize(func):\n",
    "        def wrapper(self, val):\n",
    "            func(val)\n",
    "            self.__size += 1\n",
    "\n",
    "        return wrapper\n",
    "\n",
    "    @staticmethod\n",
    "    def __subSize(func):\n",
    "        def wrapper(self):\n",
    "            self.__size -= 1\n",
    "            return func()\n",
    "\n",
    "        return wrapper\n",
    "\n",
    "    @__addSize\n",
    "    def enqueue(self, val):\n",
    "        self.__vals.append(val)\n",
    "\n",
    "    @__subSize\n",
    "    def dequeue(self):\n",
    "        return self.__vals.pop(0)\n",
    "\n",
    "    def isEmpty(self):\n",
    "        return self.__vals == []\n",
    "\n",
    "    def __len__(self):\n",
    "        return self.__size\n",
    "\n",
    "    def __iter__(self):\n",
    "        return iter(self.__vals)\n",
    "\n",
    "    def __contains__(self, item):\n",
    "        return item in self.__vals"
   ],
   "id": "924323b40af00a0f",
   "outputs": [],
   "execution_count": null
  },
  {
   "metadata": {},
   "cell_type": "code",
   "source": [
    "# BFS算法\n",
    "def bfs(g, start):\n",
    "    start.setDistance(0)\n",
    "    start.setPred(None)\n",
    "    vertQueue = Queue()\n",
    "    vertQueue.enqueue(start)\n",
    "    while len(vertQueue) > 0:\n",
    "        currentVert = vertQueue.dequeue()\n",
    "        for nbr in currentVert.getConnections():\n",
    "            if nbr.getColor() == 'white':\n",
    "                nbr.setColor('gray')\n",
    "                nbr.setDistance(currentVert.getDistance() + 1)\n",
    "                nbr.setPred(currentVert)\n",
    "                vertQueue.enqueue(nbr)\n",
    "        currentVert.setColor('black')\n",
    "                "
   ],
   "id": "7acc8aa345a19708",
   "outputs": [],
   "execution_count": null
  },
  {
   "metadata": {},
   "cell_type": "markdown",
   "source": [
    "BFS执行流程：\n",
    "从起点s算起，将它标记为灰色，以表示正在访问它。另外两个变量，distance和predecessor，分别初始化为0和None。\n",
    "随后，start被放入Queue中，系统化地访问位于队列头部的顶点。\n",
    "通过遍历邻接表来访问新的顶点，在访问每一个新顶点时，都会检查他的颜色，如果是白色说明没有被访问过则：\n",
    "\n",
    "     \n",
    "* 将新的未访问顶点nbr标记为灰色\n",
    "* 将nbr的predecessor设置成顶点的currentVert\n",
    "* 将nbr添加到队列尾部。为之后访问该顶点做准备，但是要等currentVert邻接表中的所有其他订单都被访问后才能访问该顶点"
   ],
   "id": "d3859f4fe3c3462"
  },
  {
   "metadata": {},
   "cell_type": "code",
   "source": "",
   "id": "f3ada17e0c0f745e",
   "outputs": [],
   "execution_count": null
  },
  {
   "metadata": {
    "ExecuteTime": {
     "end_time": "2024-04-25T14:24:49.987009Z",
     "start_time": "2024-04-25T14:24:49.980398Z"
    }
   },
   "cell_type": "code",
   "source": "",
   "id": "e550d2817f1ee013",
   "outputs": [],
   "execution_count": 18
  },
  {
   "metadata": {},
   "cell_type": "code",
   "outputs": [],
   "execution_count": null,
   "source": "",
   "id": "b5fadeb9e68379a3"
  }
 ],
 "metadata": {
  "kernelspec": {
   "display_name": "Python 3",
   "language": "python",
   "name": "python3"
  },
  "language_info": {
   "codemirror_mode": {
    "name": "ipython",
    "version": 2
   },
   "file_extension": ".py",
   "mimetype": "text/x-python",
   "name": "python",
   "nbconvert_exporter": "python",
   "pygments_lexer": "ipython2",
   "version": "2.7.6"
  }
 },
 "nbformat": 4,
 "nbformat_minor": 5
}
