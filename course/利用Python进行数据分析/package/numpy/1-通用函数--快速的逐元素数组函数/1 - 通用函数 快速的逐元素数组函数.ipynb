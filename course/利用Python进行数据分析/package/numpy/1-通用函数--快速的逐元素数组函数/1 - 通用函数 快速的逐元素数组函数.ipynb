{
 "cells": [
  {
   "metadata": {
    "ExecuteTime": {
     "end_time": "2024-05-17T16:57:40.401815Z",
     "start_time": "2024-05-17T16:57:40.327224Z"
    }
   },
   "cell_type": "code",
   "source": "import numpy as np",
   "id": "e3a1c81b583d6c53",
   "outputs": [],
   "execution_count": 1
  },
  {
   "metadata": {},
   "cell_type": "markdown",
   "source": [
    "通用函数 ufunc， 是一种在ndarray数据中进行逐元素操作的函数。某些简单的函数接受一个或多个标量数值。\n",
    "并产生一个或多个标量结果 —————— 数值 ？ 结果"
   ],
   "id": "e06b279905f52993"
  },
  {
   "metadata": {},
   "cell_type": "markdown",
   "source": [
    "* sqrt: 平方根\n",
    "* exp: 标准差"
   ],
   "id": "fd43c3199f4aded1"
  },
  {
   "metadata": {
    "ExecuteTime": {
     "end_time": "2024-05-17T17:03:22.061778Z",
     "start_time": "2024-05-17T17:03:22.057074Z"
    }
   },
   "cell_type": "code",
   "source": "arr = np.arange(10)",
   "id": "44ca207b02856473",
   "outputs": [],
   "execution_count": 17
  },
  {
   "metadata": {
    "ExecuteTime": {
     "end_time": "2024-05-17T17:03:27.082274Z",
     "start_time": "2024-05-17T17:03:27.076869Z"
    }
   },
   "cell_type": "code",
   "source": "arr",
   "id": "18fe5e8d8f3f9c1c",
   "outputs": [
    {
     "data": {
      "text/plain": [
       "array([0, 1, 2, 3, 4, 5, 6, 7, 8, 9])"
      ]
     },
     "execution_count": 18,
     "metadata": {},
     "output_type": "execute_result"
    }
   ],
   "execution_count": 18
  },
  {
   "metadata": {
    "ExecuteTime": {
     "end_time": "2024-05-17T17:03:27.256300Z",
     "start_time": "2024-05-17T17:03:27.245512Z"
    }
   },
   "cell_type": "code",
   "source": "np.sqrt(arr)",
   "id": "bd1951e3ea76d959",
   "outputs": [
    {
     "data": {
      "text/plain": [
       "array([0.        , 1.        , 1.41421356, 1.73205081, 2.        ,\n",
       "       2.23606798, 2.44948974, 2.64575131, 2.82842712, 3.        ])"
      ]
     },
     "execution_count": 19,
     "metadata": {},
     "output_type": "execute_result"
    }
   ],
   "execution_count": 19
  },
  {
   "metadata": {
    "ExecuteTime": {
     "end_time": "2024-05-17T17:03:27.422512Z",
     "start_time": "2024-05-17T17:03:27.414696Z"
    }
   },
   "cell_type": "code",
   "source": "np.exp(arr)",
   "id": "1d751769aba5887f",
   "outputs": [
    {
     "data": {
      "text/plain": [
       "array([1.00000000e+00, 2.71828183e+00, 7.38905610e+00, 2.00855369e+01,\n",
       "       5.45981500e+01, 1.48413159e+02, 4.03428793e+02, 1.09663316e+03,\n",
       "       2.98095799e+03, 8.10308393e+03])"
      ]
     },
     "execution_count": 20,
     "metadata": {},
     "output_type": "execute_result"
    }
   ],
   "execution_count": 20
  },
  {
   "metadata": {
    "ExecuteTime": {
     "end_time": "2024-05-17T17:03:27.571769Z",
     "start_time": "2024-05-17T17:03:27.562872Z"
    }
   },
   "cell_type": "code",
   "source": "x = np.random.randn(8)",
   "id": "d42a71fea869220b",
   "outputs": [],
   "execution_count": 21
  },
  {
   "metadata": {
    "ExecuteTime": {
     "end_time": "2024-05-17T17:03:27.801296Z",
     "start_time": "2024-05-17T17:03:27.795966Z"
    }
   },
   "cell_type": "code",
   "source": "y = np.random.randn(8)",
   "id": "afd31dc4b881fde4",
   "outputs": [],
   "execution_count": 22
  },
  {
   "metadata": {
    "ExecuteTime": {
     "end_time": "2024-05-17T17:03:28.114319Z",
     "start_time": "2024-05-17T17:03:28.100133Z"
    }
   },
   "cell_type": "code",
   "source": "x",
   "id": "b9aded3014e9a6c1",
   "outputs": [
    {
     "data": {
      "text/plain": [
       "array([ 0.18467178, -0.22262806,  1.01248903,  1.34860825,  1.44286387,\n",
       "       -1.0078163 ,  0.85968777,  0.34371786])"
      ]
     },
     "execution_count": 23,
     "metadata": {},
     "output_type": "execute_result"
    }
   ],
   "execution_count": 23
  },
  {
   "metadata": {
    "ExecuteTime": {
     "end_time": "2024-05-17T17:03:28.375404Z",
     "start_time": "2024-05-17T17:03:28.367570Z"
    }
   },
   "cell_type": "code",
   "source": "y",
   "id": "d81b15f2ea1709a1",
   "outputs": [
    {
     "data": {
      "text/plain": [
       "array([ 1.55172898, -1.75102284,  1.02321038, -0.08184053,  2.52486698,\n",
       "        0.67889284, -0.3033256 , -0.12276576])"
      ]
     },
     "execution_count": 24,
     "metadata": {},
     "output_type": "execute_result"
    }
   ],
   "execution_count": 24
  },
  {
   "metadata": {},
   "cell_type": "markdown",
   "source": "同时遍历两个数组、逐个元素比较，取出较大值",
   "id": "db00e8c9388efb90"
  },
  {
   "metadata": {
    "ExecuteTime": {
     "end_time": "2024-05-17T17:03:29.127253Z",
     "start_time": "2024-05-17T17:03:29.119886Z"
    }
   },
   "cell_type": "code",
   "source": "np.maximum(x, y)",
   "id": "9c8c87b8af4f9af3",
   "outputs": [
    {
     "data": {
      "text/plain": [
       "array([ 1.55172898, -0.22262806,  1.02321038,  1.34860825,  2.52486698,\n",
       "        0.67889284,  0.85968777,  0.34371786])"
      ]
     },
     "execution_count": 25,
     "metadata": {},
     "output_type": "execute_result"
    }
   ],
   "execution_count": 25
  },
  {
   "metadata": {},
   "cell_type": "markdown",
   "source": [
    "### 一元通用函数\n",
    "* abs、fab：计算整数、浮点数或复数的绝对值   \n",
    "* sqrt：平方根\n",
    "* square：平方\n",
    "* exp： 自然指数\n",
    "* log、log10、log2、log1p： 自然对数、对数10为底、对数2、log（1+x）\n",
    "* sign： 计算符号 正、 负、 0\n",
    "* ceil： 最高整数\n",
    "* floor： 最小整数\n",
    "* rint： 保留整数位\n",
    "* modf： 分别将数组的小数部分和整数部分按数组形式返回\n",
    "* isnan： 返回数组中的元素是否为NaN， return bool\n",
    "* isfinite、isinf： 分别返回数组中元素是否有限、是否无限 return bool\n",
    "* cos、cosh、sin、sinh、tan、tanh： 三角函数\n",
    "* arccos、arccosh、arcsin、arcsinh、arctan、arctanh： 反三角函数\n",
    "* logical_not： 对数组的元素按位取反？"
   ],
   "id": "602a20a8a146e3a6"
  },
  {
   "metadata": {},
   "cell_type": "markdown",
   "source": [
    "### 二元通用函数\n",
    "* add： 加\n",
    "* subtract： 减\n",
    "* multiply： 乘\n",
    "* divide、floor_divide： 除、整除\n",
    "* power： n次方\n",
    "* maximun、fmax： 最大值、fmax忽略NaN\n",
    "* minimun、fmin： 最小值、fmin忽略NaN\n",
    "* mod：求模计算  ？？？"
   ],
   "id": "d58ad9cbac51d9dc"
  },
  {
   "metadata": {
    "ExecuteTime": {
     "end_time": "2024-05-17T17:15:38.143954Z",
     "start_time": "2024-05-17T17:15:38.136828Z"
    }
   },
   "cell_type": "code",
   "source": "x = np.array([1, 2, 3, 4])",
   "id": "90a2ae7a42510903",
   "outputs": [],
   "execution_count": 26
  },
  {
   "metadata": {
    "ExecuteTime": {
     "end_time": "2024-05-17T17:15:44.959586Z",
     "start_time": "2024-05-17T17:15:44.952389Z"
    }
   },
   "cell_type": "code",
   "source": "y = np.array([2, 2, 2, 2])",
   "id": "67d16c98949e4a14",
   "outputs": [],
   "execution_count": 27
  },
  {
   "metadata": {
    "ExecuteTime": {
     "end_time": "2024-05-17T17:16:14.210194Z",
     "start_time": "2024-05-17T17:16:14.205355Z"
    }
   },
   "cell_type": "code",
   "source": "np.power(x, y)",
   "id": "fb5fa2d7ccf72908",
   "outputs": [
    {
     "data": {
      "text/plain": [
       "array([ 1,  4,  9, 16])"
      ]
     },
     "execution_count": 28,
     "metadata": {},
     "output_type": "execute_result"
    }
   ],
   "execution_count": 28
  },
  {
   "metadata": {
    "ExecuteTime": {
     "end_time": "2024-05-17T17:17:16.821890Z",
     "start_time": "2024-05-17T17:17:16.815643Z"
    }
   },
   "cell_type": "code",
   "source": "np.subtract(y, x)",
   "id": "f33120d54e4a9a9a",
   "outputs": [
    {
     "data": {
      "text/plain": [
       "array([ 1,  0, -1, -2])"
      ]
     },
     "execution_count": 30,
     "metadata": {},
     "output_type": "execute_result"
    }
   ],
   "execution_count": 30
  }
 ],
 "metadata": {
  "kernelspec": {
   "display_name": "Python 3",
   "language": "python",
   "name": "python3"
  },
  "language_info": {
   "codemirror_mode": {
    "name": "ipython",
    "version": 2
   },
   "file_extension": ".py",
   "mimetype": "text/x-python",
   "name": "python",
   "nbconvert_exporter": "python",
   "pygments_lexer": "ipython2",
   "version": "2.7.6"
  }
 },
 "nbformat": 4,
 "nbformat_minor": 5
}
