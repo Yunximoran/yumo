{
 "cells": [
  {
   "cell_type": "code",
   "id": "initial_id",
   "metadata": {
    "collapsed": true,
    "ExecuteTime": {
     "end_time": "2024-05-20T03:24:13.736362Z",
     "start_time": "2024-05-20T03:24:13.651590Z"
    }
   },
   "source": "import numpy as np",
   "outputs": [],
   "execution_count": 1
  },
  {
   "metadata": {},
   "cell_type": "markdown",
   "source": [
    "# ndarray的数据类型\n",
    "\n",
    "* ndarray的数据类型存储在dtype属性[元数据]当中\n",
    "* 除非显式的指定，否则numpy会自动推断生成数组的数据类型"
   ],
   "id": "b215672ebe123b7a"
  },
  {
   "metadata": {
    "ExecuteTime": {
     "end_time": "2024-05-20T03:24:55.094262Z",
     "start_time": "2024-05-20T03:24:55.090259Z"
    }
   },
   "cell_type": "code",
   "source": "data = [[1, 2, 3], [4, 5, 6]]",
   "id": "ee9b2a5e0465f0c7",
   "outputs": [],
   "execution_count": 2
  },
  {
   "metadata": {
    "ExecuteTime": {
     "end_time": "2024-05-20T03:25:06.280260Z",
     "start_time": "2024-05-20T03:25:06.276819Z"
    }
   },
   "cell_type": "code",
   "source": "arr = np.array(data)",
   "id": "6f8ffac669ee1b30",
   "outputs": [],
   "execution_count": 3
  },
  {
   "metadata": {
    "ExecuteTime": {
     "end_time": "2024-05-20T03:25:06.583939Z",
     "start_time": "2024-05-20T03:25:06.577162Z"
    }
   },
   "cell_type": "code",
   "source": "arr.dtype",
   "id": "b8333f7e15eb8497",
   "outputs": [
    {
     "data": {
      "text/plain": [
       "dtype('int32')"
      ]
     },
     "execution_count": 4,
     "metadata": {},
     "output_type": "execute_result"
    }
   ],
   "execution_count": 4
  },
  {
   "metadata": {
    "ExecuteTime": {
     "end_time": "2024-05-20T03:25:06.907515Z",
     "start_time": "2024-05-20T03:25:06.904512Z"
    }
   },
   "cell_type": "code",
   "source": "arr1 = np.array([1, 2, 3], dtype='float')",
   "id": "e93df3adf7368e07",
   "outputs": [],
   "execution_count": 5
  },
  {
   "metadata": {
    "ExecuteTime": {
     "end_time": "2024-05-20T03:25:07.292234Z",
     "start_time": "2024-05-20T03:25:07.288067Z"
    }
   },
   "cell_type": "code",
   "source": "arr2 = np.array([1, 2, 3], dtype='int')",
   "id": "7053be041a08fab8",
   "outputs": [],
   "execution_count": 6
  },
  {
   "metadata": {
    "ExecuteTime": {
     "end_time": "2024-05-20T03:25:08.052065Z",
     "start_time": "2024-05-20T03:25:08.047813Z"
    }
   },
   "cell_type": "code",
   "source": "arr1.dtype",
   "id": "f4be0ac41142f9a6",
   "outputs": [
    {
     "data": {
      "text/plain": [
       "dtype('float64')"
      ]
     },
     "execution_count": 7,
     "metadata": {},
     "output_type": "execute_result"
    }
   ],
   "execution_count": 7
  },
  {
   "metadata": {
    "ExecuteTime": {
     "end_time": "2024-05-20T03:25:08.510283Z",
     "start_time": "2024-05-20T03:25:08.505711Z"
    }
   },
   "cell_type": "code",
   "source": "arr2.dtype",
   "id": "20d223071ccfc48c",
   "outputs": [
    {
     "data": {
      "text/plain": [
       "dtype('int32')"
      ]
     },
     "execution_count": 8,
     "metadata": {},
     "output_type": "execute_result"
    }
   ],
   "execution_count": 8
  },
  {
   "metadata": {},
   "cell_type": "markdown",
   "source": [
    "* 使用astype方法替换数组的数据类型\n",
    "* astype方法是将数组复制并替换成目标数据类型，在返回修改后的数组\n",
    "    * astype方法不会修改数组"
   ],
   "id": "48004a12112a222f"
  },
  {
   "metadata": {
    "ExecuteTime": {
     "end_time": "2024-05-20T03:25:09.390576Z",
     "start_time": "2024-05-20T03:25:09.387219Z"
    }
   },
   "cell_type": "code",
   "source": "arr = np.array([1, 2, 3, 4, 5])",
   "id": "89d5ea9bd5596ae0",
   "outputs": [],
   "execution_count": 9
  },
  {
   "metadata": {
    "ExecuteTime": {
     "end_time": "2024-05-20T03:25:09.639992Z",
     "start_time": "2024-05-20T03:25:09.635190Z"
    }
   },
   "cell_type": "code",
   "source": "arr.dtype",
   "id": "69cd69be9005d664",
   "outputs": [
    {
     "data": {
      "text/plain": [
       "dtype('int32')"
      ]
     },
     "execution_count": 10,
     "metadata": {},
     "output_type": "execute_result"
    }
   ],
   "execution_count": 10
  },
  {
   "metadata": {
    "ExecuteTime": {
     "end_time": "2024-05-20T03:25:09.919348Z",
     "start_time": "2024-05-20T03:25:09.915147Z"
    }
   },
   "cell_type": "code",
   "source": "float_arr = arr.astype(np.float64)",
   "id": "21736534a96f081",
   "outputs": [],
   "execution_count": 11
  },
  {
   "metadata": {
    "ExecuteTime": {
     "end_time": "2024-05-20T03:25:10.218407Z",
     "start_time": "2024-05-20T03:25:10.214814Z"
    }
   },
   "cell_type": "code",
   "source": "float_arr.dtype",
   "id": "260ff1949c739069",
   "outputs": [
    {
     "data": {
      "text/plain": [
       "dtype('float64')"
      ]
     },
     "execution_count": 12,
     "metadata": {},
     "output_type": "execute_result"
    }
   ],
   "execution_count": 12
  },
  {
   "metadata": {},
   "cell_type": "markdown",
   "source": [
    "* 浮点数转换整数类型是将小数点后的数据忽略\n",
    "* float -> int -> float 将会丢失数据"
   ],
   "id": "8cc45c0379666ec6"
  },
  {
   "metadata": {
    "ExecuteTime": {
     "end_time": "2024-05-20T03:25:10.880934Z",
     "start_time": "2024-05-20T03:25:10.877395Z"
    }
   },
   "cell_type": "code",
   "source": "arr = np.array([3.1, 4.32, 5.33])",
   "id": "35de17f264cd38bf",
   "outputs": [],
   "execution_count": 13
  },
  {
   "metadata": {
    "ExecuteTime": {
     "end_time": "2024-05-20T03:25:11.128099Z",
     "start_time": "2024-05-20T03:25:11.124560Z"
    }
   },
   "cell_type": "code",
   "source": "float_arr = arr.astype(np.int32)",
   "id": "1470bff57e95312c",
   "outputs": [],
   "execution_count": 14
  },
  {
   "metadata": {
    "ExecuteTime": {
     "end_time": "2024-05-20T03:25:11.337275Z",
     "start_time": "2024-05-20T03:25:11.332249Z"
    }
   },
   "cell_type": "code",
   "source": "float_arr",
   "id": "f8bc9dd323783fd2",
   "outputs": [
    {
     "data": {
      "text/plain": [
       "array([3, 4, 5])"
      ]
     },
     "execution_count": 15,
     "metadata": {},
     "output_type": "execute_result"
    }
   ],
   "execution_count": 15
  },
  {
   "metadata": {
    "ExecuteTime": {
     "end_time": "2024-05-20T03:25:11.568914Z",
     "start_time": "2024-05-20T03:25:11.565421Z"
    }
   },
   "cell_type": "code",
   "source": "int_arr = float_arr.astype(np.float64)",
   "id": "3a9c99cab700a7ad",
   "outputs": [],
   "execution_count": 16
  },
  {
   "metadata": {
    "ExecuteTime": {
     "end_time": "2024-05-20T03:25:11.755814Z",
     "start_time": "2024-05-20T03:25:11.750368Z"
    }
   },
   "cell_type": "code",
   "source": "int_arr",
   "id": "52829441ee07107d",
   "outputs": [
    {
     "data": {
      "text/plain": [
       "array([3., 4., 5.])"
      ]
     },
     "execution_count": 17,
     "metadata": {},
     "output_type": "execute_result"
    }
   ],
   "execution_count": 17
  },
  {
   "metadata": {},
   "cell_type": "markdown",
   "source": "* 可以从其他ndarray数组中获取dtype属性，做类型转换",
   "id": "cd19bd3e2d05a7f0"
  },
  {
   "metadata": {
    "ExecuteTime": {
     "end_time": "2024-05-20T03:25:12.098807Z",
     "start_time": "2024-05-20T03:25:12.095706Z"
    }
   },
   "cell_type": "code",
   "source": "int_arr = np.arange(10)",
   "id": "1ddd0d4437a99888",
   "outputs": [],
   "execution_count": 18
  },
  {
   "metadata": {
    "ExecuteTime": {
     "end_time": "2024-05-20T03:25:12.327731Z",
     "start_time": "2024-05-20T03:25:12.323763Z"
    }
   },
   "cell_type": "code",
   "source": "calibers = np.array([.22, .39, .13, .567], dtype=np.float64)",
   "id": "1e9db2bfc24411f",
   "outputs": [],
   "execution_count": 19
  },
  {
   "metadata": {
    "ExecuteTime": {
     "end_time": "2024-05-20T03:25:12.619393Z",
     "start_time": "2024-05-20T03:25:12.614638Z"
    }
   },
   "cell_type": "code",
   "source": "int_arr.astype(calibers.dtype)",
   "id": "5298aefc9d95c2f4",
   "outputs": [
    {
     "data": {
      "text/plain": [
       "array([0., 1., 2., 3., 4., 5., 6., 7., 8., 9.])"
      ]
     },
     "execution_count": 20,
     "metadata": {},
     "output_type": "execute_result"
    }
   ],
   "execution_count": 20
  }
 ],
 "metadata": {
  "kernelspec": {
   "display_name": "Python 3",
   "language": "python",
   "name": "python3"
  },
  "language_info": {
   "codemirror_mode": {
    "name": "ipython",
    "version": 2
   },
   "file_extension": ".py",
   "mimetype": "text/x-python",
   "name": "python",
   "nbconvert_exporter": "python",
   "pygments_lexer": "ipython2",
   "version": "2.7.6"
  }
 },
 "nbformat": 4,
 "nbformat_minor": 5
}
