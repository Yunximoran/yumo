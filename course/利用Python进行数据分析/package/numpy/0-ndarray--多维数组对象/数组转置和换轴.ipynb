{
 "cells": [
  {
   "cell_type": "code",
   "id": "initial_id",
   "metadata": {
    "collapsed": true,
    "ExecuteTime": {
     "end_time": "2024-05-20T03:29:47.545078Z",
     "start_time": "2024-05-20T03:29:47.541855Z"
    }
   },
   "source": "import numpy as np",
   "outputs": [],
   "execution_count": 7
  },
  {
   "metadata": {},
   "cell_type": "markdown",
   "source": "# 数组转置和换轴",
   "id": "21042868d142bc15"
  },
  {
   "metadata": {},
   "cell_type": "markdown",
   "source": [
    "转置是数组的一种特殊的重组形式\n",
    "\n",
    "可以返回底层数据的视图而不需要赋值任何内容\n",
    "\n",
    "数组拥有的transpose方法， 也有T属性"
   ],
   "id": "436faff4163ad78a"
  },
  {
   "metadata": {
    "ExecuteTime": {
     "end_time": "2024-05-20T03:29:47.562154Z",
     "start_time": "2024-05-20T03:29:47.558221Z"
    }
   },
   "cell_type": "code",
   "source": "arr = np.arange(32).reshape((8, 4))",
   "id": "22a2a8636ff5ed34",
   "outputs": [],
   "execution_count": 8
  },
  {
   "metadata": {
    "ExecuteTime": {
     "end_time": "2024-05-20T03:29:47.592817Z",
     "start_time": "2024-05-20T03:29:47.588168Z"
    }
   },
   "cell_type": "code",
   "source": "arr @ arr.T",
   "id": "95dc0b382c6f18d3",
   "outputs": [
    {
     "data": {
      "text/plain": [
       "array([[  14,   38,   62,   86,  110,  134,  158,  182],\n",
       "       [  38,  126,  214,  302,  390,  478,  566,  654],\n",
       "       [  62,  214,  366,  518,  670,  822,  974, 1126],\n",
       "       [  86,  302,  518,  734,  950, 1166, 1382, 1598],\n",
       "       [ 110,  390,  670,  950, 1230, 1510, 1790, 2070],\n",
       "       [ 134,  478,  822, 1166, 1510, 1854, 2198, 2542],\n",
       "       [ 158,  566,  974, 1382, 1790, 2198, 2606, 3014],\n",
       "       [ 182,  654, 1126, 1598, 2070, 2542, 3014, 3486]])"
      ]
     },
     "execution_count": 9,
     "metadata": {},
     "output_type": "execute_result"
    }
   ],
   "execution_count": 9
  },
  {
   "metadata": {
    "ExecuteTime": {
     "end_time": "2024-05-20T03:29:47.597589Z",
     "start_time": "2024-05-20T03:29:47.593830Z"
    }
   },
   "cell_type": "code",
   "source": "arr.transpose()",
   "id": "afdc4f41587181c2",
   "outputs": [
    {
     "data": {
      "text/plain": [
       "array([[ 0,  4,  8, 12, 16, 20, 24, 28],\n",
       "       [ 1,  5,  9, 13, 17, 21, 25, 29],\n",
       "       [ 2,  6, 10, 14, 18, 22, 26, 30],\n",
       "       [ 3,  7, 11, 15, 19, 23, 27, 31]])"
      ]
     },
     "execution_count": 10,
     "metadata": {},
     "output_type": "execute_result"
    }
   ],
   "execution_count": 10
  },
  {
   "metadata": {
    "ExecuteTime": {
     "end_time": "2024-05-20T03:29:47.601639Z",
     "start_time": "2024-05-20T03:29:47.598600Z"
    }
   },
   "cell_type": "code",
   "source": "arr.T",
   "id": "96c550d68f579bc9",
   "outputs": [
    {
     "data": {
      "text/plain": [
       "array([[ 0,  4,  8, 12, 16, 20, 24, 28],\n",
       "       [ 1,  5,  9, 13, 17, 21, 25, 29],\n",
       "       [ 2,  6, 10, 14, 18, 22, 26, 30],\n",
       "       [ 3,  7, 11, 15, 19, 23, 27, 31]])"
      ]
     },
     "execution_count": 11,
     "metadata": {},
     "output_type": "execute_result"
    }
   ],
   "execution_count": 11
  },
  {
   "metadata": {
    "ExecuteTime": {
     "end_time": "2024-05-20T03:29:47.610874Z",
     "start_time": "2024-05-20T03:29:47.606651Z"
    }
   },
   "cell_type": "code",
   "source": "arr",
   "id": "6f06c4eb04bdb906",
   "outputs": [
    {
     "data": {
      "text/plain": [
       "array([[ 0,  1,  2,  3],\n",
       "       [ 4,  5,  6,  7],\n",
       "       [ 8,  9, 10, 11],\n",
       "       [12, 13, 14, 15],\n",
       "       [16, 17, 18, 19],\n",
       "       [20, 21, 22, 23],\n",
       "       [24, 25, 26, 27],\n",
       "       [28, 29, 30, 31]])"
      ]
     },
     "execution_count": 12,
     "metadata": {},
     "output_type": "execute_result"
    }
   ],
   "execution_count": 12
  },
  {
   "metadata": {
    "ExecuteTime": {
     "end_time": "2024-05-20T03:29:47.616307Z",
     "start_time": "2024-05-20T03:29:47.613884Z"
    }
   },
   "cell_type": "code",
   "source": "arr = np.random.randn(6, 3)",
   "id": "916c52608a3372c7",
   "outputs": [],
   "execution_count": 13
  },
  {
   "metadata": {
    "ExecuteTime": {
     "end_time": "2024-05-20T03:29:47.620956Z",
     "start_time": "2024-05-20T03:29:47.617318Z"
    }
   },
   "cell_type": "code",
   "source": "arr",
   "id": "2a986d1b1ce0d667",
   "outputs": [
    {
     "data": {
      "text/plain": [
       "array([[-0.64443668, -0.67115517, -0.30183937],\n",
       "       [-0.72926768, -1.02674866,  0.33654977],\n",
       "       [ 1.50518024, -1.8974333 , -0.49659352],\n",
       "       [-1.9210754 ,  0.03072267,  0.63766189],\n",
       "       [ 0.92475348,  0.55945573, -0.57837662],\n",
       "       [ 1.051199  , -1.48808382,  0.18931218]])"
      ]
     },
     "execution_count": 14,
     "metadata": {},
     "output_type": "execute_result"
    }
   ],
   "execution_count": 14
  },
  {
   "metadata": {},
   "cell_type": "markdown",
   "source": "np.dot() 等价与 @ 运算",
   "id": "dcb30100e20105cd"
  },
  {
   "metadata": {
    "ExecuteTime": {
     "end_time": "2024-05-20T03:29:47.635133Z",
     "start_time": "2024-05-20T03:29:47.630960Z"
    }
   },
   "cell_type": "code",
   "source": "np.dot(arr.T, arr)",
   "id": "41675ce2f879aaf1",
   "outputs": [
    {
     "data": {
      "text/plain": [
       "array([[ 8.86341656, -2.78062162, -2.35922885],\n",
       "       [-2.78062162,  7.63324325,  0.2135843 ],\n",
       "       [-2.35922885,  0.2135843 ,  1.22794918]])"
      ]
     },
     "execution_count": 15,
     "metadata": {},
     "output_type": "execute_result"
    }
   ],
   "execution_count": 15
  },
  {
   "metadata": {
    "ExecuteTime": {
     "end_time": "2024-05-20T03:29:47.639488Z",
     "start_time": "2024-05-20T03:29:47.636140Z"
    }
   },
   "cell_type": "code",
   "source": "arr.T @ arr",
   "id": "82e58f6fbb045baa",
   "outputs": [
    {
     "data": {
      "text/plain": [
       "array([[ 8.86341656, -2.78062162, -2.35922885],\n",
       "       [-2.78062162,  7.63324325,  0.2135843 ],\n",
       "       [-2.35922885,  0.2135843 ,  1.22794918]])"
      ]
     },
     "execution_count": 16,
     "metadata": {},
     "output_type": "execute_result"
    }
   ],
   "execution_count": 16
  },
  {
   "metadata": {},
   "cell_type": "markdown",
   "source": "transpose 换轴",
   "id": "a40bd2d3f7031379"
  },
  {
   "metadata": {
    "ExecuteTime": {
     "end_time": "2024-05-20T03:29:47.649203Z",
     "start_time": "2024-05-20T03:29:47.646492Z"
    }
   },
   "cell_type": "code",
   "source": "arr = np.arange(16).reshape((2, 2, 4))",
   "id": "dff76d3c9f845439",
   "outputs": [],
   "execution_count": 17
  },
  {
   "metadata": {
    "ExecuteTime": {
     "end_time": "2024-05-20T03:29:47.658556Z",
     "start_time": "2024-05-20T03:29:47.654211Z"
    }
   },
   "cell_type": "code",
   "source": "arr",
   "id": "bdb0f8e73867a16f",
   "outputs": [
    {
     "data": {
      "text/plain": [
       "array([[[ 0,  1,  2,  3],\n",
       "        [ 4,  5,  6,  7]],\n",
       "\n",
       "       [[ 8,  9, 10, 11],\n",
       "        [12, 13, 14, 15]]])"
      ]
     },
     "execution_count": 18,
     "metadata": {},
     "output_type": "execute_result"
    }
   ],
   "execution_count": 18
  },
  {
   "metadata": {
    "ExecuteTime": {
     "end_time": "2024-05-20T03:29:47.663347Z",
     "start_time": "2024-05-20T03:29:47.659561Z"
    }
   },
   "cell_type": "code",
   "source": "arr.transpose((1, 0, 2))",
   "id": "46a7e7cf958922cc",
   "outputs": [
    {
     "data": {
      "text/plain": [
       "array([[[ 0,  1,  2,  3],\n",
       "        [ 8,  9, 10, 11]],\n",
       "\n",
       "       [[ 4,  5,  6,  7],\n",
       "        [12, 13, 14, 15]]])"
      ]
     },
     "execution_count": 19,
     "metadata": {},
     "output_type": "execute_result"
    }
   ],
   "execution_count": 19
  },
  {
   "metadata": {},
   "cell_type": "markdown",
   "source": "对于更高维度的数组、transpose方法可以接受包含轴编号的元组、用于置换轴",
   "id": "86ae1c1649411664"
  },
  {
   "metadata": {},
   "cell_type": "markdown",
   "source": [
    "swapaxes方法、接收一对轴编号作为参数，并对轴进行调整用于重组数据\n",
    "\n",
    "* swapaxes方法返回的也是数据的视图、而没有对数据进行复制"
   ],
   "id": "205f2aa47e04d898"
  },
  {
   "metadata": {
    "ExecuteTime": {
     "end_time": "2024-05-20T03:29:47.668527Z",
     "start_time": "2024-05-20T03:29:47.666360Z"
    }
   },
   "cell_type": "code",
   "source": "",
   "id": "30775eec474407d8",
   "outputs": [],
   "execution_count": 19
  },
  {
   "metadata": {},
   "cell_type": "code",
   "outputs": [],
   "execution_count": null,
   "source": "",
   "id": "b315df18cd2a1d4b"
  }
 ],
 "metadata": {
  "kernelspec": {
   "display_name": "Python 3",
   "language": "python",
   "name": "python3"
  },
  "language_info": {
   "codemirror_mode": {
    "name": "ipython",
    "version": 2
   },
   "file_extension": ".py",
   "mimetype": "text/x-python",
   "name": "python",
   "nbconvert_exporter": "python",
   "pygments_lexer": "ipython2",
   "version": "2.7.6"
  }
 },
 "nbformat": 4,
 "nbformat_minor": 5
}
