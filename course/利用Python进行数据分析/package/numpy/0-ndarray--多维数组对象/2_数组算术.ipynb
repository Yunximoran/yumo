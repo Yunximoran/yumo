{
 "cells": [
  {
   "cell_type": "code",
   "id": "initial_id",
   "metadata": {
    "collapsed": true,
    "ExecuteTime": {
     "end_time": "2024-05-20T03:25:56.808765Z",
     "start_time": "2024-05-20T03:25:56.715208Z"
    }
   },
   "source": "import numpy as np",
   "outputs": [],
   "execution_count": 1
  },
  {
   "metadata": {},
   "cell_type": "markdown",
   "source": "# NumPy数组算术",
   "id": "3aebb622bf879cfa"
  },
  {
   "metadata": {
    "ExecuteTime": {
     "end_time": "2024-05-20T03:25:56.813544Z",
     "start_time": "2024-05-20T03:25:56.809769Z"
    }
   },
   "cell_type": "code",
   "source": "arr = np.array([[1., 2., 3.], [4., 5., 6.]])",
   "id": "5477a65bb552fc39",
   "outputs": [],
   "execution_count": 2
  },
  {
   "metadata": {
    "ExecuteTime": {
     "end_time": "2024-05-20T03:25:56.819710Z",
     "start_time": "2024-05-20T03:25:56.813544Z"
    }
   },
   "cell_type": "code",
   "source": "arr * arr",
   "id": "e1a5845666aafae1",
   "outputs": [
    {
     "data": {
      "text/plain": [
       "array([[ 1.,  4.,  9.],\n",
       "       [16., 25., 36.]])"
      ]
     },
     "execution_count": 3,
     "metadata": {},
     "output_type": "execute_result"
    }
   ],
   "execution_count": 3
  },
  {
   "metadata": {
    "ExecuteTime": {
     "end_time": "2024-05-20T03:25:56.824405Z",
     "start_time": "2024-05-20T03:25:56.820714Z"
    }
   },
   "cell_type": "code",
   "source": "arr - arr",
   "id": "71b07910e15c4f5b",
   "outputs": [
    {
     "data": {
      "text/plain": [
       "array([[0., 0., 0.],\n",
       "       [0., 0., 0.]])"
      ]
     },
     "execution_count": 4,
     "metadata": {},
     "output_type": "execute_result"
    }
   ],
   "execution_count": 4
  },
  {
   "metadata": {
    "ExecuteTime": {
     "end_time": "2024-05-20T03:25:57.144128Z",
     "start_time": "2024-05-20T03:25:57.139909Z"
    }
   },
   "cell_type": "code",
   "source": "arr ** 0.5",
   "id": "1a51d833d1d66bee",
   "outputs": [
    {
     "data": {
      "text/plain": [
       "array([[1.        , 1.41421356, 1.73205081],\n",
       "       [2.        , 2.23606798, 2.44948974]])"
      ]
     },
     "execution_count": 5,
     "metadata": {},
     "output_type": "execute_result"
    }
   ],
   "execution_count": 5
  },
  {
   "metadata": {
    "ExecuteTime": {
     "end_time": "2024-05-20T03:25:57.667835Z",
     "start_time": "2024-05-20T03:25:57.664102Z"
    }
   },
   "cell_type": "code",
   "source": "1 / arr",
   "id": "5ee27ec3c75d0945",
   "outputs": [
    {
     "data": {
      "text/plain": [
       "array([[1.        , 0.5       , 0.33333333],\n",
       "       [0.25      , 0.2       , 0.16666667]])"
      ]
     },
     "execution_count": 6,
     "metadata": {},
     "output_type": "execute_result"
    }
   ],
   "execution_count": 6
  },
  {
   "metadata": {},
   "cell_type": "markdown",
   "source": "* 数组之间的比较会产生布尔值",
   "id": "2545d01859cfabc7"
  },
  {
   "metadata": {
    "ExecuteTime": {
     "end_time": "2024-05-20T03:25:58.706178Z",
     "start_time": "2024-05-20T03:25:58.702972Z"
    }
   },
   "cell_type": "code",
   "source": "arr2 = np.array([[1., 0.22, 2.3], [7.2, 5.4, 1.4]])",
   "id": "648f31474bd089eb",
   "outputs": [],
   "execution_count": 7
  },
  {
   "metadata": {
    "ExecuteTime": {
     "end_time": "2024-05-20T03:25:59.168415Z",
     "start_time": "2024-05-20T03:25:59.164072Z"
    }
   },
   "cell_type": "code",
   "source": "arr2 > arr",
   "id": "7e7bf969d1bb6322",
   "outputs": [
    {
     "data": {
      "text/plain": [
       "array([[False, False, False],\n",
       "       [ True,  True, False]])"
      ]
     },
     "execution_count": 8,
     "metadata": {},
     "output_type": "execute_result"
    }
   ],
   "execution_count": 8
  },
  {
   "metadata": {},
   "cell_type": "code",
   "outputs": [],
   "execution_count": null,
   "source": "",
   "id": "102c1a586d4fb866"
  }
 ],
 "metadata": {
  "kernelspec": {
   "display_name": "Python 3",
   "language": "python",
   "name": "python3"
  },
  "language_info": {
   "codemirror_mode": {
    "name": "ipython",
    "version": 2
   },
   "file_extension": ".py",
   "mimetype": "text/x-python",
   "name": "python",
   "nbconvert_exporter": "python",
   "pygments_lexer": "ipython2",
   "version": "2.7.6"
  }
 },
 "nbformat": 4,
 "nbformat_minor": 5
}
