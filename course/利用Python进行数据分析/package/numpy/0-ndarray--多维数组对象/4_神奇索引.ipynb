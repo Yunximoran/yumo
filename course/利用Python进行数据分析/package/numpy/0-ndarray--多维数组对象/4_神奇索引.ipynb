{
 "cells": [
  {
   "cell_type": "code",
   "id": "initial_id",
   "metadata": {
    "collapsed": true,
    "ExecuteTime": {
     "end_time": "2024-05-20T03:28:09.402601Z",
     "start_time": "2024-05-20T03:28:09.399119Z"
    }
   },
   "source": "import numpy as np",
   "outputs": [],
   "execution_count": 2
  },
  {
   "metadata": {},
   "cell_type": "markdown",
   "source": "# 神奇索引",
   "id": "847eb94f3d37d188"
  },
  {
   "metadata": {},
   "cell_type": "markdown",
   "source": "神奇索引是numpy中的术语， 用于描述使用整数数组进行数据索引",
   "id": "2d5541f00c3b3983"
  },
  {
   "metadata": {
    "ExecuteTime": {
     "end_time": "2024-05-20T03:28:09.415220Z",
     "start_time": "2024-05-20T03:28:09.411285Z"
    }
   },
   "cell_type": "code",
   "source": "arr = np.empty((8, 4))",
   "id": "baa51813653eeee",
   "outputs": [],
   "execution_count": 3
  },
  {
   "metadata": {
    "ExecuteTime": {
     "end_time": "2024-05-20T03:28:09.418899Z",
     "start_time": "2024-05-20T03:28:09.416226Z"
    }
   },
   "cell_type": "code",
   "source": [
    "for i in range(8):\n",
    "    arr[i] = i"
   ],
   "id": "b66e55aa98d7478e",
   "outputs": [],
   "execution_count": 4
  },
  {
   "metadata": {
    "ExecuteTime": {
     "end_time": "2024-05-20T03:28:09.425814Z",
     "start_time": "2024-05-20T03:28:09.419905Z"
    }
   },
   "cell_type": "code",
   "source": "arr",
   "id": "ef3980e948517635",
   "outputs": [
    {
     "data": {
      "text/plain": [
       "array([[0., 0., 0., 0.],\n",
       "       [1., 1., 1., 1.],\n",
       "       [2., 2., 2., 2.],\n",
       "       [3., 3., 3., 3.],\n",
       "       [4., 4., 4., 4.],\n",
       "       [5., 5., 5., 5.],\n",
       "       [6., 6., 6., 6.],\n",
       "       [7., 7., 7., 7.]])"
      ]
     },
     "execution_count": 5,
     "metadata": {},
     "output_type": "execute_result"
    }
   ],
   "execution_count": 5
  },
  {
   "metadata": {
    "ExecuteTime": {
     "end_time": "2024-05-20T03:28:09.431130Z",
     "start_time": "2024-05-20T03:28:09.426820Z"
    }
   },
   "cell_type": "code",
   "source": "arr[[4, 3, 0, 6]]",
   "id": "cf873d4ee0b7d90e",
   "outputs": [
    {
     "data": {
      "text/plain": [
       "array([[4., 4., 4., 4.],\n",
       "       [3., 3., 3., 3.],\n",
       "       [0., 0., 0., 0.],\n",
       "       [6., 6., 6., 6.]])"
      ]
     },
     "execution_count": 6,
     "metadata": {},
     "output_type": "execute_result"
    }
   ],
   "execution_count": 6
  },
  {
   "metadata": {
    "ExecuteTime": {
     "end_time": "2024-05-20T03:28:09.436386Z",
     "start_time": "2024-05-20T03:28:09.431130Z"
    }
   },
   "cell_type": "code",
   "source": "arr[[-3, -5, -7]]",
   "id": "cefb705ee77af360",
   "outputs": [
    {
     "data": {
      "text/plain": [
       "array([[5., 5., 5., 5.],\n",
       "       [3., 3., 3., 3.],\n",
       "       [1., 1., 1., 1.]])"
      ]
     },
     "execution_count": 7,
     "metadata": {},
     "output_type": "execute_result"
    }
   ],
   "execution_count": 7
  },
  {
   "metadata": {
    "ExecuteTime": {
     "end_time": "2024-05-20T03:28:09.440029Z",
     "start_time": "2024-05-20T03:28:09.437390Z"
    }
   },
   "cell_type": "code",
   "source": "arr = np.arange(32).reshape((8, 4))",
   "id": "59b9350c5ce841fd",
   "outputs": [],
   "execution_count": 8
  },
  {
   "metadata": {
    "ExecuteTime": {
     "end_time": "2024-05-20T03:28:09.444373Z",
     "start_time": "2024-05-20T03:28:09.441034Z"
    }
   },
   "cell_type": "code",
   "source": "arr",
   "id": "805764e628a9b77c",
   "outputs": [
    {
     "data": {
      "text/plain": [
       "array([[ 0,  1,  2,  3],\n",
       "       [ 4,  5,  6,  7],\n",
       "       [ 8,  9, 10, 11],\n",
       "       [12, 13, 14, 15],\n",
       "       [16, 17, 18, 19],\n",
       "       [20, 21, 22, 23],\n",
       "       [24, 25, 26, 27],\n",
       "       [28, 29, 30, 31]])"
      ]
     },
     "execution_count": 9,
     "metadata": {},
     "output_type": "execute_result"
    }
   ],
   "execution_count": 9
  },
  {
   "metadata": {
    "ExecuteTime": {
     "end_time": "2024-05-20T03:28:09.448237Z",
     "start_time": "2024-05-20T03:28:09.444373Z"
    }
   },
   "cell_type": "code",
   "source": "arr[[1, 5, 7, 2], [0, 3, 1, 2]]",
   "id": "733f2bf2511ea71d",
   "outputs": [
    {
     "data": {
      "text/plain": [
       "array([ 4, 23, 29, 10])"
      ]
     },
     "execution_count": 10,
     "metadata": {},
     "output_type": "execute_result"
    }
   ],
   "execution_count": 10
  },
  {
   "metadata": {},
   "cell_type": "code",
   "outputs": [],
   "execution_count": null,
   "source": "",
   "id": "2b8197c4acd7c78b"
  }
 ],
 "metadata": {
  "kernelspec": {
   "display_name": "Python 3",
   "language": "python",
   "name": "python3"
  },
  "language_info": {
   "codemirror_mode": {
    "name": "ipython",
    "version": 2
   },
   "file_extension": ".py",
   "mimetype": "text/x-python",
   "name": "python",
   "nbconvert_exporter": "python",
   "pygments_lexer": "ipython2",
   "version": "2.7.6"
  }
 },
 "nbformat": 4,
 "nbformat_minor": 5
}
