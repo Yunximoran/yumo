{
 "cells": [
  {
   "metadata": {},
   "cell_type": "markdown",
   "source": [
    "# 生成ndarray\n",
    "\n",
    "### array方法\n",
    "\n",
    "1. array接受任意 [序列型对象],生成一个新的包含传递数据NumPy数组\n"
   ],
   "id": "9c3d3f619a96c933"
  },
  {
   "metadata": {
    "ExecuteTime": {
     "end_time": "2024-05-20T03:22:05.873417Z",
     "start_time": "2024-05-20T03:22:05.797707Z"
    }
   },
   "cell_type": "code",
   "source": "import numpy as np",
   "id": "a87a547e3e9a37af",
   "outputs": [],
   "execution_count": 1
  },
  {
   "metadata": {
    "ExecuteTime": {
     "end_time": "2024-05-20T03:22:05.877688Z",
     "start_time": "2024-05-20T03:22:05.874433Z"
    }
   },
   "cell_type": "code",
   "source": "data_1 = [6, 3.4, 9, 5, 7]",
   "id": "bd66c050e899acbf",
   "outputs": [],
   "execution_count": 2
  },
  {
   "metadata": {
    "ExecuteTime": {
     "end_time": "2024-05-20T03:22:05.881370Z",
     "start_time": "2024-05-20T03:22:05.878692Z"
    }
   },
   "cell_type": "code",
   "source": "arr = np.array(data_1)",
   "id": "49803149e174f6dc",
   "outputs": [],
   "execution_count": 3
  },
  {
   "metadata": {
    "ExecuteTime": {
     "end_time": "2024-05-20T03:22:05.887624Z",
     "start_time": "2024-05-20T03:22:05.882378Z"
    }
   },
   "cell_type": "code",
   "source": "arr",
   "id": "807075cbc8e61878",
   "outputs": [
    {
     "data": {
      "text/plain": [
       "array([6. , 3.4, 9. , 5. , 7. ])"
      ]
     },
     "execution_count": 4,
     "metadata": {},
     "output_type": "execute_result"
    }
   ],
   "execution_count": 4
  },
  {
   "metadata": {},
   "cell_type": "markdown",
   "source": "2. 嵌套序列，等长度的列表，将会转换 <b>多维数组</b>",
   "id": "5791d7e174935491"
  },
  {
   "metadata": {
    "ExecuteTime": {
     "end_time": "2024-05-20T03:22:05.891463Z",
     "start_time": "2024-05-20T03:22:05.888635Z"
    }
   },
   "cell_type": "code",
   "source": "data_2 = [[1, 2, 3, 4], [5, 6, 7, 8]]",
   "id": "646740c493db2e02",
   "outputs": [],
   "execution_count": 5
  },
  {
   "metadata": {
    "ExecuteTime": {
     "end_time": "2024-05-20T03:22:05.896868Z",
     "start_time": "2024-05-20T03:22:05.892469Z"
    }
   },
   "cell_type": "code",
   "source": "arr = np.array(data_2)",
   "id": "ffd4e642c1da4e97",
   "outputs": [],
   "execution_count": 6
  },
  {
   "metadata": {
    "ExecuteTime": {
     "end_time": "2024-05-20T03:22:05.902331Z",
     "start_time": "2024-05-20T03:22:05.897874Z"
    }
   },
   "cell_type": "code",
   "source": "arr",
   "id": "d259fc6622e267c3",
   "outputs": [
    {
     "data": {
      "text/plain": [
       "array([[1, 2, 3, 4],\n",
       "       [5, 6, 7, 8]])"
      ]
     },
     "execution_count": 7,
     "metadata": {},
     "output_type": "execute_result"
    }
   ],
   "execution_count": 7
  },
  {
   "metadata": {
    "ExecuteTime": {
     "end_time": "2024-05-20T03:22:05.906487Z",
     "start_time": "2024-05-20T03:22:05.903344Z"
    }
   },
   "cell_type": "code",
   "source": "arr.ndim",
   "id": "310160fcabff57ea",
   "outputs": [
    {
     "data": {
      "text/plain": [
       "2"
      ]
     },
     "execution_count": 8,
     "metadata": {},
     "output_type": "execute_result"
    }
   ],
   "execution_count": 8
  },
  {
   "metadata": {
    "ExecuteTime": {
     "end_time": "2024-05-20T03:22:05.912255Z",
     "start_time": "2024-05-20T03:22:05.907493Z"
    }
   },
   "cell_type": "code",
   "source": "arr.shape",
   "id": "e0454752b2ea5c2d",
   "outputs": [
    {
     "data": {
      "text/plain": [
       "(2, 4)"
      ]
     },
     "execution_count": 9,
     "metadata": {},
     "output_type": "execute_result"
    }
   ],
   "execution_count": 9
  }
 ],
 "metadata": {
  "kernelspec": {
   "display_name": "Python 3",
   "language": "python",
   "name": "python3"
  },
  "language_info": {
   "codemirror_mode": {
    "name": "ipython",
    "version": 2
   },
   "file_extension": ".py",
   "mimetype": "text/x-python",
   "name": "python",
   "nbconvert_exporter": "python",
   "pygments_lexer": "ipython2",
   "version": "2.7.6"
  }
 },
 "nbformat": 4,
 "nbformat_minor": 5
}
