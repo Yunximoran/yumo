{
 "cells": [
  {
   "cell_type": "code",
   "id": "initial_id",
   "metadata": {
    "collapsed": true,
    "ExecuteTime": {
     "end_time": "2024-05-20T03:27:06.065224Z",
     "start_time": "2024-05-20T03:27:05.971177Z"
    }
   },
   "source": "import numpy as np",
   "outputs": [],
   "execution_count": 1
  },
  {
   "metadata": {},
   "cell_type": "markdown",
   "source": "# 基础索引与切片",
   "id": "7c28d1dae3c08959"
  },
  {
   "metadata": {
    "ExecuteTime": {
     "end_time": "2024-05-20T03:27:06.069217Z",
     "start_time": "2024-05-20T03:27:06.066228Z"
    }
   },
   "cell_type": "code",
   "source": "arr = np.arange(10)",
   "id": "d46052158cf866c",
   "outputs": [],
   "execution_count": 2
  },
  {
   "metadata": {
    "ExecuteTime": {
     "end_time": "2024-05-20T03:27:06.075853Z",
     "start_time": "2024-05-20T03:27:06.070222Z"
    }
   },
   "cell_type": "code",
   "source": "arr",
   "id": "e80102e335d79c3",
   "outputs": [
    {
     "data": {
      "text/plain": [
       "array([0, 1, 2, 3, 4, 5, 6, 7, 8, 9])"
      ]
     },
     "execution_count": 3,
     "metadata": {},
     "output_type": "execute_result"
    }
   ],
   "execution_count": 3
  },
  {
   "metadata": {
    "ExecuteTime": {
     "end_time": "2024-05-20T03:27:06.080667Z",
     "start_time": "2024-05-20T03:27:06.076864Z"
    }
   },
   "cell_type": "code",
   "source": "arr[5]",
   "id": "d0c3c22be415c4d1",
   "outputs": [
    {
     "data": {
      "text/plain": [
       "5"
      ]
     },
     "execution_count": 4,
     "metadata": {},
     "output_type": "execute_result"
    }
   ],
   "execution_count": 4
  },
  {
   "metadata": {
    "ExecuteTime": {
     "end_time": "2024-05-20T03:27:06.351015Z",
     "start_time": "2024-05-20T03:27:06.347127Z"
    }
   },
   "cell_type": "code",
   "source": "arr[5:8]",
   "id": "2628e271733bc43b",
   "outputs": [
    {
     "data": {
      "text/plain": [
       "array([5, 6, 7])"
      ]
     },
     "execution_count": 5,
     "metadata": {},
     "output_type": "execute_result"
    }
   ],
   "execution_count": 5
  },
  {
   "metadata": {
    "ExecuteTime": {
     "end_time": "2024-05-20T03:27:06.423966Z",
     "start_time": "2024-05-20T03:27:06.419954Z"
    }
   },
   "cell_type": "code",
   "source": "arr[5: 8] = 12",
   "id": "a2a849e461057154",
   "outputs": [],
   "execution_count": 6
  },
  {
   "metadata": {
    "ExecuteTime": {
     "end_time": "2024-05-20T03:27:06.621759Z",
     "start_time": "2024-05-20T03:27:06.617608Z"
    }
   },
   "cell_type": "code",
   "source": "arr",
   "id": "c27e768867d95d41",
   "outputs": [
    {
     "data": {
      "text/plain": [
       "array([ 0,  1,  2,  3,  4, 12, 12, 12,  8,  9])"
      ]
     },
     "execution_count": 7,
     "metadata": {},
     "output_type": "execute_result"
    }
   ],
   "execution_count": 7
  },
  {
   "metadata": {},
   "cell_type": "markdown",
   "source": [
    "* numpy切片返回的是数组的视图\n",
    "* 任何对视图的修改，都会反应到原数组上"
   ],
   "id": "7c922a1350cc03de"
  },
  {
   "metadata": {
    "ExecuteTime": {
     "end_time": "2024-05-20T03:27:06.941468Z",
     "start_time": "2024-05-20T03:27:06.937473Z"
    }
   },
   "cell_type": "code",
   "source": "arr_slice = arr[5: 8]",
   "id": "79ee1f7cbcf58bef",
   "outputs": [],
   "execution_count": 8
  },
  {
   "metadata": {
    "ExecuteTime": {
     "end_time": "2024-05-20T03:27:07.174523Z",
     "start_time": "2024-05-20T03:27:07.169881Z"
    }
   },
   "cell_type": "code",
   "source": "arr_slice",
   "id": "4001188360f2780e",
   "outputs": [
    {
     "data": {
      "text/plain": [
       "array([12, 12, 12])"
      ]
     },
     "execution_count": 9,
     "metadata": {},
     "output_type": "execute_result"
    }
   ],
   "execution_count": 9
  },
  {
   "metadata": {
    "ExecuteTime": {
     "end_time": "2024-05-20T03:27:07.372039Z",
     "start_time": "2024-05-20T03:27:07.369296Z"
    }
   },
   "cell_type": "code",
   "source": "arr_slice[1] = 12345",
   "id": "29c27557ef6f5f0e",
   "outputs": [],
   "execution_count": 10
  },
  {
   "metadata": {
    "ExecuteTime": {
     "end_time": "2024-05-20T03:27:07.582216Z",
     "start_time": "2024-05-20T03:27:07.576938Z"
    }
   },
   "cell_type": "code",
   "source": "arr",
   "id": "6a15bfdb89577e41",
   "outputs": [
    {
     "data": {
      "text/plain": [
       "array([    0,     1,     2,     3,     4,    12, 12345,    12,     8,\n",
       "           9])"
      ]
     },
     "execution_count": 11,
     "metadata": {},
     "output_type": "execute_result"
    }
   ],
   "execution_count": 11
  },
  {
   "metadata": {},
   "cell_type": "markdown",
   "source": "* 使用cope方法获取视图的拷贝",
   "id": "11ae8bdb5a26beab"
  },
  {
   "metadata": {
    "ExecuteTime": {
     "end_time": "2024-05-20T03:27:07.975715Z",
     "start_time": "2024-05-20T03:27:07.971490Z"
    }
   },
   "cell_type": "code",
   "source": "arr2d = np.array([[1, 2, 3], [4, 5, 6], [7, 8, 9]])",
   "id": "f0036e5d2b334baf",
   "outputs": [],
   "execution_count": 12
  },
  {
   "metadata": {
    "ExecuteTime": {
     "end_time": "2024-05-20T03:27:08.171875Z",
     "start_time": "2024-05-20T03:27:08.167813Z"
    }
   },
   "cell_type": "code",
   "source": "arr2d",
   "id": "d5f75be87280d2ea",
   "outputs": [
    {
     "data": {
      "text/plain": [
       "array([[1, 2, 3],\n",
       "       [4, 5, 6],\n",
       "       [7, 8, 9]])"
      ]
     },
     "execution_count": 13,
     "metadata": {},
     "output_type": "execute_result"
    }
   ],
   "execution_count": 13
  },
  {
   "metadata": {
    "ExecuteTime": {
     "end_time": "2024-05-20T03:27:08.473285Z",
     "start_time": "2024-05-20T03:27:08.469426Z"
    }
   },
   "cell_type": "code",
   "source": "arr2d[2]",
   "id": "3ec2128975c47fb2",
   "outputs": [
    {
     "data": {
      "text/plain": [
       "array([7, 8, 9])"
      ]
     },
     "execution_count": 14,
     "metadata": {},
     "output_type": "execute_result"
    }
   ],
   "execution_count": 14
  },
  {
   "metadata": {
    "ExecuteTime": {
     "end_time": "2024-05-20T03:27:08.585668Z",
     "start_time": "2024-05-20T03:27:08.580999Z"
    }
   },
   "cell_type": "code",
   "source": "arr2d[0][2]",
   "id": "13de7980b5d60384",
   "outputs": [
    {
     "data": {
      "text/plain": [
       "3"
      ]
     },
     "execution_count": 15,
     "metadata": {},
     "output_type": "execute_result"
    }
   ],
   "execution_count": 15
  },
  {
   "metadata": {
    "ExecuteTime": {
     "end_time": "2024-05-20T03:27:08.693994Z",
     "start_time": "2024-05-20T03:27:08.689975Z"
    }
   },
   "cell_type": "code",
   "source": "arr2d[0, 2]",
   "id": "b0c41e0f620f7bcf",
   "outputs": [
    {
     "data": {
      "text/plain": [
       "3"
      ]
     },
     "execution_count": 16,
     "metadata": {},
     "output_type": "execute_result"
    }
   ],
   "execution_count": 16
  },
  {
   "metadata": {
    "ExecuteTime": {
     "end_time": "2024-05-20T03:27:08.922472Z",
     "start_time": "2024-05-20T03:27:08.918604Z"
    }
   },
   "cell_type": "code",
   "source": "arr3d = np.array([[[1, 2, 3], [4, 5, 6]], [[7, 8, 9], [10, 11, 12]]])",
   "id": "1105b6a3861ee69d",
   "outputs": [],
   "execution_count": 17
  },
  {
   "metadata": {
    "ExecuteTime": {
     "end_time": "2024-05-20T03:27:09.101847Z",
     "start_time": "2024-05-20T03:27:09.096879Z"
    }
   },
   "cell_type": "code",
   "source": "arr3d",
   "id": "4b160a9b9e362b55",
   "outputs": [
    {
     "data": {
      "text/plain": [
       "array([[[ 1,  2,  3],\n",
       "        [ 4,  5,  6]],\n",
       "\n",
       "       [[ 7,  8,  9],\n",
       "        [10, 11, 12]]])"
      ]
     },
     "execution_count": 18,
     "metadata": {},
     "output_type": "execute_result"
    }
   ],
   "execution_count": 18
  },
  {
   "metadata": {
    "ExecuteTime": {
     "end_time": "2024-05-20T03:27:09.262232Z",
     "start_time": "2024-05-20T03:27:09.258161Z"
    }
   },
   "cell_type": "code",
   "source": "arr3d[0]",
   "id": "f28d7f0aa382f415",
   "outputs": [
    {
     "data": {
      "text/plain": [
       "array([[1, 2, 3],\n",
       "       [4, 5, 6]])"
      ]
     },
     "execution_count": 19,
     "metadata": {},
     "output_type": "execute_result"
    }
   ],
   "execution_count": 19
  },
  {
   "metadata": {
    "ExecuteTime": {
     "end_time": "2024-05-20T03:27:09.483563Z",
     "start_time": "2024-05-20T03:27:09.480535Z"
    }
   },
   "cell_type": "code",
   "source": "old_values = arr3d[0].copy()",
   "id": "9bbf6080aad4282",
   "outputs": [],
   "execution_count": 20
  },
  {
   "metadata": {
    "ExecuteTime": {
     "end_time": "2024-05-20T03:27:09.637632Z",
     "start_time": "2024-05-20T03:27:09.634352Z"
    }
   },
   "cell_type": "code",
   "source": "arr3d[0] = 42",
   "id": "14b42265f529463d",
   "outputs": [],
   "execution_count": 21
  },
  {
   "metadata": {
    "ExecuteTime": {
     "end_time": "2024-05-20T03:27:09.927662Z",
     "start_time": "2024-05-20T03:27:09.921761Z"
    }
   },
   "cell_type": "code",
   "source": "arr3d",
   "id": "cfe8d06929d9bb10",
   "outputs": [
    {
     "data": {
      "text/plain": [
       "array([[[42, 42, 42],\n",
       "        [42, 42, 42]],\n",
       "\n",
       "       [[ 7,  8,  9],\n",
       "        [10, 11, 12]]])"
      ]
     },
     "execution_count": 22,
     "metadata": {},
     "output_type": "execute_result"
    }
   ],
   "execution_count": 22
  },
  {
   "metadata": {
    "ExecuteTime": {
     "end_time": "2024-05-20T03:27:10.108983Z",
     "start_time": "2024-05-20T03:27:10.105889Z"
    }
   },
   "cell_type": "code",
   "source": "arr3d[0] = old_values",
   "id": "21f29fd2992ffea5",
   "outputs": [],
   "execution_count": 23
  },
  {
   "metadata": {
    "ExecuteTime": {
     "end_time": "2024-05-20T03:27:10.278760Z",
     "start_time": "2024-05-20T03:27:10.274805Z"
    }
   },
   "cell_type": "code",
   "source": "arr3d",
   "id": "e33cad0893748f4a",
   "outputs": [
    {
     "data": {
      "text/plain": [
       "array([[[ 1,  2,  3],\n",
       "        [ 4,  5,  6]],\n",
       "\n",
       "       [[ 7,  8,  9],\n",
       "        [10, 11, 12]]])"
      ]
     },
     "execution_count": 24,
     "metadata": {},
     "output_type": "execute_result"
    }
   ],
   "execution_count": 24
  },
  {
   "metadata": {
    "ExecuteTime": {
     "end_time": "2024-05-20T03:27:10.479820Z",
     "start_time": "2024-05-20T03:27:10.475083Z"
    }
   },
   "cell_type": "code",
   "source": "arr3d[1, 0]",
   "id": "ff67649071e0baf6",
   "outputs": [
    {
     "data": {
      "text/plain": [
       "array([7, 8, 9])"
      ]
     },
     "execution_count": 25,
     "metadata": {},
     "output_type": "execute_result"
    }
   ],
   "execution_count": 25
  },
  {
   "metadata": {
    "ExecuteTime": {
     "end_time": "2024-05-20T03:27:10.881678Z",
     "start_time": "2024-05-20T03:27:10.876722Z"
    }
   },
   "cell_type": "code",
   "source": "arr3d[0, 1]",
   "id": "5fa6292a9a23b74c",
   "outputs": [
    {
     "data": {
      "text/plain": [
       "array([4, 5, 6])"
      ]
     },
     "execution_count": 26,
     "metadata": {},
     "output_type": "execute_result"
    }
   ],
   "execution_count": 26
  },
  {
   "metadata": {},
   "cell_type": "markdown",
   "source": "* 数组的切片索引",
   "id": "e0d3a727d5888224"
  },
  {
   "metadata": {
    "ExecuteTime": {
     "end_time": "2024-05-20T03:27:11.284185Z",
     "start_time": "2024-05-20T03:27:11.278933Z"
    }
   },
   "cell_type": "code",
   "source": "arr",
   "id": "53ccaaf02613e4af",
   "outputs": [
    {
     "data": {
      "text/plain": [
       "array([    0,     1,     2,     3,     4,    12, 12345,    12,     8,\n",
       "           9])"
      ]
     },
     "execution_count": 27,
     "metadata": {},
     "output_type": "execute_result"
    }
   ],
   "execution_count": 27
  },
  {
   "metadata": {
    "ExecuteTime": {
     "end_time": "2024-05-20T03:27:11.479197Z",
     "start_time": "2024-05-20T03:27:11.474511Z"
    }
   },
   "cell_type": "code",
   "source": "arr[1: 6]",
   "id": "75b8ab583c34e086",
   "outputs": [
    {
     "data": {
      "text/plain": [
       "array([ 1,  2,  3,  4, 12])"
      ]
     },
     "execution_count": 28,
     "metadata": {},
     "output_type": "execute_result"
    }
   ],
   "execution_count": 28
  },
  {
   "metadata": {
    "ExecuteTime": {
     "end_time": "2024-05-20T03:27:11.669460Z",
     "start_time": "2024-05-20T03:27:11.665591Z"
    }
   },
   "cell_type": "code",
   "source": "arr2d",
   "id": "8f302a7d643bcda6",
   "outputs": [
    {
     "data": {
      "text/plain": [
       "array([[1, 2, 3],\n",
       "       [4, 5, 6],\n",
       "       [7, 8, 9]])"
      ]
     },
     "execution_count": 29,
     "metadata": {},
     "output_type": "execute_result"
    }
   ],
   "execution_count": 29
  },
  {
   "metadata": {
    "ExecuteTime": {
     "end_time": "2024-05-20T03:27:11.872111Z",
     "start_time": "2024-05-20T03:27:11.867591Z"
    }
   },
   "cell_type": "code",
   "source": "arr2d[:2]",
   "id": "5fd156f50adc92c3",
   "outputs": [
    {
     "data": {
      "text/plain": [
       "array([[1, 2, 3],\n",
       "       [4, 5, 6]])"
      ]
     },
     "execution_count": 30,
     "metadata": {},
     "output_type": "execute_result"
    }
   ],
   "execution_count": 30
  },
  {
   "metadata": {
    "ExecuteTime": {
     "end_time": "2024-05-20T03:27:12.109960Z",
     "start_time": "2024-05-20T03:27:12.104915Z"
    }
   },
   "cell_type": "code",
   "source": "arr2d[:2, 1:]",
   "id": "3d81c2ee7ca08427",
   "outputs": [
    {
     "data": {
      "text/plain": [
       "array([[2, 3],\n",
       "       [5, 6]])"
      ]
     },
     "execution_count": 31,
     "metadata": {},
     "output_type": "execute_result"
    }
   ],
   "execution_count": 31
  },
  {
   "metadata": {
    "ExecuteTime": {
     "end_time": "2024-05-20T03:27:12.322841Z",
     "start_time": "2024-05-20T03:27:12.318738Z"
    }
   },
   "cell_type": "code",
   "source": "arr2d[1, :2]",
   "id": "6a304e6ee44fae50",
   "outputs": [
    {
     "data": {
      "text/plain": [
       "array([4, 5])"
      ]
     },
     "execution_count": 32,
     "metadata": {},
     "output_type": "execute_result"
    }
   ],
   "execution_count": 32
  },
  {
   "metadata": {
    "ExecuteTime": {
     "end_time": "2024-05-20T03:27:12.490111Z",
     "start_time": "2024-05-20T03:27:12.485424Z"
    }
   },
   "cell_type": "code",
   "source": "arr2d[:2, 2]",
   "id": "88aa5e71d5c2f512",
   "outputs": [
    {
     "data": {
      "text/plain": [
       "array([3, 6])"
      ]
     },
     "execution_count": 33,
     "metadata": {},
     "output_type": "execute_result"
    }
   ],
   "execution_count": 33
  },
  {
   "metadata": {
    "ExecuteTime": {
     "end_time": "2024-05-20T03:27:12.687253Z",
     "start_time": "2024-05-20T03:27:12.683931Z"
    }
   },
   "cell_type": "code",
   "source": "arr2d[:2, 1:] = 0",
   "id": "e4597826529c9696",
   "outputs": [],
   "execution_count": 34
  },
  {
   "metadata": {
    "ExecuteTime": {
     "end_time": "2024-05-20T03:27:12.903575Z",
     "start_time": "2024-05-20T03:27:12.899148Z"
    }
   },
   "cell_type": "code",
   "source": "arr2d",
   "id": "c2e17f0aff48cc64",
   "outputs": [
    {
     "data": {
      "text/plain": [
       "array([[1, 0, 0],\n",
       "       [4, 0, 0],\n",
       "       [7, 8, 9]])"
      ]
     },
     "execution_count": 35,
     "metadata": {},
     "output_type": "execute_result"
    }
   ],
   "execution_count": 35
  },
  {
   "metadata": {},
   "cell_type": "markdown",
   "source": "* 布尔索引",
   "id": "d8671527d6b2aa2a"
  },
  {
   "metadata": {
    "ExecuteTime": {
     "end_time": "2024-05-20T03:27:13.292939Z",
     "start_time": "2024-05-20T03:27:13.289618Z"
    }
   },
   "cell_type": "code",
   "source": "names = np.array(['Bob', 'Joe', 'Will', 'Bob', 'Will', 'Joe', 'Joe'])",
   "id": "5df7e09d63f87c5a",
   "outputs": [],
   "execution_count": 36
  },
  {
   "metadata": {
    "ExecuteTime": {
     "end_time": "2024-05-20T03:27:13.557358Z",
     "start_time": "2024-05-20T03:27:13.553394Z"
    }
   },
   "cell_type": "code",
   "source": "data = np.random.randn(7, 4)",
   "id": "2e69ff0bfa79d130",
   "outputs": [],
   "execution_count": 37
  },
  {
   "metadata": {
    "ExecuteTime": {
     "end_time": "2024-05-20T03:27:13.757932Z",
     "start_time": "2024-05-20T03:27:13.753074Z"
    }
   },
   "cell_type": "code",
   "source": "data",
   "id": "727262e2aac7e876",
   "outputs": [
    {
     "data": {
      "text/plain": [
       "array([[-0.46708339, -1.83536376,  0.35030078,  2.99976082],\n",
       "       [-0.37967422,  0.15291539, -0.88067227,  0.50558774],\n",
       "       [-1.0503696 ,  2.79882734, -0.02597287, -0.70664108],\n",
       "       [-0.82656576, -0.16739338, -0.6692964 , -0.75876993],\n",
       "       [ 1.25324539,  1.29237842,  1.91097432, -1.27041509],\n",
       "       [ 1.40820893, -1.67744571, -1.01733671, -0.29118679],\n",
       "       [-0.58048516, -2.96310312, -0.85797532,  1.84927498]])"
      ]
     },
     "execution_count": 38,
     "metadata": {},
     "output_type": "execute_result"
    }
   ],
   "execution_count": 38
  },
  {
   "metadata": {
    "ExecuteTime": {
     "end_time": "2024-05-20T03:27:13.978780Z",
     "start_time": "2024-05-20T03:27:13.974494Z"
    }
   },
   "cell_type": "code",
   "source": "names",
   "id": "19cc43eae32cfa5e",
   "outputs": [
    {
     "data": {
      "text/plain": [
       "array(['Bob', 'Joe', 'Will', 'Bob', 'Will', 'Joe', 'Joe'], dtype='<U4')"
      ]
     },
     "execution_count": 39,
     "metadata": {},
     "output_type": "execute_result"
    }
   ],
   "execution_count": 39
  },
  {
   "metadata": {
    "ExecuteTime": {
     "end_time": "2024-05-20T03:27:14.228232Z",
     "start_time": "2024-05-20T03:27:14.223112Z"
    }
   },
   "cell_type": "code",
   "source": "names == 'Bob'",
   "id": "c2196472d050c449",
   "outputs": [
    {
     "data": {
      "text/plain": [
       "array([ True, False, False,  True, False, False, False])"
      ]
     },
     "execution_count": 40,
     "metadata": {},
     "output_type": "execute_result"
    }
   ],
   "execution_count": 40
  },
  {
   "metadata": {
    "ExecuteTime": {
     "end_time": "2024-05-20T03:27:14.457177Z",
     "start_time": "2024-05-20T03:27:14.453231Z"
    }
   },
   "cell_type": "code",
   "source": "data[names == 'Bob']",
   "id": "1f831bf3c6ca463f",
   "outputs": [
    {
     "data": {
      "text/plain": [
       "array([[-0.46708339, -1.83536376,  0.35030078,  2.99976082],\n",
       "       [-0.82656576, -0.16739338, -0.6692964 , -0.75876993]])"
      ]
     },
     "execution_count": 41,
     "metadata": {},
     "output_type": "execute_result"
    }
   ],
   "execution_count": 41
  },
  {
   "metadata": {},
   "cell_type": "markdown",
   "source": [
    "布尔值数组的长度必须和数组轴索引的长度一致\n",
    "\n",
    "\n",
    "布尔值数组的长度不正确时， 布尔值数组选择数据的方法不会报错"
   ],
   "id": "f11239854b060a0"
  },
  {
   "metadata": {
    "ExecuteTime": {
     "end_time": "2024-05-20T03:27:14.895054Z",
     "start_time": "2024-05-20T03:27:14.889267Z"
    }
   },
   "cell_type": "code",
   "source": "data[names == 'Bob', : 2]",
   "id": "9eaf1fa34a9805e6",
   "outputs": [
    {
     "data": {
      "text/plain": [
       "array([[-0.46708339, -1.83536376],\n",
       "       [-0.82656576, -0.16739338]])"
      ]
     },
     "execution_count": 42,
     "metadata": {},
     "output_type": "execute_result"
    }
   ],
   "execution_count": 42
  },
  {
   "metadata": {
    "ExecuteTime": {
     "end_time": "2024-05-20T03:27:15.086606Z",
     "start_time": "2024-05-20T03:27:15.082974Z"
    }
   },
   "cell_type": "code",
   "source": "data[~(names != 'Bob')]",
   "id": "9a79ffb9ee52f845",
   "outputs": [
    {
     "data": {
      "text/plain": [
       "array([[-0.46708339, -1.83536376,  0.35030078,  2.99976082],\n",
       "       [-0.82656576, -0.16739338, -0.6692964 , -0.75876993]])"
      ]
     },
     "execution_count": 43,
     "metadata": {},
     "output_type": "execute_result"
    }
   ],
   "execution_count": 43
  },
  {
   "metadata": {
    "ExecuteTime": {
     "end_time": "2024-05-20T03:27:15.299089Z",
     "start_time": "2024-05-20T03:27:15.295730Z"
    }
   },
   "cell_type": "code",
   "source": "cond = names == 'Bob'",
   "id": "4ca5cf367a75064e",
   "outputs": [],
   "execution_count": 44
  },
  {
   "metadata": {
    "ExecuteTime": {
     "end_time": "2024-05-20T03:27:15.518305Z",
     "start_time": "2024-05-20T03:27:15.512973Z"
    }
   },
   "cell_type": "code",
   "source": "data[~cond]",
   "id": "42183c5651b2509c",
   "outputs": [
    {
     "data": {
      "text/plain": [
       "array([[-0.37967422,  0.15291539, -0.88067227,  0.50558774],\n",
       "       [-1.0503696 ,  2.79882734, -0.02597287, -0.70664108],\n",
       "       [ 1.25324539,  1.29237842,  1.91097432, -1.27041509],\n",
       "       [ 1.40820893, -1.67744571, -1.01733671, -0.29118679],\n",
       "       [-0.58048516, -2.96310312, -0.85797532,  1.84927498]])"
      ]
     },
     "execution_count": 45,
     "metadata": {},
     "output_type": "execute_result"
    }
   ],
   "execution_count": 45
  },
  {
   "metadata": {
    "ExecuteTime": {
     "end_time": "2024-05-20T03:27:15.734222Z",
     "start_time": "2024-05-20T03:27:15.731032Z"
    }
   },
   "cell_type": "code",
   "source": "mask = (names == 'Bob') | (names == 'Will')",
   "id": "65242b2bc57f31c",
   "outputs": [],
   "execution_count": 46
  },
  {
   "metadata": {
    "ExecuteTime": {
     "end_time": "2024-05-20T03:27:15.944486Z",
     "start_time": "2024-05-20T03:27:15.941047Z"
    }
   },
   "cell_type": "code",
   "source": "mask",
   "id": "66ba429204eab67e",
   "outputs": [
    {
     "data": {
      "text/plain": [
       "array([ True, False,  True,  True,  True, False, False])"
      ]
     },
     "execution_count": 47,
     "metadata": {},
     "output_type": "execute_result"
    }
   ],
   "execution_count": 47
  },
  {
   "metadata": {
    "ExecuteTime": {
     "end_time": "2024-05-20T03:27:16.137977Z",
     "start_time": "2024-05-20T03:27:16.132870Z"
    }
   },
   "cell_type": "code",
   "source": "data[mask]",
   "id": "b06ba3a16ca57d5b",
   "outputs": [
    {
     "data": {
      "text/plain": [
       "array([[-0.46708339, -1.83536376,  0.35030078,  2.99976082],\n",
       "       [-1.0503696 ,  2.79882734, -0.02597287, -0.70664108],\n",
       "       [-0.82656576, -0.16739338, -0.6692964 , -0.75876993],\n",
       "       [ 1.25324539,  1.29237842,  1.91097432, -1.27041509]])"
      ]
     },
     "execution_count": 48,
     "metadata": {},
     "output_type": "execute_result"
    }
   ],
   "execution_count": 48
  },
  {
   "metadata": {
    "ExecuteTime": {
     "end_time": "2024-05-20T03:27:16.342287Z",
     "start_time": "2024-05-20T03:27:16.337594Z"
    }
   },
   "cell_type": "code",
   "source": "data",
   "id": "e413d9409415d205",
   "outputs": [
    {
     "data": {
      "text/plain": [
       "array([[-0.46708339, -1.83536376,  0.35030078,  2.99976082],\n",
       "       [-0.37967422,  0.15291539, -0.88067227,  0.50558774],\n",
       "       [-1.0503696 ,  2.79882734, -0.02597287, -0.70664108],\n",
       "       [-0.82656576, -0.16739338, -0.6692964 , -0.75876993],\n",
       "       [ 1.25324539,  1.29237842,  1.91097432, -1.27041509],\n",
       "       [ 1.40820893, -1.67744571, -1.01733671, -0.29118679],\n",
       "       [-0.58048516, -2.96310312, -0.85797532,  1.84927498]])"
      ]
     },
     "execution_count": 49,
     "metadata": {},
     "output_type": "execute_result"
    }
   ],
   "execution_count": 49
  },
  {
   "metadata": {},
   "cell_type": "markdown",
   "source": "需要注意 python 中 bool运算的关键字对布尔值数组没有效果吗需要用 & | 代替",
   "id": "e9caa9ec7351a73d"
  },
  {
   "metadata": {
    "ExecuteTime": {
     "end_time": "2024-05-20T03:27:16.739837Z",
     "start_time": "2024-05-20T03:27:16.736911Z"
    }
   },
   "cell_type": "code",
   "source": "data[data > 0] = 0",
   "id": "db8f54c1f13c94c1",
   "outputs": [],
   "execution_count": 50
  },
  {
   "metadata": {
    "ExecuteTime": {
     "end_time": "2024-05-20T03:27:16.925767Z",
     "start_time": "2024-05-20T03:27:16.920852Z"
    }
   },
   "cell_type": "code",
   "source": "data",
   "id": "c4a81725c2d7ce9c",
   "outputs": [
    {
     "data": {
      "text/plain": [
       "array([[-0.46708339, -1.83536376,  0.        ,  0.        ],\n",
       "       [-0.37967422,  0.        , -0.88067227,  0.        ],\n",
       "       [-1.0503696 ,  0.        , -0.02597287, -0.70664108],\n",
       "       [-0.82656576, -0.16739338, -0.6692964 , -0.75876993],\n",
       "       [ 0.        ,  0.        ,  0.        , -1.27041509],\n",
       "       [ 0.        , -1.67744571, -1.01733671, -0.29118679],\n",
       "       [-0.58048516, -2.96310312, -0.85797532,  0.        ]])"
      ]
     },
     "execution_count": 51,
     "metadata": {},
     "output_type": "execute_result"
    }
   ],
   "execution_count": 51
  },
  {
   "metadata": {
    "ExecuteTime": {
     "end_time": "2024-05-20T03:27:17.140361Z",
     "start_time": "2024-05-20T03:27:17.137632Z"
    }
   },
   "cell_type": "code",
   "source": "data[names != 'Joe'] = 7",
   "id": "e474241e5dd8a388",
   "outputs": [],
   "execution_count": 52
  },
  {
   "metadata": {
    "ExecuteTime": {
     "end_time": "2024-05-20T03:27:17.381727Z",
     "start_time": "2024-05-20T03:27:17.377823Z"
    }
   },
   "cell_type": "code",
   "source": "data",
   "id": "501728b28634ea5d",
   "outputs": [
    {
     "data": {
      "text/plain": [
       "array([[ 7.        ,  7.        ,  7.        ,  7.        ],\n",
       "       [-0.37967422,  0.        , -0.88067227,  0.        ],\n",
       "       [ 7.        ,  7.        ,  7.        ,  7.        ],\n",
       "       [ 7.        ,  7.        ,  7.        ,  7.        ],\n",
       "       [ 7.        ,  7.        ,  7.        ,  7.        ],\n",
       "       [ 0.        , -1.67744571, -1.01733671, -0.29118679],\n",
       "       [-0.58048516, -2.96310312, -0.85797532,  0.        ]])"
      ]
     },
     "execution_count": 53,
     "metadata": {},
     "output_type": "execute_result"
    }
   ],
   "execution_count": 53
  }
 ],
 "metadata": {
  "kernelspec": {
   "display_name": "Python 3",
   "language": "python",
   "name": "python3"
  },
  "language_info": {
   "codemirror_mode": {
    "name": "ipython",
    "version": 2
   },
   "file_extension": ".py",
   "mimetype": "text/x-python",
   "name": "python",
   "nbconvert_exporter": "python",
   "pygments_lexer": "ipython2",
   "version": "2.7.6"
  }
 },
 "nbformat": 4,
 "nbformat_minor": 5
}
