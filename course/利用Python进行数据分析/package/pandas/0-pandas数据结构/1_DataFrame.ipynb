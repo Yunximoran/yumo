{
 "cells": [
  {
   "cell_type": "code",
   "id": "initial_id",
   "metadata": {
    "collapsed": true,
    "ExecuteTime": {
     "end_time": "2024-05-20T03:33:04.154988Z",
     "start_time": "2024-05-20T03:33:03.791805Z"
    }
   },
   "source": "import pandas as pd",
   "outputs": [],
   "execution_count": 1
  },
  {
   "metadata": {},
   "cell_type": "markdown",
   "source": [
    "\n",
    "# DataFrame\n",
    "\n",
    "* DataFrame表示矩阵的数据表，包含已排序的列集合\n",
    "    * 每一列的值可以是不同的类型。\n",
    "    * DataFrame既有行索引，也有列索引 == 共享相同索引的Series的字典(存在一个字典， 字典中的每个键对应了一个Series对象， *所有Series对象的index都相同*)\n",
    "    * DataFrame数据存储在一个二维块， 而不是列表，字典或其他一维数据的集合\n",
    "\n",
    "* DataFrame属于二维数据，但是利用分层索引在DataFrame中展现更高维度的数据 —— 类似关系表的外键"
   ],
   "id": "57b519f64578b90"
  },
  {
   "metadata": {},
   "cell_type": "markdown",
   "source": "* 可以将嵌套一维数据的字典作为参数传递",
   "id": "d0be3b672a490663"
  },
  {
   "metadata": {
    "ExecuteTime": {
     "end_time": "2024-05-20T03:33:04.159745Z",
     "start_time": "2024-05-20T03:33:04.156Z"
    }
   },
   "cell_type": "code",
   "source": [
    "data = {\n",
    "    'state': [\"Ohio\", \"Ohio\", \"Ohio\", \"Nevada\", \"Nevada\", \"Nevada\"],\n",
    "    'year': [2000, 2001, 2002, 2003, 2001, 2002],\n",
    "    'pop': [1.4, 2.3, 6.5, 7.4, 1., 4.3]\n",
    "}"
   ],
   "id": "9657bccd6631ccaf",
   "outputs": [],
   "execution_count": 2
  },
  {
   "metadata": {
    "ExecuteTime": {
     "end_time": "2024-05-20T03:33:04.165847Z",
     "start_time": "2024-05-20T03:33:04.160755Z"
    }
   },
   "cell_type": "code",
   "source": "frame = pd.DataFrame(data)",
   "id": "60fa021e9f86dd2f",
   "outputs": [],
   "execution_count": 3
  },
  {
   "metadata": {
    "ExecuteTime": {
     "end_time": "2024-05-20T03:33:04.175614Z",
     "start_time": "2024-05-20T03:33:04.165847Z"
    }
   },
   "cell_type": "code",
   "source": "frame",
   "id": "b0b558da77a29152",
   "outputs": [
    {
     "data": {
      "text/plain": [
       "    state  year  pop\n",
       "0    Ohio  2000  1.4\n",
       "1    Ohio  2001  2.3\n",
       "2    Ohio  2002  6.5\n",
       "3  Nevada  2003  7.4\n",
       "4  Nevada  2001  1.0\n",
       "5  Nevada  2002  4.3"
      ],
      "text/html": [
       "<div>\n",
       "<style scoped>\n",
       "    .dataframe tbody tr th:only-of-type {\n",
       "        vertical-align: middle;\n",
       "    }\n",
       "\n",
       "    .dataframe tbody tr th {\n",
       "        vertical-align: top;\n",
       "    }\n",
       "\n",
       "    .dataframe thead th {\n",
       "        text-align: right;\n",
       "    }\n",
       "</style>\n",
       "<table border=\"1\" class=\"dataframe\">\n",
       "  <thead>\n",
       "    <tr style=\"text-align: right;\">\n",
       "      <th></th>\n",
       "      <th>state</th>\n",
       "      <th>year</th>\n",
       "      <th>pop</th>\n",
       "    </tr>\n",
       "  </thead>\n",
       "  <tbody>\n",
       "    <tr>\n",
       "      <th>0</th>\n",
       "      <td>Ohio</td>\n",
       "      <td>2000</td>\n",
       "      <td>1.4</td>\n",
       "    </tr>\n",
       "    <tr>\n",
       "      <th>1</th>\n",
       "      <td>Ohio</td>\n",
       "      <td>2001</td>\n",
       "      <td>2.3</td>\n",
       "    </tr>\n",
       "    <tr>\n",
       "      <th>2</th>\n",
       "      <td>Ohio</td>\n",
       "      <td>2002</td>\n",
       "      <td>6.5</td>\n",
       "    </tr>\n",
       "    <tr>\n",
       "      <th>3</th>\n",
       "      <td>Nevada</td>\n",
       "      <td>2003</td>\n",
       "      <td>7.4</td>\n",
       "    </tr>\n",
       "    <tr>\n",
       "      <th>4</th>\n",
       "      <td>Nevada</td>\n",
       "      <td>2001</td>\n",
       "      <td>1.0</td>\n",
       "    </tr>\n",
       "    <tr>\n",
       "      <th>5</th>\n",
       "      <td>Nevada</td>\n",
       "      <td>2002</td>\n",
       "      <td>4.3</td>\n",
       "    </tr>\n",
       "  </tbody>\n",
       "</table>\n",
       "</div>"
      ]
     },
     "execution_count": 4,
     "metadata": {},
     "output_type": "execute_result"
    }
   ],
   "execution_count": 4
  },
  {
   "metadata": {},
   "cell_type": "markdown",
   "source": [
    "* head属性， 可以获取DataFrame的前5行数据\n",
    "* tail属性， 可以获取DataFrame的后5行数据"
   ],
   "id": "a4b236e6119bee87"
  },
  {
   "metadata": {
    "ExecuteTime": {
     "end_time": "2024-05-20T03:33:04.181389Z",
     "start_time": "2024-05-20T03:33:04.175614Z"
    }
   },
   "cell_type": "code",
   "source": "frame.head()",
   "id": "8b596e9bee4a468c",
   "outputs": [
    {
     "data": {
      "text/plain": [
       "    state  year  pop\n",
       "0    Ohio  2000  1.4\n",
       "1    Ohio  2001  2.3\n",
       "2    Ohio  2002  6.5\n",
       "3  Nevada  2003  7.4\n",
       "4  Nevada  2001  1.0"
      ],
      "text/html": [
       "<div>\n",
       "<style scoped>\n",
       "    .dataframe tbody tr th:only-of-type {\n",
       "        vertical-align: middle;\n",
       "    }\n",
       "\n",
       "    .dataframe tbody tr th {\n",
       "        vertical-align: top;\n",
       "    }\n",
       "\n",
       "    .dataframe thead th {\n",
       "        text-align: right;\n",
       "    }\n",
       "</style>\n",
       "<table border=\"1\" class=\"dataframe\">\n",
       "  <thead>\n",
       "    <tr style=\"text-align: right;\">\n",
       "      <th></th>\n",
       "      <th>state</th>\n",
       "      <th>year</th>\n",
       "      <th>pop</th>\n",
       "    </tr>\n",
       "  </thead>\n",
       "  <tbody>\n",
       "    <tr>\n",
       "      <th>0</th>\n",
       "      <td>Ohio</td>\n",
       "      <td>2000</td>\n",
       "      <td>1.4</td>\n",
       "    </tr>\n",
       "    <tr>\n",
       "      <th>1</th>\n",
       "      <td>Ohio</td>\n",
       "      <td>2001</td>\n",
       "      <td>2.3</td>\n",
       "    </tr>\n",
       "    <tr>\n",
       "      <th>2</th>\n",
       "      <td>Ohio</td>\n",
       "      <td>2002</td>\n",
       "      <td>6.5</td>\n",
       "    </tr>\n",
       "    <tr>\n",
       "      <th>3</th>\n",
       "      <td>Nevada</td>\n",
       "      <td>2003</td>\n",
       "      <td>7.4</td>\n",
       "    </tr>\n",
       "    <tr>\n",
       "      <th>4</th>\n",
       "      <td>Nevada</td>\n",
       "      <td>2001</td>\n",
       "      <td>1.0</td>\n",
       "    </tr>\n",
       "  </tbody>\n",
       "</table>\n",
       "</div>"
      ]
     },
     "execution_count": 5,
     "metadata": {},
     "output_type": "execute_result"
    }
   ],
   "execution_count": 5
  },
  {
   "metadata": {
    "ExecuteTime": {
     "end_time": "2024-05-20T03:33:04.188869Z",
     "start_time": "2024-05-20T03:33:04.182393Z"
    }
   },
   "cell_type": "code",
   "source": "frame.tail()",
   "id": "5bca399ae6353fcc",
   "outputs": [
    {
     "data": {
      "text/plain": [
       "    state  year  pop\n",
       "1    Ohio  2001  2.3\n",
       "2    Ohio  2002  6.5\n",
       "3  Nevada  2003  7.4\n",
       "4  Nevada  2001  1.0\n",
       "5  Nevada  2002  4.3"
      ],
      "text/html": [
       "<div>\n",
       "<style scoped>\n",
       "    .dataframe tbody tr th:only-of-type {\n",
       "        vertical-align: middle;\n",
       "    }\n",
       "\n",
       "    .dataframe tbody tr th {\n",
       "        vertical-align: top;\n",
       "    }\n",
       "\n",
       "    .dataframe thead th {\n",
       "        text-align: right;\n",
       "    }\n",
       "</style>\n",
       "<table border=\"1\" class=\"dataframe\">\n",
       "  <thead>\n",
       "    <tr style=\"text-align: right;\">\n",
       "      <th></th>\n",
       "      <th>state</th>\n",
       "      <th>year</th>\n",
       "      <th>pop</th>\n",
       "    </tr>\n",
       "  </thead>\n",
       "  <tbody>\n",
       "    <tr>\n",
       "      <th>1</th>\n",
       "      <td>Ohio</td>\n",
       "      <td>2001</td>\n",
       "      <td>2.3</td>\n",
       "    </tr>\n",
       "    <tr>\n",
       "      <th>2</th>\n",
       "      <td>Ohio</td>\n",
       "      <td>2002</td>\n",
       "      <td>6.5</td>\n",
       "    </tr>\n",
       "    <tr>\n",
       "      <th>3</th>\n",
       "      <td>Nevada</td>\n",
       "      <td>2003</td>\n",
       "      <td>7.4</td>\n",
       "    </tr>\n",
       "    <tr>\n",
       "      <th>4</th>\n",
       "      <td>Nevada</td>\n",
       "      <td>2001</td>\n",
       "      <td>1.0</td>\n",
       "    </tr>\n",
       "    <tr>\n",
       "      <th>5</th>\n",
       "      <td>Nevada</td>\n",
       "      <td>2002</td>\n",
       "      <td>4.3</td>\n",
       "    </tr>\n",
       "  </tbody>\n",
       "</table>\n",
       "</div>"
      ]
     },
     "execution_count": 6,
     "metadata": {},
     "output_type": "execute_result"
    }
   ],
   "execution_count": 6
  },
  {
   "metadata": {},
   "cell_type": "markdown",
   "source": [
    "* 类似Series，可以传递一个索引列表， 对DataFrame的索引进行排序\n",
    "    * columns， DataFrame的索引被定义为列(columns)\n",
    "\n",
    "* DataFrame 也可以传递Series的索引，效果与Series相同"
   ],
   "id": "85c9f1886e2e3a5d"
  },
  {
   "metadata": {
    "ExecuteTime": {
     "end_time": "2024-05-20T03:33:04.194285Z",
     "start_time": "2024-05-20T03:33:04.188869Z"
    }
   },
   "cell_type": "code",
   "source": "frame2 = pd.DataFrame(data, columns=['year', 'state', 'pop', 'dept'], index=['one', 'two', 'three', 'four', 'five', 'six'])",
   "id": "14f7cdda256700a3",
   "outputs": [],
   "execution_count": 7
  },
  {
   "metadata": {
    "ExecuteTime": {
     "end_time": "2024-05-20T03:33:04.200612Z",
     "start_time": "2024-05-20T03:33:04.194285Z"
    }
   },
   "cell_type": "code",
   "source": "frame2",
   "id": "5083d3dff2ba227d",
   "outputs": [
    {
     "data": {
      "text/plain": [
       "       year   state  pop dept\n",
       "one    2000    Ohio  1.4  NaN\n",
       "two    2001    Ohio  2.3  NaN\n",
       "three  2002    Ohio  6.5  NaN\n",
       "four   2003  Nevada  7.4  NaN\n",
       "five   2001  Nevada  1.0  NaN\n",
       "six    2002  Nevada  4.3  NaN"
      ],
      "text/html": [
       "<div>\n",
       "<style scoped>\n",
       "    .dataframe tbody tr th:only-of-type {\n",
       "        vertical-align: middle;\n",
       "    }\n",
       "\n",
       "    .dataframe tbody tr th {\n",
       "        vertical-align: top;\n",
       "    }\n",
       "\n",
       "    .dataframe thead th {\n",
       "        text-align: right;\n",
       "    }\n",
       "</style>\n",
       "<table border=\"1\" class=\"dataframe\">\n",
       "  <thead>\n",
       "    <tr style=\"text-align: right;\">\n",
       "      <th></th>\n",
       "      <th>year</th>\n",
       "      <th>state</th>\n",
       "      <th>pop</th>\n",
       "      <th>dept</th>\n",
       "    </tr>\n",
       "  </thead>\n",
       "  <tbody>\n",
       "    <tr>\n",
       "      <th>one</th>\n",
       "      <td>2000</td>\n",
       "      <td>Ohio</td>\n",
       "      <td>1.4</td>\n",
       "      <td>NaN</td>\n",
       "    </tr>\n",
       "    <tr>\n",
       "      <th>two</th>\n",
       "      <td>2001</td>\n",
       "      <td>Ohio</td>\n",
       "      <td>2.3</td>\n",
       "      <td>NaN</td>\n",
       "    </tr>\n",
       "    <tr>\n",
       "      <th>three</th>\n",
       "      <td>2002</td>\n",
       "      <td>Ohio</td>\n",
       "      <td>6.5</td>\n",
       "      <td>NaN</td>\n",
       "    </tr>\n",
       "    <tr>\n",
       "      <th>four</th>\n",
       "      <td>2003</td>\n",
       "      <td>Nevada</td>\n",
       "      <td>7.4</td>\n",
       "      <td>NaN</td>\n",
       "    </tr>\n",
       "    <tr>\n",
       "      <th>five</th>\n",
       "      <td>2001</td>\n",
       "      <td>Nevada</td>\n",
       "      <td>1.0</td>\n",
       "      <td>NaN</td>\n",
       "    </tr>\n",
       "    <tr>\n",
       "      <th>six</th>\n",
       "      <td>2002</td>\n",
       "      <td>Nevada</td>\n",
       "      <td>4.3</td>\n",
       "      <td>NaN</td>\n",
       "    </tr>\n",
       "  </tbody>\n",
       "</table>\n",
       "</div>"
      ]
     },
     "execution_count": 8,
     "metadata": {},
     "output_type": "execute_result"
    }
   ],
   "execution_count": 8
  },
  {
   "metadata": {},
   "cell_type": "markdown",
   "source": "* 使用类似字典的索引方式，获取对应的Series对象\n",
   "id": "9716f033eba25843"
  },
  {
   "metadata": {
    "ExecuteTime": {
     "end_time": "2024-05-20T03:33:04.206542Z",
     "start_time": "2024-05-20T03:33:04.201620Z"
    }
   },
   "cell_type": "code",
   "source": "frame2['state']",
   "id": "35e213c31202a675",
   "outputs": [
    {
     "data": {
      "text/plain": [
       "one        Ohio\n",
       "two        Ohio\n",
       "three      Ohio\n",
       "four     Nevada\n",
       "five     Nevada\n",
       "six      Nevada\n",
       "Name: state, dtype: object"
      ]
     },
     "execution_count": 9,
     "metadata": {},
     "output_type": "execute_result"
    }
   ],
   "execution_count": 9
  },
  {
   "metadata": {},
   "cell_type": "markdown",
   "source": "* 使用属性获取对应的Series",
   "id": "1cbd5e3b53ea969a"
  },
  {
   "metadata": {
    "ExecuteTime": {
     "end_time": "2024-05-20T03:33:04.210893Z",
     "start_time": "2024-05-20T03:33:04.206542Z"
    }
   },
   "cell_type": "code",
   "source": "frame.year",
   "id": "bb0694a8c714dc6f",
   "outputs": [
    {
     "data": {
      "text/plain": [
       "0    2000\n",
       "1    2001\n",
       "2    2002\n",
       "3    2003\n",
       "4    2001\n",
       "5    2002\n",
       "Name: year, dtype: int64"
      ]
     },
     "execution_count": 10,
     "metadata": {},
     "output_type": "execute_result"
    }
   ],
   "execution_count": 10
  },
  {
   "metadata": {},
   "cell_type": "markdown",
   "source": [
    "***\n",
    "DataFrame[columns] 对任意的列名有效\n",
    "DataFrame.columns 只在列名有效\n",
    "<br>\n",
    "***"
   ],
   "id": "d839041242107be9"
  },
  {
   "metadata": {},
   "cell_type": "markdown",
   "source": "* loc 获取行",
   "id": "fc2b4a5401832ce0"
  },
  {
   "metadata": {
    "ExecuteTime": {
     "end_time": "2024-05-20T03:33:04.215276Z",
     "start_time": "2024-05-20T03:33:04.210893Z"
    }
   },
   "cell_type": "code",
   "source": "frame2.loc['three']",
   "id": "bf7108c172aded81",
   "outputs": [
    {
     "data": {
      "text/plain": [
       "year     2002\n",
       "state    Ohio\n",
       "pop       6.5\n",
       "dept      NaN\n",
       "Name: three, dtype: object"
      ]
     },
     "execution_count": 11,
     "metadata": {},
     "output_type": "execute_result"
    }
   ],
   "execution_count": 11
  },
  {
   "metadata": {},
   "cell_type": "markdown",
   "source": "* 利用pandas切片对视图进行修改，处理NaN",
   "id": "34b95e15c268407c"
  },
  {
   "metadata": {
    "ExecuteTime": {
     "end_time": "2024-05-20T03:33:04.218478Z",
     "start_time": "2024-05-20T03:33:04.215276Z"
    }
   },
   "cell_type": "code",
   "source": "frame2.dept = 16.5",
   "id": "6897f682b8ccb8d8",
   "outputs": [],
   "execution_count": 12
  },
  {
   "metadata": {
    "ExecuteTime": {
     "end_time": "2024-05-20T03:33:04.224617Z",
     "start_time": "2024-05-20T03:33:04.219489Z"
    }
   },
   "cell_type": "code",
   "source": "frame2",
   "id": "3b1cdca2364572b6",
   "outputs": [
    {
     "data": {
      "text/plain": [
       "       year   state  pop  dept\n",
       "one    2000    Ohio  1.4  16.5\n",
       "two    2001    Ohio  2.3  16.5\n",
       "three  2002    Ohio  6.5  16.5\n",
       "four   2003  Nevada  7.4  16.5\n",
       "five   2001  Nevada  1.0  16.5\n",
       "six    2002  Nevada  4.3  16.5"
      ],
      "text/html": [
       "<div>\n",
       "<style scoped>\n",
       "    .dataframe tbody tr th:only-of-type {\n",
       "        vertical-align: middle;\n",
       "    }\n",
       "\n",
       "    .dataframe tbody tr th {\n",
       "        vertical-align: top;\n",
       "    }\n",
       "\n",
       "    .dataframe thead th {\n",
       "        text-align: right;\n",
       "    }\n",
       "</style>\n",
       "<table border=\"1\" class=\"dataframe\">\n",
       "  <thead>\n",
       "    <tr style=\"text-align: right;\">\n",
       "      <th></th>\n",
       "      <th>year</th>\n",
       "      <th>state</th>\n",
       "      <th>pop</th>\n",
       "      <th>dept</th>\n",
       "    </tr>\n",
       "  </thead>\n",
       "  <tbody>\n",
       "    <tr>\n",
       "      <th>one</th>\n",
       "      <td>2000</td>\n",
       "      <td>Ohio</td>\n",
       "      <td>1.4</td>\n",
       "      <td>16.5</td>\n",
       "    </tr>\n",
       "    <tr>\n",
       "      <th>two</th>\n",
       "      <td>2001</td>\n",
       "      <td>Ohio</td>\n",
       "      <td>2.3</td>\n",
       "      <td>16.5</td>\n",
       "    </tr>\n",
       "    <tr>\n",
       "      <th>three</th>\n",
       "      <td>2002</td>\n",
       "      <td>Ohio</td>\n",
       "      <td>6.5</td>\n",
       "      <td>16.5</td>\n",
       "    </tr>\n",
       "    <tr>\n",
       "      <th>four</th>\n",
       "      <td>2003</td>\n",
       "      <td>Nevada</td>\n",
       "      <td>7.4</td>\n",
       "      <td>16.5</td>\n",
       "    </tr>\n",
       "    <tr>\n",
       "      <th>five</th>\n",
       "      <td>2001</td>\n",
       "      <td>Nevada</td>\n",
       "      <td>1.0</td>\n",
       "      <td>16.5</td>\n",
       "    </tr>\n",
       "    <tr>\n",
       "      <th>six</th>\n",
       "      <td>2002</td>\n",
       "      <td>Nevada</td>\n",
       "      <td>4.3</td>\n",
       "      <td>16.5</td>\n",
       "    </tr>\n",
       "  </tbody>\n",
       "</table>\n",
       "</div>"
      ]
     },
     "execution_count": 13,
     "metadata": {},
     "output_type": "execute_result"
    }
   ],
   "execution_count": 13
  },
  {
   "metadata": {},
   "cell_type": "markdown",
   "source": "* 可以用一个一维数据进行赋值，但是长度必须与DataFrame相同",
   "id": "274a8a8d38e7a3e9"
  },
  {
   "metadata": {
    "ExecuteTime": {
     "end_time": "2024-05-20T03:33:04.227737Z",
     "start_time": "2024-05-20T03:33:04.224617Z"
    }
   },
   "cell_type": "code",
   "source": "frame2.dept = range(6)",
   "id": "262498c61c3aedaa",
   "outputs": [],
   "execution_count": 14
  },
  {
   "metadata": {
    "ExecuteTime": {
     "end_time": "2024-05-20T03:33:04.233509Z",
     "start_time": "2024-05-20T03:33:04.227737Z"
    }
   },
   "cell_type": "code",
   "source": "frame2",
   "id": "484cbcd6164e24cf",
   "outputs": [
    {
     "data": {
      "text/plain": [
       "       year   state  pop  dept\n",
       "one    2000    Ohio  1.4     0\n",
       "two    2001    Ohio  2.3     1\n",
       "three  2002    Ohio  6.5     2\n",
       "four   2003  Nevada  7.4     3\n",
       "five   2001  Nevada  1.0     4\n",
       "six    2002  Nevada  4.3     5"
      ],
      "text/html": [
       "<div>\n",
       "<style scoped>\n",
       "    .dataframe tbody tr th:only-of-type {\n",
       "        vertical-align: middle;\n",
       "    }\n",
       "\n",
       "    .dataframe tbody tr th {\n",
       "        vertical-align: top;\n",
       "    }\n",
       "\n",
       "    .dataframe thead th {\n",
       "        text-align: right;\n",
       "    }\n",
       "</style>\n",
       "<table border=\"1\" class=\"dataframe\">\n",
       "  <thead>\n",
       "    <tr style=\"text-align: right;\">\n",
       "      <th></th>\n",
       "      <th>year</th>\n",
       "      <th>state</th>\n",
       "      <th>pop</th>\n",
       "      <th>dept</th>\n",
       "    </tr>\n",
       "  </thead>\n",
       "  <tbody>\n",
       "    <tr>\n",
       "      <th>one</th>\n",
       "      <td>2000</td>\n",
       "      <td>Ohio</td>\n",
       "      <td>1.4</td>\n",
       "      <td>0</td>\n",
       "    </tr>\n",
       "    <tr>\n",
       "      <th>two</th>\n",
       "      <td>2001</td>\n",
       "      <td>Ohio</td>\n",
       "      <td>2.3</td>\n",
       "      <td>1</td>\n",
       "    </tr>\n",
       "    <tr>\n",
       "      <th>three</th>\n",
       "      <td>2002</td>\n",
       "      <td>Ohio</td>\n",
       "      <td>6.5</td>\n",
       "      <td>2</td>\n",
       "    </tr>\n",
       "    <tr>\n",
       "      <th>four</th>\n",
       "      <td>2003</td>\n",
       "      <td>Nevada</td>\n",
       "      <td>7.4</td>\n",
       "      <td>3</td>\n",
       "    </tr>\n",
       "    <tr>\n",
       "      <th>five</th>\n",
       "      <td>2001</td>\n",
       "      <td>Nevada</td>\n",
       "      <td>1.0</td>\n",
       "      <td>4</td>\n",
       "    </tr>\n",
       "    <tr>\n",
       "      <th>six</th>\n",
       "      <td>2002</td>\n",
       "      <td>Nevada</td>\n",
       "      <td>4.3</td>\n",
       "      <td>5</td>\n",
       "    </tr>\n",
       "  </tbody>\n",
       "</table>\n",
       "</div>"
      ]
     },
     "execution_count": 15,
     "metadata": {},
     "output_type": "execute_result"
    }
   ],
   "execution_count": 15
  },
  {
   "metadata": {},
   "cell_type": "markdown",
   "source": [
    "* 特别的， 将Series作为一列传递时，Series将会按照DataFrame的索引重新排列\n",
    "* 需要注意，这个操作会对整列进行修改，如果DataFrame的索引不在Series中，则对应的值会被修改为NaN\n",
    "* 如果Series的索引不在DataFrame中，则这一条目会被DataFame排除"
   ],
   "id": "4fc97de825d0e616"
  },
  {
   "metadata": {
    "ExecuteTime": {
     "end_time": "2024-05-20T03:33:04.236907Z",
     "start_time": "2024-05-20T03:33:04.234516Z"
    }
   },
   "cell_type": "code",
   "source": "val = pd.Series([-1.2, -1.4, -1.9, 3.3], index=['two', 'four', 'five', 'seven'])",
   "id": "73039ad6459dcf5e",
   "outputs": [],
   "execution_count": 16
  },
  {
   "metadata": {
    "ExecuteTime": {
     "end_time": "2024-05-20T03:33:04.240928Z",
     "start_time": "2024-05-20T03:33:04.237916Z"
    }
   },
   "cell_type": "code",
   "source": "frame2['dept'] = val",
   "id": "eff1548c79b41b3f",
   "outputs": [],
   "execution_count": 17
  },
  {
   "metadata": {
    "ExecuteTime": {
     "end_time": "2024-05-20T03:33:04.248630Z",
     "start_time": "2024-05-20T03:33:04.242936Z"
    }
   },
   "cell_type": "code",
   "source": "frame2",
   "id": "e289b6b0c4a831b8",
   "outputs": [
    {
     "data": {
      "text/plain": [
       "       year   state  pop  dept\n",
       "one    2000    Ohio  1.4   NaN\n",
       "two    2001    Ohio  2.3  -1.2\n",
       "three  2002    Ohio  6.5   NaN\n",
       "four   2003  Nevada  7.4  -1.4\n",
       "five   2001  Nevada  1.0  -1.9\n",
       "six    2002  Nevada  4.3   NaN"
      ],
      "text/html": [
       "<div>\n",
       "<style scoped>\n",
       "    .dataframe tbody tr th:only-of-type {\n",
       "        vertical-align: middle;\n",
       "    }\n",
       "\n",
       "    .dataframe tbody tr th {\n",
       "        vertical-align: top;\n",
       "    }\n",
       "\n",
       "    .dataframe thead th {\n",
       "        text-align: right;\n",
       "    }\n",
       "</style>\n",
       "<table border=\"1\" class=\"dataframe\">\n",
       "  <thead>\n",
       "    <tr style=\"text-align: right;\">\n",
       "      <th></th>\n",
       "      <th>year</th>\n",
       "      <th>state</th>\n",
       "      <th>pop</th>\n",
       "      <th>dept</th>\n",
       "    </tr>\n",
       "  </thead>\n",
       "  <tbody>\n",
       "    <tr>\n",
       "      <th>one</th>\n",
       "      <td>2000</td>\n",
       "      <td>Ohio</td>\n",
       "      <td>1.4</td>\n",
       "      <td>NaN</td>\n",
       "    </tr>\n",
       "    <tr>\n",
       "      <th>two</th>\n",
       "      <td>2001</td>\n",
       "      <td>Ohio</td>\n",
       "      <td>2.3</td>\n",
       "      <td>-1.2</td>\n",
       "    </tr>\n",
       "    <tr>\n",
       "      <th>three</th>\n",
       "      <td>2002</td>\n",
       "      <td>Ohio</td>\n",
       "      <td>6.5</td>\n",
       "      <td>NaN</td>\n",
       "    </tr>\n",
       "    <tr>\n",
       "      <th>four</th>\n",
       "      <td>2003</td>\n",
       "      <td>Nevada</td>\n",
       "      <td>7.4</td>\n",
       "      <td>-1.4</td>\n",
       "    </tr>\n",
       "    <tr>\n",
       "      <th>five</th>\n",
       "      <td>2001</td>\n",
       "      <td>Nevada</td>\n",
       "      <td>1.0</td>\n",
       "      <td>-1.9</td>\n",
       "    </tr>\n",
       "    <tr>\n",
       "      <th>six</th>\n",
       "      <td>2002</td>\n",
       "      <td>Nevada</td>\n",
       "      <td>4.3</td>\n",
       "      <td>NaN</td>\n",
       "    </tr>\n",
       "  </tbody>\n",
       "</table>\n",
       "</div>"
      ]
     },
     "execution_count": 18,
     "metadata": {},
     "output_type": "execute_result"
    }
   ],
   "execution_count": 18
  },
  {
   "metadata": {},
   "cell_type": "markdown",
   "source": [
    "* 如果DataFrame索引的列不存在，这个方法会为DataFrame创建新的列\n",
    "* 使用属性索引(DataFrame.columns)的方法无法创建\n",
    "    * 程序可以正常运行，但是不会有结果"
   ],
   "id": "493921517ae2902"
  },
  {
   "metadata": {
    "ExecuteTime": {
     "end_time": "2024-05-20T03:33:04.255494Z",
     "start_time": "2024-05-20T03:33:04.249642Z"
    }
   },
   "cell_type": "code",
   "source": "frame2['eastern'] = frame2.state == \"Ohio\"",
   "id": "3223ac14d51f4f31",
   "outputs": [],
   "execution_count": 19
  },
  {
   "metadata": {
    "ExecuteTime": {
     "end_time": "2024-05-20T03:33:04.262650Z",
     "start_time": "2024-05-20T03:33:04.256500Z"
    }
   },
   "cell_type": "code",
   "source": "frame2",
   "id": "fad0e83ca2498e",
   "outputs": [
    {
     "data": {
      "text/plain": [
       "       year   state  pop  dept  eastern\n",
       "one    2000    Ohio  1.4   NaN     True\n",
       "two    2001    Ohio  2.3  -1.2     True\n",
       "three  2002    Ohio  6.5   NaN     True\n",
       "four   2003  Nevada  7.4  -1.4    False\n",
       "five   2001  Nevada  1.0  -1.9    False\n",
       "six    2002  Nevada  4.3   NaN    False"
      ],
      "text/html": [
       "<div>\n",
       "<style scoped>\n",
       "    .dataframe tbody tr th:only-of-type {\n",
       "        vertical-align: middle;\n",
       "    }\n",
       "\n",
       "    .dataframe tbody tr th {\n",
       "        vertical-align: top;\n",
       "    }\n",
       "\n",
       "    .dataframe thead th {\n",
       "        text-align: right;\n",
       "    }\n",
       "</style>\n",
       "<table border=\"1\" class=\"dataframe\">\n",
       "  <thead>\n",
       "    <tr style=\"text-align: right;\">\n",
       "      <th></th>\n",
       "      <th>year</th>\n",
       "      <th>state</th>\n",
       "      <th>pop</th>\n",
       "      <th>dept</th>\n",
       "      <th>eastern</th>\n",
       "    </tr>\n",
       "  </thead>\n",
       "  <tbody>\n",
       "    <tr>\n",
       "      <th>one</th>\n",
       "      <td>2000</td>\n",
       "      <td>Ohio</td>\n",
       "      <td>1.4</td>\n",
       "      <td>NaN</td>\n",
       "      <td>True</td>\n",
       "    </tr>\n",
       "    <tr>\n",
       "      <th>two</th>\n",
       "      <td>2001</td>\n",
       "      <td>Ohio</td>\n",
       "      <td>2.3</td>\n",
       "      <td>-1.2</td>\n",
       "      <td>True</td>\n",
       "    </tr>\n",
       "    <tr>\n",
       "      <th>three</th>\n",
       "      <td>2002</td>\n",
       "      <td>Ohio</td>\n",
       "      <td>6.5</td>\n",
       "      <td>NaN</td>\n",
       "      <td>True</td>\n",
       "    </tr>\n",
       "    <tr>\n",
       "      <th>four</th>\n",
       "      <td>2003</td>\n",
       "      <td>Nevada</td>\n",
       "      <td>7.4</td>\n",
       "      <td>-1.4</td>\n",
       "      <td>False</td>\n",
       "    </tr>\n",
       "    <tr>\n",
       "      <th>five</th>\n",
       "      <td>2001</td>\n",
       "      <td>Nevada</td>\n",
       "      <td>1.0</td>\n",
       "      <td>-1.9</td>\n",
       "      <td>False</td>\n",
       "    </tr>\n",
       "    <tr>\n",
       "      <th>six</th>\n",
       "      <td>2002</td>\n",
       "      <td>Nevada</td>\n",
       "      <td>4.3</td>\n",
       "      <td>NaN</td>\n",
       "      <td>False</td>\n",
       "    </tr>\n",
       "  </tbody>\n",
       "</table>\n",
       "</div>"
      ]
     },
     "execution_count": 20,
     "metadata": {},
     "output_type": "execute_result"
    }
   ],
   "execution_count": 20
  },
  {
   "metadata": {},
   "cell_type": "markdown",
   "source": "* del 删除列 | 行",
   "id": "c8f3117c82cf42c7"
  },
  {
   "metadata": {
    "ExecuteTime": {
     "end_time": "2024-05-20T03:33:04.265740Z",
     "start_time": "2024-05-20T03:33:04.262650Z"
    }
   },
   "cell_type": "code",
   "source": [
    "# 同样的删除列，也不能使用属性的方式索引要删除的列，且这样做会报错\n",
    "del frame2['eastern']"
   ],
   "id": "ba30fbc457df1a39",
   "outputs": [],
   "execution_count": 21
  },
  {
   "metadata": {
    "ExecuteTime": {
     "end_time": "2024-05-20T03:33:04.272215Z",
     "start_time": "2024-05-20T03:33:04.265740Z"
    }
   },
   "cell_type": "code",
   "source": "frame2",
   "id": "299ce4aa2bcb4e81",
   "outputs": [
    {
     "data": {
      "text/plain": [
       "       year   state  pop  dept\n",
       "one    2000    Ohio  1.4   NaN\n",
       "two    2001    Ohio  2.3  -1.2\n",
       "three  2002    Ohio  6.5   NaN\n",
       "four   2003  Nevada  7.4  -1.4\n",
       "five   2001  Nevada  1.0  -1.9\n",
       "six    2002  Nevada  4.3   NaN"
      ],
      "text/html": [
       "<div>\n",
       "<style scoped>\n",
       "    .dataframe tbody tr th:only-of-type {\n",
       "        vertical-align: middle;\n",
       "    }\n",
       "\n",
       "    .dataframe tbody tr th {\n",
       "        vertical-align: top;\n",
       "    }\n",
       "\n",
       "    .dataframe thead th {\n",
       "        text-align: right;\n",
       "    }\n",
       "</style>\n",
       "<table border=\"1\" class=\"dataframe\">\n",
       "  <thead>\n",
       "    <tr style=\"text-align: right;\">\n",
       "      <th></th>\n",
       "      <th>year</th>\n",
       "      <th>state</th>\n",
       "      <th>pop</th>\n",
       "      <th>dept</th>\n",
       "    </tr>\n",
       "  </thead>\n",
       "  <tbody>\n",
       "    <tr>\n",
       "      <th>one</th>\n",
       "      <td>2000</td>\n",
       "      <td>Ohio</td>\n",
       "      <td>1.4</td>\n",
       "      <td>NaN</td>\n",
       "    </tr>\n",
       "    <tr>\n",
       "      <th>two</th>\n",
       "      <td>2001</td>\n",
       "      <td>Ohio</td>\n",
       "      <td>2.3</td>\n",
       "      <td>-1.2</td>\n",
       "    </tr>\n",
       "    <tr>\n",
       "      <th>three</th>\n",
       "      <td>2002</td>\n",
       "      <td>Ohio</td>\n",
       "      <td>6.5</td>\n",
       "      <td>NaN</td>\n",
       "    </tr>\n",
       "    <tr>\n",
       "      <th>four</th>\n",
       "      <td>2003</td>\n",
       "      <td>Nevada</td>\n",
       "      <td>7.4</td>\n",
       "      <td>-1.4</td>\n",
       "    </tr>\n",
       "    <tr>\n",
       "      <th>five</th>\n",
       "      <td>2001</td>\n",
       "      <td>Nevada</td>\n",
       "      <td>1.0</td>\n",
       "      <td>-1.9</td>\n",
       "    </tr>\n",
       "    <tr>\n",
       "      <th>six</th>\n",
       "      <td>2002</td>\n",
       "      <td>Nevada</td>\n",
       "      <td>4.3</td>\n",
       "      <td>NaN</td>\n",
       "    </tr>\n",
       "  </tbody>\n",
       "</table>\n",
       "</div>"
      ]
     },
     "execution_count": 22,
     "metadata": {},
     "output_type": "execute_result"
    }
   ],
   "execution_count": 22
  },
  {
   "metadata": {},
   "cell_type": "markdown",
   "source": [
    "* 使用嵌套字典创建DataFrame\n",
    "* DataFrame会根据根据所有子字典的键的集合创建Series，并在各自对应的列下找到对应的索引进行填充\n",
    "* 其余的值填充NaN"
   ],
   "id": "31d20bba10bb893b"
  },
  {
   "metadata": {
    "ExecuteTime": {
     "end_time": "2024-05-20T03:33:04.275504Z",
     "start_time": "2024-05-20T03:33:04.272215Z"
    }
   },
   "cell_type": "code",
   "source": [
    "pop = {\n",
    "    \"Nevada\": {\n",
    "        '2001': 2.4,\n",
    "        '2002': 2.0\n",
    "    },\n",
    "    \"Ohio\": {\n",
    "        \"2000\": 1.5,\n",
    "        \"2001\": 1.7,\n",
    "        \"2002\": 3.5\n",
    "    }\n",
    "}"
   ],
   "id": "3c76fcd321395359",
   "outputs": [],
   "execution_count": 23
  },
  {
   "metadata": {
    "ExecuteTime": {
     "end_time": "2024-05-20T03:33:04.279276Z",
     "start_time": "2024-05-20T03:33:04.276514Z"
    }
   },
   "cell_type": "code",
   "source": "frame3 = pd.DataFrame(pop)",
   "id": "3204af87d173b469",
   "outputs": [],
   "execution_count": 24
  },
  {
   "metadata": {
    "ExecuteTime": {
     "end_time": "2024-05-20T03:33:04.285882Z",
     "start_time": "2024-05-20T03:33:04.280287Z"
    }
   },
   "cell_type": "code",
   "source": "frame3",
   "id": "e18a44d9e8859428",
   "outputs": [
    {
     "data": {
      "text/plain": [
       "      Nevada  Ohio\n",
       "2001     2.4   1.7\n",
       "2002     2.0   3.5\n",
       "2000     NaN   1.5"
      ],
      "text/html": [
       "<div>\n",
       "<style scoped>\n",
       "    .dataframe tbody tr th:only-of-type {\n",
       "        vertical-align: middle;\n",
       "    }\n",
       "\n",
       "    .dataframe tbody tr th {\n",
       "        vertical-align: top;\n",
       "    }\n",
       "\n",
       "    .dataframe thead th {\n",
       "        text-align: right;\n",
       "    }\n",
       "</style>\n",
       "<table border=\"1\" class=\"dataframe\">\n",
       "  <thead>\n",
       "    <tr style=\"text-align: right;\">\n",
       "      <th></th>\n",
       "      <th>Nevada</th>\n",
       "      <th>Ohio</th>\n",
       "    </tr>\n",
       "  </thead>\n",
       "  <tbody>\n",
       "    <tr>\n",
       "      <th>2001</th>\n",
       "      <td>2.4</td>\n",
       "      <td>1.7</td>\n",
       "    </tr>\n",
       "    <tr>\n",
       "      <th>2002</th>\n",
       "      <td>2.0</td>\n",
       "      <td>3.5</td>\n",
       "    </tr>\n",
       "    <tr>\n",
       "      <th>2000</th>\n",
       "      <td>NaN</td>\n",
       "      <td>1.5</td>\n",
       "    </tr>\n",
       "  </tbody>\n",
       "</table>\n",
       "</div>"
      ]
     },
     "execution_count": 25,
     "metadata": {},
     "output_type": "execute_result"
    }
   ],
   "execution_count": 25
  },
  {
   "metadata": {},
   "cell_type": "markdown",
   "source": [
    "* 使用类似numpy的方法 对DataFrame进行转置\n",
    "* 转置操作不会修改视图"
   ],
   "id": "2ccb54d06b167355"
  },
  {
   "metadata": {
    "ExecuteTime": {
     "end_time": "2024-05-20T03:33:04.292100Z",
     "start_time": "2024-05-20T03:33:04.286886Z"
    }
   },
   "cell_type": "code",
   "source": "frame3.T",
   "id": "e3fcea385d0564ba",
   "outputs": [
    {
     "data": {
      "text/plain": [
       "        2001  2002  2000\n",
       "Nevada   2.4   2.0   NaN\n",
       "Ohio     1.7   3.5   1.5"
      ],
      "text/html": [
       "<div>\n",
       "<style scoped>\n",
       "    .dataframe tbody tr th:only-of-type {\n",
       "        vertical-align: middle;\n",
       "    }\n",
       "\n",
       "    .dataframe tbody tr th {\n",
       "        vertical-align: top;\n",
       "    }\n",
       "\n",
       "    .dataframe thead th {\n",
       "        text-align: right;\n",
       "    }\n",
       "</style>\n",
       "<table border=\"1\" class=\"dataframe\">\n",
       "  <thead>\n",
       "    <tr style=\"text-align: right;\">\n",
       "      <th></th>\n",
       "      <th>2001</th>\n",
       "      <th>2002</th>\n",
       "      <th>2000</th>\n",
       "    </tr>\n",
       "  </thead>\n",
       "  <tbody>\n",
       "    <tr>\n",
       "      <th>Nevada</th>\n",
       "      <td>2.4</td>\n",
       "      <td>2.0</td>\n",
       "      <td>NaN</td>\n",
       "    </tr>\n",
       "    <tr>\n",
       "      <th>Ohio</th>\n",
       "      <td>1.7</td>\n",
       "      <td>3.5</td>\n",
       "      <td>1.5</td>\n",
       "    </tr>\n",
       "  </tbody>\n",
       "</table>\n",
       "</div>"
      ]
     },
     "execution_count": 26,
     "metadata": {},
     "output_type": "execute_result"
    }
   ],
   "execution_count": 26
  },
  {
   "metadata": {
    "ExecuteTime": {
     "end_time": "2024-05-20T03:33:04.298101Z",
     "start_time": "2024-05-20T03:33:04.293104Z"
    }
   },
   "cell_type": "code",
   "source": "frame3",
   "id": "d9eb5ac41705eed",
   "outputs": [
    {
     "data": {
      "text/plain": [
       "      Nevada  Ohio\n",
       "2001     2.4   1.7\n",
       "2002     2.0   3.5\n",
       "2000     NaN   1.5"
      ],
      "text/html": [
       "<div>\n",
       "<style scoped>\n",
       "    .dataframe tbody tr th:only-of-type {\n",
       "        vertical-align: middle;\n",
       "    }\n",
       "\n",
       "    .dataframe tbody tr th {\n",
       "        vertical-align: top;\n",
       "    }\n",
       "\n",
       "    .dataframe thead th {\n",
       "        text-align: right;\n",
       "    }\n",
       "</style>\n",
       "<table border=\"1\" class=\"dataframe\">\n",
       "  <thead>\n",
       "    <tr style=\"text-align: right;\">\n",
       "      <th></th>\n",
       "      <th>Nevada</th>\n",
       "      <th>Ohio</th>\n",
       "    </tr>\n",
       "  </thead>\n",
       "  <tbody>\n",
       "    <tr>\n",
       "      <th>2001</th>\n",
       "      <td>2.4</td>\n",
       "      <td>1.7</td>\n",
       "    </tr>\n",
       "    <tr>\n",
       "      <th>2002</th>\n",
       "      <td>2.0</td>\n",
       "      <td>3.5</td>\n",
       "    </tr>\n",
       "    <tr>\n",
       "      <th>2000</th>\n",
       "      <td>NaN</td>\n",
       "      <td>1.5</td>\n",
       "    </tr>\n",
       "  </tbody>\n",
       "</table>\n",
       "</div>"
      ]
     },
     "execution_count": 27,
     "metadata": {},
     "output_type": "execute_result"
    }
   ],
   "execution_count": 27
  },
  {
   "metadata": {},
   "cell_type": "markdown",
   "source": [
    "* 显式指明索引，定义索引的顺序， 索引不会自动排序\n",
    "* 特别的如果index的类型是数据的话，DataFrame会自动进行递增排序"
   ],
   "id": "42cb774ab32cab51"
  },
  {
   "metadata": {
    "ExecuteTime": {
     "end_time": "2024-05-20T03:33:04.303615Z",
     "start_time": "2024-05-20T03:33:04.298101Z"
    }
   },
   "cell_type": "code",
   "source": "pd.DataFrame(pop, index=['2001', '2002', '2003'])",
   "id": "809bb337227c04fb",
   "outputs": [
    {
     "data": {
      "text/plain": [
       "      Nevada  Ohio\n",
       "2001     2.4   1.7\n",
       "2002     2.0   3.5\n",
       "2003     NaN   NaN"
      ],
      "text/html": [
       "<div>\n",
       "<style scoped>\n",
       "    .dataframe tbody tr th:only-of-type {\n",
       "        vertical-align: middle;\n",
       "    }\n",
       "\n",
       "    .dataframe tbody tr th {\n",
       "        vertical-align: top;\n",
       "    }\n",
       "\n",
       "    .dataframe thead th {\n",
       "        text-align: right;\n",
       "    }\n",
       "</style>\n",
       "<table border=\"1\" class=\"dataframe\">\n",
       "  <thead>\n",
       "    <tr style=\"text-align: right;\">\n",
       "      <th></th>\n",
       "      <th>Nevada</th>\n",
       "      <th>Ohio</th>\n",
       "    </tr>\n",
       "  </thead>\n",
       "  <tbody>\n",
       "    <tr>\n",
       "      <th>2001</th>\n",
       "      <td>2.4</td>\n",
       "      <td>1.7</td>\n",
       "    </tr>\n",
       "    <tr>\n",
       "      <th>2002</th>\n",
       "      <td>2.0</td>\n",
       "      <td>3.5</td>\n",
       "    </tr>\n",
       "    <tr>\n",
       "      <th>2003</th>\n",
       "      <td>NaN</td>\n",
       "      <td>NaN</td>\n",
       "    </tr>\n",
       "  </tbody>\n",
       "</table>\n",
       "</div>"
      ]
     },
     "execution_count": 28,
     "metadata": {},
     "output_type": "execute_result"
    }
   ],
   "execution_count": 28
  },
  {
   "metadata": {},
   "cell_type": "markdown",
   "source": [
    "* 使用name属性对DataFrame的行和列进行命名\n",
    "* DataFrame.index.name\n",
    "* DataFrame.columns.name"
   ],
   "id": "ae86a8d7925c6a8e"
  },
  {
   "metadata": {
    "ExecuteTime": {
     "end_time": "2024-05-20T03:33:04.306548Z",
     "start_time": "2024-05-20T03:33:04.303615Z"
    }
   },
   "cell_type": "code",
   "source": "frame3.index.name = 'year'",
   "id": "da057ee815c64296",
   "outputs": [],
   "execution_count": 29
  },
  {
   "metadata": {
    "ExecuteTime": {
     "end_time": "2024-05-20T03:33:04.309868Z",
     "start_time": "2024-05-20T03:33:04.307554Z"
    }
   },
   "cell_type": "code",
   "source": "frame3.columns.name = 'state'",
   "id": "a2805aa83875f400",
   "outputs": [],
   "execution_count": 30
  },
  {
   "metadata": {
    "ExecuteTime": {
     "end_time": "2024-05-20T03:33:04.315953Z",
     "start_time": "2024-05-20T03:33:04.309868Z"
    }
   },
   "cell_type": "code",
   "source": "frame3",
   "id": "f08a00e487b5da1b",
   "outputs": [
    {
     "data": {
      "text/plain": [
       "state  Nevada  Ohio\n",
       "year               \n",
       "2001      2.4   1.7\n",
       "2002      2.0   3.5\n",
       "2000      NaN   1.5"
      ],
      "text/html": [
       "<div>\n",
       "<style scoped>\n",
       "    .dataframe tbody tr th:only-of-type {\n",
       "        vertical-align: middle;\n",
       "    }\n",
       "\n",
       "    .dataframe tbody tr th {\n",
       "        vertical-align: top;\n",
       "    }\n",
       "\n",
       "    .dataframe thead th {\n",
       "        text-align: right;\n",
       "    }\n",
       "</style>\n",
       "<table border=\"1\" class=\"dataframe\">\n",
       "  <thead>\n",
       "    <tr style=\"text-align: right;\">\n",
       "      <th>state</th>\n",
       "      <th>Nevada</th>\n",
       "      <th>Ohio</th>\n",
       "    </tr>\n",
       "    <tr>\n",
       "      <th>year</th>\n",
       "      <th></th>\n",
       "      <th></th>\n",
       "    </tr>\n",
       "  </thead>\n",
       "  <tbody>\n",
       "    <tr>\n",
       "      <th>2001</th>\n",
       "      <td>2.4</td>\n",
       "      <td>1.7</td>\n",
       "    </tr>\n",
       "    <tr>\n",
       "      <th>2002</th>\n",
       "      <td>2.0</td>\n",
       "      <td>3.5</td>\n",
       "    </tr>\n",
       "    <tr>\n",
       "      <th>2000</th>\n",
       "      <td>NaN</td>\n",
       "      <td>1.5</td>\n",
       "    </tr>\n",
       "  </tbody>\n",
       "</table>\n",
       "</div>"
      ]
     },
     "execution_count": 31,
     "metadata": {},
     "output_type": "execute_result"
    }
   ],
   "execution_count": 31
  },
  {
   "metadata": {},
   "cell_type": "markdown",
   "source": "* DataFrame的values会将包含在DataFrame中的数据以二维ndarray的形式返回",
   "id": "c0a66b60ecf99136"
  },
  {
   "metadata": {
    "ExecuteTime": {
     "end_time": "2024-05-20T03:33:04.319438Z",
     "start_time": "2024-05-20T03:33:04.316962Z"
    }
   },
   "cell_type": "code",
   "source": "vals = frame3.values",
   "id": "1649004e3c7f56d4",
   "outputs": [],
   "execution_count": 32
  },
  {
   "metadata": {
    "ExecuteTime": {
     "end_time": "2024-05-20T03:33:04.325042Z",
     "start_time": "2024-05-20T03:33:04.320450Z"
    }
   },
   "cell_type": "code",
   "source": "vals",
   "id": "58f941cdb5d11a28",
   "outputs": [
    {
     "data": {
      "text/plain": [
       "array([[2.4, 1.7],\n",
       "       [2. , 3.5],\n",
       "       [nan, 1.5]])"
      ]
     },
     "execution_count": 33,
     "metadata": {},
     "output_type": "execute_result"
    }
   ],
   "execution_count": 33
  },
  {
   "metadata": {
    "ExecuteTime": {
     "end_time": "2024-05-20T03:33:04.329125Z",
     "start_time": "2024-05-20T03:33:04.325042Z"
    }
   },
   "cell_type": "code",
   "source": "type(vals)",
   "id": "d1a8b3855bac00ad",
   "outputs": [
    {
     "data": {
      "text/plain": [
       "numpy.ndarray"
      ]
     },
     "execution_count": 34,
     "metadata": {},
     "output_type": "execute_result"
    }
   ],
   "execution_count": 34
  }
 ],
 "metadata": {
  "kernelspec": {
   "display_name": "Python 3",
   "language": "python",
   "name": "python3"
  },
  "language_info": {
   "codemirror_mode": {
    "name": "ipython",
    "version": 2
   },
   "file_extension": ".py",
   "mimetype": "text/x-python",
   "name": "python",
   "nbconvert_exporter": "python",
   "pygments_lexer": "ipython2",
   "version": "2.7.6"
  }
 },
 "nbformat": 4,
 "nbformat_minor": 5
}
