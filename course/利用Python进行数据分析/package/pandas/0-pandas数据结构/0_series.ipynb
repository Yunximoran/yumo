{
 "cells": [
  {
   "metadata": {},
   "cell_type": "markdown",
   "source": [
    "# Series\n",
    "    \n",
    "* 一维数组型对象，包含一个值序列和数据标签(索引)"
   ],
   "id": "65d6b828c8ef058d"
  },
  {
   "metadata": {
    "ExecuteTime": {
     "end_time": "2024-05-20T03:32:06.181289Z",
     "start_time": "2024-05-20T03:32:05.835808Z"
    }
   },
   "cell_type": "code",
   "source": [
    "import pandas as pd\n",
    "import numpy as np"
   ],
   "id": "e599a46d7e1ce4",
   "outputs": [],
   "execution_count": 1
  },
  {
   "metadata": {
    "ExecuteTime": {
     "end_time": "2024-05-20T03:32:06.185588Z",
     "start_time": "2024-05-20T03:32:06.182298Z"
    }
   },
   "cell_type": "code",
   "source": "obj = pd.Series([4, 7, -7, 5])",
   "id": "849e206a5f2c2f9f",
   "outputs": [],
   "execution_count": 2
  },
  {
   "metadata": {
    "ExecuteTime": {
     "end_time": "2024-05-20T03:32:06.191073Z",
     "start_time": "2024-05-20T03:32:06.185588Z"
    }
   },
   "cell_type": "code",
   "source": "obj",
   "id": "2dfec7964b7a1ee4",
   "outputs": [
    {
     "data": {
      "text/plain": [
       "0    4\n",
       "1    7\n",
       "2   -7\n",
       "3    5\n",
       "dtype: int64"
      ]
     },
     "execution_count": 3,
     "metadata": {},
     "output_type": "execute_result"
    }
   ],
   "execution_count": 3
  },
  {
   "metadata": {},
   "cell_type": "markdown",
   "source": [
    "* index: 索引, 默认创建 0 ~ len(Series), step 1\n",
    "* values:值"
   ],
   "id": "d0d7b0a1a116b72f"
  },
  {
   "metadata": {
    "ExecuteTime": {
     "end_time": "2024-05-20T03:32:06.194950Z",
     "start_time": "2024-05-20T03:32:06.192077Z"
    }
   },
   "cell_type": "code",
   "source": "obj.values",
   "id": "1b20ba497ec2c454",
   "outputs": [
    {
     "data": {
      "text/plain": [
       "array([ 4,  7, -7,  5], dtype=int64)"
      ]
     },
     "execution_count": 4,
     "metadata": {},
     "output_type": "execute_result"
    }
   ],
   "execution_count": 4
  },
  {
   "metadata": {
    "ExecuteTime": {
     "end_time": "2024-05-20T03:32:06.199611Z",
     "start_time": "2024-05-20T03:32:06.195962Z"
    }
   },
   "cell_type": "code",
   "source": "obj.index",
   "id": "d4c6b15a9c984d9e",
   "outputs": [
    {
     "data": {
      "text/plain": [
       "RangeIndex(start=0, stop=4, step=1)"
      ]
     },
     "execution_count": 5,
     "metadata": {},
     "output_type": "execute_result"
    }
   ],
   "execution_count": 5
  },
  {
   "metadata": {},
   "cell_type": "markdown",
   "source": "* 可将与值等长度的序列作为参数传入 Series的index属性中\n",
   "id": "efc943b8f224ec37"
  },
  {
   "metadata": {
    "ExecuteTime": {
     "end_time": "2024-05-20T03:32:06.204315Z",
     "start_time": "2024-05-20T03:32:06.200623Z"
    }
   },
   "cell_type": "code",
   "source": "obj2 = pd.Series([4, 7, -5, 3], index=['d', 'b', 'a', 'c'])",
   "id": "aaf65a78d84ff458",
   "outputs": [],
   "execution_count": 6
  },
  {
   "metadata": {
    "ExecuteTime": {
     "end_time": "2024-05-20T03:32:06.209275Z",
     "start_time": "2024-05-20T03:32:06.205324Z"
    }
   },
   "cell_type": "code",
   "source": "obj2",
   "id": "523a51bc54733304",
   "outputs": [
    {
     "data": {
      "text/plain": [
       "d    4\n",
       "b    7\n",
       "a   -5\n",
       "c    3\n",
       "dtype: int64"
      ]
     },
     "execution_count": 7,
     "metadata": {},
     "output_type": "execute_result"
    }
   ],
   "execution_count": 7
  },
  {
   "metadata": {
    "ExecuteTime": {
     "end_time": "2024-05-20T03:32:06.213350Z",
     "start_time": "2024-05-20T03:32:06.210288Z"
    }
   },
   "cell_type": "code",
   "source": "obj2.index",
   "id": "fc2dbfc183b269ff",
   "outputs": [
    {
     "data": {
      "text/plain": [
       "Index(['d', 'b', 'a', 'c'], dtype='object')"
      ]
     },
     "execution_count": 8,
     "metadata": {},
     "output_type": "execute_result"
    }
   ],
   "execution_count": 8
  },
  {
   "metadata": {},
   "cell_type": "markdown",
   "source": "* 与NumPy相比，pandas可以使用标签作为参数的索引",
   "id": "74d1cef00b6e2f58"
  },
  {
   "metadata": {
    "ExecuteTime": {
     "end_time": "2024-05-20T03:32:06.217258Z",
     "start_time": "2024-05-20T03:32:06.213350Z"
    }
   },
   "cell_type": "code",
   "source": "obj2['a']",
   "id": "b1788c78228fbdcd",
   "outputs": [
    {
     "data": {
      "text/plain": [
       "-5"
      ]
     },
     "execution_count": 9,
     "metadata": {},
     "output_type": "execute_result"
    }
   ],
   "execution_count": 9
  },
  {
   "metadata": {},
   "cell_type": "markdown",
   "source": "* 与numpy一样，pandas的切片获取到的也是数据的视图， 任何对数据的修改都会反应到原视图上",
   "id": "428f7a054a27fb72"
  },
  {
   "metadata": {
    "ExecuteTime": {
     "end_time": "2024-05-20T03:32:06.220120Z",
     "start_time": "2024-05-20T03:32:06.217258Z"
    }
   },
   "cell_type": "code",
   "source": "obj2['d'] = 6",
   "id": "13057aeb49ae821b",
   "outputs": [],
   "execution_count": 10
  },
  {
   "metadata": {
    "ExecuteTime": {
     "end_time": "2024-05-20T03:32:06.224781Z",
     "start_time": "2024-05-20T03:32:06.220120Z"
    }
   },
   "cell_type": "code",
   "source": "obj2",
   "id": "ca3f1f37e461914a",
   "outputs": [
    {
     "data": {
      "text/plain": [
       "d    6\n",
       "b    7\n",
       "a   -5\n",
       "c    3\n",
       "dtype: int64"
      ]
     },
     "execution_count": 11,
     "metadata": {},
     "output_type": "execute_result"
    }
   ],
   "execution_count": 11
  },
  {
   "metadata": {},
   "cell_type": "markdown",
   "source": "",
   "id": "95552a37cb172350"
  },
  {
   "metadata": {
    "ExecuteTime": {
     "end_time": "2024-05-20T03:32:06.229485Z",
     "start_time": "2024-05-20T03:32:06.224781Z"
    }
   },
   "cell_type": "code",
   "source": [
    "# obj2['c', 'a', 'd'] \n",
    "obj2[['c', 'a', 'd']]"
   ],
   "id": "8360d4a55febc4d6",
   "outputs": [
    {
     "data": {
      "text/plain": [
       "c    3\n",
       "a   -5\n",
       "d    6\n",
       "dtype: int64"
      ]
     },
     "execution_count": 12,
     "metadata": {},
     "output_type": "execute_result"
    }
   ],
   "execution_count": 12
  },
  {
   "metadata": {},
   "cell_type": "markdown",
   "source": [
    "* pandas可是使用numpy的函数或numpy风格的操作\n",
    "* 需要注意： 这些操作应该保持索引值的连接"
   ],
   "id": "df2d7b4b3cec1649"
  },
  {
   "metadata": {
    "ExecuteTime": {
     "end_time": "2024-05-20T03:32:06.233672Z",
     "start_time": "2024-05-20T03:32:06.229485Z"
    }
   },
   "cell_type": "code",
   "source": "obj2[obj2 > 0]",
   "id": "c93576d26efd97c6",
   "outputs": [
    {
     "data": {
      "text/plain": [
       "d    6\n",
       "b    7\n",
       "c    3\n",
       "dtype: int64"
      ]
     },
     "execution_count": 13,
     "metadata": {},
     "output_type": "execute_result"
    }
   ],
   "execution_count": 13
  },
  {
   "metadata": {
    "ExecuteTime": {
     "end_time": "2024-05-20T03:32:06.240180Z",
     "start_time": "2024-05-20T03:32:06.235683Z"
    }
   },
   "cell_type": "code",
   "source": "obj2 * 2",
   "id": "50773e41a2f95261",
   "outputs": [
    {
     "data": {
      "text/plain": [
       "d    12\n",
       "b    14\n",
       "a   -10\n",
       "c     6\n",
       "dtype: int64"
      ]
     },
     "execution_count": 14,
     "metadata": {},
     "output_type": "execute_result"
    }
   ],
   "execution_count": 14
  },
  {
   "metadata": {
    "ExecuteTime": {
     "end_time": "2024-05-20T03:32:06.245220Z",
     "start_time": "2024-05-20T03:32:06.240180Z"
    }
   },
   "cell_type": "code",
   "source": "np.exp(obj2)",
   "id": "60eb98b867c37c8b",
   "outputs": [
    {
     "data": {
      "text/plain": [
       "d     403.428793\n",
       "b    1096.633158\n",
       "a       0.006738\n",
       "c      20.085537\n",
       "dtype: float64"
      ]
     },
     "execution_count": 15,
     "metadata": {},
     "output_type": "execute_result"
    }
   ],
   "execution_count": 15
  },
  {
   "metadata": {},
   "cell_type": "markdown",
   "source": [
    "* Series可以认为是一个长度固定且有序的字典\n",
    "* 即： Series可以将索引值和数据值按位置进行配对。"
   ],
   "id": "13dc789a4686a4bc"
  },
  {
   "metadata": {
    "ExecuteTime": {
     "end_time": "2024-05-20T03:32:06.248664Z",
     "start_time": "2024-05-20T03:32:06.245220Z"
    }
   },
   "cell_type": "code",
   "source": "'b' in obj2",
   "id": "4f5edb3c13e6a567",
   "outputs": [
    {
     "data": {
      "text/plain": [
       "True"
      ]
     },
     "execution_count": 16,
     "metadata": {},
     "output_type": "execute_result"
    }
   ],
   "execution_count": 16
  },
  {
   "metadata": {
    "ExecuteTime": {
     "end_time": "2024-05-20T03:32:06.252242Z",
     "start_time": "2024-05-20T03:32:06.248664Z"
    }
   },
   "cell_type": "code",
   "source": "'e' in obj2",
   "id": "8d7cfcc30f058fb",
   "outputs": [
    {
     "data": {
      "text/plain": [
       "False"
      ]
     },
     "execution_count": 17,
     "metadata": {},
     "output_type": "execute_result"
    }
   ],
   "execution_count": 17
  },
  {
   "metadata": {},
   "cell_type": "markdown",
   "source": "* 通过字典创建Series",
   "id": "6ba13779842763b"
  },
  {
   "metadata": {
    "ExecuteTime": {
     "end_time": "2024-05-20T03:32:06.255206Z",
     "start_time": "2024-05-20T03:32:06.252242Z"
    }
   },
   "cell_type": "code",
   "source": [
    "sdata = {\n",
    "    'Ohio': 35000,\n",
    "    'Texas': 71000,\n",
    "    'Oregon': 15600,\n",
    "    'Utah': 5000,\n",
    "}"
   ],
   "id": "ebcc46e674c99538",
   "outputs": [],
   "execution_count": 18
  },
  {
   "metadata": {
    "ExecuteTime": {
     "end_time": "2024-05-20T03:32:06.258636Z",
     "start_time": "2024-05-20T03:32:06.256218Z"
    }
   },
   "cell_type": "code",
   "source": "obj3 = pd.Series(sdata)",
   "id": "15769e72e938f8cd",
   "outputs": [],
   "execution_count": 19
  },
  {
   "metadata": {},
   "cell_type": "markdown",
   "source": "* Series 会自动将字典拆分成 keyList， valList， 然后根据keyList创建索引",
   "id": "23b086f5978c7815"
  },
  {
   "metadata": {
    "ExecuteTime": {
     "end_time": "2024-05-20T03:32:06.262612Z",
     "start_time": "2024-05-20T03:32:06.258636Z"
    }
   },
   "cell_type": "code",
   "source": "obj3",
   "id": "f8a60e49eedc53a1",
   "outputs": [
    {
     "data": {
      "text/plain": [
       "Ohio      35000\n",
       "Texas     71000\n",
       "Oregon    15600\n",
       "Utah       5000\n",
       "dtype: int64"
      ]
     },
     "execution_count": 20,
     "metadata": {},
     "output_type": "execute_result"
    }
   ],
   "execution_count": 20
  },
  {
   "metadata": {},
   "cell_type": "markdown",
   "source": [
    "* 可以将字典的键，提取出来，按照自己的预期进行排序， 然后在将字典键列表传递给Series\n",
    "    \n",
    "    这样就可以Series的顺序进行调整"
   ],
   "id": "c0bbdd4f40f18601"
  },
  {
   "metadata": {
    "ExecuteTime": {
     "end_time": "2024-05-20T03:32:06.265433Z",
     "start_time": "2024-05-20T03:32:06.262612Z"
    }
   },
   "cell_type": "code",
   "source": "states = ['California', 'Ohio', 'Oregon', 'Texas']",
   "id": "a5c20602b947f9d1",
   "outputs": [],
   "execution_count": 21
  },
  {
   "metadata": {
    "ExecuteTime": {
     "end_time": "2024-05-20T03:32:06.269540Z",
     "start_time": "2024-05-20T03:32:06.266468Z"
    }
   },
   "cell_type": "code",
   "source": "obj4 = pd.Series(sdata, index=states)",
   "id": "c7c90b59d9acae52",
   "outputs": [],
   "execution_count": 22
  },
  {
   "metadata": {},
   "cell_type": "markdown",
   "source": [
    "* 传入的字典键列表中的元素，可以不是字典的键， 字典的键也可以不用出现列表中\n",
    "    * 如果不是字典的键，Series也会创建出对应的值，填充NaN， 表示缺失数据\n",
    "    * 如果字典的键不在列表中，则会被Series排除\n",
    "    * 这一特性只能在传递的数据为字典时可用，其他比如列表等，index长度必须一致"
   ],
   "id": "95c4e1d186699f2d"
  },
  {
   "metadata": {
    "ExecuteTime": {
     "end_time": "2024-05-20T03:32:06.274033Z",
     "start_time": "2024-05-20T03:32:06.269540Z"
    }
   },
   "cell_type": "code",
   "source": "obj4",
   "id": "6ed1d6fccc270219",
   "outputs": [
    {
     "data": {
      "text/plain": [
       "California        NaN\n",
       "Ohio          35000.0\n",
       "Oregon        15600.0\n",
       "Texas         71000.0\n",
       "dtype: float64"
      ]
     },
     "execution_count": 23,
     "metadata": {},
     "output_type": "execute_result"
    }
   ],
   "execution_count": 23
  },
  {
   "metadata": {},
   "cell_type": "markdown",
   "source": [
    "* isnull & notnull 检查缺失数据\n",
    "\n",
    "    * pandas 提供了检查数据是否缺失的方法 isnull & notnull\n",
    "        * 将series或者DataFrame对象传递给isnull & notnull\n",
    "        * pandas会返回一个bool对象"
   ],
   "id": "8c20b4950169cebb"
  },
  {
   "metadata": {
    "ExecuteTime": {
     "end_time": "2024-05-20T03:32:06.279796Z",
     "start_time": "2024-05-20T03:32:06.275040Z"
    }
   },
   "cell_type": "code",
   "source": "pd.isnull(obj4)",
   "id": "939200c52ea116ab",
   "outputs": [
    {
     "data": {
      "text/plain": [
       "California     True\n",
       "Ohio          False\n",
       "Oregon        False\n",
       "Texas         False\n",
       "dtype: bool"
      ]
     },
     "execution_count": 24,
     "metadata": {},
     "output_type": "execute_result"
    }
   ],
   "execution_count": 24
  },
  {
   "metadata": {
    "ExecuteTime": {
     "end_time": "2024-05-20T03:32:06.284901Z",
     "start_time": "2024-05-20T03:32:06.280805Z"
    }
   },
   "cell_type": "code",
   "source": "pd.notnull(obj4)",
   "id": "e993cc665e6d7057",
   "outputs": [
    {
     "data": {
      "text/plain": [
       "California    False\n",
       "Ohio           True\n",
       "Oregon         True\n",
       "Texas          True\n",
       "dtype: bool"
      ]
     },
     "execution_count": 25,
     "metadata": {},
     "output_type": "execute_result"
    }
   ],
   "execution_count": 25
  },
  {
   "metadata": {},
   "cell_type": "markdown",
   "source": [
    "* 自动对齐索引\n",
    "\n",
    "    * 在对两个Series对象进行操作时，pandas会自动根据Series中的键进行对齐操作\n",
    "        * 对相同键进行修改\n",
    "        * 然后将两个Series的索引合并成一个新的集合\n",
    "        * 创建新的Series对象"
   ],
   "id": "9fc799debb7b4b02"
  },
  {
   "metadata": {
    "ExecuteTime": {
     "end_time": "2024-05-20T03:32:06.289379Z",
     "start_time": "2024-05-20T03:32:06.284901Z"
    }
   },
   "cell_type": "code",
   "source": "obj3",
   "id": "de8822febbe601f8",
   "outputs": [
    {
     "data": {
      "text/plain": [
       "Ohio      35000\n",
       "Texas     71000\n",
       "Oregon    15600\n",
       "Utah       5000\n",
       "dtype: int64"
      ]
     },
     "execution_count": 26,
     "metadata": {},
     "output_type": "execute_result"
    }
   ],
   "execution_count": 26
  },
  {
   "metadata": {
    "ExecuteTime": {
     "end_time": "2024-05-20T03:32:06.293659Z",
     "start_time": "2024-05-20T03:32:06.289379Z"
    }
   },
   "cell_type": "code",
   "source": "obj4",
   "id": "97ef8ad893d5df44",
   "outputs": [
    {
     "data": {
      "text/plain": [
       "California        NaN\n",
       "Ohio          35000.0\n",
       "Oregon        15600.0\n",
       "Texas         71000.0\n",
       "dtype: float64"
      ]
     },
     "execution_count": 27,
     "metadata": {},
     "output_type": "execute_result"
    }
   ],
   "execution_count": 27
  },
  {
   "metadata": {
    "ExecuteTime": {
     "end_time": "2024-05-20T03:32:06.298777Z",
     "start_time": "2024-05-20T03:32:06.293659Z"
    }
   },
   "cell_type": "code",
   "source": "obj3 + obj4",
   "id": "cdd0551f4710cc15",
   "outputs": [
    {
     "data": {
      "text/plain": [
       "California         NaN\n",
       "Ohio           70000.0\n",
       "Oregon         31200.0\n",
       "Texas         142000.0\n",
       "Utah               NaN\n",
       "dtype: float64"
      ]
     },
     "execution_count": 28,
     "metadata": {},
     "output_type": "execute_result"
    }
   ],
   "execution_count": 28
  },
  {
   "metadata": {},
   "cell_type": "markdown",
   "source": "* Series自身及其索引各自都拥有name属性",
   "id": "da4d21c4277323b0"
  },
  {
   "metadata": {
    "ExecuteTime": {
     "end_time": "2024-05-20T03:32:06.302201Z",
     "start_time": "2024-05-20T03:32:06.299784Z"
    }
   },
   "cell_type": "code",
   "source": "obj4.name = 'population'",
   "id": "2e33a1b89332d0a5",
   "outputs": [],
   "execution_count": 29
  },
  {
   "metadata": {
    "ExecuteTime": {
     "end_time": "2024-05-20T03:32:06.305113Z",
     "start_time": "2024-05-20T03:32:06.302201Z"
    }
   },
   "cell_type": "code",
   "source": "obj4.index.name = 'state'",
   "id": "652040faa4620369",
   "outputs": [],
   "execution_count": 30
  },
  {
   "metadata": {
    "ExecuteTime": {
     "end_time": "2024-05-20T03:32:06.309406Z",
     "start_time": "2024-05-20T03:32:06.305113Z"
    }
   },
   "cell_type": "code",
   "source": "obj4",
   "id": "b91b7fc13a516515",
   "outputs": [
    {
     "data": {
      "text/plain": [
       "state\n",
       "California        NaN\n",
       "Ohio          35000.0\n",
       "Oregon        15600.0\n",
       "Texas         71000.0\n",
       "Name: population, dtype: float64"
      ]
     },
     "execution_count": 31,
     "metadata": {},
     "output_type": "execute_result"
    }
   ],
   "execution_count": 31
  },
  {
   "metadata": {},
   "cell_type": "markdown",
   "source": "* Series支持对index重新赋值， 给定一个indexList， 根据顺序对Series的重写",
   "id": "474f93a43f9d349f"
  },
  {
   "metadata": {
    "ExecuteTime": {
     "end_time": "2024-05-20T03:32:06.313901Z",
     "start_time": "2024-05-20T03:32:06.309406Z"
    }
   },
   "cell_type": "code",
   "source": "obj",
   "id": "a81a42a1fca0d563",
   "outputs": [
    {
     "data": {
      "text/plain": [
       "0    4\n",
       "1    7\n",
       "2   -7\n",
       "3    5\n",
       "dtype: int64"
      ]
     },
     "execution_count": 32,
     "metadata": {},
     "output_type": "execute_result"
    }
   ],
   "execution_count": 32
  },
  {
   "metadata": {
    "ExecuteTime": {
     "end_time": "2024-05-20T03:32:06.317412Z",
     "start_time": "2024-05-20T03:32:06.314905Z"
    }
   },
   "cell_type": "code",
   "source": "obj.index = ['Bob', 'Steve', 'Jeff', 'Ryan']",
   "id": "63c6500974b69f35",
   "outputs": [],
   "execution_count": 33
  },
  {
   "metadata": {
    "ExecuteTime": {
     "end_time": "2024-05-20T03:32:06.323530Z",
     "start_time": "2024-05-20T03:32:06.318425Z"
    }
   },
   "cell_type": "code",
   "source": "obj",
   "id": "3dfdcaca552769c0",
   "outputs": [
    {
     "data": {
      "text/plain": [
       "Bob      4\n",
       "Steve    7\n",
       "Jeff    -7\n",
       "Ryan     5\n",
       "dtype: int64"
      ]
     },
     "execution_count": 34,
     "metadata": {},
     "output_type": "execute_result"
    }
   ],
   "execution_count": 34
  }
 ],
 "metadata": {
  "kernelspec": {
   "display_name": "Python 3",
   "language": "python",
   "name": "python3"
  },
  "language_info": {
   "codemirror_mode": {
    "name": "ipython",
    "version": 2
   },
   "file_extension": ".py",
   "mimetype": "text/x-python",
   "name": "python",
   "nbconvert_exporter": "python",
   "pygments_lexer": "ipython2",
   "version": "2.7.6"
  }
 },
 "nbformat": 4,
 "nbformat_minor": 5
}
