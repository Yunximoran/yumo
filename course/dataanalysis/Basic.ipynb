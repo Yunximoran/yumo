{
 "cells": [
  {
   "metadata": {},
   "cell_type": "markdown",
   "source": "# 变量、参数传递",
   "id": "a55f34aaeb568cb5"
  },
  {
   "metadata": {},
   "cell_type": "markdown",
   "source": "python中，当一个变量被赋值时，就相当于创建了一个指向等号右边的引用",
   "id": "9f63e38927011f79"
  },
  {
   "metadata": {
    "ExecuteTime": {
     "end_time": "2024-04-20T17:14:32.570248Z",
     "start_time": "2024-04-20T17:14:32.564968Z"
    }
   },
   "cell_type": "code",
   "source": [
    "a = [1, 2, 3]\n",
    "b = a"
   ],
   "id": "ed5d644567207b7f",
   "outputs": [],
   "execution_count": 1
  },
  {
   "metadata": {},
   "cell_type": "markdown",
   "source": [
    "在某些语言中，会是数据[1,2,3]被拷贝的过程而python中， 实际上是指向了相同的[对象]    \n",
    "* 将a赋值给b后，对a的修改，可以反应在b上   \n",
    "* a和b指向了同一个对象， 对a或b的修改实际上都是在同一对象上"
   ],
   "id": "902907eebf987706"
  },
  {
   "metadata": {
    "ExecuteTime": {
     "end_time": "2024-04-20T17:14:42.952487Z",
     "start_time": "2024-04-20T17:14:42.948915Z"
    }
   },
   "cell_type": "code",
   "source": "a.append(4)",
   "id": "6ba0063cf384c3fe",
   "outputs": [],
   "execution_count": 2
  },
  {
   "metadata": {},
   "cell_type": "markdown",
   "source": "",
   "id": "90f09cf767e65eea"
  },
  {
   "metadata": {
    "ExecuteTime": {
     "end_time": "2024-04-20T17:14:43.910008Z",
     "start_time": "2024-04-20T17:14:43.902471Z"
    }
   },
   "cell_type": "code",
   "source": "b",
   "id": "58e40316e7ff8e8f",
   "outputs": [
    {
     "data": {
      "text/plain": [
       "[1, 2, 3, 4]"
      ]
     },
     "execution_count": 3,
     "metadata": {},
     "output_type": "execute_result"
    }
   ],
   "execution_count": 3
  },
  {
   "metadata": {},
   "cell_type": "markdown",
   "source": "# 强类型、动态引用",
   "id": "cf3e10e4dd5f2e8c"
  },
  {
   "metadata": {},
   "cell_type": "markdown",
   "source": [
    "与java、c++等大多数编译型语言不同、python中的对象引用并不涉及类型:\n",
    "\n",
    "* 变量不会被类型限制"
   ],
   "id": "96a22273f39d102c"
  },
  {
   "metadata": {
    "ExecuteTime": {
     "end_time": "2024-04-20T17:25:58.175257Z",
     "start_time": "2024-04-20T17:25:58.169619Z"
    }
   },
   "cell_type": "code",
   "source": [
    "a = 5\n",
    "type(a)"
   ],
   "id": "c95827588392df51",
   "outputs": [
    {
     "data": {
      "text/plain": [
       "int"
      ]
     },
     "execution_count": 8,
     "metadata": {},
     "output_type": "execute_result"
    }
   ],
   "execution_count": 8
  },
  {
   "metadata": {
    "ExecuteTime": {
     "end_time": "2024-04-20T17:25:58.369198Z",
     "start_time": "2024-04-20T17:25:58.354851Z"
    }
   },
   "cell_type": "code",
   "source": [
    "a = 'foo'\n",
    "type(a)"
   ],
   "id": "dd2fb3b414b2428a",
   "outputs": [
    {
     "data": {
      "text/plain": [
       "str"
      ]
     },
     "execution_count": 9,
     "metadata": {},
     "output_type": "execute_result"
    }
   ],
   "execution_count": 9
  },
  {
   "metadata": {},
   "cell_type": "code",
   "outputs": [],
   "execution_count": null,
   "source": "",
   "id": "f932349362f79e48"
  }
 ],
 "metadata": {
  "kernelspec": {
   "display_name": "Python 3",
   "language": "python",
   "name": "python3"
  },
  "language_info": {
   "codemirror_mode": {
    "name": "ipython",
    "version": 2
   },
   "file_extension": ".py",
   "mimetype": "text/x-python",
   "name": "python",
   "nbconvert_exporter": "python",
   "pygments_lexer": "ipython2",
   "version": "2.7.6"
  }
 },
 "nbformat": 4,
 "nbformat_minor": 5
}
