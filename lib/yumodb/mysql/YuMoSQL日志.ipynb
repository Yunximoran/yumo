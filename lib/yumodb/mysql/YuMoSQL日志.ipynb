{
 "cells": [
  {
   "metadata": {},
   "cell_type": "markdown",
   "source": "# MySQL日志",
   "id": "93d3e5f96d23a7e2"
  },
  {
   "metadata": {},
   "cell_type": "markdown",
   "source": [
    "### Client:\n",
    "     insert\n",
    "    client.insert() 调用 construction 构造函数\n",
    "    功能实现：\n",
    "        需要区分 输入的数据类型\n",
    "            是否是字典， 列表或者元组\n",
    "            其内部元素是否是可迭代对象 --> 是否插入多条数据， 以及插入数据的形式\n",
    "        通过构造方法可以直接构造出 基本的语法\n",
    "        client需要考虑如何将数据按预期的方法格式化结构\n",
    "            ~ 注意事项\n",
    "                插入数据时，是否指定键， 指定键时，单条数据的长度应该和指定键的数量一致\n",
    "                不论是否指定键， 插入数据时，数据的长度应该和表结构一致\n",
    "                        \n",
    "\n",
    "                构造方法中应该只考虑怎么构造出 基本的语法\n",
    "                对于复杂的数据环境交给 client 处理 将数据处理制定的标准格式 \n",
    "    update\n",
    "    替换数据，条件"
   ],
   "id": "7772a3775a9cd3e1"
  },
  {
   "metadata": {},
   "cell_type": "markdown",
   "source": [
    "### construction\n",
    "    \n",
    "##### 构造方法的目的是创建出符合格式化要求的语句\n",
    "***\n",
    "* 针对insert构造方法：\n",
    "    * 是否需要指定键， 当输入数据为字典\n",
    "        * 指定键时， 插入数据应该符合键值对\n",
    "    *\n",
    "    *\n",
    "    ·考虑是否指定键\n",
    "    ·单条数据长度 以及单条数据的长度是否和指定键的数量一致\n",
    "    * insert构造方法返回的语句只适合插入单条数据，如果要插入多条数据要进行重复构造\n"
   ],
   "id": "edb3490dd076b99e"
  },
  {
   "metadata": {},
   "cell_type": "markdown",
   "source": [
    "### formation\n",
    "    * 格式化方法需要考虑的情况：\n",
    "    * 一维数据 {key1: value1, key2: value2, ..., key_N:value_N}\n",
    "    * 二维数据 ((), ()), [[]. []], ({key1: value}, {key2, value2}, ...,{key_N: value_N})\n",
    "    * 一维套二维 {key1: [value1], key2: [value2], ..., key_N: [value_N]}\n",
    "    * 二维套一维                    "
   ],
   "id": "21653c5a7b4f04ee"
  },
  {
   "metadata": {},
   "cell_type": "markdown",
   "source": [
    "### log\n",
    "\n",
    "* 怎么确定 client.__execute()当前执行什么操作。"
   ],
   "id": "72f9f5732a0176db"
  },
  {
   "metadata": {},
   "cell_type": "markdown",
   "source": [
    "### 框架\n",
    "* basic 基础配置模块\n",
    "    * connector 连接器\n",
    "    * config 配置文件\n",
    "    * information 数据库信息\n",
    "\n",
    "* dispose 数据处理模块\n",
    "    * check 校验\n",
    "    * construction 构造SQL\n",
    "    * formation 格式化数据\n",
    "\n",
    "* err 错误处理模块\n",
    "* extension 功能模块\n",
    "\n",
    "*** \n",
    "Client 客户端：—— 运行文件"
   ],
   "id": "1b5b1d4201e62890"
  },
  {
   "metadata": {},
   "cell_type": "markdown",
   "source": "错误",
   "id": "5ce418bf06c30215"
  },
  {
   "metadata": {},
   "cell_type": "markdown",
   "source": [
    "### 项目内在问题\n",
    "    使用校验需要执行很多重复的循环操作， 可能会降低使用性能，可以尝试优化代码为异步 —— 校验方法"
   ],
   "id": "80e9124ca008e0a1"
  },
  {
   "metadata": {},
   "cell_type": "code",
   "outputs": [],
   "execution_count": null,
   "source": "",
   "id": "83e15e9b751b1338"
  }
 ],
 "metadata": {
  "kernelspec": {
   "display_name": "Python 3",
   "language": "python",
   "name": "python3"
  },
  "language_info": {
   "codemirror_mode": {
    "name": "ipython",
    "version": 2
   },
   "file_extension": ".py",
   "mimetype": "text/x-python",
   "name": "python",
   "nbconvert_exporter": "python",
   "pygments_lexer": "ipython2",
   "version": "2.7.6"
  }
 },
 "nbformat": 4,
 "nbformat_minor": 5
}
