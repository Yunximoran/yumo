{
 "cells": [
  {
   "metadata": {},
   "cell_type": "markdown",
   "source": [
    "### Overview\n",
    "`sys`模块是Python的一个标准库模块，它提供了一些变量和函数，用来支持应用程序与Python解释器之间的交互。\n",
    "\n",
    "`sys`模块的一些重要功能包括：\n",
    "\n",
    "1. 命令行参数：`sys.argv`是一个列表，包含了从命令行传递给Python脚本的参数。\n",
    "\n",
    "2. 标准输入、输出和错误：`sys.stdin`、`sys.stdout`和`sys.stderr`分别代表了标准输入、标准输出和标准错误。\n",
    "\n",
    "3. 退出程序：`sys.exit()`可以用于在执行完程序后退出程序。\n",
    "\n",
    "4. 错误信息：`sys.exc_info()`可以获取当前异常的元组（异常类型、异常值、追踪信息）。\n",
    "\n",
    "5. 模块搜索路径：`sys.path`是一个列表，包含了Python在查找模块时会搜索的目录。\n",
    "\n",
    "6. 获取Python版本：`sys.version`可以获取当前Python的版本信息。\n",
    "\n",
    "这些功能使得`sys`模块在处理命令行参数、控制程序退出、获取错误信息等方面非常有用。\n",
    "\n"
   ],
   "id": "71864d6287367edc"
  },
  {
   "metadata": {},
   "cell_type": "code",
   "outputs": [],
   "execution_count": null,
   "source": "import sys",
   "id": "92b4d89d9bd13dd2"
  }
 ],
 "metadata": {
  "kernelspec": {
   "display_name": "Python 3",
   "language": "python",
   "name": "python3"
  },
  "language_info": {
   "codemirror_mode": {
    "name": "ipython",
    "version": 2
   },
   "file_extension": ".py",
   "mimetype": "text/x-python",
   "name": "python",
   "nbconvert_exporter": "python",
   "pygments_lexer": "ipython2",
   "version": "2.7.6"
  }
 },
 "nbformat": 4,
 "nbformat_minor": 5
}
