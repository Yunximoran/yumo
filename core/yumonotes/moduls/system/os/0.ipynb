{
 "cells": [
  {
   "metadata": {},
   "cell_type": "markdown",
   "source": [
    "### Overview\n",
    "    \n",
    "`OS`模块是Python提供的一个用来操作系统文件和目录的接口。它提供了类似Unix的文件和目录操作的函数。通过这个模块，可以实现对文件和目录的创建、删除、修改、查询等操作。\n",
    "\n",
    "例如，`os.mkdir()`可以创建目录，`os.rmdir()`可以删除目录，`os.rename()`可以重命名文件或目录，`os.remove()`可以删除文件，`os.listdir()`可以列出目录下的所有文件和子目录，`os.path.exists()`可以检查一个文件或目录是否存在，等等。\n",
    "\n",
    "使用`os`模块可以方便地在程序中进行文件和目录的操作，使得程序能够更好地与操作系统交互。\n"
   ],
   "id": "7f51970ce8b1d6c8"
  },
  {
   "metadata": {
    "ExecuteTime": {
     "end_time": "2024-05-06T15:09:08.226468Z",
     "start_time": "2024-05-06T15:09:08.212247Z"
    }
   },
   "cell_type": "code",
   "source": "import os",
   "id": "3c5965ff1143ede0",
   "outputs": [],
   "execution_count": 8
  },
  {
   "metadata": {
    "ExecuteTime": {
     "end_time": "2024-05-06T15:09:08.230576Z",
     "start_time": "2024-05-06T15:09:08.226468Z"
    }
   },
   "cell_type": "code",
   "source": "currentDir = os.getcwd()",
   "id": "d6c11d76a301c190",
   "outputs": [],
   "execution_count": 9
  },
  {
   "metadata": {
    "ExecuteTime": {
     "end_time": "2024-05-06T15:09:08.250574Z",
     "start_time": "2024-05-06T15:09:08.244093Z"
    }
   },
   "cell_type": "code",
   "source": [
    "exists = os.path.exists('0.ipynb')\n",
    "exists"
   ],
   "id": "6c942feb8f89a1cd",
   "outputs": [
    {
     "data": {
      "text/plain": [
       "True"
      ]
     },
     "execution_count": 10,
     "metadata": {},
     "output_type": "execute_result"
    }
   ],
   "execution_count": 10
  },
  {
   "metadata": {
    "ExecuteTime": {
     "end_time": "2024-05-06T15:09:08.266464Z",
     "start_time": "2024-05-06T15:09:08.260086Z"
    }
   },
   "cell_type": "code",
   "source": [
    "exists = os.path.exists('yumo')\n",
    "exists"
   ],
   "id": "dcf9a9f5d48851bf",
   "outputs": [
    {
     "data": {
      "text/plain": [
       "False"
      ]
     },
     "execution_count": 11,
     "metadata": {},
     "output_type": "execute_result"
    }
   ],
   "execution_count": 11
  }
 ],
 "metadata": {
  "kernelspec": {
   "display_name": "Python 3",
   "language": "python",
   "name": "python3"
  },
  "language_info": {
   "codemirror_mode": {
    "name": "ipython",
    "version": 2
   },
   "file_extension": ".py",
   "mimetype": "text/x-python",
   "name": "python",
   "nbconvert_exporter": "python",
   "pygments_lexer": "ipython2",
   "version": "2.7.6"
  }
 },
 "nbformat": 4,
 "nbformat_minor": 5
}
