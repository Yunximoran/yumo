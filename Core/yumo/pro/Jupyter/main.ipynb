{
 "cells": [
  {
   "metadata": {},
   "cell_type": "markdown",
   "source": [
    "# Learn Jupyter\n",
    "\n",
    "> [语法](https://markdown.com.cn/basic-syntax/) \n",
    "\n",
    "> [快捷键](https://blog.csdn.net/pursuit_zhangyu/article/details/99880453)"
   ],
   "id": "9ca727b8506daa22"
  },
  {
   "metadata": {},
   "cell_type": "markdown",
   "source": "    ",
   "id": "20a9796eb84b767e"
  },
  {
   "metadata": {
    "ExecuteTime": {
     "end_time": "2024-04-28T07:04:06.067008Z",
     "start_time": "2024-04-28T07:04:06.057827Z"
    }
   },
   "cell_type": "code",
   "source": "",
   "id": "5b4c99cd75c9f38b",
   "outputs": [],
   "execution_count": null
  },
  {
   "metadata": {
    "ExecuteTime": {
     "end_time": "2024-04-28T07:04:06.393260Z",
     "start_time": "2024-04-28T07:04:06.373901Z"
    }
   },
   "cell_type": "code",
   "source": "",
   "id": "7138366d52a8fcd0",
   "outputs": [],
   "execution_count": null
  },
  {
   "metadata": {},
   "cell_type": "code",
   "outputs": [],
   "execution_count": null,
   "source": "\n",
   "id": "aaf55bb97a564563"
  }
 ],
 "metadata": {
  "kernelspec": {
   "display_name": "Python 3",
   "language": "python",
   "name": "python3"
  },
  "language_info": {
   "codemirror_mode": {
    "name": "ipython",
    "version": 2
   },
   "file_extension": ".py",
   "mimetype": "text/x-python",
   "name": "python",
   "nbconvert_exporter": "python",
   "pygments_lexer": "ipython2",
   "version": "2.7.6"
  }
 },
 "nbformat": 4,
 "nbformat_minor": 5
}
