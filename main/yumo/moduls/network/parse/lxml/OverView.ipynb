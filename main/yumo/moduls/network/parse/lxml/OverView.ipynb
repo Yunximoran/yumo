{
 "cells": [
  {
   "metadata": {},
   "cell_type": "markdown",
   "source": [
    "# etree.parse():\n",
    "\n",
    "通用场景\n",
    "术语库\n",
    "”“”\n",
    "解析(source, parser=None, base_url=None)\n",
    "\n",
    "返回一个加载了源元素的ElementTree对象。如果没有解析器\n",
    "作为第二个参数提供，则使用默认解析器。\n",
    "\n",
    "' ' source ' '可以是以下任何一种:\n",
    "\n",
    "—文件名/路径\n",
    "-一个文件对象\n",
    "-类似文件的对象\n",
    "—使用HTTP或FTP协议的URL\n",
    "\n",
    "要从字符串进行解析，请使用fromstring()函数。\n",
    "\n",
    "请注意，从文件路径或URL解析通常更快\n",
    "而不是从打开的文件对象或类文件对象。透明的\n",
    "支持从gzip压缩源解压(除非\n",
    "在libxml2中显式禁用)。\n",
    "\n",
    "关键字' ' base_url ' '允许为文档设置URL\n",
    "从类文件对象进行解析时。这是在看的时候需要的\n",
    "使用相对路径创建外部实体(DTD、XInclude等)。\n",
    "”“”以上翻译结果来自有道神经网络翻译（YNMT）· 通用场景\n",
    " 逐句对照\n"
   ],
   "id": "237f9724670da950"
  },
  {
   "metadata": {},
   "cell_type": "code",
   "outputs": [],
   "execution_count": null,
   "source": "",
   "id": "2133dd4f2867995d"
  }
 ],
 "metadata": {
  "kernelspec": {
   "display_name": "Python 3",
   "language": "python",
   "name": "python3"
  },
  "language_info": {
   "codemirror_mode": {
    "name": "ipython",
    "version": 2
   },
   "file_extension": ".py",
   "mimetype": "text/x-python",
   "name": "python",
   "nbconvert_exporter": "python",
   "pygments_lexer": "ipython2",
   "version": "2.7.6"
  }
 },
 "nbformat": 4,
 "nbformat_minor": 5
}
