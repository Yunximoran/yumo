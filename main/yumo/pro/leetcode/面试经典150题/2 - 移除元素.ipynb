{
 "cells": [
  {
   "metadata": {},
   "cell_type": "markdown",
   "source": [
    "给你一个数组 nums 和一个值 val，你需要 原地 移除所有数值等于 val 的元素，并返回移除后数组的新长度。\n",
    "\n",
    "不要使用额外的数组空间，你必须仅使用 O(1) 额外空间并 原地 修改输入数组。\n",
    "\n",
    "元素的顺序可以改变。你不需要考虑数组中超出新长度后面的元素。"
   ],
   "id": "9731bffd230c1ebe"
  },
  {
   "metadata": {
    "jupyter": {
     "is_executing": true
    }
   },
   "cell_type": "code",
   "source": "from prototype import Solution",
   "id": "bdb6c818a14a6746",
   "outputs": [],
   "execution_count": null
  },
  {
   "metadata": {
    "jupyter": {
     "is_executing": true
    }
   },
   "cell_type": "code",
   "source": [
    "class RemoveElem(Solution):\n",
    "    def merge(self, nums, val):\n",
    "        while val in nums:\n",
    "            i = nums.index(val)\n",
    "            nums.pop(i)\n",
    "        return nums\n",
    "\n",
    "    def other(self, nums, val):\n",
    "        left = 0\n",
    "        right = len(nums) - 1\n",
    "        while left <= right:\n",
    "            if nums[left] == val:\n",
    "                nums[left] = nums[right]\n",
    "                right -= 1\n",
    "            else:\n",
    "                left += 1\n",
    "        print(\"Other Result: \", nums, left)"
   ],
   "id": "f2497def707bcc36",
   "outputs": [],
   "execution_count": null
  },
  {
   "metadata": {
    "jupyter": {
     "is_executing": true
    }
   },
   "cell_type": "code",
   "source": [
    "TestNums = [\n",
    "    ([3, 2, 2, 3], 3, [2, 2]),\n",
    "    ([0, 1, 2, 2, 3, 0, 4, 2], 2, [0, 1, 3, 0, 4])\n",
    "]"
   ],
   "id": "135e1d3496b3f460",
   "outputs": [],
   "execution_count": null
  },
  {
   "metadata": {
    "jupyter": {
     "is_executing": true
    }
   },
   "cell_type": "code",
   "source": [
    "for example in TestNums:\n",
    "    nums, val, pred = example\n",
    "    yumo = RemoveElem()\n",
    "    res = yumo.merge(nums, val)\n",
    "    if res == pred:\n",
    "        print(\"My Result: \", res)\n",
    "        \n",
    "    yumo.other(nums, val)"
   ],
   "id": "99d8c9de0dbc3f1e",
   "outputs": [],
   "execution_count": null
  }
 ],
 "metadata": {
  "kernelspec": {
   "display_name": "Python 3",
   "language": "python",
   "name": "python3"
  },
  "language_info": {
   "codemirror_mode": {
    "name": "ipython",
    "version": 2
   },
   "file_extension": ".py",
   "mimetype": "text/x-python",
   "name": "python",
   "nbconvert_exporter": "python",
   "pygments_lexer": "ipython2",
   "version": "2.7.6"
  }
 },
 "nbformat": 4,
 "nbformat_minor": 5
}
