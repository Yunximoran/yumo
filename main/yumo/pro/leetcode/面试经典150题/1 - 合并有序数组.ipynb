{
 "cells": [
  {
   "metadata": {},
   "cell_type": "markdown",
   "source": [
    "给你两个按 非递减顺序 排列的整数数组 nums1 和 nums2，另有两个整数 m 和 n ，分别表示 nums1 和 nums2 中的元素数目。\n",
    "\n",
    "请你 合并 nums2 到 nums1 中，使合并后的数组同样按 非递减顺序 排列。\n",
    "\n",
    "注意：最终，合并后数组不应由函数返回，而是存储在数组 nums1 中。为了应对这种情况，nums1 的初始长度为 m + n，其中前 m 个元素表示应合并的元素，后 n 个元素为 0 ，应忽略。nums2 的长度为 n 。"
   ],
   "id": "7590d2ec5bf9af65"
  },
  {
   "metadata": {
    "ExecuteTime": {
     "end_time": "2024-05-03T18:17:15.917633Z",
     "start_time": "2024-05-03T18:17:15.906310Z"
    }
   },
   "cell_type": "code",
   "source": [
    "import copy\n",
    "\n",
    "from prototype import Solution\n",
    "import pytest"
   ],
   "id": "3467ca394e428b80",
   "outputs": [],
   "execution_count": 71
  },
  {
   "cell_type": "code",
   "id": "initial_id",
   "metadata": {
    "collapsed": true,
    "ExecuteTime": {
     "end_time": "2024-05-03T18:17:15.923810Z",
     "start_time": "2024-05-03T18:17:15.917633Z"
    }
   },
   "source": [
    "class ExtendSortList(Solution):\n",
    "    def merge(self, nums1, m, nums2, n):\n",
    "        \n",
    "        \n",
    "        l1 = nums1[:m]\n",
    "        l2 = nums2[:]\n",
    "        \n",
    "        i = 0\n",
    "        j = 0\n",
    "        k = 0\n",
    "        while i < len(l1) and j < len(l2):\n",
    "            if l1[i] < l2[j]:\n",
    "                nums1[k] = l1[i]\n",
    "                i += 1\n",
    "            else:\n",
    "                nums1[k] = l2[j]\n",
    "                j += 1\n",
    "            \n",
    "            k += 1\n",
    "    \n",
    "        while i < len(l1):\n",
    "            nums1[k] = l1[i]\n",
    "            i += 1\n",
    "            k += 1\n",
    "    \n",
    "        while j < len(l2):\n",
    "            nums1[k] = l2[j]\n",
    "            j += 1\n",
    "            k += 1\n",
    "        \n",
    "        return nums1\n",
    "        \n",
    "        "
   ],
   "outputs": [],
   "execution_count": 72
  },
  {
   "metadata": {
    "ExecuteTime": {
     "end_time": "2024-05-03T18:17:15.927969Z",
     "start_time": "2024-05-03T18:17:15.923810Z"
    }
   },
   "cell_type": "code",
   "source": [
    "N = [\n",
    "    ([1, 2, 3, 0, 0, 0], 3, [1, 2, 2, 3, 5, 6]),\n",
    "    ([0], 0, [1]),\n",
    "    ([1], 1, [1])\n",
    "]\n",
    "n = [\n",
    "    ([2, 5, 6], 3),\n",
    "    ([1], 1),\n",
    "    ([], 0)\n",
    "]\n",
    "\n"
   ],
   "id": "2f1eb480f3e3d1a4",
   "outputs": [],
   "execution_count": 73
  },
  {
   "metadata": {
    "ExecuteTime": {
     "end_time": "2024-05-03T18:17:15.932055Z",
     "start_time": "2024-05-03T18:17:15.927969Z"
    }
   },
   "cell_type": "code",
   "source": "yumo = ExtendSortList()",
   "id": "89e62a036e2647af",
   "outputs": [],
   "execution_count": 74
  },
  {
   "metadata": {
    "ExecuteTime": {
     "end_time": "2024-05-03T18:17:15.936142Z",
     "start_time": "2024-05-03T18:17:15.932055Z"
    }
   },
   "cell_type": "code",
   "source": [
    "for t1, t2 in zip(N, n):\n",
    "    nums1, m, pred = t1\n",
    "    nums2, n = t2\n",
    "    res = yumo.merge(nums1, m, nums2, n)\n",
    "    if res == pred:\n",
    "        print(res)\n",
    "    else:\n",
    "        print(\"解答错误\")\n",
    "        print(f\"实际结果： {res}\")\n",
    "        print(f\"预期结果： {pred}\")"
   ],
   "id": "27b8626d133a3e0b",
   "outputs": [
    {
     "name": "stdout",
     "output_type": "stream",
     "text": [
      "[1, 2, 2, 3, 5, 6]\n",
      "[1]\n",
      "[1]\n"
     ]
    }
   ],
   "execution_count": 75
  }
 ],
 "metadata": {
  "kernelspec": {
   "display_name": "Python 3",
   "language": "python",
   "name": "python3"
  },
  "language_info": {
   "codemirror_mode": {
    "name": "ipython",
    "version": 2
   },
   "file_extension": ".py",
   "mimetype": "text/x-python",
   "name": "python",
   "nbconvert_exporter": "python",
   "pygments_lexer": "ipython2",
   "version": "2.7.6"
  }
 },
 "nbformat": 4,
 "nbformat_minor": 5
}
